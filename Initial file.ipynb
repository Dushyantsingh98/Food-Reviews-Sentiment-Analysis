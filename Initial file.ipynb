{
 "cells": [
  {
   "cell_type": "code",
   "execution_count": 1,
   "id": "198f37f4",
   "metadata": {},
   "outputs": [],
   "source": [
    "#Imports \n",
    "import numpy as np\n",
    "import pandas as pd\n",
    "import matplotlib.pyplot as plt\n",
    "import sqlite3\n",
    "import seaborn as sns\n",
    "from time import time\n",
    "import gensim\n",
    "import random\n",
    "import warnings\n",
    "warnings.filterwarnings(\"ignore\")\n",
    "%matplotlib inline "
   ]
  },
  {
   "cell_type": "code",
   "execution_count": 2,
   "id": "c489b5d6",
   "metadata": {},
   "outputs": [
    {
     "name": "stdout",
     "output_type": "stream",
     "text": [
      "   Id   ProductId          UserId                      ProfileName  \\\n",
      "0   1  B001E4KFG0  A3SGXH7AUHU8GW                       delmartian   \n",
      "1   2  B00813GRG4  A1D87F6ZCVE5NK                           dll pa   \n",
      "2   3  B000LQOCH0   ABXLMWJIXXAIN  Natalia Corres \"Natalia Corres\"   \n",
      "3   4  B000UA0QIQ  A395BORC6FGVXV                             Karl   \n",
      "4   5  B006K2ZZ7K  A1UQRSCLF8GW1T    Michael D. Bigham \"M. Wassir\"   \n",
      "\n",
      "   HelpfulnessNumerator  HelpfulnessDenominator  Score        Time  \\\n",
      "0                     1                       1      5  1303862400   \n",
      "1                     0                       0      1  1346976000   \n",
      "2                     1                       1      4  1219017600   \n",
      "3                     3                       3      2  1307923200   \n",
      "4                     0                       0      5  1350777600   \n",
      "\n",
      "                 Summary                                               Text  \n",
      "0  Good Quality Dog Food  I have bought several of the Vitality canned d...  \n",
      "1      Not as Advertised  Product arrived labeled as Jumbo Salted Peanut...  \n",
      "2  \"Delight\" says it all  This is a confection that has been around a fe...  \n",
      "3         Cough Medicine  If you are looking for the secret ingredient i...  \n",
      "4            Great taffy  Great taffy at a great price.  There was a wid...  \n"
     ]
    }
   ],
   "source": [
    "import pandas as pd\n",
    "\n",
    "# Load data from CSV file into a DataFrame\n",
    "df = pd.read_csv(\"C:\\\\Users\\\\jash\\\\Desktop\\\\Term2\\\\Reviews.csv\")\n",
    "\n",
    "# Display the first few rows of the DataFrame\n",
    "print(df.head())\n"
   ]
  },
  {
   "cell_type": "code",
   "execution_count": 3,
   "id": "9e4ed850",
   "metadata": {},
   "outputs": [
    {
     "data": {
      "text/plain": [
       "(270052, 10)"
      ]
     },
     "execution_count": 3,
     "metadata": {},
     "output_type": "execute_result"
    }
   ],
   "source": [
    "#Filter rows where HelpfulnessDenominator is 0 and calculate the resulting DataFrame shape.\n",
    "df[df.HelpfulnessDenominator == 0].shape\n"
   ]
  },
  {
   "cell_type": "code",
   "execution_count": 4,
   "id": "8400587b",
   "metadata": {},
   "outputs": [
    {
     "name": "stdout",
     "output_type": "stream",
     "text": [
      "Number of datapoints:  568454\n",
      "Number of features:  10\n"
     ]
    }
   ],
   "source": [
    "#Get information about the number of data points in the dataset\n",
    "print(\"Number of datapoints: \",df.shape[0])\n",
    "print(\"Number of features: \",df.shape[1])"
   ]
  },
  {
   "cell_type": "code",
   "execution_count": 5,
   "id": "5432a09e",
   "metadata": {},
   "outputs": [
    {
     "name": "stdout",
     "output_type": "stream",
     "text": [
      "Balanced Dataset:\n",
      "       Id   ProductId          UserId                 ProfileName  \\\n",
      "0   88655  B000PMJLJO   AG7QPDO7GNT5B       Fake name real review   \n",
      "1   23294  B00207UBMS  A28HJSJ46MVAXL               Alice \"Alice\"   \n",
      "2  153938  B005VOOM2W  A1Z7Y2GMAP9SRY    M. Thompson \"Dyson Diva\"   \n",
      "3  165537  B001QE7J2G  A1CEJADETM9F1U                country girl   \n",
      "4   98849  B001FA19Z4   AFP6OOD8EDRSP  Mamazabakaka \"Tome Raider\"   \n",
      "\n",
      "   HelpfulnessNumerator  HelpfulnessDenominator  Score        Time  \\\n",
      "0                     0                       0      4  1240012800   \n",
      "1                     0                       0      5  1329004800   \n",
      "2                     1                       6      1  1332201600   \n",
      "3                     1                       2      2  1328832000   \n",
      "4                     0                       1      1  1234569600   \n",
      "\n",
      "                       Summary  \\\n",
      "0                  pretty good   \n",
      "1  Brodies' teas are delicious   \n",
      "2                    Weak brew   \n",
      "3                   worst food   \n",
      "4   Great candy, poor delivery   \n",
      "\n",
      "                                                Text  \n",
      "0  These were pretty good but the 2 oz ones taste...  \n",
      "1  We enjoy afternoon tea every day, and we are v...  \n",
      "2  No instructions on packaging that I could find...  \n",
      "3  Would not recomend this food, my 3 chihuahuas,...  \n",
      "4  I ordered this candy from this company twice. ...  \n",
      "Number of data points in our data: 148849\n"
     ]
    }
   ],
   "source": [
    "# Define the number of reviews to extract from each rating class, to balance the classes, there is a strong imbalance in data. \n",
    "num_reviews_per_class = 29770\n",
    "\n",
    "# Create empty list to store balanced data\n",
    "balanced_data = []\n",
    "\n",
    "# Iterate through each rating class\n",
    "for score in range(1, 6):\n",
    "    # Filter reviews for the current rating class\n",
    "    reviews_for_score = df[df['Score'] == score]\n",
    "    \n",
    "    # Select a fixed number of reviews from the current rating class\n",
    "    selected_reviews = reviews_for_score.head(num_reviews_per_class)\n",
    "    \n",
    "    # Append selected reviews to the balanced data list\n",
    "    balanced_data.append(selected_reviews)\n",
    "\n",
    "# Concatenate the balanced data DataFrames\n",
    "balanced_data = pd.concat(balanced_data, ignore_index=True)\n",
    "\n",
    "# Optional: Shuffle the balanced dataset\n",
    "balanced_data = balanced_data.sample(frac=1).reset_index(drop=True)\n",
    "\n",
    "# Display the balanced dataset\n",
    "print(\"Balanced Dataset:\")\n",
    "print(balanced_data.head())\n",
    "print(\"Number of data points in our data:\", len(balanced_data))\n",
    "\n"
   ]
  },
  {
   "cell_type": "code",
   "execution_count": 6,
   "id": "89d52cba",
   "metadata": {},
   "outputs": [
    {
     "name": "stdout",
     "output_type": "stream",
     "text": [
      "Number of data points in our data: (148849, 10)\n",
      "       Id   ProductId          UserId               ProfileName  \\\n",
      "0   88655  B000PMJLJO   AG7QPDO7GNT5B     Fake name real review   \n",
      "1   23294  B00207UBMS  A28HJSJ46MVAXL             Alice \"Alice\"   \n",
      "2  153938  B005VOOM2W  A1Z7Y2GMAP9SRY  M. Thompson \"Dyson Diva\"   \n",
      "\n",
      "   HelpfulnessNumerator  HelpfulnessDenominator  Score        Time  \\\n",
      "0                     0                       0      1  1240012800   \n",
      "1                     0                       0      1  1329004800   \n",
      "2                     1                       6      0  1332201600   \n",
      "\n",
      "                       Summary  \\\n",
      "0                  pretty good   \n",
      "1  Brodies' teas are delicious   \n",
      "2                    Weak brew   \n",
      "\n",
      "                                                Text  \n",
      "0  These were pretty good but the 2 oz ones taste...  \n",
      "1  We enjoy afternoon tea every day, and we are v...  \n",
      "2  No instructions on packaging that I could find...  \n"
     ]
    }
   ],
   "source": [
    "def partition(x):\n",
    "    if x < 3:\n",
    "        return 0\n",
    "    return 1\n",
    "\n",
    "#changing reviews with score less than 3 to be positive and vice-versa\n",
    "actual_score = balanced_data['Score']\n",
    "positiveNegative = actual_score.map(partition) \n",
    "balanced_data['Score'] = positiveNegative\n",
    "\n",
    "print(\"Number of data points in our data:\", balanced_data.shape)\n",
    "print(balanced_data.head(3))"
   ]
  },
  {
   "cell_type": "code",
   "execution_count": 7,
   "id": "7191e1c1",
   "metadata": {},
   "outputs": [
    {
     "name": "stdout",
     "output_type": "stream",
     "text": [
      "Number of data points in our data: 148849\n"
     ]
    }
   ],
   "source": [
    "print(\"Number of data points in our data:\", len(balanced_data))\n"
   ]
  },
  {
   "cell_type": "code",
   "execution_count": 8,
   "id": "306d1ad1",
   "metadata": {},
   "outputs": [
    {
     "name": "stdout",
     "output_type": "stream",
     "text": [
      "Empty DataFrame\n",
      "Columns: [Id, ProductId, UserId, ProfileName, HelpfulnessNumerator, HelpfulnessDenominator, Score, Time, Summary, Text]\n",
      "Index: []\n"
     ]
    }
   ],
   "source": [
    "# Filter the balanced_data DataFrame\n",
    "\n",
    "#sorting data into positive and negative data \n",
    "display = balanced_data[(balanced_data['Score'] != 3) & (balanced_data['UserId'] == \"AR5J8UI46CURR\")]\n",
    "\n",
    "# Sort the filtered DataFrame by ProductID\n",
    "display = display.sort_values(by='ProductId')\n",
    "\n",
    "# Display the first few rows of the filtered DataFrame\n",
    "print(display.head())"
   ]
  },
  {
   "cell_type": "code",
   "execution_count": 9,
   "id": "d484e995",
   "metadata": {},
   "outputs": [
    {
     "name": "stdout",
     "output_type": "stream",
     "text": [
      "            Id   ProductId          UserId            ProfileName  \\\n",
      "101095   24750  2734888454  A13ISQV0U9GZIC              Sandikaye   \n",
      "115251   24751  2734888454  A1C298ITT645B6      Hugh G. Pritchard   \n",
      "105436  150502     6641040   AVFMJ50HNO21J               Jane Doe   \n",
      "96585   150522     6641040  A1S3C5OFU508P3      Charles Ashbacher   \n",
      "105245  150507     6641040  A1S4A3IQ2MU7V4  sally sue \"sally sue\"   \n",
      "\n",
      "        HelpfulnessNumerator  HelpfulnessDenominator  Score        Time  \\\n",
      "101095                     1                       1      0  1192060800   \n",
      "115251                     0                       0      1  1195948800   \n",
      "105436                     1                       1      1  1324944000   \n",
      "96585                      0                       0      1  1219536000   \n",
      "105245                     1                       1      1  1191456000   \n",
      "\n",
      "                                                  Summary  \\\n",
      "101095                                      made in china   \n",
      "115251                                  Dog Lover Delites   \n",
      "105436         Tiny little book, Wonderful little rhymes.   \n",
      "96585   Children will find it entertaining and a gener...   \n",
      "105245                      chicken soup with rice months   \n",
      "\n",
      "                                                     Text  \n",
      "101095  My dogs loves this chicken but its a product f...  \n",
      "115251  Our dogs just love them.  I saw them in a pet ...  \n",
      "105436  This copy is smaller than I expected (mostly b...  \n",
      "96585   This book contains a collection of twelve shor...  \n",
      "105245  This is a fun way for children to learn their ...  \n"
     ]
    }
   ],
   "source": [
    "# Sorting data according to ProductId in ascending order\n",
    "sorted_data = balanced_data.sort_values(by='ProductId', ascending=True)\n",
    "\n",
    "# Displaying the first 5 rows of the sorted DataFrame\n",
    "print(sorted_data.head(5))\n"
   ]
  },
  {
   "cell_type": "code",
   "execution_count": 10,
   "id": "85e6004b",
   "metadata": {},
   "outputs": [
    {
     "name": "stdout",
     "output_type": "stream",
     "text": [
      "(117061, 10)\n"
     ]
    }
   ],
   "source": [
    "# Deduplication of entries\n",
    "final = sorted_data.drop_duplicates(subset=[\"UserId\", \"ProfileName\", \"Time\", \"Text\"], keep='first', inplace=False)\n",
    "\n",
    "# Get the shape of the deduplicated DataFrame\n",
    "print(final.shape)\n"
   ]
  },
  {
   "cell_type": "code",
   "execution_count": 11,
   "id": "baf3e06e",
   "metadata": {},
   "outputs": [
    {
     "data": {
      "text/html": [
       "<div>\n",
       "<style scoped>\n",
       "    .dataframe tbody tr th:only-of-type {\n",
       "        vertical-align: middle;\n",
       "    }\n",
       "\n",
       "    .dataframe tbody tr th {\n",
       "        vertical-align: top;\n",
       "    }\n",
       "\n",
       "    .dataframe thead th {\n",
       "        text-align: right;\n",
       "    }\n",
       "</style>\n",
       "<table border=\"1\" class=\"dataframe\">\n",
       "  <thead>\n",
       "    <tr style=\"text-align: right;\">\n",
       "      <th></th>\n",
       "      <th>Id</th>\n",
       "      <th>ProductId</th>\n",
       "      <th>UserId</th>\n",
       "      <th>ProfileName</th>\n",
       "      <th>HelpfulnessNumerator</th>\n",
       "      <th>HelpfulnessDenominator</th>\n",
       "      <th>Score</th>\n",
       "      <th>Time</th>\n",
       "      <th>Summary</th>\n",
       "      <th>Text</th>\n",
       "    </tr>\n",
       "  </thead>\n",
       "  <tbody>\n",
       "    <tr>\n",
       "      <th>64421</th>\n",
       "      <td>64422</td>\n",
       "      <td>B000MIDROQ</td>\n",
       "      <td>A161DK06JJMCYF</td>\n",
       "      <td>J. E. Stephens \"Jeanne\"</td>\n",
       "      <td>3</td>\n",
       "      <td>1</td>\n",
       "      <td>5</td>\n",
       "      <td>1224892800</td>\n",
       "      <td>Bought This for My Son at College</td>\n",
       "      <td>My son loves spaghetti so I didn't hesitate or...</td>\n",
       "    </tr>\n",
       "    <tr>\n",
       "      <th>44736</th>\n",
       "      <td>44737</td>\n",
       "      <td>B001EQ55RW</td>\n",
       "      <td>A2V0I904FH7ABY</td>\n",
       "      <td>Ram</td>\n",
       "      <td>3</td>\n",
       "      <td>2</td>\n",
       "      <td>4</td>\n",
       "      <td>1212883200</td>\n",
       "      <td>Pure cocoa taste with crunchy almonds inside</td>\n",
       "      <td>It was almost a 'love at first bite' - the per...</td>\n",
       "    </tr>\n",
       "  </tbody>\n",
       "</table>\n",
       "</div>"
      ],
      "text/plain": [
       "          Id   ProductId          UserId              ProfileName  \\\n",
       "64421  64422  B000MIDROQ  A161DK06JJMCYF  J. E. Stephens \"Jeanne\"   \n",
       "44736  44737  B001EQ55RW  A2V0I904FH7ABY                      Ram   \n",
       "\n",
       "       HelpfulnessNumerator  HelpfulnessDenominator  Score        Time  \\\n",
       "64421                     3                       1      5  1224892800   \n",
       "44736                     3                       2      4  1212883200   \n",
       "\n",
       "                                            Summary  \\\n",
       "64421             Bought This for My Son at College   \n",
       "44736  Pure cocoa taste with crunchy almonds inside   \n",
       "\n",
       "                                                    Text  \n",
       "64421  My son loves spaghetti so I didn't hesitate or...  \n",
       "44736  It was almost a 'love at first bite' - the per...  "
      ]
     },
     "execution_count": 11,
     "metadata": {},
     "output_type": "execute_result"
    }
   ],
   "source": [
    "# Filter the DataFrame to select rows where the Score is not equal to 3 and the Id is either 44737 or 64422\n",
    "display = df[(df['Score'] != 3) & ((df['Id'] == 44737) | (df['Id'] == 64422))]\n",
    "\n",
    "# Sort the filtered DataFrame by ProductID\n",
    "display = display.sort_values(by='ProductId')\n",
    "\n",
    "# Display the first few rows of the filtered DataFrame\n",
    "display.head()"
   ]
  },
  {
   "cell_type": "code",
   "execution_count": 12,
   "id": "f3726f37",
   "metadata": {},
   "outputs": [
    {
     "name": "stdout",
     "output_type": "stream",
     "text": [
      "Total number of reviews with score 1: 0\n"
     ]
    }
   ],
   "source": [
    "# Filter out rows where HelpfulnessNumerator is greater than HelpfulnessDenominator\n",
    "final = final[final['HelpfulnessNumerator'] <= final['HelpfulnessDenominator']]\n",
    "# Filter the balanced_data DataFrame for rows where 'Score' is equal to 1\n",
    "score_1_reviews = balanced_data[balanced_data['Score'] == 3]\n",
    "\n",
    "# Print the total number of reviews with score 1\n",
    "total_score_1_reviews = len(score_1_reviews)\n",
    "print(\"Total number of reviews with score 1:\", total_score_1_reviews)"
   ]
  },
  {
   "cell_type": "code",
   "execution_count": 19,
   "id": "44d1ea11",
   "metadata": {},
   "outputs": [
    {
     "name": "stdout",
     "output_type": "stream",
     "text": [
      "                                                Text  \\\n",
      "0  I have bought several of the Vitality canned d...   \n",
      "1  Product arrived labeled as Jumbo Salted Peanut...   \n",
      "2  This is a confection that has been around a fe...   \n",
      "3  If you are looking for the secret ingredient i...   \n",
      "4  Great taffy at a great price.  There was a wid...   \n",
      "\n",
      "                                   preprocessed_text  \\\n",
      "0  I have bought several of the Vitality canned d...   \n",
      "1  Product arrived labeled as Jumbo Salted Peanut...   \n",
      "2  This is a confection that has been around a fe...   \n",
      "3  If you are looking for the secret ingredient i...   \n",
      "4  Great taffy at a great price  There was a wide...   \n",
      "\n",
      "                                              tokens  \n",
      "0  [I, have, bought, several, of, the, Vitality, ...  \n",
      "1  [Product, arrived, labeled, as, Jumbo, Salted,...  \n",
      "2  [This, is, a, confection, that, has, been, aro...  \n",
      "3  [If, you, are, looking, for, the, secret, ingr...  \n",
      "4  [Great, taffy, at, a, great, price, There, was...  \n"
     ]
    }
   ],
   "source": [
    "import nltk\n",
    "from nltk.tokenize import word_tokenize\n",
    "\n",
    "\n",
    "# Preprocess text function\n",
    "def preprocess_text(text):\n",
    "    \"\"\"Preprocess text by removing HTML tags, punctuation, special characters, and non-alphanumeric characters.\"\"\"\n",
    "    # Remove HTML tags\n",
    "    clean_text = re.sub(r'<.*?>', '', text)\n",
    "    # Remove punctuation, special characters, and non-alphanumeric characters\n",
    "    clean_text = re.sub(r'[^\\w\\s]', '', clean_text)\n",
    "    return clean_text\n",
    "\n",
    "# Tokenization function\n",
    "def tokenize_text(text):\n",
    "    \"\"\"Tokenize text using NLTK word_tokenize.\"\"\"\n",
    "    tokens = word_tokenize(text)\n",
    "    return tokens\n",
    "\n",
    "# Apply preprocessing and tokenization to the 'text' column\n",
    "df['preprocessed_text'] = df['Text'].apply(preprocess_text)\n",
    "df['tokens'] = df['preprocessed_text'].apply(tokenize_text)\n",
    "\n",
    "# Display the DataFrame with preprocessed text and tokens\n",
    "print(df[['Text', 'preprocessed_text', 'tokens']].head())\n"
   ]
  },
  {
   "cell_type": "code",
   "execution_count": 23,
   "id": "decfed9e",
   "metadata": {},
   "outputs": [
    {
     "name": "stdout",
     "output_type": "stream",
     "text": [
      "                                                Text  \\\n",
      "0  I have bought several of the Vitality canned d...   \n",
      "1  Product arrived labeled as Jumbo Salted Peanut...   \n",
      "2  This is a confection that has been around a fe...   \n",
      "3  If you are looking for the secret ingredient i...   \n",
      "4  Great taffy at a great price.  There was a wid...   \n",
      "\n",
      "                              text_without_stopwords  \n",
      "0  bought several Vitality canned dog food produc...  \n",
      "1  Product arrived labeled Jumbo Salted Peanuts.....  \n",
      "2  confection around centuries. light, pillowy ci...  \n",
      "3  looking secret ingredient Robitussin believe f...  \n",
      "4  Great taffy great price. wide assortment yummy...  \n"
     ]
    }
   ],
   "source": [
    "\n",
    "from nltk.corpus import stopwords\n",
    "\n",
    "# Load English stopwords from NLTK\n",
    "stop_words = set(stopwords.words('english'))\n",
    "# Words to exclude from stopwords\n",
    "excluding = {'against', 'not', 'don', \"don't\", 'ain', 'aren', \"aren't\", 'couldn', \"couldn't\", 'didn', \"didn't\",\n",
    "             'doesn', \"doesn't\", 'hadn', \"hadn't\", 'hasn', \"hasn't\", 'haven', \"haven't\", 'isn', \"isn't\",\n",
    "             'mightn', \"mightn't\", 'mustn', \"mustn't\", 'needn', \"needn't\", 'shouldn', \"shouldn't\", 'wasn',\n",
    "             \"wasn't\", 'weren', \"weren't\", 'won', \"won't\", 'wouldn', \"wouldn't\"}\n",
    "\n",
    "# Exclude specified words from stopwords\n",
    "stop_words = stop_words - excluding\n",
    "\n",
    "\n",
    "# Function to remove stop words from text\n",
    "def remove_stopwords(text):\n",
    "    \"\"\"Remove stopwords from text.\"\"\"\n",
    "    tokens = text.split()  # Tokenize text into words\n",
    "    filtered_tokens = [word for word in tokens if word.lower() not in stop_words]  # Filter out stopwords\n",
    "    filtered_text = ' '.join(filtered_tokens)  # Join filtered tokens back into text\n",
    "    return filtered_text\n",
    "\n",
    "df['text_without_stopwords'] = df['Text'].apply(remove_stopwords)\n",
    "\n",
    "# Display the DataFrame with text column and text without stopwords column\n",
    "print(df[['Text', 'text_without_stopwords']].head())\n"
   ]
  },
  {
   "cell_type": "code",
   "execution_count": 22,
   "id": "c6f5e3df",
   "metadata": {},
   "outputs": [
    {
     "name": "stdout",
     "output_type": "stream",
     "text": [
      "                                                Text  \\\n",
      "0  I have bought several of the Vitality canned d...   \n",
      "1  Product arrived labeled as Jumbo Salted Peanut...   \n",
      "2  This is a confection that has been around a fe...   \n",
      "3  If you are looking for the secret ingredient i...   \n",
      "4  Great taffy at a great price.  There was a wid...   \n",
      "\n",
      "                                     lemmatized_text  \n",
      "0  I have buy several of the Vitality can dog foo...  \n",
      "1  Product arrive label as Jumbo Salted Peanuts ....  \n",
      "2  This be a confection that have be around a few...  \n",
      "3  If you be look for the secret ingredient in Ro...  \n",
      "4  Great taffy at a great price . There be a wide...  \n"
     ]
    }
   ],
   "source": [
    "\n",
    "from nltk.corpus import wordnet\n",
    "from nltk.stem import WordNetLemmatizer\n",
    "\n",
    "# Initialize WordNetLemmatizer\n",
    "lemmatizer = WordNetLemmatizer()\n",
    "\n",
    "# Function to perform lemmatization on text\n",
    "def lemmatize_text(text):\n",
    "    \"\"\"Lemmatize text using NLTK WordNetLemmatizer.\"\"\"\n",
    "    tokens = nltk.word_tokenize(text)  # Tokenize text into words\n",
    "    lemmatized_tokens = [lemmatizer.lemmatize(word, pos='v') for word in tokens]  # Lemmatize tokens (assumes verbs)\n",
    "    lemmatized_text = ' '.join(lemmatized_tokens)  # Join lemmatized tokens back into text\n",
    "    return lemmatized_text\n",
    "\n",
    "# Assuming 'df' is your DataFrame containing the dataset and 'Text' is the column name\n",
    "df['lemmatized_text'] = df['Text'].apply(lemmatize_text)\n",
    "\n",
    "# Display the DataFrame with original text and lemmatized text\n",
    "print(df[['Text', 'lemmatized_text']].head())\n"
   ]
  },
  {
   "cell_type": "code",
   "execution_count": null,
   "id": "ea2527b0",
   "metadata": {},
   "outputs": [],
   "source": []
  }
 ],
 "metadata": {
  "kernelspec": {
   "display_name": "Python 3 (ipykernel)",
   "language": "python",
   "name": "python3"
  },
  "language_info": {
   "codemirror_mode": {
    "name": "ipython",
    "version": 3
   },
   "file_extension": ".py",
   "mimetype": "text/x-python",
   "name": "python",
   "nbconvert_exporter": "python",
   "pygments_lexer": "ipython3",
   "version": "3.11.5"
  }
 },
 "nbformat": 4,
 "nbformat_minor": 5
}
