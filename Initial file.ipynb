{
 "cells": [
  {
   "cell_type": "code",
   "execution_count": 6,
   "id": "94f73091",
   "metadata": {},
   "outputs": [],
   "source": [
    "#Imports \n",
    "import numpy as np\n",
    "import pandas as pd\n",
    "import matplotlib.pyplot as plt\n",
    "import sqlite3\n",
    "import seaborn as sns\n",
    "from time import time\n",
    "import gensim\n",
    "import random\n",
    "import warnings\n",
    "warnings.filterwarnings(\"ignore\")\n",
    "%matplotlib inline \n",
    "\n"
   ]
  },
  {
   "cell_type": "code",
   "execution_count": 7,
   "id": "395e2453",
   "metadata": {},
   "outputs": [
    {
     "name": "stdout",
     "output_type": "stream",
     "text": [
      "   Id   ProductId          UserId                      ProfileName  \\\n",
      "0   1  B001E4KFG0  A3SGXH7AUHU8GW                       delmartian   \n",
      "1   2  B00813GRG4  A1D87F6ZCVE5NK                           dll pa   \n",
      "2   3  B000LQOCH0   ABXLMWJIXXAIN  Natalia Corres \"Natalia Corres\"   \n",
      "3   4  B000UA0QIQ  A395BORC6FGVXV                             Karl   \n",
      "4   5  B006K2ZZ7K  A1UQRSCLF8GW1T    Michael D. Bigham \"M. Wassir\"   \n",
      "\n",
      "   HelpfulnessNumerator  HelpfulnessDenominator  Score        Time  \\\n",
      "0                     1                       1      5  1303862400   \n",
      "1                     0                       0      1  1346976000   \n",
      "2                     1                       1      4  1219017600   \n",
      "3                     3                       3      2  1307923200   \n",
      "4                     0                       0      5  1350777600   \n",
      "\n",
      "                 Summary                                               Text  \n",
      "0  Good Quality Dog Food  I have bought several of the Vitality canned d...  \n",
      "1      Not as Advertised  Product arrived labeled as Jumbo Salted Peanut...  \n",
      "2  \"Delight\" says it all  This is a confection that has been around a fe...  \n",
      "3         Cough Medicine  If you are looking for the secret ingredient i...  \n",
      "4            Great taffy  Great taffy at a great price.  There was a wid...  \n"
     ]
    }
   ],
   "source": [
    "\n",
    "file_path = 'Reviews.csv'\n",
    "\n",
    "# Load data from CSV file into a DataFrame\n",
    "df = pd.read_csv(file_path)\n",
    "\n",
    "# Display the first few rows of the DataFrame\n",
    "print(df.head())\n"
   ]
  },
  {
   "cell_type": "code",
   "execution_count": 8,
   "id": "3b85d3bc",
   "metadata": {},
   "outputs": [
    {
     "data": {
      "text/plain": [
       "(270052, 10)"
      ]
     },
     "execution_count": 8,
     "metadata": {},
     "output_type": "execute_result"
    }
   ],
   "source": [
    "#Filter rows where HelpfulnessDenominator is 0 and calculate the resulting DataFrame shape.\n",
    "df[df.HelpfulnessDenominator == 0].shape\n"
   ]
  },
  {
   "cell_type": "code",
   "execution_count": 9,
   "id": "60433869",
   "metadata": {},
   "outputs": [
    {
     "name": "stdout",
     "output_type": "stream",
     "text": [
      "Number of datapoints:  568454\n",
      "Number of features:  10\n"
     ]
    }
   ],
   "source": [
    "#Get information about the number of data points in the dataset\n",
    "print(\"Number of datapoints: \",df.shape[0])\n",
    "print(\"Number of features: \",df.shape[1])"
   ]
  },
  {
   "cell_type": "code",
   "execution_count": 26,
   "id": "2304d0bf",
   "metadata": {},
   "outputs": [
    {
     "name": "stdout",
     "output_type": "stream",
     "text": [
      "Balanced Dataset:\n",
      "       Id   ProductId          UserId ProfileName  HelpfulnessNumerator  \\\n",
      "0  222531  B004E4CCSQ   AUITG1DJ3QUGK    E. Swope                     0   \n",
      "1  334856  B000EDGB2E  A366ISPASB3NHK   MomMcDuck                     0   \n",
      "2   56482  B0000VYKZA   AM4UVNWCW9NJE  iansomniak                     0   \n",
      "3   73054  B0000CGE3R  A2E0VRQ9ERB2V6    N. Brede                     1   \n",
      "4    3437  B005K4Q1VI  A1Y5J68F22DRUR  Allison H.                     1   \n",
      "\n",
      "   HelpfulnessDenominator  Score        Time  \\\n",
      "0                       0      3  1328140800   \n",
      "1                       0      3  1348704000   \n",
      "2                       2      2  1192233600   \n",
      "3                       1      3  1151971200   \n",
      "4                       2      3  1322611200   \n",
      "\n",
      "                                             Summary  \\\n",
      "0  Convenient, green, not bad tasting, but nutrit...   \n",
      "1                                       Disappointed   \n",
      "2   Well, if this doesn't wake you up, NOTHING will.   \n",
      "3                                     Giant Redskins   \n",
      "4                                     It's decent...   \n",
      "\n",
      "                                                Text  \n",
      "0  I have to say that I was initially put off by ...  \n",
      "1  I just received a box of the small bags of str...  \n",
      "2  The folks at Starbucks are not exaggerating wh...  \n",
      "3  These were not as flavorful as the plain nut. ...  \n",
      "4  This is okay cocoa. It's not really very smoot...  \n",
      "Number of data points in our data: 148849\n"
     ]
    }
   ],
   "source": [
    "# Define the number of reviews to extract from each rating class, to balance the classes, there is a strong imbalance in data. \n",
    "num_reviews_per_class = 29770\n",
    "\n",
    "# Create empty list to store balanced data\n",
    "balanced_data = []\n",
    "\n",
    "# Iterate through each rating class\n",
    "for score in range(1, 6):\n",
    "    # Filter reviews for the current rating class\n",
    "    reviews_for_score = df[df['Score'] == score]\n",
    "    \n",
    "    # Select a fixed number of reviews from the current rating class\n",
    "    selected_reviews = reviews_for_score.head(num_reviews_per_class)\n",
    "    \n",
    "    # Append selected reviews to the balanced data list\n",
    "    balanced_data.append(selected_reviews)\n",
    "\n",
    "# Concatenate the balanced data DataFrames\n",
    "balanced_data = pd.concat(balanced_data, ignore_index=True)\n",
    "\n",
    "# Optional: Shuffle the balanced dataset\n",
    "balanced_data = balanced_data.sample(frac=1).reset_index(drop=True)\n",
    "\n",
    "# Display the balanced dataset\n",
    "print(\"Balanced Dataset:\")\n",
    "print(balanced_data.head())\n",
    "print(\"Number of data points in our data:\", len(balanced_data))\n",
    "\n"
   ]
  },
  {
   "cell_type": "code",
   "execution_count": 24,
   "id": "5b84451c",
   "metadata": {},
   "outputs": [
    {
     "name": "stdout",
     "output_type": "stream",
     "text": [
      "Number of data points in our data: (148849, 10)\n",
      "       Id   ProductId         UserId            ProfileName  \\\n",
      "0  202406  B000FDDOGE  AJ9LNP24VF4PF    Stepping Heavenward   \n",
      "1   19313  B0030MZCN0  AIFGUCOUOOFJ3                  jilly   \n",
      "2   48259  B004SRH2B6  AH7FLBGNDOBDP  Amber \"the PlantNerd\"   \n",
      "\n",
      "   HelpfulnessNumerator  HelpfulnessDenominator  Score        Time  \\\n",
      "0                     0                       0      1  1313193600   \n",
      "1                     0                       0      1  1341532800   \n",
      "2                     2                       2      1  1309824000   \n",
      "\n",
      "                                    Summary  \\\n",
      "0  Very happy with taste, but price went up   \n",
      "1                  Best Earl Grey tea ever!   \n",
      "2      One of the best Cocowaters available   \n",
      "\n",
      "                                                Text  \n",
      "0  My daughter and I have been on a 'wheat free' ...  \n",
      "1  This is by far the best Earl Grey tea ever. Th...  \n",
      "2  This is a really good product, the flavor is n...  \n",
      "Total number of reviews with score 1: 0\n"
     ]
    }
   ],
   "source": [
    "def partition(x):\n",
    "    if x < 3:\n",
    "        return 0\n",
    "    return 1\n",
    "\n",
    "#changing reviews with score less than 3 to be positive and vice-versa\n",
    "actual_score = balanced_data['Score']\n",
    "positiveNegative = actual_score.map(partition) \n",
    "balanced_data['Score'] = positiveNegative\n",
    "\n",
    "print(\"Number of data points in our data:\", balanced_data.shape)\n",
    "print(balanced_data.head(3))\n",
    "\n"
   ]
  },
  {
   "cell_type": "code",
   "execution_count": 19,
   "id": "2fc34f55",
   "metadata": {},
   "outputs": [
    {
     "name": "stdout",
     "output_type": "stream",
     "text": [
      "Number of data points in our data: 148849\n"
     ]
    }
   ],
   "source": [
    "print(\"Number of data points in our data:\", len(balanced_data))\n"
   ]
  },
  {
   "cell_type": "code",
   "execution_count": 31,
   "id": "e3a98238",
   "metadata": {},
   "outputs": [
    {
     "name": "stdout",
     "output_type": "stream",
     "text": [
      "Empty DataFrame\n",
      "Columns: [Id, ProductId, UserId, ProfileName, HelpfulnessNumerator, HelpfulnessDenominator, Score, Time, Summary, Text]\n",
      "Index: []\n"
     ]
    }
   ],
   "source": [
    "# Filter the balanced_data DataFrame\n",
    "\n",
    "#sorting data into positive and negative data \n",
    "display = balanced_data[(balanced_data['Score'] != 3) & (balanced_data['UserId'] == \"AR5J8UI46CURR\")]\n",
    "\n",
    "# Sort the filtered DataFrame by ProductID\n",
    "display = display.sort_values(by='ProductId')\n",
    "\n",
    "# Display the first few rows of the filtered DataFrame\n",
    "print(display.head())\n"
   ]
  },
  {
   "cell_type": "code",
   "execution_count": 37,
   "id": "57c5d4a3",
   "metadata": {},
   "outputs": [
    {
     "name": "stdout",
     "output_type": "stream",
     "text": [
      "            Id   ProductId          UserId  \\\n",
      "4587    150523  0006641040  A2P4F2UO0UMP8C   \n",
      "63086   150529  0006641040   A25ACLV5KPB4W   \n",
      "126068  150497  0006641040  A1HKYQOFC8ZZCH   \n",
      "21455   150528  0006641040   AGQWHPNDZGUD0   \n",
      "94146   150527  0006641040  A367OXCD2R6MC1   \n",
      "\n",
      "                                  ProfileName  HelpfulnessNumerator  \\\n",
      "4587    Elizabeth A. Curry \"Lovely Librarian\"                     0   \n",
      "63086                     Matt Hetling \"Matt\"                     0   \n",
      "126068             Maria Apolloni \"lanarossa\"                     2   \n",
      "21455                                  Bolt81                     0   \n",
      "94146           Laurel \"I love the internet.\"                     0   \n",
      "\n",
      "        HelpfulnessDenominator  Score        Time  \\\n",
      "4587                         0      4  1096675200   \n",
      "63086                        1      4  1108425600   \n",
      "126068                       2      1  1334707200   \n",
      "21455                        1      3  1296864000   \n",
      "94146                        1      3  1323820800   \n",
      "\n",
      "                                                  Summary  \\\n",
      "4587                                MMMM chicken soup....   \n",
      "63086                         Nice cadence, catchy rhymes   \n",
      "126068  The story is great, the softcover book is disa...   \n",
      "21455                                    Size does matter   \n",
      "94146                         This book is much too small   \n",
      "\n",
      "                                                     Text  \n",
      "4587    Summary:  A young boy describes the usefulness...  \n",
      "63086   In June<br />I saw a charming group<br />of ro...  \n",
      "126068  I give five stars to the Maurice Sendak story....  \n",
      "21455   This book was purchased to be used in a classr...  \n",
      "94146   It was a great price, but I can't read it to m...  \n"
     ]
    }
   ],
   "source": [
    "# Sorting data according to ProductId in ascending order\n",
    "sorted_data = balanced_data.sort_values(by='ProductId', ascending=True)\n",
    "\n",
    "# Displaying the first 5 rows of the sorted DataFrame\n",
    "print(sorted_data.head(5))\n"
   ]
  },
  {
   "cell_type": "code",
   "execution_count": 44,
   "id": "afd157ca",
   "metadata": {},
   "outputs": [
    {
     "name": "stdout",
     "output_type": "stream",
     "text": [
      "(117061, 10)\n"
     ]
    }
   ],
   "source": [
    "# Deduplication of entries\n",
    "final = sorted_data.drop_duplicates(subset=[\"UserId\", \"ProfileName\", \"Time\", \"Text\"], keep='first', inplace=False)\n",
    "\n",
    "# Get the shape of the deduplicated DataFrame\n",
    "print(final.shape)\n"
   ]
  },
  {
   "cell_type": "markdown",
   "id": "bb319c7c",
   "metadata": {},
   "source": [
    "Observation: Additionally, it was noted that in the two rows provided below, the HelpfulnessNumerator exceeds the HelpfulnessDenominator, which is not feasible in practice. Therefore, these two rows were also excluded from the calculations."
   ]
  },
  {
   "cell_type": "code",
   "execution_count": 40,
   "id": "1b36108c",
   "metadata": {},
   "outputs": [
    {
     "data": {
      "text/html": [
       "<div>\n",
       "<style scoped>\n",
       "    .dataframe tbody tr th:only-of-type {\n",
       "        vertical-align: middle;\n",
       "    }\n",
       "\n",
       "    .dataframe tbody tr th {\n",
       "        vertical-align: top;\n",
       "    }\n",
       "\n",
       "    .dataframe thead th {\n",
       "        text-align: right;\n",
       "    }\n",
       "</style>\n",
       "<table border=\"1\" class=\"dataframe\">\n",
       "  <thead>\n",
       "    <tr style=\"text-align: right;\">\n",
       "      <th></th>\n",
       "      <th>Id</th>\n",
       "      <th>ProductId</th>\n",
       "      <th>UserId</th>\n",
       "      <th>ProfileName</th>\n",
       "      <th>HelpfulnessNumerator</th>\n",
       "      <th>HelpfulnessDenominator</th>\n",
       "      <th>Score</th>\n",
       "      <th>Time</th>\n",
       "      <th>Summary</th>\n",
       "      <th>Text</th>\n",
       "    </tr>\n",
       "  </thead>\n",
       "  <tbody>\n",
       "    <tr>\n",
       "      <th>64421</th>\n",
       "      <td>64422</td>\n",
       "      <td>B000MIDROQ</td>\n",
       "      <td>A161DK06JJMCYF</td>\n",
       "      <td>J. E. Stephens \"Jeanne\"</td>\n",
       "      <td>3</td>\n",
       "      <td>1</td>\n",
       "      <td>5</td>\n",
       "      <td>1224892800</td>\n",
       "      <td>Bought This for My Son at College</td>\n",
       "      <td>My son loves spaghetti so I didn't hesitate or...</td>\n",
       "    </tr>\n",
       "    <tr>\n",
       "      <th>44736</th>\n",
       "      <td>44737</td>\n",
       "      <td>B001EQ55RW</td>\n",
       "      <td>A2V0I904FH7ABY</td>\n",
       "      <td>Ram</td>\n",
       "      <td>3</td>\n",
       "      <td>2</td>\n",
       "      <td>4</td>\n",
       "      <td>1212883200</td>\n",
       "      <td>Pure cocoa taste with crunchy almonds inside</td>\n",
       "      <td>It was almost a 'love at first bite' - the per...</td>\n",
       "    </tr>\n",
       "  </tbody>\n",
       "</table>\n",
       "</div>"
      ],
      "text/plain": [
       "          Id   ProductId          UserId              ProfileName  \\\n",
       "64421  64422  B000MIDROQ  A161DK06JJMCYF  J. E. Stephens \"Jeanne\"   \n",
       "44736  44737  B001EQ55RW  A2V0I904FH7ABY                      Ram   \n",
       "\n",
       "       HelpfulnessNumerator  HelpfulnessDenominator  Score        Time  \\\n",
       "64421                     3                       1      5  1224892800   \n",
       "44736                     3                       2      4  1212883200   \n",
       "\n",
       "                                            Summary  \\\n",
       "64421             Bought This for My Son at College   \n",
       "44736  Pure cocoa taste with crunchy almonds inside   \n",
       "\n",
       "                                                    Text  \n",
       "64421  My son loves spaghetti so I didn't hesitate or...  \n",
       "44736  It was almost a 'love at first bite' - the per...  "
      ]
     },
     "execution_count": 40,
     "metadata": {},
     "output_type": "execute_result"
    }
   ],
   "source": [
    "# Filter the DataFrame to select rows where the Score is not equal to 3 and the Id is either 44737 or 64422\n",
    "display = df[(df['Score'] != 3) & ((df['Id'] == 44737) | (df['Id'] == 64422))]\n",
    "\n",
    "# Sort the filtered DataFrame by ProductID\n",
    "display = display.sort_values(by='ProductId')\n",
    "\n",
    "# Display the first few rows of the filtered DataFrame\n",
    "display.head()\n"
   ]
  },
  {
   "cell_type": "code",
   "execution_count": 45,
   "id": "721df360",
   "metadata": {},
   "outputs": [],
   "source": [
    "# Filter out rows where HelpfulnessNumerator is greater than HelpfulnessDenominator\n",
    "final = final[final['HelpfulnessNumerator'] <= final['HelpfulnessDenominator']]"
   ]
  },
  {
   "cell_type": "code",
   "execution_count": 54,
   "id": "35a1270f",
   "metadata": {},
   "outputs": [
    {
     "name": "stdout",
     "output_type": "stream",
     "text": [
      "Total number of reviews with score 1: 29770\n"
     ]
    }
   ],
   "source": [
    "# Filter the balanced_data DataFrame for rows where 'Score' is equal to 1\n",
    "score_1_reviews = balanced_data[balanced_data['Score'] == 3]\n",
    "\n",
    "# Print the total number of reviews with score 1\n",
    "total_score_1_reviews = len(score_1_reviews)\n",
    "print(\"Total number of reviews with score 1:\", total_score_1_reviews)\n"
   ]
  },
  {
   "cell_type": "code",
   "execution_count": 49,
   "id": "557aec8d",
   "metadata": {},
   "outputs": [
    {
     "name": "stdout",
     "output_type": "stream",
     "text": [
      "Shape of X_train: (119079,)\n",
      "Shape of X_test: (29770,)\n",
      "Shape of y_train: (119079,)\n",
      "Shape of y_test: (29770,)\n"
     ]
    }
   ],
   "source": [
    "from sklearn.model_selection import train_test_split\n",
    "\n",
    "# Split the balanced_data into features (X) and target variable (y)\n",
    "X = balanced_data['Text']  # Features\n",
    "y = balanced_data['Score']  # Target variable\n",
    "\n",
    "# Step 1: Split the data into training and testing sets (80% training, 20% testing)\n",
    "X_train, X_test, y_train, y_test = train_test_split(X, y, test_size=0.2, random_state=42)\n",
    "\n",
    "# Display the shapes of the resulting datasets\n",
    "print(\"Shape of X_train:\", X_train.shape)\n",
    "print(\"Shape of X_test:\", X_test.shape)\n",
    "print(\"Shape of y_train:\", y_train.shape)\n",
    "print(\"Shape of y_test:\", y_test.shape)\n",
    "\n",
    "# Step 2: Preprocess the training data\n",
    "# Apply tokenization, lowercasing, removing stopwords, etc. to X_train\n",
    "\n",
    "# Step 3: Apply the same preprocessing steps to the testing data\n",
    "# Ensure that the preprocessing steps are applied consistently to X_test\n",
    "\n",
    "# Train your sentiment analysis model on X_train and y_train\n",
    "# Evaluate the model on X_test and y_test to assess its performance\n"
   ]
  },
  {
   "cell_type": "raw",
   "id": "0b24250a",
   "metadata": {},
   "source": [
    "Text Preprocessing. steps on X_train \n",
    "Now that we have finished deduplication our data requires some preprocessing before we go on further with analysis and making the prediction model.\n",
    "\n",
    "Hence in the Preprocessing phase we do the following in the order below:-\n",
    "\n",
    "Begin by removing the html tags\n",
    "Remove any punctuations or limited set of special characters like , or . or # etc.\n",
    "Check if the word is made up of english letters and is not alpha-numeric\n",
    "Check to see if the length of the word is greater than 2 (as it was researched that there is no adjective in 2-letters)\n",
    "Convert the word to lowercase\n",
    "Remove Stopwords\n",
    "Finally Snowball Stemming the word (it was obsereved to be better than Porter Stemming)"
   ]
  },
  {
   "cell_type": "code",
   "execution_count": null,
   "id": "65d3364e",
   "metadata": {},
   "outputs": [],
   "source": []
  }
 ],
 "metadata": {
  "kernelspec": {
   "display_name": "Python 3 (ipykernel)",
   "language": "python",
   "name": "python3"
  },
  "language_info": {
   "codemirror_mode": {
    "name": "ipython",
    "version": 3
   },
   "file_extension": ".py",
   "mimetype": "text/x-python",
   "name": "python",
   "nbconvert_exporter": "python",
   "pygments_lexer": "ipython3",
   "version": "3.11.5"
  }
 },
 "nbformat": 4,
 "nbformat_minor": 5
}
