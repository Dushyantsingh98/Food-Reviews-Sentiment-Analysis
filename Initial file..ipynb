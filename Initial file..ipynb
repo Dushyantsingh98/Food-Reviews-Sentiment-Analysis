{
 "cells": [
  {
   "cell_type": "code",
   "execution_count": 1,
   "id": "198f37f4",
   "metadata": {},
   "outputs": [],
   "source": [
    "#Imports \n",
    "import numpy as np\n",
    "import pandas as pd\n",
    "import matplotlib.pyplot as plt\n",
    "import sqlite3\n",
    "import seaborn as sns\n",
    "from time import time\n",
    "import gensim\n",
    "import random\n",
    "import warnings\n",
    "warnings.filterwarnings(\"ignore\")\n",
    "%matplotlib inline "
   ]
  },
  {
   "cell_type": "code",
   "execution_count": 2,
   "id": "c489b5d6",
   "metadata": {},
   "outputs": [
    {
     "name": "stdout",
     "output_type": "stream",
     "text": [
      "   Id   ProductId          UserId                      ProfileName  \\\n",
      "0   1  B001E4KFG0  A3SGXH7AUHU8GW                       delmartian   \n",
      "1   2  B00813GRG4  A1D87F6ZCVE5NK                           dll pa   \n",
      "2   3  B000LQOCH0   ABXLMWJIXXAIN  Natalia Corres \"Natalia Corres\"   \n",
      "3   4  B000UA0QIQ  A395BORC6FGVXV                             Karl   \n",
      "4   5  B006K2ZZ7K  A1UQRSCLF8GW1T    Michael D. Bigham \"M. Wassir\"   \n",
      "\n",
      "   HelpfulnessNumerator  HelpfulnessDenominator  Score        Time  \\\n",
      "0                     1                       1      5  1303862400   \n",
      "1                     0                       0      1  1346976000   \n",
      "2                     1                       1      4  1219017600   \n",
      "3                     3                       3      2  1307923200   \n",
      "4                     0                       0      5  1350777600   \n",
      "\n",
      "                 Summary                                               Text  \n",
      "0  Good Quality Dog Food  I have bought several of the Vitality canned d...  \n",
      "1      Not as Advertised  Product arrived labeled as Jumbo Salted Peanut...  \n",
      "2  \"Delight\" says it all  This is a confection that has been around a fe...  \n",
      "3         Cough Medicine  If you are looking for the secret ingredient i...  \n",
      "4            Great taffy  Great taffy at a great price.  There was a wid...  \n"
     ]
    }
   ],
   "source": [
    "import pandas as pd\n",
    "\n",
    "# Load data from CSV file into a DataFrame\n",
    "df = pd.read_csv(\"C:\\\\Users\\\\jash\\\\Desktop\\\\Term2\\\\Reviews.csv\")\n",
    "\n",
    "# Display the first few rows of the DataFrame\n",
    "print(df.head())\n"
   ]
  },
  {
   "cell_type": "code",
   "execution_count": 3,
   "id": "9e4ed850",
   "metadata": {},
   "outputs": [
    {
     "data": {
      "text/plain": [
       "(270052, 10)"
      ]
     },
     "execution_count": 3,
     "metadata": {},
     "output_type": "execute_result"
    }
   ],
   "source": [
    "#Filter rows where HelpfulnessDenominator is 0 and calculate the resulting DataFrame shape.\n",
    "df[df.HelpfulnessDenominator == 0].shape\n"
   ]
  },
  {
   "cell_type": "code",
   "execution_count": 4,
   "id": "8400587b",
   "metadata": {},
   "outputs": [
    {
     "name": "stdout",
     "output_type": "stream",
     "text": [
      "Number of datapoints:  568454\n",
      "Number of features:  10\n"
     ]
    }
   ],
   "source": [
    "#Get information about the number of data points in the dataset\n",
    "print(\"Number of datapoints: \",df.shape[0])\n",
    "print(\"Number of features: \",df.shape[1])"
   ]
  },
  {
   "cell_type": "code",
   "execution_count": 5,
   "id": "5432a09e",
   "metadata": {},
   "outputs": [
    {
     "name": "stdout",
     "output_type": "stream",
     "text": [
      "Balanced Dataset:\n",
      "       Id   ProductId          UserId                 ProfileName  \\\n",
      "0   88655  B000PMJLJO   AG7QPDO7GNT5B       Fake name real review   \n",
      "1   23294  B00207UBMS  A28HJSJ46MVAXL               Alice \"Alice\"   \n",
      "2  153938  B005VOOM2W  A1Z7Y2GMAP9SRY    M. Thompson \"Dyson Diva\"   \n",
      "3  165537  B001QE7J2G  A1CEJADETM9F1U                country girl   \n",
      "4   98849  B001FA19Z4   AFP6OOD8EDRSP  Mamazabakaka \"Tome Raider\"   \n",
      "\n",
      "   HelpfulnessNumerator  HelpfulnessDenominator  Score        Time  \\\n",
      "0                     0                       0      4  1240012800   \n",
      "1                     0                       0      5  1329004800   \n",
      "2                     1                       6      1  1332201600   \n",
      "3                     1                       2      2  1328832000   \n",
      "4                     0                       1      1  1234569600   \n",
      "\n",
      "                       Summary  \\\n",
      "0                  pretty good   \n",
      "1  Brodies' teas are delicious   \n",
      "2                    Weak brew   \n",
      "3                   worst food   \n",
      "4   Great candy, poor delivery   \n",
      "\n",
      "                                                Text  \n",
      "0  These were pretty good but the 2 oz ones taste...  \n",
      "1  We enjoy afternoon tea every day, and we are v...  \n",
      "2  No instructions on packaging that I could find...  \n",
      "3  Would not recomend this food, my 3 chihuahuas,...  \n",
      "4  I ordered this candy from this company twice. ...  \n",
      "Number of data points in our data: 148849\n"
     ]
    }
   ],
   "source": [
    "# Define the number of reviews to extract from each rating class, to balance the classes, there is a strong imbalance in data. \n",
    "num_reviews_per_class = 29770\n",
    "\n",
    "# Create empty list to store balanced data\n",
    "balanced_data = []\n",
    "\n",
    "# Iterate through each rating class\n",
    "for score in range(1, 6):\n",
    "    # Filter reviews for the current rating class\n",
    "    reviews_for_score = df[df['Score'] == score]\n",
    "    \n",
    "    # Select a fixed number of reviews from the current rating class\n",
    "    selected_reviews = reviews_for_score.head(num_reviews_per_class)\n",
    "    \n",
    "    # Append selected reviews to the balanced data list\n",
    "    balanced_data.append(selected_reviews)\n",
    "\n",
    "# Concatenate the balanced data DataFrames\n",
    "balanced_data = pd.concat(balanced_data, ignore_index=True)\n",
    "\n",
    "# Optional: Shuffle the balanced dataset\n",
    "balanced_data = balanced_data.sample(frac=1).reset_index(drop=True)\n",
    "\n",
    "# Display the balanced dataset\n",
    "print(\"Balanced Dataset:\")\n",
    "print(balanced_data.head())\n",
    "print(\"Number of data points in our data:\", len(balanced_data))\n",
    "\n"
   ]
  },
  {
   "cell_type": "code",
   "execution_count": 6,
   "id": "89d52cba",
   "metadata": {},
   "outputs": [
    {
     "name": "stdout",
     "output_type": "stream",
     "text": [
      "Number of data points in our data: (148849, 10)\n",
      "       Id   ProductId          UserId               ProfileName  \\\n",
      "0   88655  B000PMJLJO   AG7QPDO7GNT5B     Fake name real review   \n",
      "1   23294  B00207UBMS  A28HJSJ46MVAXL             Alice \"Alice\"   \n",
      "2  153938  B005VOOM2W  A1Z7Y2GMAP9SRY  M. Thompson \"Dyson Diva\"   \n",
      "\n",
      "   HelpfulnessNumerator  HelpfulnessDenominator  Score        Time  \\\n",
      "0                     0                       0      1  1240012800   \n",
      "1                     0                       0      1  1329004800   \n",
      "2                     1                       6      0  1332201600   \n",
      "\n",
      "                       Summary  \\\n",
      "0                  pretty good   \n",
      "1  Brodies' teas are delicious   \n",
      "2                    Weak brew   \n",
      "\n",
      "                                                Text  \n",
      "0  These were pretty good but the 2 oz ones taste...  \n",
      "1  We enjoy afternoon tea every day, and we are v...  \n",
      "2  No instructions on packaging that I could find...  \n"
     ]
    }
   ],
   "source": [
    "def partition(x):\n",
    "    if x < 3:\n",
    "        return 0\n",
    "    return 1\n",
    "\n",
    "#changing reviews with score less than 3 to be positive and vice-versa\n",
    "actual_score = balanced_data['Score']\n",
    "positiveNegative = actual_score.map(partition) \n",
    "balanced_data['Score'] = positiveNegative\n",
    "\n",
    "print(\"Number of data points in our data:\", balanced_data.shape)\n",
    "print(balanced_data.head(3))"
   ]
  },
  {
   "cell_type": "code",
   "execution_count": 7,
   "id": "7191e1c1",
   "metadata": {},
   "outputs": [
    {
     "name": "stdout",
     "output_type": "stream",
     "text": [
      "Number of data points in our data: 148849\n"
     ]
    }
   ],
   "source": [
    "print(\"Number of data points in our data:\", len(balanced_data))\n"
   ]
  },
  {
   "cell_type": "code",
   "execution_count": 8,
   "id": "306d1ad1",
   "metadata": {},
   "outputs": [
    {
     "name": "stdout",
     "output_type": "stream",
     "text": [
      "Empty DataFrame\n",
      "Columns: [Id, ProductId, UserId, ProfileName, HelpfulnessNumerator, HelpfulnessDenominator, Score, Time, Summary, Text]\n",
      "Index: []\n"
     ]
    }
   ],
   "source": [
    "# Filter the balanced_data DataFrame\n",
    "\n",
    "#sorting data into positive and negative data \n",
    "display = balanced_data[(balanced_data['Score'] != 3) & (balanced_data['UserId'] == \"AR5J8UI46CURR\")]\n",
    "\n",
    "# Sort the filtered DataFrame by ProductID\n",
    "display = display.sort_values(by='ProductId')\n",
    "\n",
    "# Display the first few rows of the filtered DataFrame\n",
    "print(display.head())"
   ]
  },
  {
   "cell_type": "code",
   "execution_count": 9,
   "id": "d484e995",
   "metadata": {},
   "outputs": [
    {
     "name": "stdout",
     "output_type": "stream",
     "text": [
      "            Id   ProductId          UserId            ProfileName  \\\n",
      "101095   24750  2734888454  A13ISQV0U9GZIC              Sandikaye   \n",
      "115251   24751  2734888454  A1C298ITT645B6      Hugh G. Pritchard   \n",
      "105436  150502     6641040   AVFMJ50HNO21J               Jane Doe   \n",
      "96585   150522     6641040  A1S3C5OFU508P3      Charles Ashbacher   \n",
      "105245  150507     6641040  A1S4A3IQ2MU7V4  sally sue \"sally sue\"   \n",
      "\n",
      "        HelpfulnessNumerator  HelpfulnessDenominator  Score        Time  \\\n",
      "101095                     1                       1      0  1192060800   \n",
      "115251                     0                       0      1  1195948800   \n",
      "105436                     1                       1      1  1324944000   \n",
      "96585                      0                       0      1  1219536000   \n",
      "105245                     1                       1      1  1191456000   \n",
      "\n",
      "                                                  Summary  \\\n",
      "101095                                      made in china   \n",
      "115251                                  Dog Lover Delites   \n",
      "105436         Tiny little book, Wonderful little rhymes.   \n",
      "96585   Children will find it entertaining and a gener...   \n",
      "105245                      chicken soup with rice months   \n",
      "\n",
      "                                                     Text  \n",
      "101095  My dogs loves this chicken but its a product f...  \n",
      "115251  Our dogs just love them.  I saw them in a pet ...  \n",
      "105436  This copy is smaller than I expected (mostly b...  \n",
      "96585   This book contains a collection of twelve shor...  \n",
      "105245  This is a fun way for children to learn their ...  \n"
     ]
    }
   ],
   "source": [
    "# Sorting data according to ProductId in ascending order\n",
    "sorted_data = balanced_data.sort_values(by='ProductId', ascending=True)\n",
    "\n",
    "# Displaying the first 5 rows of the sorted DataFrame\n",
    "print(sorted_data.head(5))\n"
   ]
  },
  {
   "cell_type": "code",
   "execution_count": 10,
   "id": "85e6004b",
   "metadata": {},
   "outputs": [
    {
     "name": "stdout",
     "output_type": "stream",
     "text": [
      "(117061, 10)\n"
     ]
    }
   ],
   "source": [
    "# Deduplication of entries\n",
    "final = sorted_data.drop_duplicates(subset=[\"UserId\", \"ProfileName\", \"Time\", \"Text\"], keep='first', inplace=False)\n",
    "\n",
    "# Get the shape of the deduplicated DataFrame\n",
    "print(final.shape)\n"
   ]
  },
  {
   "cell_type": "code",
   "execution_count": 11,
   "id": "baf3e06e",
   "metadata": {},
   "outputs": [
    {
     "data": {
      "text/html": [
       "<div>\n",
       "<style scoped>\n",
       "    .dataframe tbody tr th:only-of-type {\n",
       "        vertical-align: middle;\n",
       "    }\n",
       "\n",
       "    .dataframe tbody tr th {\n",
       "        vertical-align: top;\n",
       "    }\n",
       "\n",
       "    .dataframe thead th {\n",
       "        text-align: right;\n",
       "    }\n",
       "</style>\n",
       "<table border=\"1\" class=\"dataframe\">\n",
       "  <thead>\n",
       "    <tr style=\"text-align: right;\">\n",
       "      <th></th>\n",
       "      <th>Id</th>\n",
       "      <th>ProductId</th>\n",
       "      <th>UserId</th>\n",
       "      <th>ProfileName</th>\n",
       "      <th>HelpfulnessNumerator</th>\n",
       "      <th>HelpfulnessDenominator</th>\n",
       "      <th>Score</th>\n",
       "      <th>Time</th>\n",
       "      <th>Summary</th>\n",
       "      <th>Text</th>\n",
       "    </tr>\n",
       "  </thead>\n",
       "  <tbody>\n",
       "    <tr>\n",
       "      <th>64421</th>\n",
       "      <td>64422</td>\n",
       "      <td>B000MIDROQ</td>\n",
       "      <td>A161DK06JJMCYF</td>\n",
       "      <td>J. E. Stephens \"Jeanne\"</td>\n",
       "      <td>3</td>\n",
       "      <td>1</td>\n",
       "      <td>5</td>\n",
       "      <td>1224892800</td>\n",
       "      <td>Bought This for My Son at College</td>\n",
       "      <td>My son loves spaghetti so I didn't hesitate or...</td>\n",
       "    </tr>\n",
       "    <tr>\n",
       "      <th>44736</th>\n",
       "      <td>44737</td>\n",
       "      <td>B001EQ55RW</td>\n",
       "      <td>A2V0I904FH7ABY</td>\n",
       "      <td>Ram</td>\n",
       "      <td>3</td>\n",
       "      <td>2</td>\n",
       "      <td>4</td>\n",
       "      <td>1212883200</td>\n",
       "      <td>Pure cocoa taste with crunchy almonds inside</td>\n",
       "      <td>It was almost a 'love at first bite' - the per...</td>\n",
       "    </tr>\n",
       "  </tbody>\n",
       "</table>\n",
       "</div>"
      ],
      "text/plain": [
       "          Id   ProductId          UserId              ProfileName  \\\n",
       "64421  64422  B000MIDROQ  A161DK06JJMCYF  J. E. Stephens \"Jeanne\"   \n",
       "44736  44737  B001EQ55RW  A2V0I904FH7ABY                      Ram   \n",
       "\n",
       "       HelpfulnessNumerator  HelpfulnessDenominator  Score        Time  \\\n",
       "64421                     3                       1      5  1224892800   \n",
       "44736                     3                       2      4  1212883200   \n",
       "\n",
       "                                            Summary  \\\n",
       "64421             Bought This for My Son at College   \n",
       "44736  Pure cocoa taste with crunchy almonds inside   \n",
       "\n",
       "                                                    Text  \n",
       "64421  My son loves spaghetti so I didn't hesitate or...  \n",
       "44736  It was almost a 'love at first bite' - the per...  "
      ]
     },
     "execution_count": 11,
     "metadata": {},
     "output_type": "execute_result"
    }
   ],
   "source": [
    "# Filter the DataFrame to select rows where the Score is not equal to 3 and the Id is either 44737 or 64422\n",
    "display = df[(df['Score'] != 3) & ((df['Id'] == 44737) | (df['Id'] == 64422))]\n",
    "\n",
    "# Sort the filtered DataFrame by ProductID\n",
    "display = display.sort_values(by='ProductId')\n",
    "\n",
    "# Display the first few rows of the filtered DataFrame\n",
    "display.head()"
   ]
  },
  {
   "cell_type": "code",
   "execution_count": 12,
   "id": "f3726f37",
   "metadata": {},
   "outputs": [
    {
     "name": "stdout",
     "output_type": "stream",
     "text": [
      "Total number of reviews with score 1: 0\n"
     ]
    }
   ],
   "source": [
    "# Filter out rows where HelpfulnessNumerator is greater than HelpfulnessDenominator\n",
    "final = final[final['HelpfulnessNumerator'] <= final['HelpfulnessDenominator']]\n",
    "# Filter the balanced_data DataFrame for rows where 'Score' is equal to 1\n",
    "score_1_reviews = balanced_data[balanced_data['Score'] == 3]\n",
    "\n",
    "# Print the total number of reviews with score 1\n",
    "total_score_1_reviews = len(score_1_reviews)\n",
    "print(\"Total number of reviews with score 1:\", total_score_1_reviews)"
   ]
  },
  {
   "cell_type": "code",
   "execution_count": 19,
   "id": "44d1ea11",
   "metadata": {},
   "outputs": [
    {
     "name": "stdout",
     "output_type": "stream",
     "text": [
      "                                                Text  \\\n",
      "0  I have bought several of the Vitality canned d...   \n",
      "1  Product arrived labeled as Jumbo Salted Peanut...   \n",
      "2  This is a confection that has been around a fe...   \n",
      "3  If you are looking for the secret ingredient i...   \n",
      "4  Great taffy at a great price.  There was a wid...   \n",
      "\n",
      "                                   preprocessed_text  \\\n",
      "0  I have bought several of the Vitality canned d...   \n",
      "1  Product arrived labeled as Jumbo Salted Peanut...   \n",
      "2  This is a confection that has been around a fe...   \n",
      "3  If you are looking for the secret ingredient i...   \n",
      "4  Great taffy at a great price  There was a wide...   \n",
      "\n",
      "                                              tokens  \n",
      "0  [I, have, bought, several, of, the, Vitality, ...  \n",
      "1  [Product, arrived, labeled, as, Jumbo, Salted,...  \n",
      "2  [This, is, a, confection, that, has, been, aro...  \n",
      "3  [If, you, are, looking, for, the, secret, ingr...  \n",
      "4  [Great, taffy, at, a, great, price, There, was...  \n"
     ]
    }
   ],
   "source": [
    "import nltk\n",
    "from nltk.tokenize import word_tokenize\n",
    "\n",
    "\n",
    "# Preprocess text function\n",
    "def preprocess_text(text):\n",
    "    \"\"\"Preprocess text by removing HTML tags, punctuation, special characters, and non-alphanumeric characters.\"\"\"\n",
    "    # Remove HTML tags\n",
    "    clean_text = re.sub(r'<.*?>', '', text)\n",
    "    # Remove punctuation, special characters, and non-alphanumeric characters\n",
    "    clean_text = re.sub(r'[^\\w\\s]', '', clean_text)\n",
    "    return clean_text\n",
    "\n",
    "# Tokenization function\n",
    "def tokenize_text(text):\n",
    "    \"\"\"Tokenize text using NLTK word_tokenize.\"\"\"\n",
    "    tokens = word_tokenize(text)\n",
    "    return tokens\n",
    "\n",
    "# Apply preprocessing and tokenization to the 'text' column\n",
    "df['preprocessed_text'] = df['Text'].apply(preprocess_text)\n",
    "df['tokens'] = df['preprocessed_text'].apply(tokenize_text)\n",
    "\n",
    "# Display the DataFrame with preprocessed text and tokens\n",
    "print(df[['Text', 'preprocessed_text', 'tokens']].head())\n"
   ]
  },
  {
   "cell_type": "code",
   "execution_count": 23,
   "id": "decfed9e",
   "metadata": {},
   "outputs": [
    {
     "name": "stdout",
     "output_type": "stream",
     "text": [
      "                                                Text  \\\n",
      "0  I have bought several of the Vitality canned d...   \n",
      "1  Product arrived labeled as Jumbo Salted Peanut...   \n",
      "2  This is a confection that has been around a fe...   \n",
      "3  If you are looking for the secret ingredient i...   \n",
      "4  Great taffy at a great price.  There was a wid...   \n",
      "\n",
      "                              text_without_stopwords  \n",
      "0  bought several Vitality canned dog food produc...  \n",
      "1  Product arrived labeled Jumbo Salted Peanuts.....  \n",
      "2  confection around centuries. light, pillowy ci...  \n",
      "3  looking secret ingredient Robitussin believe f...  \n",
      "4  Great taffy great price. wide assortment yummy...  \n"
     ]
    }
   ],
   "source": [
    "import nltk\n",
    "from nltk.corpus import stopwords\n",
    "\n",
    "# Load English stopwords from NLTK\n",
    "stop_words = set(stopwords.words('english'))\n",
    "# Words to exclude from stopwords\n",
    "excluding = {'against', 'not', 'don', \"don't\", 'ain', 'aren', \"aren't\", 'couldn', \"couldn't\", 'didn', \"didn't\",\n",
    "             'doesn', \"doesn't\", 'hadn', \"hadn't\", 'hasn', \"hasn't\", 'haven', \"haven't\", 'isn', \"isn't\",\n",
    "             'mightn', \"mightn't\", 'mustn', \"mustn't\", 'needn', \"needn't\", 'shouldn', \"shouldn't\", 'wasn',\n",
    "             \"wasn't\", 'weren', \"weren't\", 'won', \"won't\", 'wouldn', \"wouldn't\"}\n",
    "\n",
    "# Exclude specified words from stopwords\n",
    "stop_words = stop_words - excluding\n",
    "\n",
    "\n",
    "# Function to remove stop words from text\n",
    "def remove_stopwords(text):\n",
    "    \"\"\"Remove stopwords from text.\"\"\"\n",
    "    tokens = text.split()  # Tokenize text into words\n",
    "    filtered_tokens = [word for word in tokens if word.lower() not in stop_words]  # Filter out stopwords\n",
    "    filtered_text = ' '.join(filtered_tokens)  # Join filtered tokens back into text\n",
    "    return filtered_text\n",
    "\n",
    "df['text_without_stopwords'] = df['Text'].apply(remove_stopwords)\n",
    "\n",
    "# Display the DataFrame with text column and text without stopwords column\n",
    "print(df[['Text', 'text_without_stopwords']].head())\n"
   ]
  },
  {
   "cell_type": "code",
   "execution_count": 22,
   "id": "c6f5e3df",
   "metadata": {},
   "outputs": [
    {
     "name": "stdout",
     "output_type": "stream",
     "text": [
      "                                                Text  \\\n",
      "0  I have bought several of the Vitality canned d...   \n",
      "1  Product arrived labeled as Jumbo Salted Peanut...   \n",
      "2  This is a confection that has been around a fe...   \n",
      "3  If you are looking for the secret ingredient i...   \n",
      "4  Great taffy at a great price.  There was a wid...   \n",
      "\n",
      "                                     lemmatized_text  \n",
      "0  I have buy several of the Vitality can dog foo...  \n",
      "1  Product arrive label as Jumbo Salted Peanuts ....  \n",
      "2  This be a confection that have be around a few...  \n",
      "3  If you be look for the secret ingredient in Ro...  \n",
      "4  Great taffy at a great price . There be a wide...  \n"
     ]
    }
   ],
   "source": [
    "import nltk\n",
    "from nltk.corpus import wordnet\n",
    "from nltk.stem import WordNetLemmatizer\n",
    "\n",
    "# Initialize WordNetLemmatizer\n",
    "lemmatizer = WordNetLemmatizer()\n",
    "\n",
    "# Function to perform lemmatization on text\n",
    "def lemmatize_text(text):\n",
    "    \"\"\"Lemmatize text using NLTK WordNetLemmatizer.\"\"\"\n",
    "    tokens = nltk.word_tokenize(text)  # Tokenize text into words\n",
    "    lemmatized_tokens = [lemmatizer.lemmatize(word, pos='v') for word in tokens]  # Lemmatize tokens (assumes verbs)\n",
    "    lemmatized_text = ' '.join(lemmatized_tokens)  # Join lemmatized tokens back into text\n",
    "    return lemmatized_text\n",
    "\n",
    "# Assuming 'df' is your DataFrame containing the dataset and 'Text' is the column name\n",
    "df['lemmatized_text'] = df['Text'].apply(lemmatize_text)\n",
    "\n",
    "# Display the DataFrame with original text and lemmatized text\n",
    "print(df[['Text', 'lemmatized_text']].head())\n"
   ]
  },
  {
   "cell_type": "code",
   "execution_count": 26,
   "id": "88c9f47c",
   "metadata": {},
   "outputs": [
    {
     "name": "stdout",
     "output_type": "stream",
     "text": [
      "Shape of X_train: (119079,)\n",
      "Shape of X_test: (29770,)\n",
      "Shape of y_train: (119079,)\n",
      "Shape of y_test: (29770,)\n"
     ]
    }
   ],
   "source": [
    "from sklearn.model_selection import train_test_split\n",
    "\n",
    "# Split the balanced_data into features (X) and target variable (y)\n",
    "X = balanced_data['Text']  # Features\n",
    "y = balanced_data['Score']  # Target variable\n",
    "\n",
    "# Step 1: Split the data into training and testing sets (80% training, 20% testing)\n",
    "X_train, X_test, y_train, y_test = train_test_split(X, y, test_size=0.2, random_state=42)\n",
    "\n",
    "# Display the shapes of the resulting datasets\n",
    "print(\"Shape of X_train:\", X_train.shape)\n",
    "print(\"Shape of X_test:\", X_test.shape)\n",
    "print(\"Shape of y_train:\", y_train.shape)\n",
    "print(\"Shape of y_test:\", y_test.shape)"
   ]
  },
  {
   "cell_type": "code",
   "execution_count": 27,
   "id": "82c7feda",
   "metadata": {},
   "outputs": [
    {
     "name": "stdout",
     "output_type": "stream",
     "text": [
      "Shape of X_train_tfidf: (119079, 60777)\n"
     ]
    }
   ],
   "source": [
    "#performing tf_idf on training dataset\n",
    "from sklearn.feature_extraction.text import TfidfVectorizer\n",
    "\n",
    "# Initialize TfidfVectorizer\n",
    "tfidf_vectorizer = TfidfVectorizer()\n",
    "\n",
    "# Fit and transform the preprocessed training text data to create the TF-IDF representation\n",
    "X_train_tfidf = tfidf_vectorizer.fit_transform(X_train)\n",
    "\n",
    "# Display the shape of the TF-IDF matrix\n",
    "print(\"Shape of X_train_tfidf:\", X_train_tfidf.shape)\n"
   ]
  },
  {
   "cell_type": "code",
   "execution_count": 29,
   "id": "74a56fcd",
   "metadata": {},
   "outputs": [
    {
     "name": "stdout",
     "output_type": "stream",
     "text": [
      "[[-0.61788373  0.46348192 -0.03036742 ...  0.17382629  0.\n",
      "   0.        ]]\n",
      "[0.13349783]\n"
     ]
    }
   ],
   "source": [
    "# building svm model based on training dataset\n",
    "from sklearn.svm import LinearSVC\n",
    "\n",
    "# Initialize the LinearSVC model\n",
    "svm_model = LinearSVC()\n",
    "\n",
    "# Train the SVM model on the TF-IDF vectorized training data\n",
    "svm_model.fit(X_train_tfidf, y_train)\n",
    "\n",
    "\n",
    "print(svm_model.coef_)  # Print the coefficients of the model\n",
    "print(svm_model.intercept_)  # Print the intercept of the model\n"
   ]
  },
  {
   "cell_type": "code",
   "execution_count": 30,
   "id": "7d0376f2",
   "metadata": {},
   "outputs": [
    {
     "name": "stdout",
     "output_type": "stream",
     "text": [
      "[1 0 0 ... 1 0 1]\n"
     ]
    }
   ],
   "source": [
    "# Transform the preprocessed testing text data to TF-IDF representation\n",
    "X_test_tfidf = tfidf_vectorizer.transform(X_test)\n",
    "\n",
    "# Use the trained SVM model to make predictions on the TF-IDF vectorized testing data\n",
    "y_pred = svm_model.predict(X_test_tfidf)\n",
    "\n",
    "\n",
    "print(y_pred)  # Print the predicted labels\n"
   ]
  },
  {
   "cell_type": "code",
   "execution_count": 31,
   "id": "b1680127",
   "metadata": {},
   "outputs": [],
   "source": [
    "from sklearn.metrics import accuracy_score\n",
    "accuracy = accuracy_score(y_test, y_pred)\n"
   ]
  },
  {
   "cell_type": "code",
   "execution_count": 32,
   "id": "7037613f",
   "metadata": {},
   "outputs": [
    {
     "name": "stdout",
     "output_type": "stream",
     "text": [
      "              precision    recall  f1-score   support\n",
      "\n",
      "           0       0.81      0.79      0.80     11888\n",
      "           1       0.86      0.88      0.87     17882\n",
      "\n",
      "    accuracy                           0.84     29770\n",
      "   macro avg       0.84      0.83      0.84     29770\n",
      "weighted avg       0.84      0.84      0.84     29770\n",
      "\n"
     ]
    }
   ],
   "source": [
    "from sklearn.metrics import classification_report\n",
    "report = classification_report(y_test, y_pred)\n",
    "print(report)\n"
   ]
  },
  {
   "cell_type": "code",
   "execution_count": 33,
   "id": "e2239072",
   "metadata": {},
   "outputs": [],
   "source": [
    "from sklearn.metrics import roc_curve, roc_auc_score\n",
    "fpr, tpr, thresholds = roc_curve(y_test, y_pred)\n",
    "auc = roc_auc_score(y_test, y_pred)\n"
   ]
  },
  {
   "cell_type": "code",
   "execution_count": 34,
   "id": "17d7f079",
   "metadata": {},
   "outputs": [
    {
     "data": {
      "image/png": "[encoded data removed]",
      "text/plain": [
       "<Figure size 800x600 with 1 Axes>"
      ]
     },
     "metadata": {},
     "output_type": "display_data"
    },
    {
     "data": {
      "image/png": "[encoded data removed]",
      "text/plain": [
       "<Figure size 800x600 with 2 Axes>"
      ]
     },
     "metadata": {},
     "output_type": "display_data"
    },
    {
     "data": {
      "image/png": "[encoded data removed]",
      "text/plain": [
       "<Figure size 800x600 with 1 Axes>"
      ]
     },
     "metadata": {},
     "output_type": "display_data"
    }
   ],
   "source": [
    "import matplotlib.pyplot as plt\n",
    "import seaborn as sns\n",
    "from sklearn.metrics import roc_curve, roc_auc_score, confusion_matrix\n",
    "\n",
    "# Calculate ROC curve\n",
    "fpr, tpr, thresholds = roc_curve(y_test, y_pred)\n",
    "auc = roc_auc_score(y_test, y_pred)\n",
    "\n",
    "# Plot ROC curve\n",
    "plt.figure(figsize=(8, 6))\n",
    "plt.plot(fpr, tpr, color='blue', lw=2, label='ROC curve (AUC = %0.2f)' % auc)\n",
    "plt.plot([0, 1], [0, 1], color='gray', linestyle='--')\n",
    "plt.xlim([0.0, 1.0])\n",
    "plt.ylim([0.0, 1.05])\n",
    "plt.xlabel('False Positive Rate')\n",
    "plt.ylabel('True Positive Rate')\n",
    "plt.title('Receiver Operating Characteristic (ROC) Curve')\n",
    "plt.legend(loc=\"lower right\")\n",
    "plt.show()\n",
    "\n",
    "# Plot confusion matrix\n",
    "cm = confusion_matrix(y_test, y_pred)\n",
    "plt.figure(figsize=(8, 6))\n",
    "sns.heatmap(cm, annot=True, fmt='d', cmap='Blues')\n",
    "plt.title('Confusion Matrix')\n",
    "plt.xlabel('Predicted Label')\n",
    "plt.ylabel('True Label')\n",
    "plt.show()\n",
    "\n",
    "# Plot histogram of predicted probabilities\n",
    "plt.figure(figsize=(8, 6))\n",
    "plt.hist(y_pred, bins=20, color='skyblue', alpha=0.7)\n",
    "plt.title('Histogram of Predicted Probabilities')\n",
    "plt.xlabel('Predicted Probability')\n",
    "plt.ylabel('Frequency')\n",
    "plt.show()\n"
   ]
  },
  {
   "cell_type": "code",
   "execution_count": 36,
   "id": "ff27c0ae",
   "metadata": {},
   "outputs": [
    {
     "name": "stdout",
     "output_type": "stream",
     "text": [
      "Collecting lime\n",
      "  Downloading lime-0.2.0.1.tar.gz (275 kB)\n",
      "     ------------------------------------ 275.7/275.7 kB 653.9 kB/s eta 0:00:00\n",
      "  Preparing metadata (setup.py): started\n",
      "  Preparing metadata (setup.py): finished with status 'done'\n",
      "Requirement already satisfied: matplotlib in c:\\users\\jash\\appdata\\local\\programs\\python\\python37\\lib\\site-packages (from lime) (3.5.3)\n",
      "Requirement already satisfied: numpy in c:\\users\\jash\\appdata\\local\\programs\\python\\python37\\lib\\site-packages (from lime) (1.21.5)\n",
      "Requirement already satisfied: scipy in c:\\users\\jash\\appdata\\local\\programs\\python\\python37\\lib\\site-packages (from lime) (1.7.3)\n",
      "Requirement already satisfied: tqdm in c:\\users\\jash\\appdata\\local\\programs\\python\\python37\\lib\\site-packages (from lime) (4.65.0)\n",
      "Requirement already satisfied: scikit-learn>=0.18 in c:\\users\\jash\\appdata\\local\\programs\\python\\python37\\lib\\site-packages (from lime) (1.0.2)\n",
      "Collecting scikit-image>=0.12 (from lime)\n",
      "  Downloading scikit_image-0.19.3-cp37-cp37m-win_amd64.whl (12.1 MB)\n",
      "     -------------------------------------- 12.1/12.1 MB 955.5 kB/s eta 0:00:00\n",
      "Collecting networkx>=2.2 (from scikit-image>=0.12->lime)\n",
      "  Downloading networkx-2.6.3-py3-none-any.whl (1.9 MB)\n",
      "     ---------------------------------------- 1.9/1.9 MB 1.5 MB/s eta 0:00:00\n",
      "Requirement already satisfied: pillow!=7.1.0,!=7.1.1,!=8.3.0,>=6.1.0 in c:\\users\\jash\\appdata\\local\\programs\\python\\python37\\lib\\site-packages (from scikit-image>=0.12->lime) (9.5.0)\n",
      "Collecting imageio>=2.4.1 (from scikit-image>=0.12->lime)\n",
      "  Downloading imageio-2.31.2-py3-none-any.whl (313 kB)\n",
      "     -------------------------------------- 313.2/313.2 kB 1.4 MB/s eta 0:00:00\n",
      "Collecting tifffile>=2019.7.26 (from scikit-image>=0.12->lime)\n",
      "  Downloading tifffile-2021.11.2-py3-none-any.whl (178 kB)\n",
      "     -------------------------------------- 178.9/178.9 kB 2.7 MB/s eta 0:00:00\n",
      "Collecting PyWavelets>=1.1.1 (from scikit-image>=0.12->lime)\n",
      "  Downloading PyWavelets-1.3.0-cp37-cp37m-win_amd64.whl (4.2 MB)\n",
      "     ---------------------------------------- 4.2/4.2 MB 1.0 MB/s eta 0:00:00\n",
      "Requirement already satisfied: packaging>=20.0 in c:\\users\\jash\\appdata\\local\\programs\\python\\python37\\lib\\site-packages (from scikit-image>=0.12->lime) (21.3)\n",
      "Requirement already satisfied: joblib>=0.11 in c:\\users\\jash\\appdata\\local\\programs\\python\\python37\\lib\\site-packages (from scikit-learn>=0.18->lime) (1.3.1)\n",
      "Requirement already satisfied: threadpoolctl>=2.0.0 in c:\\users\\jash\\appdata\\local\\programs\\python\\python37\\lib\\site-packages (from scikit-learn>=0.18->lime) (3.1.0)\n",
      "Requirement already satisfied: cycler>=0.10 in c:\\users\\jash\\appdata\\local\\programs\\python\\python37\\lib\\site-packages (from matplotlib->lime) (0.11.0)\n",
      "Requirement already satisfied: fonttools>=4.22.0 in c:\\users\\jash\\appdata\\local\\programs\\python\\python37\\lib\\site-packages (from matplotlib->lime) (4.38.0)\n",
      "Requirement already satisfied: kiwisolver>=1.0.1 in c:\\users\\jash\\appdata\\local\\programs\\python\\python37\\lib\\site-packages (from matplotlib->lime) (1.4.4)\n",
      "Requirement already satisfied: pyparsing>=2.2.1 in c:\\users\\jash\\appdata\\local\\programs\\python\\python37\\lib\\site-packages (from matplotlib->lime) (3.0.9)\n",
      "Requirement already satisfied: python-dateutil>=2.7 in c:\\users\\jash\\appdata\\local\\programs\\python\\python37\\lib\\site-packages (from matplotlib->lime) (2.8.2)\n",
      "Requirement already satisfied: colorama in c:\\users\\jash\\appdata\\local\\programs\\python\\python37\\lib\\site-packages (from tqdm->lime) (0.4.5)\n",
      "Requirement already satisfied: typing-extensions in c:\\users\\jash\\appdata\\local\\programs\\python\\python37\\lib\\site-packages (from kiwisolver>=1.0.1->matplotlib->lime) (4.7.1)\n",
      "Requirement already satisfied: six>=1.5 in c:\\users\\jash\\appdata\\local\\programs\\python\\python37\\lib\\site-packages (from python-dateutil>=2.7->matplotlib->lime) (1.16.0)\n",
      "Building wheels for collected packages: lime\n",
      "  Building wheel for lime (setup.py): started\n",
      "  Building wheel for lime (setup.py): finished with status 'done'\n",
      "  Created wheel for lime: filename=lime-0.2.0.1-py3-none-any.whl size=283846 sha256=5153c7e0b4297831af5ff108e9517418193d9f16dc30706e1cd4bfef427eb616\n",
      "  Stored in directory: c:\\users\\jash\\appdata\\local\\pip\\cache\\wheels\\ca\\cb\\e5\\ac701e12d365a08917bf4c6171c0961bc880a8181359c66aa7\n",
      "Successfully built lime\n",
      "Installing collected packages: tifffile, PyWavelets, networkx, imageio, scikit-image, lime\n",
      "Successfully installed PyWavelets-1.3.0 imageio-2.31.2 lime-0.2.0.1 networkx-2.6.3 scikit-image-0.19.3 tifffile-2021.11.2\n",
      "Note: you may need to restart the kernel to use updated packages.\n"
     ]
    },
    {
     "name": "stderr",
     "output_type": "stream",
     "text": [
      "\n",
      "[notice] A new release of pip is available: 23.1.2 -> 24.0\n",
      "[notice] To update, run: python.exe -m pip install --upgrade pip\n"
     ]
    }
   ],
   "source": [
    "pip install lime"
   ]
  },
  {
   "cell_type": "code",
   "execution_count": 45,
   "id": "e9a5164f",
   "metadata": {},
   "outputs": [
    {
     "data": {
      "image/png": "[encoded data removed]",
      "text/plain": [
       "<Figure size 1200x800 with 1 Axes>"
      ]
     },
     "metadata": {},
     "output_type": "display_data"
    }
   ],
   "source": [
    "from sklearn.calibration import CalibratedClassifierCV\n",
    "\n",
    "# Fit a calibrated classifier to the LinearSVC model\n",
    "calibrated_svc = CalibratedClassifierCV(svm_model, method='sigmoid')\n",
    "calibrated_svc.fit(X_train_tfidf, y_train)\n",
    "\n",
    "# Compute partial dependence for the first feature\n",
    "feature_values1, partial_dependence_values1 = compute_partial_dependence(calibrated_svc, X_train_tfidf, feature_idx1)\n",
    "\n",
    "# Compute partial dependence for the second feature\n",
    "feature_values2, partial_dependence_values2 = compute_partial_dependence(calibrated_svc, X_train_tfidf, feature_idx2)\n",
    "\n",
    "# Plot Partial Dependence Plots\n",
    "plt.figure(figsize=(12, 8))\n",
    "\n",
    "# Plot for the first feature\n",
    "plt.plot(feature_values1, partial_dependence_values1, label='Feature 1')\n",
    "\n",
    "# Plot for the second feature\n",
    "plt.plot(feature_values2, partial_dependence_values2, label='Feature 2')\n",
    "\n",
    "plt.title('Partial Dependence Plot for Features')\n",
    "plt.xlabel('Feature Values')\n",
    "plt.ylabel('Partial Dependence')\n",
    "plt.legend()\n",
    "plt.show()\n",
    "\n"
   ]
  },
  {
   "cell_type": "code",
   "execution_count": null,
   "id": "ea2527b0",
   "metadata": {},
   "outputs": [],
   "source": []
  }
 ],
 "metadata": {
  "kernelspec": {
   "display_name": "Python 3 (ipykernel)",
   "language": "python",
   "name": "python3"
  },
  "language_info": {
   "codemirror_mode": {
    "name": "ipython",
    "version": 3
   },
   "file_extension": ".py",
   "mimetype": "text/x-python",
   "name": "python",
   "nbconvert_exporter": "python",
   "pygments_lexer": "ipython3",
   "version": "3.7.7"
  }
 },
 "nbformat": 4,
 "nbformat_minor": 5
}
