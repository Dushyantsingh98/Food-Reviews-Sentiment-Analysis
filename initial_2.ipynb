{
  "nbformat": 4,
  "nbformat_minor": 0,
  "metadata": {
    "colab": {
      "provenance": [],
      "machine_shape": "hm",
      "gpuType": "V28"
    },
    "kernelspec": {
      "name": "python3",
      "display_name": "Python 3"
    },
    "language_info": {
      "name": "python"
    },
    "accelerator": "TPU"
  },
  "cells": [
    {
      "cell_type": "code",
      "execution_count": 1,
      "metadata": {
        "id": "wbRUt7cNwXN0"
      },
      "outputs": [],
      "source": [
        "#Imports\n",
        "import numpy as np\n",
        "import pandas as pd\n",
        "import matplotlib.pyplot as plt\n",
        "import sqlite3\n",
        "import seaborn as sns\n",
        "from time import time\n",
        "import gensim\n",
        "import random\n",
        "import warnings\n",
        "warnings.filterwarnings(\"ignore\")\n",
        "%matplotlib inline"
      ]
    },
    {
      "cell_type": "code",
      "source": [
        "import pandas as pd\n",
        "\n",
        "# Load data from CSV file into a DataFrame\n",
        "df = pd.read_csv(\"/content/drive/MyDrive/Reviews.csv\")\n",
        "\n",
        "# Display the first few rows of the DataFrame\n",
        "df.head()\n"
      ],
      "metadata": {
        "colab": {
          "base_uri": "https://localhost:8080/",
          "height": 206
        },
        "id": "XWZ9YVD3wg7_",
        "outputId": "e5e94e71-bef7-415f-e9f2-a76c11b99e65"
      },
      "execution_count": 4,
      "outputs": [
        {
          "output_type": "execute_result",
          "data": {
            "text/plain": [
              "   Id   ProductId          UserId                      ProfileName  \\\n",
              "0   1  B001E4KFG0  A3SGXH7AUHU8GW                       delmartian   \n",
              "1   2  B00813GRG4  A1D87F6ZCVE5NK                           dll pa   \n",
              "2   3  B000LQOCH0   ABXLMWJIXXAIN  Natalia Corres \"Natalia Corres\"   \n",
              "3   4  B000UA0QIQ  A395BORC6FGVXV                             Karl   \n",
              "4   5  B006K2ZZ7K  A1UQRSCLF8GW1T    Michael D. Bigham \"M. Wassir\"   \n",
              "\n",
              "   HelpfulnessNumerator  HelpfulnessDenominator  Score        Time  \\\n",
              "0                     1                       1      5  1303862400   \n",
              "1                     0                       0      1  1346976000   \n",
              "2                     1                       1      4  1219017600   \n",
              "3                     3                       3      2  1307923200   \n",
              "4                     0                       0      5  1350777600   \n",
              "\n",
              "                 Summary                                               Text  \n",
              "0  Good Quality Dog Food  I have bought several of the Vitality canned d...  \n",
              "1      Not as Advertised  Product arrived labeled as Jumbo Salted Peanut...  \n",
              "2  \"Delight\" says it all  This is a confection that has been around a fe...  \n",
              "3         Cough Medicine  If you are looking for the secret ingredient i...  \n",
              "4            Great taffy  Great taffy at a great price.  There was a wid...  "
            ],
            "text/html": [
              "\n",
              "  <div id=\"df-e6d614e7-1f69-4b38-a2b1-576babcd7255\" class=\"colab-df-container\">\n",
              "    <div>\n",
              "<style scoped>\n",
              "    .dataframe tbody tr th:only-of-type {\n",
              "        vertical-align: middle;\n",
              "    }\n",
              "\n",
              "    .dataframe tbody tr th {\n",
              "        vertical-align: top;\n",
              "    }\n",
              "\n",
              "    .dataframe thead th {\n",
              "        text-align: right;\n",
              "    }\n",
              "</style>\n",
              "<table border=\"1\" class=\"dataframe\">\n",
              "  <thead>\n",
              "    <tr style=\"text-align: right;\">\n",
              "      <th></th>\n",
              "      <th>Id</th>\n",
              "      <th>ProductId</th>\n",
              "      <th>UserId</th>\n",
              "      <th>ProfileName</th>\n",
              "      <th>HelpfulnessNumerator</th>\n",
              "      <th>HelpfulnessDenominator</th>\n",
              "      <th>Score</th>\n",
              "      <th>Time</th>\n",
              "      <th>Summary</th>\n",
              "      <th>Text</th>\n",
              "    </tr>\n",
              "  </thead>\n",
              "  <tbody>\n",
              "    <tr>\n",
              "      <th>0</th>\n",
              "      <td>1</td>\n",
              "      <td>B001E4KFG0</td>\n",
              "      <td>A3SGXH7AUHU8GW</td>\n",
              "      <td>delmartian</td>\n",
              "      <td>1</td>\n",
              "      <td>1</td>\n",
              "      <td>5</td>\n",
              "      <td>1303862400</td>\n",
              "      <td>Good Quality Dog Food</td>\n",
              "      <td>I have bought several of the Vitality canned d...</td>\n",
              "    </tr>\n",
              "    <tr>\n",
              "      <th>1</th>\n",
              "      <td>2</td>\n",
              "      <td>B00813GRG4</td>\n",
              "      <td>A1D87F6ZCVE5NK</td>\n",
              "      <td>dll pa</td>\n",
              "      <td>0</td>\n",
              "      <td>0</td>\n",
              "      <td>1</td>\n",
              "      <td>1346976000</td>\n",
              "      <td>Not as Advertised</td>\n",
              "      <td>Product arrived labeled as Jumbo Salted Peanut...</td>\n",
              "    </tr>\n",
              "    <tr>\n",
              "      <th>2</th>\n",
              "      <td>3</td>\n",
              "      <td>B000LQOCH0</td>\n",
              "      <td>ABXLMWJIXXAIN</td>\n",
              "      <td>Natalia Corres \"Natalia Corres\"</td>\n",
              "      <td>1</td>\n",
              "      <td>1</td>\n",
              "      <td>4</td>\n",
              "      <td>1219017600</td>\n",
              "      <td>\"Delight\" says it all</td>\n",
              "      <td>This is a confection that has been around a fe...</td>\n",
              "    </tr>\n",
              "    <tr>\n",
              "      <th>3</th>\n",
              "      <td>4</td>\n",
              "      <td>B000UA0QIQ</td>\n",
              "      <td>A395BORC6FGVXV</td>\n",
              "      <td>Karl</td>\n",
              "      <td>3</td>\n",
              "      <td>3</td>\n",
              "      <td>2</td>\n",
              "      <td>1307923200</td>\n",
              "      <td>Cough Medicine</td>\n",
              "      <td>If you are looking for the secret ingredient i...</td>\n",
              "    </tr>\n",
              "    <tr>\n",
              "      <th>4</th>\n",
              "      <td>5</td>\n",
              "      <td>B006K2ZZ7K</td>\n",
              "      <td>A1UQRSCLF8GW1T</td>\n",
              "      <td>Michael D. Bigham \"M. Wassir\"</td>\n",
              "      <td>0</td>\n",
              "      <td>0</td>\n",
              "      <td>5</td>\n",
              "      <td>1350777600</td>\n",
              "      <td>Great taffy</td>\n",
              "      <td>Great taffy at a great price.  There was a wid...</td>\n",
              "    </tr>\n",
              "  </tbody>\n",
              "</table>\n",
              "</div>\n",
              "    <div class=\"colab-df-buttons\">\n",
              "\n",
              "  <div class=\"colab-df-container\">\n",
              "    <button class=\"colab-df-convert\" onclick=\"convertToInteractive('df-e6d614e7-1f69-4b38-a2b1-576babcd7255')\"\n",
              "            title=\"Convert this dataframe to an interactive table.\"\n",
              "            style=\"display:none;\">\n",
              "\n",
              "  <svg xmlns=\"http://www.w3.org/2000/svg\" height=\"24px\" viewBox=\"0 -960 960 960\">\n",
              "    <path d=\"M120-120v-720h720v720H120Zm60-500h600v-160H180v160Zm220 220h160v-160H400v160Zm0 220h160v-160H400v160ZM180-400h160v-160H180v160Zm440 0h160v-160H620v160ZM180-180h160v-160H180v160Zm440 0h160v-160H620v160Z\"/>\n",
              "  </svg>\n",
              "    </button>\n",
              "\n",
              "  <style>\n",
              "    .colab-df-container {\n",
              "      display:flex;\n",
              "      gap: 12px;\n",
              "    }\n",
              "\n",
              "    .colab-df-convert {\n",
              "      background-color: #E8F0FE;\n",
              "      border: none;\n",
              "      border-radius: 50%;\n",
              "      cursor: pointer;\n",
              "      display: none;\n",
              "      fill: #1967D2;\n",
              "      height: 32px;\n",
              "      padding: 0 0 0 0;\n",
              "      width: 32px;\n",
              "    }\n",
              "\n",
              "    .colab-df-convert:hover {\n",
              "      background-color: #E2EBFA;\n",
              "      box-shadow: 0px 1px 2px rgba(60, 64, 67, 0.3), 0px 1px 3px 1px rgba(60, 64, 67, 0.15);\n",
              "      fill: #174EA6;\n",
              "    }\n",
              "\n",
              "    .colab-df-buttons div {\n",
              "      margin-bottom: 4px;\n",
              "    }\n",
              "\n",
              "    [theme=dark] .colab-df-convert {\n",
              "      background-color: #3B4455;\n",
              "      fill: #D2E3FC;\n",
              "    }\n",
              "\n",
              "    [theme=dark] .colab-df-convert:hover {\n",
              "      background-color: #434B5C;\n",
              "      box-shadow: 0px 1px 3px 1px rgba(0, 0, 0, 0.15);\n",
              "      filter: drop-shadow(0px 1px 2px rgba(0, 0, 0, 0.3));\n",
              "      fill: #FFFFFF;\n",
              "    }\n",
              "  </style>\n",
              "\n",
              "    <script>\n",
              "      const buttonEl =\n",
              "        document.querySelector('#df-e6d614e7-1f69-4b38-a2b1-576babcd7255 button.colab-df-convert');\n",
              "      buttonEl.style.display =\n",
              "        google.colab.kernel.accessAllowed ? 'block' : 'none';\n",
              "\n",
              "      async function convertToInteractive(key) {\n",
              "        const element = document.querySelector('#df-e6d614e7-1f69-4b38-a2b1-576babcd7255');\n",
              "        const dataTable =\n",
              "          await google.colab.kernel.invokeFunction('convertToInteractive',\n",
              "                                                    [key], {});\n",
              "        if (!dataTable) return;\n",
              "\n",
              "        const docLinkHtml = 'Like what you see? Visit the ' +\n",
              "          '<a target=\"_blank\" href=https://colab.research.google.com/notebooks/data_table.ipynb>data table notebook</a>'\n",
              "          + ' to learn more about interactive tables.';\n",
              "        element.innerHTML = '';\n",
              "        dataTable['output_type'] = 'display_data';\n",
              "        await google.colab.output.renderOutput(dataTable, element);\n",
              "        const docLink = document.createElement('div');\n",
              "        docLink.innerHTML = docLinkHtml;\n",
              "        element.appendChild(docLink);\n",
              "      }\n",
              "    </script>\n",
              "  </div>\n",
              "\n",
              "\n",
              "<div id=\"df-d15fc2e8-fdae-46a7-8edf-1f833d19b078\">\n",
              "  <button class=\"colab-df-quickchart\" onclick=\"quickchart('df-d15fc2e8-fdae-46a7-8edf-1f833d19b078')\"\n",
              "            title=\"Suggest charts\"\n",
              "            style=\"display:none;\">\n",
              "\n",
              "<svg xmlns=\"http://www.w3.org/2000/svg\" height=\"24px\"viewBox=\"0 0 24 24\"\n",
              "     width=\"24px\">\n",
              "    <g>\n",
              "        <path d=\"M19 3H5c-1.1 0-2 .9-2 2v14c0 1.1.9 2 2 2h14c1.1 0 2-.9 2-2V5c0-1.1-.9-2-2-2zM9 17H7v-7h2v7zm4 0h-2V7h2v10zm4 0h-2v-4h2v4z\"/>\n",
              "    </g>\n",
              "</svg>\n",
              "  </button>\n",
              "\n",
              "<style>\n",
              "  .colab-df-quickchart {\n",
              "      --bg-color: #E8F0FE;\n",
              "      --fill-color: #1967D2;\n",
              "      --hover-bg-color: #E2EBFA;\n",
              "      --hover-fill-color: #174EA6;\n",
              "      --disabled-fill-color: #AAA;\n",
              "      --disabled-bg-color: #DDD;\n",
              "  }\n",
              "\n",
              "  [theme=dark] .colab-df-quickchart {\n",
              "      --bg-color: #3B4455;\n",
              "      --fill-color: #D2E3FC;\n",
              "      --hover-bg-color: #434B5C;\n",
              "      --hover-fill-color: #FFFFFF;\n",
              "      --disabled-bg-color: #3B4455;\n",
              "      --disabled-fill-color: #666;\n",
              "  }\n",
              "\n",
              "  .colab-df-quickchart {\n",
              "    background-color: var(--bg-color);\n",
              "    border: none;\n",
              "    border-radius: 50%;\n",
              "    cursor: pointer;\n",
              "    display: none;\n",
              "    fill: var(--fill-color);\n",
              "    height: 32px;\n",
              "    padding: 0;\n",
              "    width: 32px;\n",
              "  }\n",
              "\n",
              "  .colab-df-quickchart:hover {\n",
              "    background-color: var(--hover-bg-color);\n",
              "    box-shadow: 0 1px 2px rgba(60, 64, 67, 0.3), 0 1px 3px 1px rgba(60, 64, 67, 0.15);\n",
              "    fill: var(--button-hover-fill-color);\n",
              "  }\n",
              "\n",
              "  .colab-df-quickchart-complete:disabled,\n",
              "  .colab-df-quickchart-complete:disabled:hover {\n",
              "    background-color: var(--disabled-bg-color);\n",
              "    fill: var(--disabled-fill-color);\n",
              "    box-shadow: none;\n",
              "  }\n",
              "\n",
              "  .colab-df-spinner {\n",
              "    border: 2px solid var(--fill-color);\n",
              "    border-color: transparent;\n",
              "    border-bottom-color: var(--fill-color);\n",
              "    animation:\n",
              "      spin 1s steps(1) infinite;\n",
              "  }\n",
              "\n",
              "  @keyframes spin {\n",
              "    0% {\n",
              "      border-color: transparent;\n",
              "      border-bottom-color: var(--fill-color);\n",
              "      border-left-color: var(--fill-color);\n",
              "    }\n",
              "    20% {\n",
              "      border-color: transparent;\n",
              "      border-left-color: var(--fill-color);\n",
              "      border-top-color: var(--fill-color);\n",
              "    }\n",
              "    30% {\n",
              "      border-color: transparent;\n",
              "      border-left-color: var(--fill-color);\n",
              "      border-top-color: var(--fill-color);\n",
              "      border-right-color: var(--fill-color);\n",
              "    }\n",
              "    40% {\n",
              "      border-color: transparent;\n",
              "      border-right-color: var(--fill-color);\n",
              "      border-top-color: var(--fill-color);\n",
              "    }\n",
              "    60% {\n",
              "      border-color: transparent;\n",
              "      border-right-color: var(--fill-color);\n",
              "    }\n",
              "    80% {\n",
              "      border-color: transparent;\n",
              "      border-right-color: var(--fill-color);\n",
              "      border-bottom-color: var(--fill-color);\n",
              "    }\n",
              "    90% {\n",
              "      border-color: transparent;\n",
              "      border-bottom-color: var(--fill-color);\n",
              "    }\n",
              "  }\n",
              "</style>\n",
              "\n",
              "  <script>\n",
              "    async function quickchart(key) {\n",
              "      const quickchartButtonEl =\n",
              "        document.querySelector('#' + key + ' button');\n",
              "      quickchartButtonEl.disabled = true;  // To prevent multiple clicks.\n",
              "      quickchartButtonEl.classList.add('colab-df-spinner');\n",
              "      try {\n",
              "        const charts = await google.colab.kernel.invokeFunction(\n",
              "            'suggestCharts', [key], {});\n",
              "      } catch (error) {\n",
              "        console.error('Error during call to suggestCharts:', error);\n",
              "      }\n",
              "      quickchartButtonEl.classList.remove('colab-df-spinner');\n",
              "      quickchartButtonEl.classList.add('colab-df-quickchart-complete');\n",
              "    }\n",
              "    (() => {\n",
              "      let quickchartButtonEl =\n",
              "        document.querySelector('#df-d15fc2e8-fdae-46a7-8edf-1f833d19b078 button');\n",
              "      quickchartButtonEl.style.display =\n",
              "        google.colab.kernel.accessAllowed ? 'block' : 'none';\n",
              "    })();\n",
              "  </script>\n",
              "</div>\n",
              "\n",
              "    </div>\n",
              "  </div>\n"
            ],
            "application/vnd.google.colaboratory.intrinsic+json": {
              "type": "dataframe",
              "variable_name": "df"
            }
          },
          "metadata": {},
          "execution_count": 4
        }
      ]
    },
    {
      "cell_type": "code",
      "source": [
        "#Filter rows where HelpfulnessDenominator is 0 and calculate the resulting DataFrame shape.\n",
        "df[df.HelpfulnessDenominator == 0].shape\n",
        "\n",
        "'''So, filtering rows where HelpfulnessDenominator is 0 would essentially filter out reviews where no users\n",
        "have indicated whether they found the review helpful or not. This could be useful for various reasons,\n",
        "such as focusing on reviews that have received feedback from users.'''"
      ],
      "metadata": {
        "colab": {
          "base_uri": "https://localhost:8080/",
          "height": 55
        },
        "id": "vXL1xeMYw3C4",
        "outputId": "80fedcdc-f927-46a9-ec09-d3b94f48bf94"
      },
      "execution_count": 5,
      "outputs": [
        {
          "output_type": "execute_result",
          "data": {
            "text/plain": [
              "'So, filtering rows where HelpfulnessDenominator is 0 would essentially filter out reviews where no users\\nhave indicated whether they found the review helpful or not. This could be useful for various reasons, \\nsuch as focusing on reviews that have received feedback from users.'"
            ],
            "application/vnd.google.colaboratory.intrinsic+json": {
              "type": "string"
            }
          },
          "metadata": {},
          "execution_count": 5
        }
      ]
    },
    {
      "cell_type": "code",
      "source": [
        "#Get information about the number of data points in the dataset\n",
        "print(\"Number of datapoints: \",df.shape[0])\n",
        "print(\"Number of features: \",df.shape[1])"
      ],
      "metadata": {
        "colab": {
          "base_uri": "https://localhost:8080/"
        },
        "id": "FJgb3eAyxKyR",
        "outputId": "f3f01abd-d700-4951-9bde-325f1290dc45"
      },
      "execution_count": 6,
      "outputs": [
        {
          "output_type": "stream",
          "name": "stdout",
          "text": [
            "Number of datapoints:  568454\n",
            "Number of features:  10\n"
          ]
        }
      ]
    },
    {
      "cell_type": "code",
      "source": [
        "# Define the number of reviews to extract from each rating class\n",
        "num_reviews_per_class = 29770\n",
        "\n",
        "# Create empty list to store balanced data\n",
        "balanced_data1 = []\n",
        "\n",
        "# Iterate through each rating class\n",
        "for score in range(1, 6):\n",
        "    # Filter reviews for the current rating class and select a fixed number of reviews\n",
        "    reviews_for_score = df[df['Score'] == score].head(num_reviews_per_class)\n",
        "\n",
        "    # Append selected reviews to the balanced data list\n",
        "    balanced_data1.append(reviews_for_score)\n",
        "\n",
        "# Concatenate the balanced data DataFrames\n",
        "balanced_data1 = pd.concat(balanced_data1, ignore_index=True)\n",
        "\n",
        "# Shuffle the balanced dataset\n",
        "balanced_data1 = balanced_data1.sample(frac=1).reset_index(drop=True)\n",
        "\n",
        "# Display the balanced dataset\n",
        "print(\"Balanced Dataset:\")\n",
        "print(balanced_data1.head())\n",
        "print(\"\\nNumber of data points in our data:\", len(balanced_data1))\n",
        "\n",
        "# Print sample dataset from each class (1 to 5)\n",
        "for score in range(1, 6):\n",
        "    print(f\"\\nSample dataset for rating class {score}:\")\n",
        "    sample_data = balanced_data1[balanced_data1['Score'] == score].sample(5)\n",
        "    print(sample_data)\n"
      ],
      "metadata": {
        "colab": {
          "base_uri": "https://localhost:8080/"
        },
        "id": "x6tPhAyMxMU_",
        "outputId": "06228c87-5d6d-45c1-9e90-6d6a8992cc7f"
      },
      "execution_count": 7,
      "outputs": [
        {
          "output_type": "stream",
          "name": "stdout",
          "text": [
            "Balanced Dataset:\n",
            "       Id   ProductId          UserId           ProfileName  \\\n",
            "0   38550  B003GSK4CW  A11IXJ8M1JO296  mkayreagan \"marykay\"   \n",
            "1   82059  B008MSW15E  A29F4QM0SC4OFD               PeuAPeu   \n",
            "2   50432  B000UH3QWW  A1X9QD2VBS5AW2                 CAGal   \n",
            "3  160909  B00106SS66  A3JXTD1ZMAGEQ7          marcy fuller   \n",
            "4  134829  B000SKS8JM   A31UJUB82AWL1         Dean Guattare   \n",
            "\n",
            "   HelpfulnessNumerator  HelpfulnessDenominator  Score        Time  \\\n",
            "0                     3                       3      5  1326672000   \n",
            "1                     0                       0      4  1344470400   \n",
            "2                     2                       3      1  1336089600   \n",
            "3                     6                       8      1  1310428800   \n",
            "4                    96                     134      1  1240963200   \n",
            "\n",
            "                             Summary  \\\n",
            "0                      Great product   \n",
            "1  A nice twist on plain tomato soup   \n",
            "2                       Disappointed   \n",
            "3                Misrepresented item   \n",
            "4                    Save your money   \n",
            "\n",
            "                                                Text  \n",
            "0  These pumps make it so easy to dispense Torani...  \n",
            "1  When I saw this soup on the shelf at the store...  \n",
            "2  Extremely disappointed in the lack of quality ...  \n",
            "3  I ordered this Rougie GOOSE Foie Gras about a ...  \n",
            "4  The seeds I got were clearly non viable and I ...  \n",
            "\n",
            "Number of data points in our data: 148849\n",
            "\n",
            "Sample dataset for rating class 1:\n",
            "            Id   ProductId          UserId       ProfileName  \\\n",
            "100091  216145  B001BORBM4  A353M5QAGAUJG6              Jake   \n",
            "85524   168877  B001EQ5LOO  A1DKJV7HOMPBS1              john   \n",
            "21398   160368  B0006V6LEM  A2RZSUZT3R6QSF  Sara Silverstein   \n",
            "52408   139544  B004BNNO0U   A45DJ94IWENVM     Robin D Moser   \n",
            "90459   270894  B0015Z20RU  A1G4XYTG2SL565          toadkiss   \n",
            "\n",
            "        HelpfulnessNumerator  HelpfulnessDenominator  Score        Time  \\\n",
            "100091                     2                       4      1  1343865600   \n",
            "85524                      3                       8      1  1285545600   \n",
            "21398                      1                       2      1  1278288000   \n",
            "52408                      2                       2      1  1318032000   \n",
            "90459                      1                       6      1  1324857600   \n",
            "\n",
            "                                           Summary  \\\n",
            "100091  A sub-par version of store bought Wellness   \n",
            "85524                               pour packaging   \n",
            "21398                                    Tastless!   \n",
            "52408              Will not buy this product again   \n",
            "90459                              now come on now   \n",
            "\n",
            "                                                     Text  \n",
            "100091  We've been buying this exact formula of Wellne...  \n",
            "85524   I don't know why you are asking for a review. ...  \n",
            "21398   I am sorry to say that this product was dry an...  \n",
            "52408   this coffee is by far sub-standard for the Keu...  \n",
            "90459   This is good cocoa...But cocoa \"powder\"....It'...  \n",
            "\n",
            "Sample dataset for rating class 2:\n",
            "            Id   ProductId          UserId  \\\n",
            "146248   98309  B004GW6O9E  A1HDDAWONDR3TL   \n",
            "129725  481241  B0047CKHO6  A2VFP3UR8UICEH   \n",
            "98525   522072  B0000T4Q60  A2PI81FUQ5NMRD   \n",
            "60463   517163  B005VUILWI  A1XJ3M3JTMD3HZ   \n",
            "26127   536177  B0002QF27I  A10Z0ANBXZX1T0   \n",
            "\n",
            "                                             ProfileName  \\\n",
            "146248                                           nsparks   \n",
            "129725  Alana Abbott \"Author of Into the Reach and De...   \n",
            "98525                                           Rosalind   \n",
            "60463                                             Honest   \n",
            "26127                                Carolyn Moon \"Moon\"   \n",
            "\n",
            "        HelpfulnessNumerator  HelpfulnessDenominator  Score        Time  \\\n",
            "146248                     1                       1      2  1333584000   \n",
            "129725                     7                      27      2  1297382400   \n",
            "98525                      0                       0      2  1334966400   \n",
            "60463                      0                       1      2  1343865600   \n",
            "26127                      1                       6      2  1222819200   \n",
            "\n",
            "                                                  Summary  \\\n",
            "146248                               Not the best Larabar   \n",
            "129725        Jar size (4 oz) should be listed on product   \n",
            "98525   Baby Deluxe Assortment(32804) Edible Hard Suga...   \n",
            "60463                                              Meh...   \n",
            "26127                           Billy Crystal Let me Down   \n",
            "\n",
            "                                                     Text  \n",
            "146248  I really like Larabars in general and was stok...  \n",
            "129725  There's nothing wrong with Earth's Best baby f...  \n",
            "98525   They are great looking and good decoration for...  \n",
            "60463   This is my first time to consciously use Stevi...  \n",
            "26127   I ordered this product because \"When Harry Met...  \n",
            "\n",
            "Sample dataset for rating class 3:\n",
            "            Id   ProductId          UserId    ProfileName  \\\n",
            "22317    10477  B0016J7SYU  A37CNHADX2O50M  Susan Vastine   \n",
            "25942   393147  B003VXL0V6  A1Q0KDV0TFU1OS   Wendy Carter   \n",
            "44179   310716  B002QZ7ZBY   A8JB6RLAKR0T0           Mary   \n",
            "57173   118287  B007RTR89S   AQNX0WN00JEVE    C. Thilmany   \n",
            "122705   81834  B005CUU25G   AEC90GPFKLAAW    Lisa Kearns   \n",
            "\n",
            "        HelpfulnessNumerator  HelpfulnessDenominator  Score        Time  \\\n",
            "22317                      0                       0      3  1330473600   \n",
            "25942                      5                       8      3  1319500800   \n",
            "44179                      0                       0      3  1340668800   \n",
            "57173                      1                       1      3  1342656000   \n",
            "122705                     1                       1      3  1317081600   \n",
            "\n",
            "                                               Summary  \\\n",
            "22317                       Yes, it's good, but. . . .   \n",
            "25942                        Just Okay - Hidden Decaf.   \n",
            "44179                 Delicious chips but wrong order!   \n",
            "57173                                    Was surprised   \n",
            "122705  I think they're out of ideas for dog treats...   \n",
            "\n",
            "                                                     Text  \n",
            "22317   I usually order this item from Amazon since ou...  \n",
            "25942   Taste is okay.  Not blown away.  Hidden is the...  \n",
            "44179   I love pita chips, and I love Stacy's. Unfortu...  \n",
            "57173   I received this item free for review.  I've go...  \n",
            "122705  I received my Lickety Stik bacon flavored dog ...  \n",
            "\n",
            "Sample dataset for rating class 4:\n",
            "            Id   ProductId          UserId            ProfileName  \\\n",
            "32644   188704  B000HJPBGC  A36DDCUC16KVKT                    x65   \n",
            "130730  101143  B0014B0HWK    AS2MDN0ELTFN               P. Flail   \n",
            "138598    7436  B002GWMCIS  A3RUBYRUEATFTJ  D. Alvarado \"Monca27\"   \n",
            "73022   203114  B002OFZMPW   A8ABE6F2W944A                Laraine   \n",
            "38930   105257  B0018AHWCA  A3T8J8FZ6R8B3W                 Hannah   \n",
            "\n",
            "        HelpfulnessNumerator  HelpfulnessDenominator  Score        Time  \\\n",
            "32644                      0                       0      4  1350172800   \n",
            "130730                     2                       2      4  1333670400   \n",
            "138598                     0                       0      4  1313798400   \n",
            "73022                      0                       0      4  1317859200   \n",
            "38930                      4                       4      4  1300060800   \n",
            "\n",
            "                                      Summary  \\\n",
            "32644     Jamaican (Superior) Blue Mt. Coffee   \n",
            "130730                       Good night sleep   \n",
            "138598             Chocolate Raspberry flavor   \n",
            "73022                         Very Convenient   \n",
            "38930   Good product - better price elsewhere   \n",
            "\n",
            "                                                     Text  \n",
            "32644   Most of the flavor of coffee is sealed-in by r...  \n",
            "130730  I purchased these tea bags in hope for a good ...  \n",
            "138598  I was surprised how much raspberry flavor the ...  \n",
            "73022   Love Jack Links, so I was thrilled to see thes...  \n",
            "38930   This is a cute product to use in place of spri...  \n",
            "\n",
            "Sample dataset for rating class 5:\n",
            "           Id   ProductId          UserId                 ProfileName  \\\n",
            "21868   18092  B008ZRKZSM  A370JSEX2A1CS0            rebecca schearer   \n",
            "135124  30476  B0026PENE6  A2PDOQSMOS6ES5         Kristopher J. Stutz   \n",
            "88012    8042  B003GYZBK6  A14BTJRH9VNLJJ             Kurt A. Johnson   \n",
            "47742   46414  B002GJ9JWS  A2SBM7GTQFJ42E  Jburd &quot;BASSHEAD&quot;   \n",
            "73064    4729  B00139TT72  A3CDDW2K4FIYIX                       Bob C   \n",
            "\n",
            "        HelpfulnessNumerator  HelpfulnessDenominator  Score        Time  \\\n",
            "21868                      0                       0      5  1332720000   \n",
            "135124                     1                       2      5  1301702400   \n",
            "88012                      1                       1      5  1347840000   \n",
            "47742                      0                       0      5  1345248000   \n",
            "73064                      0                       0      5  1308873600   \n",
            "\n",
            "                                                  Summary  \\\n",
            "21868                    INcredible addition for cooking!   \n",
            "135124              Sweet Obsession Dark Chocolate-YUMM!!   \n",
            "88012                                          Go for it!   \n",
            "47742                                              Tasty!   \n",
            "73064   One of the best for our 11 year old Jack Russe...   \n",
            "\n",
            "                                                     Text  \n",
            "21868   I was excited to mix this right away.  Reviews...  \n",
            "135124  This product is Dark Chocolate Not milk chocol...  \n",
            "88012   The Butterfinger has been around since it was ...  \n",
            "47742   Wow! i was pretty surprised at how well this a...  \n",
            "73064   One of the best for our 11 year old Jack Russe...  \n"
          ]
        }
      ]
    },
    {
      "cell_type": "code",
      "source": [
        "# Function to partition scores into positive (0) and negative (1)\n",
        "def partition(x):\n",
        "    return 0 if x > 3 else 1\n",
        "\n",
        "# Create a copy of the DataFrame\n",
        "balanced_data2 = balanced_data1.copy()\n",
        "\n",
        "# Apply the partitioning function to the 'Score' column in the copy\n",
        "balanced_data2['Score'] = balanced_data2['Score'].map(partition)\n",
        "\n",
        "# Print the first few rows of the new DataFrame after applying the partitioning function\n",
        "print(\"Data After Partitioning:\")\n",
        "print(balanced_data2.head())\n",
        "\n",
        "\n",
        "#1 is negative review\n",
        "#0 is positive review"
      ],
      "metadata": {
        "colab": {
          "base_uri": "https://localhost:8080/"
        },
        "id": "VL05_sF5xO6I",
        "outputId": "1863c991-fcce-4466-f759-6aceefddec48"
      },
      "execution_count": 8,
      "outputs": [
        {
          "output_type": "stream",
          "name": "stdout",
          "text": [
            "Data After Partitioning:\n",
            "       Id   ProductId          UserId           ProfileName  \\\n",
            "0   38550  B003GSK4CW  A11IXJ8M1JO296  mkayreagan \"marykay\"   \n",
            "1   82059  B008MSW15E  A29F4QM0SC4OFD               PeuAPeu   \n",
            "2   50432  B000UH3QWW  A1X9QD2VBS5AW2                 CAGal   \n",
            "3  160909  B00106SS66  A3JXTD1ZMAGEQ7          marcy fuller   \n",
            "4  134829  B000SKS8JM   A31UJUB82AWL1         Dean Guattare   \n",
            "\n",
            "   HelpfulnessNumerator  HelpfulnessDenominator  Score        Time  \\\n",
            "0                     3                       3      0  1326672000   \n",
            "1                     0                       0      0  1344470400   \n",
            "2                     2                       3      1  1336089600   \n",
            "3                     6                       8      1  1310428800   \n",
            "4                    96                     134      1  1240963200   \n",
            "\n",
            "                             Summary  \\\n",
            "0                      Great product   \n",
            "1  A nice twist on plain tomato soup   \n",
            "2                       Disappointed   \n",
            "3                Misrepresented item   \n",
            "4                    Save your money   \n",
            "\n",
            "                                                Text  \n",
            "0  These pumps make it so easy to dispense Torani...  \n",
            "1  When I saw this soup on the shelf at the store...  \n",
            "2  Extremely disappointed in the lack of quality ...  \n",
            "3  I ordered this Rougie GOOSE Foie Gras about a ...  \n",
            "4  The seeds I got were clearly non viable and I ...  \n"
          ]
        }
      ]
    },
    {
      "cell_type": "code",
      "source": [
        "balanced_data2['Score'].value_counts()"
      ],
      "metadata": {
        "colab": {
          "base_uri": "https://localhost:8080/"
        },
        "id": "_bhVQvmRxT3I",
        "outputId": "00ab07a1-2404-4d6d-9aa8-323e33fdb0a4"
      },
      "execution_count": 9,
      "outputs": [
        {
          "output_type": "execute_result",
          "data": {
            "text/plain": [
              "Score\n",
              "1    89309\n",
              "0    59540\n",
              "Name: count, dtype: int64"
            ]
          },
          "metadata": {},
          "execution_count": 9
        }
      ]
    },
    {
      "cell_type": "code",
      "source": [
        "\n",
        "# Print the total number of rows\n",
        "num_rows = balanced_data2.shape[0]\n",
        "print(\"\\n\\n\\nTotal number of rows in the DataFrame:\", num_rows)\n"
      ],
      "metadata": {
        "colab": {
          "base_uri": "https://localhost:8080/"
        },
        "id": "ZGPsOv_axWfg",
        "outputId": "a15b8224-e972-4636-bd81-7d2a0959c3e3"
      },
      "execution_count": 10,
      "outputs": [
        {
          "output_type": "stream",
          "name": "stdout",
          "text": [
            "\n",
            "\n",
            "\n",
            "Total number of rows in the DataFrame: 148849\n"
          ]
        }
      ]
    },
    {
      "cell_type": "code",
      "source": [
        "# Print one full review for positive class (0)\n",
        "positive_review = balanced_data2[balanced_data2['Score'] == 0].iloc[0]  # Selecting the first positive review\n",
        "print(\"Positive Review:\")\n",
        "print(positive_review['Text'])\n",
        "\n",
        "# Print one full review for negative class (1)\n",
        "negative_review = balanced_data2[balanced_data2['Score'] == 1].iloc[0]  # Selecting the first negative review\n",
        "print(\"\\nNegative Review:\")\n",
        "print(negative_review['Text'])\n",
        "\n"
      ],
      "metadata": {
        "colab": {
          "base_uri": "https://localhost:8080/"
        },
        "id": "ogWcAt8oxYdk",
        "outputId": "d73fa875-5a05-4710-bcc1-d83a4a07c0e5"
      },
      "execution_count": 11,
      "outputs": [
        {
          "output_type": "stream",
          "name": "stdout",
          "text": [
            "Positive Review:\n",
            "These pumps make it so easy to dispense Torani syrups. No mess and consistent amount. Be sure to draw syrup into the tube on first use before inserting into the bottle - otherwise you'll spill it over the top of the bottle. NBD. Possible negative is how tall they make the bottles 15\" tall. I keep mine on the wet bar counter where I've set up my \"coffee bar,\" so height isn't a problem for me.\n",
            "\n",
            "Negative Review:\n",
            "Extremely disappointed in the lack of quality for this product.  I ordered two boxes, to be used at a wedding for a candy buffet, and BOTH boxes arrived with every single candy stick broken in multiple places.  Out of 160 sticks (total), not ONE was unbroken.  It is beyond me how a company can ship fragile merchandise so carelessly. Very very disappointed.\n"
          ]
        }
      ]
    },
    {
      "cell_type": "code",
      "source": [
        "# Filter out rows where 'Score' is not equal to 3  'UserId' is \"AR5J8UI46CURR\"\n",
        "balanced_data3 = balanced_data2[(balanced_data2['Score'] != 3) | (balanced_data2['UserId'] == \"AR5J8UI46CURR\")]\n",
        "\n",
        "# Sort the filtered DataFrame by 'ProductId'\n",
        "balanced_data3 = balanced_data3.sort_values(by='ProductId')\n",
        "\n",
        "# Print the filtered and sorted DataFrame\n",
        "print(\"Filtered and Sorted DataFrame:\")\n",
        "print(balanced_data3.head())\n",
        "\n",
        "\n",
        "# Print the total number of rows\n",
        "num_rows3 = balanced_data3.shape[0]\n",
        "print(\"\\n\\n\\nTotal number of rows in the DataFrame:\", num_rows3)"
      ],
      "metadata": {
        "colab": {
          "base_uri": "https://localhost:8080/"
        },
        "id": "AdWbeGw-xaFV",
        "outputId": "0e41f74c-8ac7-475a-ee17-1dd339131e74"
      },
      "execution_count": 12,
      "outputs": [
        {
          "output_type": "stream",
          "name": "stdout",
          "text": [
            "Filtered and Sorted DataFrame:\n",
            "            Id   ProductId          UserId  \\\n",
            "130485  150522  0006641040  A1S3C5OFU508P3   \n",
            "108463  150523  0006641040  A2P4F2UO0UMP8C   \n",
            "48533   150529  0006641040   A25ACLV5KPB4W   \n",
            "125280  150497  0006641040  A1HKYQOFC8ZZCH   \n",
            "110272  150493  0006641040   AMX0PJKV4PPNJ   \n",
            "\n",
            "                                  ProfileName  HelpfulnessNumerator  \\\n",
            "130485                      Charles Ashbacher                     0   \n",
            "108463  Elizabeth A. Curry \"Lovely Librarian\"                     0   \n",
            "48533                     Matt Hetling \"Matt\"                     0   \n",
            "125280             Maria Apolloni \"lanarossa\"                     2   \n",
            "110272               E. R. Bird \"Ramseelbird\"                    71   \n",
            "\n",
            "        HelpfulnessDenominator  Score        Time  \\\n",
            "130485                       0      0  1219536000   \n",
            "108463                       0      0  1096675200   \n",
            "48533                        1      0  1108425600   \n",
            "125280                       2      1  1334707200   \n",
            "110272                      72      0  1096416000   \n",
            "\n",
            "                                                  Summary  \\\n",
            "130485  Children will find it entertaining and a gener...   \n",
            "108463                              MMMM chicken soup....   \n",
            "48533                         Nice cadence, catchy rhymes   \n",
            "125280  The story is great, the softcover book is disa...   \n",
            "110272  Read it once. Read it twice. Reading Chicken S...   \n",
            "\n",
            "                                                     Text  \n",
            "130485  This book contains a collection of twelve shor...  \n",
            "108463  Summary:  A young boy describes the usefulness...  \n",
            "48533   In June<br />I saw a charming group<br />of ro...  \n",
            "125280  I give five stars to the Maurice Sendak story....  \n",
            "110272  These days, when a person says, \"chicken soup\"...  \n",
            "\n",
            "\n",
            "\n",
            "Total number of rows in the DataFrame: 148849\n"
          ]
        }
      ]
    },
    {
      "cell_type": "code",
      "source": [
        "balanced_data3['Score'].value_counts()"
      ],
      "metadata": {
        "colab": {
          "base_uri": "https://localhost:8080/"
        },
        "id": "Rk2aqktqxcYy",
        "outputId": "beff5d1d-e724-471b-ebc9-15d45e2bd159"
      },
      "execution_count": 13,
      "outputs": [
        {
          "output_type": "execute_result",
          "data": {
            "text/plain": [
              "Score\n",
              "1    89309\n",
              "0    59540\n",
              "Name: count, dtype: int64"
            ]
          },
          "metadata": {},
          "execution_count": 13
        }
      ]
    },
    {
      "cell_type": "code",
      "source": [
        "# Sorting data according to ProductId in ascending order\n",
        "balanced_data4 = balanced_data3.sort_values(by='ProductId', ascending=True)\n",
        "print(\"Sorted DataFrame:\")\n",
        "balanced_data4.head(5)\n"
      ],
      "metadata": {
        "colab": {
          "base_uri": "https://localhost:8080/",
          "height": 295
        },
        "id": "-mFZLxxAxeor",
        "outputId": "5d92ea99-f590-4fb8-ae4c-570291e3a627"
      },
      "execution_count": 14,
      "outputs": [
        {
          "output_type": "stream",
          "name": "stdout",
          "text": [
            "Sorted DataFrame:\n"
          ]
        },
        {
          "output_type": "execute_result",
          "data": {
            "text/plain": [
              "            Id   ProductId          UserId                ProfileName  \\\n",
              "130485  150522  0006641040  A1S3C5OFU508P3          Charles Ashbacher   \n",
              "100208  150506  0006641040  A2IW4PEEKO2R0U                      Tracy   \n",
              "62893   150504  0006641040   AQEYF1AXARWJZ  Les Sinclair \"book maven\"   \n",
              "20319   150526  0006641040  A3E9QZFE9KXH8J                R. Mitchell   \n",
              "62958   150507  0006641040  A1S4A3IQ2MU7V4      sally sue \"sally sue\"   \n",
              "\n",
              "        HelpfulnessNumerator  HelpfulnessDenominator  Score        Time  \\\n",
              "130485                     0                       0      0  1219536000   \n",
              "100208                     1                       1      0  1194739200   \n",
              "62893                      1                       1      0  1212278400   \n",
              "20319                     11                      18      1  1129507200   \n",
              "62958                      1                       1      0  1191456000   \n",
              "\n",
              "                                                  Summary  \\\n",
              "130485  Children will find it entertaining and a gener...   \n",
              "100208         Love the book, miss the hard cover version   \n",
              "62893                              Chicken Soup with Rice   \n",
              "20319                              awesome book poor size   \n",
              "62958                       chicken soup with rice months   \n",
              "\n",
              "                                                     Text  \n",
              "130485  This book contains a collection of twelve shor...  \n",
              "100208  I grew up reading these Sendak books, and watc...  \n",
              "62893   A very entertaining rhyming story--cleaver and...  \n",
              "20319   This is one of the best children's books ever ...  \n",
              "62958   This is a fun way for children to learn their ...  "
            ],
            "text/html": [
              "\n",
              "  <div id=\"df-22623866-146b-4444-9b35-01be1fa4b3a0\" class=\"colab-df-container\">\n",
              "    <div>\n",
              "<style scoped>\n",
              "    .dataframe tbody tr th:only-of-type {\n",
              "        vertical-align: middle;\n",
              "    }\n",
              "\n",
              "    .dataframe tbody tr th {\n",
              "        vertical-align: top;\n",
              "    }\n",
              "\n",
              "    .dataframe thead th {\n",
              "        text-align: right;\n",
              "    }\n",
              "</style>\n",
              "<table border=\"1\" class=\"dataframe\">\n",
              "  <thead>\n",
              "    <tr style=\"text-align: right;\">\n",
              "      <th></th>\n",
              "      <th>Id</th>\n",
              "      <th>ProductId</th>\n",
              "      <th>UserId</th>\n",
              "      <th>ProfileName</th>\n",
              "      <th>HelpfulnessNumerator</th>\n",
              "      <th>HelpfulnessDenominator</th>\n",
              "      <th>Score</th>\n",
              "      <th>Time</th>\n",
              "      <th>Summary</th>\n",
              "      <th>Text</th>\n",
              "    </tr>\n",
              "  </thead>\n",
              "  <tbody>\n",
              "    <tr>\n",
              "      <th>130485</th>\n",
              "      <td>150522</td>\n",
              "      <td>0006641040</td>\n",
              "      <td>A1S3C5OFU508P3</td>\n",
              "      <td>Charles Ashbacher</td>\n",
              "      <td>0</td>\n",
              "      <td>0</td>\n",
              "      <td>0</td>\n",
              "      <td>1219536000</td>\n",
              "      <td>Children will find it entertaining and a gener...</td>\n",
              "      <td>This book contains a collection of twelve shor...</td>\n",
              "    </tr>\n",
              "    <tr>\n",
              "      <th>100208</th>\n",
              "      <td>150506</td>\n",
              "      <td>0006641040</td>\n",
              "      <td>A2IW4PEEKO2R0U</td>\n",
              "      <td>Tracy</td>\n",
              "      <td>1</td>\n",
              "      <td>1</td>\n",
              "      <td>0</td>\n",
              "      <td>1194739200</td>\n",
              "      <td>Love the book, miss the hard cover version</td>\n",
              "      <td>I grew up reading these Sendak books, and watc...</td>\n",
              "    </tr>\n",
              "    <tr>\n",
              "      <th>62893</th>\n",
              "      <td>150504</td>\n",
              "      <td>0006641040</td>\n",
              "      <td>AQEYF1AXARWJZ</td>\n",
              "      <td>Les Sinclair \"book maven\"</td>\n",
              "      <td>1</td>\n",
              "      <td>1</td>\n",
              "      <td>0</td>\n",
              "      <td>1212278400</td>\n",
              "      <td>Chicken Soup with Rice</td>\n",
              "      <td>A very entertaining rhyming story--cleaver and...</td>\n",
              "    </tr>\n",
              "    <tr>\n",
              "      <th>20319</th>\n",
              "      <td>150526</td>\n",
              "      <td>0006641040</td>\n",
              "      <td>A3E9QZFE9KXH8J</td>\n",
              "      <td>R. Mitchell</td>\n",
              "      <td>11</td>\n",
              "      <td>18</td>\n",
              "      <td>1</td>\n",
              "      <td>1129507200</td>\n",
              "      <td>awesome book poor size</td>\n",
              "      <td>This is one of the best children's books ever ...</td>\n",
              "    </tr>\n",
              "    <tr>\n",
              "      <th>62958</th>\n",
              "      <td>150507</td>\n",
              "      <td>0006641040</td>\n",
              "      <td>A1S4A3IQ2MU7V4</td>\n",
              "      <td>sally sue \"sally sue\"</td>\n",
              "      <td>1</td>\n",
              "      <td>1</td>\n",
              "      <td>0</td>\n",
              "      <td>1191456000</td>\n",
              "      <td>chicken soup with rice months</td>\n",
              "      <td>This is a fun way for children to learn their ...</td>\n",
              "    </tr>\n",
              "  </tbody>\n",
              "</table>\n",
              "</div>\n",
              "    <div class=\"colab-df-buttons\">\n",
              "\n",
              "  <div class=\"colab-df-container\">\n",
              "    <button class=\"colab-df-convert\" onclick=\"convertToInteractive('df-22623866-146b-4444-9b35-01be1fa4b3a0')\"\n",
              "            title=\"Convert this dataframe to an interactive table.\"\n",
              "            style=\"display:none;\">\n",
              "\n",
              "  <svg xmlns=\"http://www.w3.org/2000/svg\" height=\"24px\" viewBox=\"0 -960 960 960\">\n",
              "    <path d=\"M120-120v-720h720v720H120Zm60-500h600v-160H180v160Zm220 220h160v-160H400v160Zm0 220h160v-160H400v160ZM180-400h160v-160H180v160Zm440 0h160v-160H620v160ZM180-180h160v-160H180v160Zm440 0h160v-160H620v160Z\"/>\n",
              "  </svg>\n",
              "    </button>\n",
              "\n",
              "  <style>\n",
              "    .colab-df-container {\n",
              "      display:flex;\n",
              "      gap: 12px;\n",
              "    }\n",
              "\n",
              "    .colab-df-convert {\n",
              "      background-color: #E8F0FE;\n",
              "      border: none;\n",
              "      border-radius: 50%;\n",
              "      cursor: pointer;\n",
              "      display: none;\n",
              "      fill: #1967D2;\n",
              "      height: 32px;\n",
              "      padding: 0 0 0 0;\n",
              "      width: 32px;\n",
              "    }\n",
              "\n",
              "    .colab-df-convert:hover {\n",
              "      background-color: #E2EBFA;\n",
              "      box-shadow: 0px 1px 2px rgba(60, 64, 67, 0.3), 0px 1px 3px 1px rgba(60, 64, 67, 0.15);\n",
              "      fill: #174EA6;\n",
              "    }\n",
              "\n",
              "    .colab-df-buttons div {\n",
              "      margin-bottom: 4px;\n",
              "    }\n",
              "\n",
              "    [theme=dark] .colab-df-convert {\n",
              "      background-color: #3B4455;\n",
              "      fill: #D2E3FC;\n",
              "    }\n",
              "\n",
              "    [theme=dark] .colab-df-convert:hover {\n",
              "      background-color: #434B5C;\n",
              "      box-shadow: 0px 1px 3px 1px rgba(0, 0, 0, 0.15);\n",
              "      filter: drop-shadow(0px 1px 2px rgba(0, 0, 0, 0.3));\n",
              "      fill: #FFFFFF;\n",
              "    }\n",
              "  </style>\n",
              "\n",
              "    <script>\n",
              "      const buttonEl =\n",
              "        document.querySelector('#df-22623866-146b-4444-9b35-01be1fa4b3a0 button.colab-df-convert');\n",
              "      buttonEl.style.display =\n",
              "        google.colab.kernel.accessAllowed ? 'block' : 'none';\n",
              "\n",
              "      async function convertToInteractive(key) {\n",
              "        const element = document.querySelector('#df-22623866-146b-4444-9b35-01be1fa4b3a0');\n",
              "        const dataTable =\n",
              "          await google.colab.kernel.invokeFunction('convertToInteractive',\n",
              "                                                    [key], {});\n",
              "        if (!dataTable) return;\n",
              "\n",
              "        const docLinkHtml = 'Like what you see? Visit the ' +\n",
              "          '<a target=\"_blank\" href=https://colab.research.google.com/notebooks/data_table.ipynb>data table notebook</a>'\n",
              "          + ' to learn more about interactive tables.';\n",
              "        element.innerHTML = '';\n",
              "        dataTable['output_type'] = 'display_data';\n",
              "        await google.colab.output.renderOutput(dataTable, element);\n",
              "        const docLink = document.createElement('div');\n",
              "        docLink.innerHTML = docLinkHtml;\n",
              "        element.appendChild(docLink);\n",
              "      }\n",
              "    </script>\n",
              "  </div>\n",
              "\n",
              "\n",
              "<div id=\"df-06f88edc-cfee-46eb-a1f8-6275ce69c669\">\n",
              "  <button class=\"colab-df-quickchart\" onclick=\"quickchart('df-06f88edc-cfee-46eb-a1f8-6275ce69c669')\"\n",
              "            title=\"Suggest charts\"\n",
              "            style=\"display:none;\">\n",
              "\n",
              "<svg xmlns=\"http://www.w3.org/2000/svg\" height=\"24px\"viewBox=\"0 0 24 24\"\n",
              "     width=\"24px\">\n",
              "    <g>\n",
              "        <path d=\"M19 3H5c-1.1 0-2 .9-2 2v14c0 1.1.9 2 2 2h14c1.1 0 2-.9 2-2V5c0-1.1-.9-2-2-2zM9 17H7v-7h2v7zm4 0h-2V7h2v10zm4 0h-2v-4h2v4z\"/>\n",
              "    </g>\n",
              "</svg>\n",
              "  </button>\n",
              "\n",
              "<style>\n",
              "  .colab-df-quickchart {\n",
              "      --bg-color: #E8F0FE;\n",
              "      --fill-color: #1967D2;\n",
              "      --hover-bg-color: #E2EBFA;\n",
              "      --hover-fill-color: #174EA6;\n",
              "      --disabled-fill-color: #AAA;\n",
              "      --disabled-bg-color: #DDD;\n",
              "  }\n",
              "\n",
              "  [theme=dark] .colab-df-quickchart {\n",
              "      --bg-color: #3B4455;\n",
              "      --fill-color: #D2E3FC;\n",
              "      --hover-bg-color: #434B5C;\n",
              "      --hover-fill-color: #FFFFFF;\n",
              "      --disabled-bg-color: #3B4455;\n",
              "      --disabled-fill-color: #666;\n",
              "  }\n",
              "\n",
              "  .colab-df-quickchart {\n",
              "    background-color: var(--bg-color);\n",
              "    border: none;\n",
              "    border-radius: 50%;\n",
              "    cursor: pointer;\n",
              "    display: none;\n",
              "    fill: var(--fill-color);\n",
              "    height: 32px;\n",
              "    padding: 0;\n",
              "    width: 32px;\n",
              "  }\n",
              "\n",
              "  .colab-df-quickchart:hover {\n",
              "    background-color: var(--hover-bg-color);\n",
              "    box-shadow: 0 1px 2px rgba(60, 64, 67, 0.3), 0 1px 3px 1px rgba(60, 64, 67, 0.15);\n",
              "    fill: var(--button-hover-fill-color);\n",
              "  }\n",
              "\n",
              "  .colab-df-quickchart-complete:disabled,\n",
              "  .colab-df-quickchart-complete:disabled:hover {\n",
              "    background-color: var(--disabled-bg-color);\n",
              "    fill: var(--disabled-fill-color);\n",
              "    box-shadow: none;\n",
              "  }\n",
              "\n",
              "  .colab-df-spinner {\n",
              "    border: 2px solid var(--fill-color);\n",
              "    border-color: transparent;\n",
              "    border-bottom-color: var(--fill-color);\n",
              "    animation:\n",
              "      spin 1s steps(1) infinite;\n",
              "  }\n",
              "\n",
              "  @keyframes spin {\n",
              "    0% {\n",
              "      border-color: transparent;\n",
              "      border-bottom-color: var(--fill-color);\n",
              "      border-left-color: var(--fill-color);\n",
              "    }\n",
              "    20% {\n",
              "      border-color: transparent;\n",
              "      border-left-color: var(--fill-color);\n",
              "      border-top-color: var(--fill-color);\n",
              "    }\n",
              "    30% {\n",
              "      border-color: transparent;\n",
              "      border-left-color: var(--fill-color);\n",
              "      border-top-color: var(--fill-color);\n",
              "      border-right-color: var(--fill-color);\n",
              "    }\n",
              "    40% {\n",
              "      border-color: transparent;\n",
              "      border-right-color: var(--fill-color);\n",
              "      border-top-color: var(--fill-color);\n",
              "    }\n",
              "    60% {\n",
              "      border-color: transparent;\n",
              "      border-right-color: var(--fill-color);\n",
              "    }\n",
              "    80% {\n",
              "      border-color: transparent;\n",
              "      border-right-color: var(--fill-color);\n",
              "      border-bottom-color: var(--fill-color);\n",
              "    }\n",
              "    90% {\n",
              "      border-color: transparent;\n",
              "      border-bottom-color: var(--fill-color);\n",
              "    }\n",
              "  }\n",
              "</style>\n",
              "\n",
              "  <script>\n",
              "    async function quickchart(key) {\n",
              "      const quickchartButtonEl =\n",
              "        document.querySelector('#' + key + ' button');\n",
              "      quickchartButtonEl.disabled = true;  // To prevent multiple clicks.\n",
              "      quickchartButtonEl.classList.add('colab-df-spinner');\n",
              "      try {\n",
              "        const charts = await google.colab.kernel.invokeFunction(\n",
              "            'suggestCharts', [key], {});\n",
              "      } catch (error) {\n",
              "        console.error('Error during call to suggestCharts:', error);\n",
              "      }\n",
              "      quickchartButtonEl.classList.remove('colab-df-spinner');\n",
              "      quickchartButtonEl.classList.add('colab-df-quickchart-complete');\n",
              "    }\n",
              "    (() => {\n",
              "      let quickchartButtonEl =\n",
              "        document.querySelector('#df-06f88edc-cfee-46eb-a1f8-6275ce69c669 button');\n",
              "      quickchartButtonEl.style.display =\n",
              "        google.colab.kernel.accessAllowed ? 'block' : 'none';\n",
              "    })();\n",
              "  </script>\n",
              "</div>\n",
              "\n",
              "    </div>\n",
              "  </div>\n"
            ],
            "application/vnd.google.colaboratory.intrinsic+json": {
              "type": "dataframe",
              "variable_name": "balanced_data4"
            }
          },
          "metadata": {},
          "execution_count": 14
        }
      ]
    },
    {
      "cell_type": "code",
      "source": [
        "# Deduplication of entries based on certain columns\n",
        "balanced_data5 = balanced_data4.drop_duplicates(subset=[\"UserId\", \"ProfileName\", \"Time\", \"Text\"], keep='first')\n",
        "\n",
        "# Display the shape of the deduplicated DataFrame\n",
        "print(\"Shape of Deduplicated DataFrame:\", balanced_data5.shape)"
      ],
      "metadata": {
        "colab": {
          "base_uri": "https://localhost:8080/"
        },
        "id": "ac-seXrPxf3p",
        "outputId": "bd3a5365-42ac-4dbe-a4f6-7562d4e48253"
      },
      "execution_count": 15,
      "outputs": [
        {
          "output_type": "stream",
          "name": "stdout",
          "text": [
            "Shape of Deduplicated DataFrame: (117061, 10)\n"
          ]
        }
      ]
    },
    {
      "cell_type": "code",
      "source": [
        "''' it was noted that in the two rows presented below, the HelpfulnessNumerator surpasses the HelpfulnessDenominator, a\n",
        "scenario that is impractical. Consequently, these two rows have been omitted from the computations. This discrepancy is\n",
        "logically implausible as the numerator cannot exceed the denominator.'''\n",
        "# Filter out rows where HelpfulnessNumerator is greater than HelpfulnessDenominator\n",
        "balanced_data6 = balanced_data5[balanced_data5['HelpfulnessNumerator'] <= balanced_data5['HelpfulnessDenominator']]\n",
        "\n",
        "# Display the shape of the DataFrame after filtering\n",
        "print(\"Shape after HelpfulnessNumerator check:\", balanced_data6.shape)"
      ],
      "metadata": {
        "colab": {
          "base_uri": "https://localhost:8080/"
        },
        "id": "yqhcTJgGxh9J",
        "outputId": "0e14c15c-86cd-48c9-a53d-28d226488ac7"
      },
      "execution_count": 16,
      "outputs": [
        {
          "output_type": "stream",
          "name": "stdout",
          "text": [
            "Shape after HelpfulnessNumerator check: (117060, 10)\n"
          ]
        }
      ]
    },
    {
      "cell_type": "code",
      "source": [
        "# Display the value counts of 'Score' column\n",
        "print(\"Value Counts of Score Column:\")\n",
        "print(balanced_data6['Score'].value_counts())"
      ],
      "metadata": {
        "colab": {
          "base_uri": "https://localhost:8080/"
        },
        "id": "5WF0Q7c0xjlf",
        "outputId": "5b8cdb7c-69a7-4a81-b5a9-98d714625077"
      },
      "execution_count": 17,
      "outputs": [
        {
          "output_type": "stream",
          "name": "stdout",
          "text": [
            "Value Counts of Score Column:\n",
            "Score\n",
            "1    65427\n",
            "0    51633\n",
            "Name: count, dtype: int64\n"
          ]
        }
      ]
    },
    {
      "cell_type": "code",
      "source": [
        "from sklearn.model_selection import train_test_split\n",
        "\n",
        "# Split the balanced_data6 into features (X) and target variable (y)\n",
        "X = balanced_data6['Text']  # Features\n",
        "y = balanced_data6['Score']  # Target variable\n",
        "\n",
        "# Step 1: Split the data into training and testing sets (80% training, 20% testing)\n",
        "X_train, X_test, y_train, y_test = train_test_split(X, y, test_size=0.2, random_state=42)\n",
        "\n",
        "# Display the shapes of the resulting datasets\n",
        "print(\"Shape of X_train:\", X_train.shape)\n",
        "print(\"Shape of X_test:\", X_test.shape)\n",
        "print(\"Shape of y_train:\", y_train.shape)\n",
        "print(\"Shape of y_test:\", y_test.shape)\n"
      ],
      "metadata": {
        "colab": {
          "base_uri": "https://localhost:8080/"
        },
        "id": "9gronJNBxlOM",
        "outputId": "89fbcbfe-4d52-4c80-dd51-cf40ad351b2b"
      },
      "execution_count": 18,
      "outputs": [
        {
          "output_type": "stream",
          "name": "stdout",
          "text": [
            "Shape of X_train: (93648,)\n",
            "Shape of X_test: (23412,)\n",
            "Shape of y_train: (93648,)\n",
            "Shape of y_test: (23412,)\n"
          ]
        }
      ]
    },
    {
      "cell_type": "code",
      "source": [
        "import nltk\n",
        "from nltk.tokenize import word_tokenize\n",
        "import regex as re\n",
        "\n",
        "\n",
        "# Preprocess text function\n",
        "def preprocess_text(text):\n",
        "    \"\"\"Preprocess text by removing HTML tags, punctuation, special characters, and non-alphanumeric characters.\"\"\"\n",
        "    # Remove HTML tags\n",
        "    clean_text = re.sub(r'<.*?>', '', text)\n",
        "    # Remove punctuation, special characters, and non-alphanumeric characters\n",
        "    clean_text = re.sub(r'[^\\w\\s]', '', clean_text)\n",
        "    return clean_text\n",
        "\n",
        "# Tokenization function\n",
        "def tokenize_text(text):\n",
        "    \"\"\"Tokenize text using NLTK word_tokenize.\"\"\"\n",
        "    tokens = word_tokenize(text)\n",
        "    return tokens\n"
      ],
      "metadata": {
        "id": "VVn00Mb8xm-t"
      },
      "execution_count": 19,
      "outputs": []
    },
    {
      "cell_type": "code",
      "source": [
        "pip install nltk"
      ],
      "metadata": {
        "colab": {
          "base_uri": "https://localhost:8080/"
        },
        "id": "k3jk-dr2xob5",
        "outputId": "37de4f11-5060-4121-fa4c-0bc76b16dc44"
      },
      "execution_count": 20,
      "outputs": [
        {
          "output_type": "stream",
          "name": "stdout",
          "text": [
            "Requirement already satisfied: nltk in /usr/local/lib/python3.10/dist-packages (3.8.1)\n",
            "Requirement already satisfied: click in /usr/local/lib/python3.10/dist-packages (from nltk) (8.1.7)\n",
            "Requirement already satisfied: joblib in /usr/local/lib/python3.10/dist-packages (from nltk) (1.3.2)\n",
            "Requirement already satisfied: regex>=2021.8.3 in /usr/local/lib/python3.10/dist-packages (from nltk) (2023.12.25)\n",
            "Requirement already satisfied: tqdm in /usr/local/lib/python3.10/dist-packages (from nltk) (4.66.2)\n"
          ]
        }
      ]
    },
    {
      "cell_type": "code",
      "source": [
        "\n",
        "\n",
        "import nltk\n",
        "nltk.download('stopwords')"
      ],
      "metadata": {
        "colab": {
          "base_uri": "https://localhost:8080/"
        },
        "id": "DxY76zf3x3-D",
        "outputId": "b41306e8-df08-43a5-c505-99d119144a2b"
      },
      "execution_count": 22,
      "outputs": [
        {
          "output_type": "stream",
          "name": "stderr",
          "text": [
            "[nltk_data] Downloading package stopwords to /root/nltk_data...\n",
            "[nltk_data]   Unzipping corpora/stopwords.zip.\n"
          ]
        },
        {
          "output_type": "execute_result",
          "data": {
            "text/plain": [
              "True"
            ]
          },
          "metadata": {},
          "execution_count": 22
        }
      ]
    },
    {
      "cell_type": "code",
      "source": [
        "# nltk.download('stopwords')\n",
        "from nltk.corpus import stopwords\n",
        "\n",
        "# Load English stopwords from NLTK\n",
        "stop_words = set(stopwords.words('english'))\n",
        "# Words to exclude from stopwords\n",
        "excluding = {'against', 'not', 'don', \"don't\", 'ain', 'aren', \"aren't\", 'couldn', \"couldn't\", 'didn', \"didn't\",\n",
        "             'doesn', \"doesn't\", 'hadn', \"hadn't\", 'hasn', \"hasn't\", 'haven', \"haven't\", 'isn', \"isn't\",\n",
        "             'mightn', \"mightn't\", 'mustn', \"mustn't\", 'needn', \"needn't\", 'shouldn', \"shouldn't\", 'wasn',\n",
        "             \"wasn't\", 'weren', \"weren't\", 'won', \"won't\", 'wouldn', \"wouldn't\"}\n",
        "\n",
        "# Exclude specified words from stopwords\n",
        "stop_words = stop_words - excluding\n",
        "\n",
        "\n",
        "# Function to remove stop words from text\n",
        "def remove_stopwords(text):\n",
        "    \"\"\"Remove stopwords from text.\"\"\"\n",
        "    tokens = text.split()  # Tokenize text into words\n",
        "    filtered_tokens = [word for word in tokens if word.lower() not in stop_words]  # Filter out stopwords\n",
        "    filtered_text = ' '.join(filtered_tokens)  # Join filtered tokens back into text\n",
        "    return filtered_text"
      ],
      "metadata": {
        "id": "bkEssHnlxqE5"
      },
      "execution_count": 23,
      "outputs": []
    },
    {
      "cell_type": "code",
      "source": [
        "from nltk.corpus import wordnet\n",
        "from nltk.stem import WordNetLemmatizer\n",
        "\n",
        "# Initialize WordNetLemmatizer\n",
        "lemmatizer = WordNetLemmatizer()\n",
        "\n",
        "# Function to perform lemmatization on text\n",
        "def lemmatize_text(text):\n",
        "    \"\"\"Lemmatize text using NLTK WordNetLemmatizer.\"\"\"\n",
        "    tokens = nltk.word_tokenize(text)  # Tokenize text into words\n",
        "    lemmatized_tokens = [lemmatizer.lemmatize(word, pos='v') for word in tokens]  # Lemmatize tokens (assumes verbs)\n",
        "    lemmatized_text = ' '.join(lemmatized_tokens)  # Join lemmatized tokens back into text\n",
        "    return lemmatized_text"
      ],
      "metadata": {
        "id": "_Y9MZgc8yPNU"
      },
      "execution_count": 29,
      "outputs": []
    },
    {
      "cell_type": "code",
      "source": [
        "#Removing contractions from data\n",
        "import re\n",
        "\n",
        "# Dictionary of English contractions\n",
        "contractions_dict = {\n",
        "    \"ain't\": \"am not\",\n",
        "    \"aren't\": \"are not\",\n",
        "    \"can't\": \"cannot\",\n",
        "    \"can't've\": \"cannot have\",\n",
        "    \"'cause\": \"because\",\n",
        "    \"could've\": \"could have\",\n",
        "    \"couldn't\": \"could not\",\n",
        "    \"couldn't've\": \"could not have\",\n",
        "    \"didn't\": \"did not\",\n",
        "    \"doesn't\": \"does not\",\n",
        "    \"don't\": \"do not\",\n",
        "    \"hadn't\": \"had not\",\n",
        "    \"hadn't've\": \"had not have\",\n",
        "    \"hasn't\": \"has not\",\n",
        "    \"haven't\": \"have not\",\n",
        "    \"he'd\": \"he would\",\n",
        "    \"he'd've\": \"he would have\",\n",
        "    \"he'll\": \"he will\",\n",
        "    \"he'll've\": \"he will have\",\n",
        "    \"he's\": \"he is\",\n",
        "    \"how'd\": \"how did\",\n",
        "    \"how'd'y\": \"how do you\",\n",
        "    \"how'll\": \"how will\",\n",
        "    \"how's\": \"how is\",\n",
        "    \"I'd\": \"I would\",\n",
        "    \"I'd've\": \"I would have\",\n",
        "    \"I'll\": \"I will\",\n",
        "    \"I'll've\": \"I will have\",\n",
        "    \"I'm\": \"I am\",\n",
        "    \"I've\": \"I have\",\n",
        "    \"isn't\": \"is not\",\n",
        "    \"it'd\": \"it had\",\n",
        "    \"it'd've\": \"it would have\",\n",
        "    \"it'll\": \"it will\",\n",
        "    \"it'll've\": \"it will have\",\n",
        "    \"it's\": \"it is\",\n",
        "    \"let's\": \"let us\",\n",
        "    \"ma'am\": \"madam\",\n",
        "    \"mayn't\": \"may not\",\n",
        "    \"might've\": \"might have\",\n",
        "    \"mightn't\": \"might not\",\n",
        "    \"mightn't've\": \"might not have\",\n",
        "    \"must've\": \"must have\",\n",
        "    \"mustn't\": \"must not\",\n",
        "    \"mustn't've\": \"must not have\",\n",
        "    \"needn't\": \"need not\",\n",
        "    \"needn't've\": \"need not have\",\n",
        "    \"o'clock\": \"of the clock\",\n",
        "    \"oughtn't\": \"ought not\",\n",
        "    \"oughtn't've\": \"ought not have\",\n",
        "    \"shan't\": \"shall not\",\n",
        "    \"sha'n't\": \"shall not\",\n",
        "    \"shan't've\": \"shall not have\",\n",
        "    \"she'd\": \"she would\",\n",
        "    \"she'd've\": \"she would have\",\n",
        "    \"she'll\": \"she will\",\n",
        "    \"she'll've\": \"she will have\",\n",
        "    \"she's\": \"she is\",\n",
        "    \"should've\": \"should have\",\n",
        "    \"shouldn't\": \"should not\",\n",
        "    \"shouldn't've\": \"should not have\",\n",
        "    \"so've\": \"so have\",\n",
        "    \"so's\": \"so is\",\n",
        "    \"that'd\": \"that would\",\n",
        "    \"that'd've\": \"that would have\",\n",
        "    \"that's\": \"that is\",\n",
        "    \"there'd\": \"there had\",\n",
        "    \"there'd've\": \"there would have\",\n",
        "    \"there's\": \"there is\",\n",
        "    \"they'd\": \"they would\",\n",
        "    \"they'd've\": \"they would have\",\n",
        "    \"they'll\": \"they will\",\n",
        "    \"they'll've\": \"they will have\",\n",
        "    \"they're\": \"they are\",\n",
        "    \"they've\": \"they have\",\n",
        "    \"to've\": \"to have\",\n",
        "    \"wasn't\": \"was not\",\n",
        "    \"we'd\": \"we had\",\n",
        "    \"we'd've\": \"we would have\",\n",
        "    \"we'll\": \"we will\",\n",
        "    \"we'll've\": \"we will have\",\n",
        "    \"we're\": \"we are\",\n",
        "    \"we've\": \"we have\",\n",
        "    \"weren't\": \"were not\",\n",
        "    \"what'll\": \"what will\",\n",
        "    \"what'll've\": \"what will have\",\n",
        "    \"what're\": \"what are\",\n",
        "    \"what's\": \"what is\",\n",
        "    \"what've\": \"what have\",\n",
        "    \"when's\": \"when is\",\n",
        "    \"when've\": \"when have\",\n",
        "    \"where'd\": \"where did\",\n",
        "    \"where's\": \"where is\",\n",
        "    \"where've\": \"where have\",\n",
        "    \"who'll\": \"who will\",\n",
        "    \"who'll've\": \"who will have\",\n",
        "    \"who's\": \"who is\",\n",
        "    \"who've\": \"who have\",\n",
        "    \"why's\": \"why is\",\n",
        "    \"why've\": \"why have\",\n",
        "    \"will've\": \"will have\",\n",
        "    \"won't\": \"will not\",\n",
        "    \"won't've\": \"will not have\",\n",
        "    \"would've\": \"would have\",\n",
        "    \"wouldn't\": \"would not\",\n",
        "    \"wouldn't've\": \"would not have\",\n",
        "    \"y'all\": \"you all\",\n",
        "    \"y'alls\": \"you alls\",\n",
        "    \"y'all'd\": \"you all would\",\n",
        "    \"y'all'd've\": \"you all would have\",\n",
        "    \"y'all're\": \"you all are\",\n",
        "    \"y'all've\": \"you all have\",\n",
        "    \"you'd\": \"you had\",\n",
        "    \"you'd've\": \"you would have\",\n",
        "    \"you'll\": \"you will\",\n",
        "    \"you'll've\": \"you will have\",\n",
        "    \"you're\": \"you are\",\n",
        "    \"you've\": \"you have\"\n",
        "}"
      ],
      "metadata": {
        "id": "WPJ_GYCrxs2K"
      },
      "execution_count": 24,
      "outputs": []
    },
    {
      "cell_type": "code",
      "source": [
        "def expand_contractions(text, contractions_dict):\n",
        "    # Regular expression for finding contractions\n",
        "    contractions_pattern = re.compile(r'\\b(' + '|'.join(contractions_dict.keys()) + r')\\b', flags=re.IGNORECASE)\n",
        "\n",
        "    # Preprocess the keys of contractions_dict to lowercase\n",
        "    processed_dict = {key.lower(): value for key, value in contractions_dict.items()}\n",
        "\n",
        "    def expand_match(contraction):\n",
        "        match = contraction.group(0)\n",
        "        expanded_contraction = processed_dict.get(match.lower(), match)\n",
        "        return expanded_contraction\n",
        "\n",
        "    expanded_text = contractions_pattern.sub(expand_match, text)\n",
        "    return expanded_text"
      ],
      "metadata": {
        "id": "5S3wvSFhx7c-"
      },
      "execution_count": 25,
      "outputs": []
    },
    {
      "cell_type": "code",
      "source": [
        "import nltk\n",
        "import subprocess\n",
        "\n",
        "# Download and unzip wordnet\n",
        "try:\n",
        "    nltk.data.find('wordnet.zip')\n",
        "except:\n",
        "    nltk.download('wordnet', download_dir='/kaggle/working/')\n",
        "    command = \"unzip /kaggle/working/corpora/wordnet.zip -d /kaggle/working/corpora\"\n",
        "    subprocess.run(command.split())\n",
        "    nltk.data.path.append('/kaggle/working/')\n",
        "\n",
        "#  import the NLTK resources as usual\n",
        "from nltk.corpus import wordnet"
      ],
      "metadata": {
        "colab": {
          "base_uri": "https://localhost:8080/"
        },
        "id": "W5rWwdmZx9hr",
        "outputId": "cf21e960-1247-4af9-ad76-b4f587ec36b7"
      },
      "execution_count": 26,
      "outputs": [
        {
          "output_type": "stream",
          "name": "stderr",
          "text": [
            "[nltk_data] Downloading package wordnet to /kaggle/working/...\n"
          ]
        }
      ]
    },
    {
      "cell_type": "code",
      "source": [
        "nltk.download ('punkt')"
      ],
      "metadata": {
        "colab": {
          "base_uri": "https://localhost:8080/"
        },
        "id": "jVR72JUmx_ID",
        "outputId": "d2f75037-5ac7-42ea-e6cb-baa87db9ed11"
      },
      "execution_count": 27,
      "outputs": [
        {
          "output_type": "stream",
          "name": "stderr",
          "text": [
            "[nltk_data] Downloading package punkt to /root/nltk_data...\n",
            "[nltk_data]   Unzipping tokenizers/punkt.zip.\n"
          ]
        },
        {
          "output_type": "execute_result",
          "data": {
            "text/plain": [
              "True"
            ]
          },
          "metadata": {},
          "execution_count": 27
        }
      ]
    },
    {
      "cell_type": "code",
      "source": [
        "# Apply preprocessing functions to X_train\n",
        "X_train_preprocessed = X_train.apply(preprocess_text)\n",
        "X_train_preprocessed = X_train_preprocessed.apply(remove_stopwords)\n",
        "X_train_preprocessed = X_train_preprocessed.apply(lemmatize_text)\n",
        "X_train_preprocessed = X_train_preprocessed.apply(expand_contractions, contractions_dict=contractions_dict)\n"
      ],
      "metadata": {
        "id": "Ag2v-k7XyBLZ"
      },
      "execution_count": 30,
      "outputs": []
    },
    {
      "cell_type": "code",
      "source": [
        "print(\"Shape of X_train:\", X_train_preprocessed.shape)"
      ],
      "metadata": {
        "colab": {
          "base_uri": "https://localhost:8080/"
        },
        "id": "GN_09gO9yDqQ",
        "outputId": "36fe06c1-cb16-4c08-c51c-a1cdc151cc03"
      },
      "execution_count": 31,
      "outputs": [
        {
          "output_type": "stream",
          "name": "stdout",
          "text": [
            "Shape of X_train: (93648,)\n"
          ]
        }
      ]
    },
    {
      "cell_type": "code",
      "source": [
        "#printing one train case\n",
        "print(X_train_preprocessed.iloc[0])\n"
      ],
      "metadata": {
        "colab": {
          "base_uri": "https://localhost:8080/"
        },
        "id": "KmFLUpEIyeCQ",
        "outputId": "adff61e0-61db-4a2c-e40d-607bdcab8e56"
      },
      "execution_count": 32,
      "outputs": [
        {
          "output_type": "stream",
          "name": "stdout",
          "text": [
            "last food product mean ingest humans dog buy Amazon not list complete ingredients product information dismay open package find first ingredient list SUCROSE second DEXTROSE MALTODEXTRIN one ingredients natural product two dye include packet go straight garbage belong buy Amazon stop sell DentaCleans Sugar Free Breath Mints Dogs BIG MISTAKE\n"
          ]
        }
      ]
    },
    {
      "cell_type": "code",
      "source": [
        "# Apply preprocessing functions to X_test\n",
        "X_test_preprocessed = X_test.apply(preprocess_text)\n",
        "X_test_preprocessed = X_test_preprocessed.apply(remove_stopwords)\n",
        "X_test_preprocessed = X_test_preprocessed.apply(lemmatize_text)\n",
        "X_test_preprocessed = X_test_preprocessed.apply(expand_contractions,  contractions_dict=contractions_dict)"
      ],
      "metadata": {
        "id": "yAfqeclnyfx4"
      },
      "execution_count": 33,
      "outputs": []
    },
    {
      "cell_type": "code",
      "source": [
        "from sklearn.feature_extraction.text import TfidfVectorizer\n",
        "\n",
        "# Initialize TfidfVectorizer\n",
        "tfidf_vectorizer = TfidfVectorizer()\n",
        "\n",
        "# Fit the vectorizer on X_train and transform X_train\n",
        "X_train_tfidf = tfidf_vectorizer.fit_transform(X_train_preprocessed)\n",
        "\n",
        "# Transform X_test using the fitted vectorizer\n",
        "X_test_tfidf = tfidf_vectorizer.transform(X_test_preprocessed)\n"
      ],
      "metadata": {
        "id": "LB_XpLYFZIko"
      },
      "execution_count": 107,
      "outputs": []
    },
    {
      "cell_type": "code",
      "source": [
        "#printing one test case\n",
        "print(X_test_preprocessed.iloc[0])\n"
      ],
      "metadata": {
        "colab": {
          "base_uri": "https://localhost:8080/"
        },
        "id": "yrwFA4xYyhhc",
        "outputId": "e357ce78-9ef5-4536-8315-d116e1c4570d"
      },
      "execution_count": 34,
      "outputs": [
        {
          "output_type": "stream",
          "name": "stdout",
          "text": [
            "Ive drink Honest brand products mix success lemonade leave much desire drink prove little better since love hate relationship pomegranate flavor things could little bias well Sometimes theyre fantastic time theyre fairly lacklusterPomegranate Blue flavor juice make Pomegranates Blueberries taste strongly Pomegranates rather blueberries fact didnt really taste blueberries pomegranate kind mute drink taste like water version fruit juice wasnt sweet actually ok bottle advertise tad sweet live expectation Someone look sugary koolaid type product probably not go fond taste productThe ingredients healthy good Honest brand know little disappoint juice concentrate least healthier concentrate good portion ingredients organic well always plus sweetener organic cane sugar nasty artificial sweeteners Although bite surprise didnt go stevia drink watch diet theres 100 calories 169 fl oz bottle juices surprise see grape juice higher content pomegranate blueberry juices kind disappoint since name drink Pomegranate BlueNot bad drink not one Id seek either Ill keep give Honest brand try hope run flavor like good ingredients not great taste timeReview Reynard 2012\n"
          ]
        }
      ]
    },
    {
      "cell_type": "code",
      "source": [
        "print(\"Number of attributes in X_train:\", X_train_tfidf[:10, :].shape[1])\n",
        "# Print the first 10 rows and columns of the TF-IDF matrix\n",
        "#print(X_train_tfidf.toarray()[:30, :30])"
      ],
      "metadata": {
        "colab": {
          "base_uri": "https://localhost:8080/"
        },
        "id": "kkkWLXo8ymlz",
        "outputId": "3efff2b4-e8ef-42d0-98d4-91b2f4acc43f"
      },
      "execution_count": 72,
      "outputs": [
        {
          "output_type": "stream",
          "name": "stdout",
          "text": [
            "Number of attributes in X_train: 126236\n"
          ]
        }
      ]
    },
    {
      "cell_type": "code",
      "source": [
        "print(\"Number of attributes in X_test:\", X_test_tfidf[:10, :].shape[1])\n"
      ],
      "metadata": {
        "colab": {
          "base_uri": "https://localhost:8080/"
        },
        "id": "-s9mHXSryoQO",
        "outputId": "09f39495-46d6-4a22-8421-9681fac593d8"
      },
      "execution_count": 37,
      "outputs": [
        {
          "output_type": "stream",
          "name": "stdout",
          "text": [
            "Number of attributes in X_test: 126236\n"
          ]
        }
      ]
    },
    {
      "cell_type": "code",
      "source": [
        "from sklearn.svm import SVC\n",
        "\n",
        "# Initialize SVM model with probability estimates enabled\n",
        "svm_model2 = SVC(kernel='linear', probability=True)\n"
      ],
      "metadata": {
        "id": "QVycLp0eyku8"
      },
      "execution_count": 38,
      "outputs": []
    },
    {
      "cell_type": "code",
      "source": [
        "import time\n",
        "\n",
        "start_time = time.time()  # Record the start time\n",
        "\n",
        "svm_model2.fit(X_train_tfidf, y_train)\n",
        "\n",
        "end_time = time.time()  # Record the end time\n",
        "elapsed_time = end_time - start_time  # Calculate the elapsed time\n",
        "\n",
        "print(\"Training time:\", elapsed_time, \"seconds\")\n"
      ],
      "metadata": {
        "colab": {
          "base_uri": "https://localhost:8080/"
        },
        "id": "fn7kG5RMyp5g",
        "outputId": "6e0a79e0-1d40-4c14-b243-6028401d3ed1"
      },
      "execution_count": 39,
      "outputs": [
        {
          "output_type": "stream",
          "name": "stdout",
          "text": [
            "Training time: 15311.64187335968 seconds\n"
          ]
        }
      ]
    },
    {
      "cell_type": "code",
      "source": [
        "print(svm_model2.coef_)  # Print the coefficients of the model\n",
        "print(svm_model2.intercept_)  # Print the intercept of the model"
      ],
      "metadata": {
        "colab": {
          "base_uri": "https://localhost:8080/"
        },
        "id": "da4nsfXEzRIZ",
        "outputId": "950e4cfa-192a-45bf-fd3d-fad93733e280"
      },
      "execution_count": 40,
      "outputs": [
        {
          "output_type": "stream",
          "name": "stdout",
          "text": [
            "  (0, 99920)\t0.12390302021494988\n",
            "  (0, 95145)\t0.13166750039129016\n",
            "  (0, 87382)\t0.12712557065053828\n",
            "  (0, 23082)\t0.13166750039129016\n",
            "  (0, 8974)\t0.3325495339905108\n",
            "  (0, 84713)\t0.1733816969630186\n",
            "  (0, 77930)\t0.1795762609827399\n",
            "  (0, 42038)\t0.1733816969630186\n",
            "  (0, 36899)\t0.1795762609827399\n",
            "  (0, 82339)\t0.31455587769046267\n",
            "  (0, 69873)\t0.2783683775543619\n",
            "  (0, 19212)\t0.2783683775543619\n",
            "  (0, 122256)\t0.10195226255915946\n",
            "  (0, 90475)\t0.0984353733338133\n",
            "  (0, 66089)\t0.4078090502366378\n",
            "  (0, 123185)\t0.05949580885626443\n",
            "  (0, 111367)\t0.05949580885626443\n",
            "  (0, 106596)\t0.05949580885626443\n",
            "  (0, 97378)\t0.05949580885626443\n",
            "  (0, 83210)\t0.05949580885626443\n",
            "  (0, 77804)\t0.11899161771252886\n",
            "  (0, 77801)\t0.11899161771252886\n",
            "  (0, 68499)\t0.05949580885626443\n",
            "  (0, 52313)\t0.057443474127562996\n",
            "  (0, 4249)\t0.05949580885626443\n",
            "  :\t:\n",
            "  (0, 31032)\t1.768928012879309\n",
            "  (0, 31019)\t0.9514284923915067\n",
            "  (0, 25103)\t0.46055550938682394\n",
            "  (0, 23052)\t-0.12384419546133296\n",
            "  (0, 17394)\t-1.0606646564260802\n",
            "  (0, 16680)\t-0.30082649692305935\n",
            "  (0, 15164)\t0.1300281451133371\n",
            "  (0, 11501)\t-0.5867390642810795\n",
            "  (0, 11433)\t-0.17446905288263903\n",
            "  (0, 10249)\t-0.7639228755903923\n",
            "  (0, 9978)\t-0.8522341334378987\n",
            "  (0, 5647)\t0.15764085731709634\n",
            "  (0, 119216)\t-0.1273339879066672\n",
            "  (0, 116749)\t0.7015898124290558\n",
            "  (0, 110228)\t-0.13820698268285064\n",
            "  (0, 85442)\t-0.7870884305742255\n",
            "  (0, 73716)\t-0.984713394342309\n",
            "  (0, 58478)\t0.016806933516721786\n",
            "  (0, 48196)\t0.13497247424133613\n",
            "  (0, 42091)\t-1.0860411517775341\n",
            "  (0, 41951)\t0.9813211188809164\n",
            "  (0, 40984)\t-2.1603474029049563\n",
            "  (0, 33903)\t-0.5506248183873239\n",
            "  (0, 32479)\t-0.28271682387303154\n",
            "  (0, 17073)\t0.7114218905714644\n",
            "[0.38649029]\n"
          ]
        }
      ]
    },
    {
      "cell_type": "code",
      "source": [
        "# Use the trained SVM model to make predictions on the TF-IDF vectorized testing data\n",
        "y_pred = svm_model2.predict(X_test_tfidf)\n",
        "\n",
        "print(y_pred)"
      ],
      "metadata": {
        "colab": {
          "base_uri": "https://localhost:8080/"
        },
        "id": "GoouoWaCCl4q",
        "outputId": "7746ef7f-d71a-4ffc-ece1-071486676ae4"
      },
      "execution_count": 41,
      "outputs": [
        {
          "output_type": "stream",
          "name": "stdout",
          "text": [
            "[1 1 0 ... 0 1 1]\n"
          ]
        }
      ]
    },
    {
      "cell_type": "code",
      "source": [
        "#measuring the accuracy of the data set\n",
        "from sklearn.metrics import accuracy_score\n",
        "accuracy = accuracy_score(y_test, y_pred)"
      ],
      "metadata": {
        "id": "X43KL5fLJ-9P"
      },
      "execution_count": 42,
      "outputs": []
    },
    {
      "cell_type": "code",
      "source": [
        "# Importing the classification_report function from scikit-learn's metrics module\n",
        "from sklearn.metrics import classification_report\n",
        "\n",
        "\n",
        "# Generating a classification report by comparing the true labels (y_test) with the predicted labels (y_pred)\n",
        "report = classification_report(y_test, y_pred)\n",
        "\n",
        "# Printing the classification report\n",
        "print(report)\n",
        "\n"
      ],
      "metadata": {
        "colab": {
          "base_uri": "https://localhost:8080/"
        },
        "id": "tqHVFmDPLV4C",
        "outputId": "b1a5c486-c683-4dec-de64-9741e0b6230c"
      },
      "execution_count": 43,
      "outputs": [
        {
          "output_type": "stream",
          "name": "stdout",
          "text": [
            "              precision    recall  f1-score   support\n",
            "\n",
            "           0       0.81      0.80      0.81     10244\n",
            "           1       0.84      0.86      0.85     13168\n",
            "\n",
            "    accuracy                           0.83     23412\n",
            "   macro avg       0.83      0.83      0.83     23412\n",
            "weighted avg       0.83      0.83      0.83     23412\n",
            "\n"
          ]
        }
      ]
    },
    {
      "cell_type": "code",
      "source": [
        "# Importing necessary functions from scikit-learn's metrics module\n",
        "from sklearn.metrics import roc_curve, roc_auc_score\n",
        "\n",
        "# Calculating the ROC curve, which plots the true positive rate (TPR) against the false positive rate (FPR)\n",
        "# The roc_curve function takes the true labels (y_test) and the predicted probabilities or scores (y_pred) as input\n",
        "fpr, tpr, thresholds = roc_curve(y_test, y_pred)\n",
        "\n",
        "# Calculating the Area Under the Curve (AUC) score, which quantifies the overall performance of the classifier\n",
        "# The roc_auc_score function takes the true labels (y_test) and the predicted probabilities or scores (y_pred) as input\n",
        "auc = roc_auc_score(y_test, y_pred)\n",
        "\n",
        "# Printing the Area Under the Curve (AUC) score\n",
        "print(\"AUC Score:\", auc)\n"
      ],
      "metadata": {
        "colab": {
          "base_uri": "https://localhost:8080/"
        },
        "id": "36-Em5VGLdsm",
        "outputId": "82c29da9-30f3-4cf9-c541-26a5db864c6e"
      },
      "execution_count": 44,
      "outputs": [
        {
          "output_type": "stream",
          "name": "stdout",
          "text": [
            "AUC Score: 0.8276723078393872\n"
          ]
        }
      ]
    },
    {
      "cell_type": "code",
      "source": [
        "# Importing necessary libraries\n",
        "import matplotlib.pyplot as plt\n",
        "import seaborn as sns\n",
        "from sklearn.metrics import roc_curve, roc_auc_score, confusion_matrix\n",
        "\n",
        "# Calculate ROC curve\n",
        "fpr, tpr, thresholds = roc_curve(y_test, y_pred)\n",
        "auc = roc_auc_score(y_test, y_pred)\n",
        "\n",
        "# Plot ROC curve\n",
        "plt.figure(figsize=(8, 6))\n",
        "plt.plot(fpr, tpr, color='blue', lw=2, label='ROC curve (AUC = %0.2f)' % auc)\n",
        "plt.plot([0, 1], [0, 1], color='gray', linestyle='--')\n",
        "plt.xlim([0.0, 1.0])\n",
        "plt.ylim([0.0, 1.05])\n",
        "plt.xlabel('False Positive Rate')\n",
        "plt.ylabel('True Positive Rate')\n",
        "plt.title('Receiver Operating Characteristic (ROC) Curve')\n",
        "plt.legend(loc=\"lower right\")\n",
        "plt.show()\n",
        "\n",
        "# Plot confusion matrix\n",
        "cm = confusion_matrix(y_test, y_pred)\n",
        "plt.figure(figsize=(8, 6))\n",
        "sns.heatmap(cm, annot=True, fmt='d', cmap='Blues')\n",
        "plt.title('Confusion Matrix')\n",
        "plt.xlabel('Predicted Label')\n",
        "plt.ylabel('True Label')\n",
        "plt.show()\n",
        "\n",
        "# Plot histogram of predicted probabilities\n",
        "plt.figure(figsize=(8, 6))\n",
        "plt.hist(y_pred, bins=20, color='skyblue', alpha=0.7)\n",
        "plt.title('Histogram of Predicted Probabilities')\n",
        "plt.xlabel('Predicted Probability')\n",
        "plt.ylabel('Frequency')\n",
        "plt.show()\n"
      ],
      "metadata": {
        "colab": {
          "base_uri": "https://localhost:8080/",
          "height": 1000
        },
        "id": "dRjTEHowLhdI",
        "outputId": "6f3b3894-9406-4afc-b2a4-bc3fa157b645"
      },
      "execution_count": 45,
      "outputs": [
        {
          "output_type": "display_data",
          "data": {
            "text/plain": [
              "<Figure size 800x600 with 1 Axes>"
            ],
            "image/png": "[encoded data removed]"
          },
          "metadata": {}
        },
        {
          "output_type": "display_data",
          "data": {
            "text/plain": [
              "<Figure size 800x600 with 2 Axes>"
            ],
            "image/png": "[encoded data removed]"
          },
          "metadata": {}
        },
        {
          "output_type": "display_data",
          "data": {
            "text/plain": [
              "<Figure size 800x600 with 1 Axes>"
            ],
            "image/png": "[encoded data removed]"
          },
          "metadata": {}
        }
      ]
    },
    {
      "cell_type": "code",
      "source": [
        "pip install lime"
      ],
      "metadata": {
        "colab": {
          "base_uri": "https://localhost:8080/"
        },
        "id": "BdN6P_O0Mpu_",
        "outputId": "d5893f81-b51c-4589-eb14-87b9e5bbc4e3"
      },
      "execution_count": 47,
      "outputs": [
        {
          "output_type": "stream",
          "name": "stdout",
          "text": [
            "Collecting lime\n",
            "  Downloading lime-0.2.0.1.tar.gz (275 kB)\n",
            "\u001b[2K     \u001b[90m━━━━━━━━━━━━━━━━━━━━━━━━━━━━━━━━━━━━━━━━\u001b[0m \u001b[32m275.7/275.7 kB\u001b[0m \u001b[31m2.3 MB/s\u001b[0m eta \u001b[36m0:00:00\u001b[0m\n",
            "\u001b[?25h  Preparing metadata (setup.py) ... \u001b[?25l\u001b[?25hdone\n",
            "Requirement already satisfied: matplotlib in /usr/local/lib/python3.10/dist-packages (from lime) (3.7.1)\n",
            "Requirement already satisfied: numpy in /usr/local/lib/python3.10/dist-packages (from lime) (1.25.2)\n",
            "Requirement already satisfied: scipy in /usr/local/lib/python3.10/dist-packages (from lime) (1.11.4)\n",
            "Requirement already satisfied: tqdm in /usr/local/lib/python3.10/dist-packages (from lime) (4.66.2)\n",
            "Requirement already satisfied: scikit-learn>=0.18 in /usr/local/lib/python3.10/dist-packages (from lime) (1.2.2)\n",
            "Requirement already satisfied: scikit-image>=0.12 in /usr/local/lib/python3.10/dist-packages (from lime) (0.19.3)\n",
            "Requirement already satisfied: networkx>=2.2 in /usr/local/lib/python3.10/dist-packages (from scikit-image>=0.12->lime) (3.2.1)\n",
            "Requirement already satisfied: pillow!=7.1.0,!=7.1.1,!=8.3.0,>=6.1.0 in /usr/local/lib/python3.10/dist-packages (from scikit-image>=0.12->lime) (10.3.0)\n",
            "Requirement already satisfied: imageio>=2.4.1 in /usr/local/lib/python3.10/dist-packages (from scikit-image>=0.12->lime) (2.34.0)\n",
            "Requirement already satisfied: tifffile>=2019.7.26 in /usr/local/lib/python3.10/dist-packages (from scikit-image>=0.12->lime) (2024.2.12)\n",
            "Requirement already satisfied: PyWavelets>=1.1.1 in /usr/local/lib/python3.10/dist-packages (from scikit-image>=0.12->lime) (1.6.0)\n",
            "Requirement already satisfied: packaging>=20.0 in /usr/local/lib/python3.10/dist-packages (from scikit-image>=0.12->lime) (24.0)\n",
            "Requirement already satisfied: joblib>=1.1.1 in /usr/local/lib/python3.10/dist-packages (from scikit-learn>=0.18->lime) (1.3.2)\n",
            "Requirement already satisfied: threadpoolctl>=2.0.0 in /usr/local/lib/python3.10/dist-packages (from scikit-learn>=0.18->lime) (3.4.0)\n",
            "Requirement already satisfied: contourpy>=1.0.1 in /usr/local/lib/python3.10/dist-packages (from matplotlib->lime) (1.2.1)\n",
            "Requirement already satisfied: cycler>=0.10 in /usr/local/lib/python3.10/dist-packages (from matplotlib->lime) (0.12.1)\n",
            "Requirement already satisfied: fonttools>=4.22.0 in /usr/local/lib/python3.10/dist-packages (from matplotlib->lime) (4.50.0)\n",
            "Requirement already satisfied: kiwisolver>=1.0.1 in /usr/local/lib/python3.10/dist-packages (from matplotlib->lime) (1.4.5)\n",
            "Requirement already satisfied: pyparsing>=2.3.1 in /usr/local/lib/python3.10/dist-packages (from matplotlib->lime) (3.1.2)\n",
            "Requirement already satisfied: python-dateutil>=2.7 in /usr/local/lib/python3.10/dist-packages (from matplotlib->lime) (2.9.0.post0)\n",
            "Requirement already satisfied: six>=1.5 in /usr/local/lib/python3.10/dist-packages (from python-dateutil>=2.7->matplotlib->lime) (1.16.0)\n",
            "Building wheels for collected packages: lime\n",
            "  Building wheel for lime (setup.py) ... \u001b[?25l\u001b[?25hdone\n",
            "  Created wheel for lime: filename=lime-0.2.0.1-py3-none-any.whl size=283835 sha256=f7e7e29edb78b9db948a6462339488e550234fc499a82de6de71a7a9990a5aa8\n",
            "  Stored in directory: /root/.cache/pip/wheels/fd/a2/af/9ac0a1a85a27f314a06b39e1f492bee1547d52549a4606ed89\n",
            "Successfully built lime\n",
            "Installing collected packages: lime\n",
            "Successfully installed lime-0.2.0.1\n"
          ]
        }
      ]
    },
    {
      "cell_type": "code",
      "source": [
        "index_values = X_test_preprocessed.index.tolist()\n",
        "print(index_values)\n",
        "\n",
        "#index_values1 = y_train.index\n",
        "#print(index_values1)"
      ],
      "metadata": {
        "colab": {
          "base_uri": "https://localhost:8080/"
        },
        "id": "VTnHl93pMde9",
        "outputId": "ffda862f-324a-4068-c358-36cc217faaee"
      },
      "execution_count": 59,
      "outputs": [
        {
          "output_type": "stream",
          "name": "stdout",
          "text": [
            "[112368, 140029, 52453, 89233, 82758, 3900, 33495, 30422, 110012, 5561, 70139, 77147, 105498, 58543, 145092, 86370, 10128, 121391, 137665, 94687, 74189, 78904, 98010, 21784, 102868, 109113, 63421, 25971, 74287, 56117, 101316, 129985, 114885, 34615, 109054, 130048, 127812, 59612, 50237, 105407, 114170, 129540, 8844, 17216, 69332, 7118, 67115, 76816, 23848, 137669, 49337, 92069, 66546, 54134, 117774, 131612, 66969, 66276, 91779, 139600, 131780, 4553, 129098, 58111, 135052, 84076, 69820, 98061, 112529, 144984, 56522, 59821, 71037, 143367, 118033, 4448, 99442, 2244, 45927, 117508, 85445, 44716, 97071, 46193, 52019, 79344, 94628, 100567, 2540, 28603, 57047, 4039, 41774, 16064, 112792, 100090, 47651, 84869, 15338, 43646, 19777, 15197, 18324, 111852, 5863, 13384, 17581, 46187, 63373, 99661, 103451, 69587, 125117, 89085, 107008, 66406, 22070, 112333, 47366, 62705, 56038, 12649, 98076, 138461, 89543, 83989, 99233, 106300, 12674, 79385, 45742, 7125, 23279, 118629, 17407, 95927, 36806, 55602, 13872, 127060, 97654, 124675, 146647, 98521, 109295, 49268, 99310, 130540, 144226, 26303, 97325, 72811, 77698, 45447, 124530, 57529, 120510, 42690, 17972, 8553, 111566, 60422, 2104, 106245, 86908, 12707, 87579, 116674, 73837, 25554, 104826, 145673, 146429, 31514, 130437, 56058, 102318, 137071, 3660, 13910, 46840, 20967, 4370, 45171, 2181, 97164, 95259, 134867, 140331, 99361, 59775, 65528, 69818, 108991, 61636, 79536, 53959, 13938, 136870, 82474, 121102, 73614, 127320, 24508, 72567, 142468, 138080, 50079, 75529, 124185, 126459, 113400, 117298, 19681, 95470, 93424, 57714, 33964, 29801, 122922, 139108, 135601, 108571, 7959, 97048, 126527, 64062, 68972, 68393, 83526, 39071, 36889, 143807, 86869, 68909, 60610, 33204, 45692, 29756, 945, 78813, 137259, 68797, 89903, 87236, 68660, 30706, 123430, 96573, 146397, 62433, 68060, 140495, 147384, 118181, 135781, 20855, 18023, 23087, 8095, 105717, 115805, 88676, 144003, 108411, 65183, 132139, 89011, 148527, 25209, 72458, 18982, 120541, 59358, 124640, 144710, 53712, 35800, 1963, 138540, 133299, 73941, 143657, 124553, 64295, 34899, 143958, 80734, 18294, 93303, 89635, 6512, 95385, 57805, 52554, 31532, 106563, 107530, 93521, 138013, 67977, 67208, 69427, 142028, 8161, 84533, 51777, 98733, 82200, 113374, 77691, 134327, 129629, 45961, 40104, 140539, 68968, 54054, 123974, 24436, 144430, 147566, 21538, 1295, 65369, 105276, 87308, 145174, 99468, 96759, 105783, 131054, 38930, 96030, 126808, 127297, 59152, 107372, 138609, 47811, 136293, 8180, 140575, 11810, 75014, 96022, 114742, 39668, 99456, 124310, 22768, 129877, 134302, 101520, 109630, 148097, 22944, 83744, 49559, 128296, 126027, 134250, 5966, 2273, 108837, 130709, 19752, 83382, 60300, 37370, 86657, 142032, 46223, 136711, 93633, 55778, 93871, 10539, 142002, 1871, 5439, 36098, 143508, 118664, 76480, 63032, 111791, 422, 5730, 90099, 41165, 107126, 112852, 81677, 105037, 54216, 33153, 144550, 99142, 33151, 123995, 118983, 13556, 137350, 84295, 99923, 74002, 45448, 94578, 120781, 122743, 121272, 49976, 138474, 119573, 56686, 3627, 79422, 31246, 123595, 127730, 58321, 75480, 67545, 95473, 45739, 57434, 5272, 94055, 92263, 126360, 76875, 72582, 36374, 30678, 88299, 141977, 97400, 97624, 84318, 48388, 141324, 139825, 115277, 89737, 17637, 11551, 6308, 13817, 3750, 72316, 95981, 63317, 123802, 42786, 17862, 23310, 127534, 79411, 4592, 14370, 22541, 80687, 110695, 78754, 116534, 134153, 18057, 105681, 73054, 108004, 123305, 64135, 53726, 47685, 127560, 70468, 44816, 36978, 48223, 75544, 66759, 138087, 27487, 143547, 73880, 127856, 2557, 53952, 13660, 117763, 4544, 40090, 148680, 89912, 119018, 119335, 33132, 70905, 11388, 646, 62479, 10441, 18766, 8366, 88971, 35218, 119844, 104711, 61280, 28935, 130142, 108652, 88951, 80099, 89347, 98825, 71942, 138038, 115361, 61718, 57331, 62854, 88687, 15376, 35856, 25417, 41640, 53555, 148182, 58559, 121382, 133533, 10975, 38538, 40281, 23766, 38205, 100854, 123429, 76715, 103958, 53886, 73902, 118703, 147176, 88212, 80004, 5774, 101842, 146315, 120676, 66463, 94116, 17799, 61005, 19221, 98332, 108085, 22282, 6505, 80607, 138563, 24811, 124138, 20150, 129720, 75361, 40363, 120503, 4887, 20789, 21010, 69198, 127234, 86399, 10843, 23981, 63727, 37453, 65491, 24567, 10599, 122610, 2643, 94828, 81670, 46723, 38888, 134110, 82107, 101064, 62170, 82784, 116924, 34921, 78774, 126598, 44467, 110980, 20839, 69550, 55519, 44025, 78064, 14179, 133233, 58105, 29178, 30150, 11258, 18071, 142781, 104292, 67374, 97273, 144825, 85466, 78298, 9914, 113052, 140407, 64941, 62123, 23349, 57965, 26527, 109008, 4407, 106226, 31285, 75198, 10140, 93177, 132498, 42935, 13293, 1044, 127675, 57113, 19334, 12579, 134607, 142159, 114657, 72137, 32542, 88200, 47588, 145370, 53862, 107077, 27003, 53038, 73511, 56115, 49712, 92711, 44403, 35268, 101599, 107899, 61638, 32953, 53711, 112787, 104190, 124307, 61619, 79064, 43373, 59632, 96151, 77327, 99666, 40596, 93680, 93094, 87857, 40651, 33949, 47276, 64239, 9260, 139785, 143952, 17868, 137935, 118778, 37630, 94777, 85511, 19958, 19137, 4251, 94876, 143099, 131202, 38492, 14925, 133676, 97157, 115609, 80902, 41078, 118142, 136045, 28630, 48215, 33960, 22463, 119619, 72917, 148596, 39778, 37650, 45438, 55318, 45106, 54812, 40606, 139697, 130933, 42240, 52476, 13425, 123997, 38683, 105558, 87266, 27615, 75000, 44319, 36997, 76796, 47157, 69375, 65096, 78220, 18288, 55166, 427, 76570, 146722, 22497, 140327, 2648, 101836, 33074, 20818, 44865, 16213, 137922, 118050, 21370, 118506, 119624, 30864, 123685, 97608, 145553, 19793, 122606, 73925, 77572, 17794, 49915, 65255, 144382, 64884, 35063, 8489, 24900, 12786, 105445, 91920, 3845, 114350, 32080, 141155, 74410, 81247, 20822, 82503, 2020, 119211, 118546, 4402, 91618, 4137, 120639, 92246, 101311, 23957, 132002, 108654, 22836, 313, 110330, 35635, 96613, 1665, 2845, 141077, 62178, 6915, 52436, 46280, 32887, 79116, 108503, 23028, 117951, 115686, 15318, 39581, 4487, 53633, 28396, 88657, 81365, 144500, 59085, 130150, 147606, 77871, 102839, 22735, 32151, 39523, 64845, 138434, 20630, 67914, 88069, 105969, 88112, 110301, 64423, 27063, 135477, 33682, 74070, 62094, 129989, 64667, 108758, 86238, 65410, 125756, 105794, 21201, 118216, 51698, 106363, 21407, 563, 25117, 123521, 67237, 25679, 25723, 135702, 39593, 39144, 142805, 32714, 63531, 88926, 80584, 9180, 24383, 26569, 87792, 82177, 10987, 99392, 72470, 53200, 115185, 77217, 54009, 99143, 1216, 123476, 5052, 147352, 95185, 37420, 101414, 108947, 145770, 49874, 77340, 108656, 124690, 123586, 102870, 138202, 88727, 29892, 114687, 120962, 1144, 140619, 140445, 117985, 146813, 32333, 101801, 25132, 6255, 111125, 146558, 32073, 43298, 136376, 45843, 43138, 3524, 45635, 30303, 132161, 13688, 122942, 133518, 137527, 127784, 109951, 102347, 57797, 17069, 91578, 49755, 99266, 111256, 77720, 73353, 121586, 114044, 129316, 114859, 39445, 74804, 44473, 2495, 2725, 3500, 106412, 148069, 140410, 112780, 113156, 105771, 50608, 14280, 106147, 26914, 21696, 52107, 83861, 36044, 71200, 83005, 6101, 66422, 93974, 2450, 31256, 51527, 5378, 88637, 146768, 54503, 72787, 1402, 47585, 76940, 107879, 91871, 145840, 53373, 117188, 52437, 111432, 8678, 109763, 13090, 23914, 70599, 26268, 146343, 98849, 26232, 62684, 103450, 58240, 27575, 140570, 88508, 102937, 115714, 22539, 70894, 116350, 110590, 147215, 3634, 29243, 119110, 3693, 111702, 85175, 108885, 15151, 4834, 27696, 112786, 143656, 94973, 48616, 137950, 20814, 13604, 40597, 93115, 26953, 17883, 76700, 95586, 19123, 57276, 126673, 58694, 6054, 31240, 105984, 66392, 92838, 67470, 90161, 45231, 87132, 19383, 120463, 68389, 60537, 53919, 14813, 72804, 12125, 98069, 84474, 3780, 122172, 34132, 115551, 16240, 143119, 12719, 116941, 27643, 93573, 32631, 103725, 51752, 26697, 64000, 59441, 96566, 66844, 11197, 144169, 101812, 139494, 58460, 2636, 138001, 75915, 2979, 102500, 137859, 85646, 138478, 126011, 94843, 101018, 2114, 120482, 42877, 81867, 28006, 35054, 15926, 100496, 15272, 140169, 10990, 57204, 120559, 81653, 114672, 139860, 3430, 89825, 77629, 66197, 12435, 31030, 98388, 65996, 134971, 52040, 64801, 6711, 97259, 46304, 52613, 110995, 93447, 50069, 99012, 77034, 135055, 140698, 26441, 60710, 46914, 102324, 29015, 78385, 9110, 80677, 56111, 77256, 33927, 58758, 142293, 218, 40075, 28215, 125909, 74924, 46893, 109528, 109401, 107443, 1531, 98743, 3619, 9355, 26436, 111819, 141087, 3215, 103185, 45475, 2406, 54968, 89694, 132037, 82992, 13248, 31398, 53593, 47509, 63786, 43214, 110597, 39768, 62695, 18316, 20033, 91887, 90439, 32406, 120926, 112557, 40129, 103900, 136460, 56128, 14775, 39086, 120413, 63017, 36946, 122357, 6574, 26721, 111463, 128716, 30397, 114193, 55021, 24377, 58913, 66502, 108911, 103007, 136653, 20068, 27, 128182, 35849, 15716, 42598, 116635, 108745, 68365, 97367, 127340, 80439, 117573, 67346, 77529, 14678, 118014, 9037, 112408, 126732, 82824, 71189, 110811, 144784, 108916, 83615, 15513, 33929, 102086, 135434, 5728, 96084, 34172, 20418, 46334, 10779, 106860, 114066, 43994, 101870, 112747, 63973, 36557, 144842, 110971, 42338, 115946, 99339, 29867, 139844, 9083, 17091, 117978, 54649, 64778, 99773, 133626, 124308, 73407, 124112, 107472, 138051, 121453, 114655, 101727, 28876, 58616, 27275, 89122, 137244, 125942, 121501, 129266, 15253, 21727, 81132, 119171, 118220, 18782, 12027, 22954, 124029, 25908, 115829, 147252, 117261, 91566, 49615, 134441, 110126, 98513, 143273, 123328, 40367, 78081, 74986, 56448, 85463, 103965, 125729, 9166, 133346, 9887, 138682, 106397, 128634, 91479, 141113, 30244, 92486, 110283, 95954, 132032, 8037, 143844, 9468, 66549, 5536, 130784, 27493, 125107, 29124, 118890, 126354, 117890, 34939, 49270, 19556, 37574, 97967, 125972, 146674, 120056, 116035, 86588, 62017, 132181, 86414, 63208, 35813, 127160, 143199, 97345, 33319, 9549, 74644, 89471, 11159, 147664, 50701, 57080, 114266, 127259, 133067, 9207, 49038, 52028, 114084, 122837, 52523, 115253, 45636, 80621, 54141, 140676, 59763, 2857, 69025, 59093, 63604, 132019, 29753, 120950, 6174, 39810, 146792, 57938, 18609, 72297, 56483, 129498, 57251, 1924, 111856, 41529, 37076, 79690, 36240, 28850, 105626, 111568, 32606, 84155, 86375, 119807, 34963, 636, 110181, 133748, 43722, 142179, 30784, 129365, 47174, 65881, 95489, 94750, 93409, 62691, 64211, 109350, 111167, 67511, 43309, 2601, 69416, 107332, 1146, 138172, 62096, 11505, 78595, 16969, 115571, 109855, 135381, 92413, 120316, 66684, 11138, 116959, 96772, 130450, 69884, 18772, 93755, 114892, 74829, 54277, 72122, 14483, 27246, 90218, 87787, 215, 86549, 75669, 136303, 48986, 21984, 115702, 18906, 79495, 142167, 132535, 23792, 70215, 99959, 4497, 47130, 34609, 78930, 101861, 82022, 115110, 3170, 96471, 102393, 28832, 33529, 28726, 130212, 122762, 29571, 136268, 147448, 38557, 107337, 81066, 47931, 126759, 15003, 20048, 37413, 111823, 114176, 37042, 5655, 28794, 100197, 80711, 120047, 109145, 60770, 76054, 8860, 58526, 21290, 122681, 72438, 129227, 105834, 75371, 116074, 21142, 10374, 109125, 51210, 95651, 40065, 138895, 44550, 139114, 32621, 9519, 70714, 97852, 131525, 86389, 43693, 35617, 18725, 140770, 76650, 7891, 132445, 48867, 132057, 18834, 36202, 124901, 40357, 69474, 132222, 131538, 140930, 14071, 123387, 54377, 43596, 115750, 135474, 50660, 53184, 66875, 36222, 17487, 43459, 107490, 37660, 19220, 97457, 30813, 64748, 27529, 2384, 121945, 136468, 34286, 31633, 120495, 113902, 24839, 25938, 34876, 69042, 139063, 57769, 80938, 35082, 4060, 36532, 146054, 72467, 134425, 109938, 68082, 682, 78943, 93888, 37587, 30416, 111656, 41295, 119740, 134433, 115264, 36175, 76481, 116737, 3139, 38832, 60843, 1060, 122524, 10969, 94956, 139282, 1718, 140353, 20385, 54255, 40410, 127469, 144137, 81992, 145288, 104759, 104210, 110605, 38514, 99076, 76527, 66619, 16051, 85393, 64650, 13324, 111258, 141236, 94764, 120293, 10472, 96301, 7913, 61672, 110303, 46377, 5084, 93214, 126969, 84005, 142852, 18481, 69547, 84015, 16352, 136186, 68859, 45806, 102536, 54213, 94564, 72809, 91822, 38543, 88952, 110014, 145067, 14829, 13709, 106962, 141377, 96044, 83151, 121175, 1311, 59749, 98620, 138483, 96514, 138714, 130820, 111204, 24554, 10584, 79524, 139905, 40009, 18193, 33452, 64396, 3521, 142945, 108327, 128797, 119644, 16442, 103219, 73847, 7267, 13643, 106552, 4646, 114744, 41566, 148326, 41922, 41049, 127333, 72918, 25063, 97756, 44601, 100734, 50291, 49, 122381, 25511, 148526, 142476, 49668, 82075, 135640, 99080, 35169, 14747, 118277, 17146, 147165, 4372, 89184, 102068, 40536, 126208, 45303, 108077, 144976, 147812, 24185, 146438, 128644, 1566, 95071, 124030, 545, 140594, 25241, 77977, 97691, 94411, 22216, 87014, 139264, 109534, 118841, 133274, 51451, 76949, 91171, 21213, 31881, 104915, 128783, 18210, 148285, 92338, 29656, 37445, 4061, 20256, 104141, 9138, 66023, 112672, 40256, 51300, 62987, 22988, 43385, 91156, 58629, 43091, 46545, 101567, 79228, 111307, 123279, 146210, 8088, 61222, 145621, 130981, 114291, 77431, 24983, 65005, 142531, 79131, 95446, 49903, 65999, 88116, 84620, 98352, 44730, 127003, 147253, 10412, 46855, 69325, 129808, 126255, 21347, 129036, 14982, 67414, 54017, 95852, 116357, 100547, 34927, 89413, 130699, 97845, 93766, 25297, 71435, 23203, 51593, 86839, 28998, 66811, 95208, 75716, 84807, 104350, 17950, 109381, 106411, 68000, 65045, 2094, 116245, 126428, 94642, 23422, 8218, 81725, 50630, 138672, 86182, 120894, 127338, 1923, 7138, 68049, 96334, 113114, 18114, 12783, 107835, 77489, 85658, 54222, 119560, 63522, 57681, 113375, 4500, 132196, 139148, 134933, 64882, 132576, 95039, 58503, 39636, 36676, 6001, 89349, 123905, 89987, 130482, 39685, 125329, 56040, 49893, 45213, 100430, 112859, 91062, 132000, 66772, 21924, 97873, 53531, 61251, 97240, 68913, 54596, 73753, 11382, 28336, 141995, 41009, 35080, 83927, 144401, 28668, 29929, 114736, 56565, 108041, 136477, 44991, 65912, 19283, 135318, 95169, 85536, 140578, 118541, 66411, 114756, 56123, 69804, 20031, 145888, 105448, 135869, 62048, 145908, 48108, 100631, 31502, 9630, 58473, 119379, 49413, 135288, 50212, 45947, 112283, 85190, 29955, 103448, 98871, 34275, 27204, 106176, 80990, 31808, 15337, 15916, 85008, 3312, 88090, 24414, 123771, 111729, 117269, 25368, 75313, 65106, 134762, 119812, 118976, 35863, 124210, 144515, 13292, 122355, 66210, 128581, 24154, 109822, 40872, 133958, 140938, 15030, 23615, 106988, 131252, 70407, 26502, 76022, 26065, 60951, 114701, 93028, 24356, 86217, 121750, 118639, 135831, 57033, 697, 103875, 91282, 93066, 113325, 6077, 98255, 2142, 35817, 91881, 11352, 138727, 134370, 101423, 23079, 118152, 76803, 57592, 84224, 106006, 26897, 68467, 127695, 35086, 62666, 101892, 72514, 108229, 114400, 16489, 11945, 51803, 60928, 17650, 119032, 95001, 130479, 66968, 80955, 37842, 126431, 90513, 88718, 45933, 76109, 140952, 99093, 91547, 82236, 63599, 50405, 120053, 20652, 96502, 59662, 137914, 137001, 109870, 94632, 49971, 131569, 118454, 74334, 117934, 73763, 140282, 134257, 36831, 122079, 139003, 29783, 3394, 34809, 6767, 122026, 120366, 126200, 20798, 17633, 102081, 123616, 12396, 10854, 87604, 144498, 117623, 81547, 141666, 34721, 72790, 48574, 43919, 125369, 89303, 75781, 4059, 86116, 6207, 60550, 45043, 134484, 85738, 88738, 19636, 40558, 110255, 29492, 113898, 110883, 108563, 15467, 136533, 94884, 30447, 31342, 118427, 40957, 147691, 41752, 71997, 33550, 44343, 46600, 134052, 183, 31642, 32470, 8626, 86061, 121831, 4613, 108226, 24455, 36109, 4554, 82421, 62993, 99495, 111117, 10541, 42125, 102188, 129470, 84609, 23899, 26135, 98288, 21535, 27654, 50983, 38889, 5194, 89310, 58793, 35256, 109680, 87083, 100856, 46516, 84731, 129706, 11433, 56085, 60947, 108638, 51438, 148379, 47609, 117369, 87419, 63670, 44935, 73286, 88435, 38620, 123679, 9937, 137281, 432, 110290, 60621, 74588, 48097, 131595, 125272, 69422, 137076, 35214, 36188, 133155, 101400, 49895, 111261, 1675, 20184, 130631, 134993, 101615, 64559, 75690, 49557, 84871, 31022, 3253, 131084, 1964, 134139, 985, 129435, 51769, 14374, 15578, 67713, 37965, 61449, 105456, 78160, 115073, 54033, 70389, 138530, 82351, 94869, 71026, 29372, 21306, 70794, 62546, 135665, 84277, 109294, 9850, 36348, 1166, 47746, 10629, 119838, 61032, 133450, 14688, 38213, 93392, 57253, 107121, 145533, 111694, 51146, 135860, 56195, 57923, 103083, 63347, 37799, 53378, 55466, 46106, 85902, 148167, 26848, 96529, 23039, 45793, 141385, 65998, 36932, 27660, 69870, 76531, 60795, 2567, 15334, 145995, 7986, 100740, 73111, 111907, 1846, 81510, 37963, 89664, 72100, 79079, 117764, 59050, 39963, 18872, 148779, 119035, 28015, 85652, 2876, 97135, 121323, 136106, 19580, 68996, 126136, 71728, 65344, 9950, 34728, 40420, 1797, 86805, 37738, 135340, 30347, 6959, 138053, 96252, 64761, 15533, 3967, 17456, 28280, 61790, 110649, 51941, 23851, 121897, 132858, 117532, 132731, 136420, 46864, 148018, 1310, 114059, 6032, 37202, 137129, 132850, 29282, 131494, 39236, 34194, 35122, 139312, 12624, 106114, 7422, 104036, 133554, 41575, 126892, 125668, 2950, 141930, 3009, 99434, 70251, 26455, 40864, 98812, 23533, 96867, 145043, 129298, 75496, 43333, 2147, 83945, 88682, 123507, 7683, 25357, 131815, 90420, 127270, 90326, 53370, 117375, 109471, 144486, 82096, 2163, 124437, 47163, 148427, 5186, 9269, 29290, 81892, 67871, 24497, 19925, 37984, 38697, 105432, 88498, 83842, 103086, 13178, 87412, 46764, 116247, 11181, 129158, 87214, 65189, 55222, 34107, 121603, 89539, 70343, 93919, 25121, 107670, 30513, 14345, 102298, 30774, 54594, 37982, 10204, 29829, 115450, 30413, 16476, 104263, 58201, 28091, 30229, 133379, 119968, 58468, 51188, 142260, 92527, 147538, 115134, 34198, 33403, 131043, 64320, 104649, 119446, 100994, 136521, 68261, 55541, 61706, 20011, 13819, 87139, 125358, 109473, 17103, 28842, 125631, 119429, 9326, 25675, 33406, 89346, 67069, 113935, 56768, 116396, 132618, 32770, 53451, 19525, 13794, 117742, 8062, 123260, 25569, 20211, 122469, 74547, 94720, 79047, 114318, 91922, 16348, 142727, 113022, 139628, 69186, 29665, 28606, 131651, 26359, 92790, 58882, 107622, 44537, 5037, 137826, 141574, 124818, 99867, 110323, 31584, 100997, 50100, 126510, 137875, 75405, 103078, 114359, 121742, 126862, 94018, 52515, 65010, 40435, 90530, 25275, 104456, 106720, 76758, 80992, 61201, 89059, 148032, 58938, 15091, 12793, 114591, 78682, 136885, 12944, 129341, 71852, 78463, 75947, 107459, 101032, 57010, 123651, 136118, 38315, 133287, 72093, 133442, 93256, 971, 18596, 113252, 106725, 81164, 52762, 46514, 65371, 22596, 53821, 13807, 86125, 108865, 137185, 39359, 53652, 126158, 84014, 61998, 69078, 84859, 7571, 131770, 23539, 48781, 118557, 49084, 27452, 29412, 56941, 7213, 92742, 31505, 110738, 57881, 127159, 106642, 46606, 146313, 57530, 114882, 46726, 17630, 53072, 15374, 142983, 133910, 127348, 33542, 142247, 42549, 102127, 144520, 144261, 7264, 115670, 121365, 65128, 43004, 34468, 100535, 58264, 44650, 131767, 128144, 61181, 138507, 66366, 48521, 94718, 17679, 121606, 34020, 93156, 2940, 45471, 19012, 46684, 24305, 39621, 23935, 110163, 20612, 33981, 37176, 136967, 31696, 97117, 68179, 108566, 63780, 66047, 2132, 65134, 73230, 129876, 6196, 110438, 91746, 75408, 123140, 27119, 25714, 101336, 72434, 40402, 87366, 49025, 137752, 123902, 41989, 139180, 50137, 139258, 89381, 113911, 12923, 37505, 131190, 70538, 73664, 10957, 6013, 34189, 47662, 43973, 30234, 147196, 2363, 64547, 18881, 23791, 90968, 37481, 3746, 134684, 43277, 129375, 38174, 69636, 74150, 137357, 122647, 86251, 86933, 77320, 126748, 74980, 39650, 110977, 40411, 111169, 70472, 144106, 74864, 36556, 82846, 50848, 104404, 45314, 140425, 134224, 102572, 138442, 63562, 22939, 126611, 45073, 33968, 10418, 61546, 125582, 134443, 60647, 113527, 25268, 46184, 44773, 77484, 70039, 63141, 126249, 42061, 44946, 97485, 60814, 135744, 59619, 114521, 39895, 81688, 59043, 138310, 21091, 62080, 124762, 52611, 57357, 83986, 119251, 15169, 134213, 61484, 131251, 78292, 133239, 147457, 111211, 36255, 58928, 104462, 11166, 123761, 62345, 54628, 62091, 110586, 77829, 97707, 55905, 39227, 33155, 137019, 19210, 133059, 141606, 130608, 104489, 102011, 8798, 83924, 20156, 48542, 77335, 137654, 96451, 47137, 4513, 4872, 68335, 52673, 11947, 66573, 59352, 63761, 115898, 18459, 11885, 8993, 132301, 23765, 85905, 95199, 124894, 17706, 42841, 28005, 124842, 54039, 56998, 86393, 120153, 115748, 4926, 16012, 12937, 106658, 97462, 82881, 21101, 12290, 70986, 117447, 136529, 119642, 24252, 65663, 128061, 10454, 59468, 91642, 71269, 131411, 3102, 104048, 79427, 4809, 119771, 58452, 78677, 90318, 56270, 32837, 43060, 52084, 135290, 108371, 132991, 58886, 37933, 123324, 43419, 76461, 127911, 139714, 77990, 50448, 3566, 40913, 13031, 43230, 132153, 22579, 134390, 34549, 79772, 121448, 125947, 14532, 34005, 74180, 46379, 11443, 17190, 82936, 29158, 105989, 52353, 65602, 48654, 67531, 99211, 45619, 93676, 62799, 139934, 98171, 83233, 22694, 115039, 135874, 67116, 37680, 61679, 130961, 10805, 46938, 44266, 95583, 130069, 136113, 32011, 15108, 45288, 119484, 47500, 148766, 78948, 73119, 27339, 6974, 38438, 32475, 92255, 60340, 103928, 124595, 105844, 9502, 121018, 133982, 91226, 31165, 121949, 52681, 4469, 104467, 44633, 15535, 148559, 17529, 128562, 7163, 27897, 5744, 38995, 94524, 121462, 36517, 32281, 62468, 60702, 78474, 104873, 70270, 38575, 2029, 50038, 86526, 27526, 79081, 140592, 22770, 110996, 51686, 81359, 14360, 144313, 85588, 19849, 102828, 17482, 102971, 87107, 100477, 11533, 39605, 92032, 76442, 82945, 29043, 28892, 42095, 108090, 124744, 85219, 129666, 15630, 122908, 117252, 39751, 135736, 28095, 59943, 125232, 129216, 128218, 108686, 145141, 76441, 78651, 141706, 133470, 35003, 44072, 53175, 86341, 77695, 85137, 23555, 46566, 35842, 71787, 105557, 89549, 13653, 85133, 118418, 138399, 127601, 143503, 77293, 5652, 7201, 21914, 70392, 89266, 117616, 145286, 109220, 39215, 128145, 138316, 84360, 96718, 124161, 134252, 15439, 54036, 8834, 72672, 3052, 7872, 132510, 43796, 120381, 24378, 21812, 85793, 4643, 14047, 139157, 45136, 38283, 95631, 123145, 60074, 111104, 136062, 80896, 80354, 73146, 145975, 98447, 76729, 38136, 103731, 43666, 56172, 38791, 99304, 56445, 85294, 27104, 67130, 133803, 10997, 74443, 13772, 63472, 52054, 55882, 57340, 98167, 60318, 146215, 91268, 12865, 62826, 62973, 103842, 32786, 22429, 88170, 61494, 140620, 57007, 53747, 74432, 9792, 91882, 135017, 64102, 122701, 103561, 15130, 97438, 136267, 94617, 10078, 27592, 51055, 107599, 33547, 8328, 124960, 73668, 94941, 49371, 82196, 45757, 2471, 54035, 38970, 28228, 68052, 120330, 131180, 70705, 109448, 16210, 29254, 41320, 112683, 24824, 105572, 58613, 55892, 99881, 5796, 120932, 53328, 130505, 30625, 42047, 19086, 84815, 7548, 83431, 24231, 121886, 3053, 107222, 81847, 90153, 104054, 124607, 40235, 33687, 37400, 45677, 113946, 95662, 21801, 15239, 145052, 83356, 26865, 74883, 143531, 102424, 33135, 100503, 46228, 70616, 113006, 93295, 36709, 87961, 32751, 27374, 146999, 136716, 96728, 95742, 120662, 66775, 128353, 120481, 41362, 71400, 10428, 97576, 115916, 49139, 80850, 32572, 39243, 115398, 126254, 57953, 72726, 6131, 132970, 137169, 114680, 134835, 145421, 23685, 37330, 34663, 106814, 32946, 82381, 1130, 61647, 133187, 134431, 43142, 55256, 53740, 60840, 90219, 142688, 30200, 113607, 130607, 123603, 46863, 91164, 29555, 71016, 81689, 76279, 97309, 34822, 118892, 88007, 86771, 107758, 78058, 52093, 73914, 10457, 69721, 51870, 34633, 75506, 20312, 105762, 9503, 16871, 70190, 96559, 19717, 105381, 15451, 104881, 69449, 95656, 76222, 114864, 32412, 103799, 46169, 115891, 19368, 144667, 62770, 28169, 10400, 50697, 10485, 7564, 112239, 121984, 92880, 45986, 116301, 137764, 44665, 27314, 82800, 144447, 131843, 75108, 1668, 38721, 119464, 137688, 4388, 43738, 34924, 35551, 8725, 128466, 33430, 37860, 27700, 28727, 83316, 57032, 40891, 133428, 120611, 102663, 13323, 31741, 110431, 144530, 14377, 135677, 4826, 122754, 78350, 51574, 18607, 95677, 64599, 65265, 118491, 88474, 92293, 78984, 23027, 87983, 67123, 99309, 27463, 21510, 122198, 108418, 88425, 132290, 40176, 66409, 108967, 117047, 79210, 12488, 109342, 32159, 24335, 129075, 117506, 12427, 92870, 32499, 118862, 81301, 136883, 137469, 133596, 26038, 98778, 29200, 6821, 32172, 107339, 42258, 56927, 32089, 101941, 74512, 87869, 26396, 25631, 17598, 22911, 100840, 63083, 101298, 130645, 129959, 114861, 107002, 19779, 67351, 61316, 31336, 100125, 70276, 137984, 111541, 34922, 133847, 139418, 105191, 79646, 51034, 130711, 62506, 27292, 14253, 79232, 105422, 87447, 88102, 12010, 81516, 105940, 113568, 142937, 18939, 24577, 89909, 108679, 72042, 108201, 108050, 58157, 116820, 119015, 61531, 106015, 27280, 78532, 125771, 58351, 146590, 73006, 36891, 56352, 105042, 145740, 31796, 94156, 148257, 26344, 82454, 109148, 74971, 36216, 11237, 9783, 41878, 94413, 144013, 105924, 38368, 71966, 51559, 26413, 63407, 130868, 54663, 137853, 79624, 73621, 103597, 106567, 102574, 68565, 101853, 135806, 18133, 96417, 78743, 87898, 24304, 42845, 28822, 114614, 73879, 36613, 140782, 9184, 142784, 13055, 122436, 142489, 54366, 9838, 17541, 193, 52686, 61542, 141637, 108906, 20880, 110331, 74083, 110775, 130486, 42101, 116102, 33483, 74091, 108998, 57490, 78561, 80480, 126176, 147963, 115461, 10438, 23716, 118945, 45574, 86477, 21253, 61805, 87312, 35198, 21645, 50696, 129596, 106188, 97510, 62180, 124524, 111651, 69509, 145276, 16687, 4741, 146208, 25881, 51358, 74722, 74356, 42632, 42106, 98211, 59578, 31820, 73557, 109750, 118803, 48124, 10547, 61413, 131978, 34851, 82117, 47935, 145582, 78873, 93970, 40025, 12544, 133780, 131264, 129267, 105409, 42764, 104444, 23123, 12791, 29634, 66003, 90108, 6061, 11922, 63179, 95933, 139699, 5927, 138392, 64640, 53471, 144524, 8064, 120404, 54935, 79986, 89770, 22276, 71947, 11956, 116657, 57765, 106123, 37259, 148111, 77764, 123469, 115549, 134938, 62974, 137481, 122737, 130296, 94040, 84229, 58083, 103081, 45329, 17980, 135431, 14133, 64671, 17079, 79685, 75944, 2760, 67464, 83348, 55006, 84648, 84873, 9205, 9436, 33309, 101364, 147367, 92774, 51185, 5339, 135977, 93310, 143705, 49437, 102985, 27653, 140348, 133268, 85329, 113073, 78705, 87354, 120288, 6650, 61061, 42386, 125120, 129188, 79971, 100279, 101360, 52916, 41482, 110322, 118564, 53961, 57477, 75839, 18365, 45218, 142331, 58212, 129704, 123647, 23623, 136314, 15619, 26584, 20163, 118119, 69122, 108582, 44911, 48107, 94684, 32, 53788, 72131, 124365, 26207, 50186, 93627, 5017, 63798, 43254, 6842, 99213, 61519, 104491, 63325, 20937, 66833, 146061, 43605, 79703, 22232, 52198, 131131, 58210, 101601, 19834, 23718, 11934, 74226, 144521, 34749, 105670, 29791, 19213, 66615, 130919, 145535, 6641, 89080, 109056, 44224, 27514, 28946, 94227, 20910, 101240, 21761, 21457, 80502, 44357, 30515, 12958, 17137, 119840, 51169, 83629, 82856, 76893, 98879, 145275, 54604, 124028, 69853, 105075, 4573, 12907, 132326, 55322, 103950, 66427, 16377, 56457, 78163, 15576, 9165, 147578, 14111, 35031, 50487, 79630, 29574, 32140, 110988, 98530, 22257, 75591, 81267, 42099, 91519, 33068, 39493, 16865, 62039, 124486, 99296, 126237, 25606, 142714, 25825, 91307, 76859, 15203, 102559, 72728, 103849, 121758, 33551, 39269, 104050, 103085, 52684, 32610, 147619, 67812, 45900, 94674, 72785, 15132, 58689, 43902, 137810, 82811, 85981, 147622, 100996, 53773, 107153, 52034, 34877, 141628, 130166, 10866, 135030, 8117, 117000, 113677, 29516, 25306, 9785, 95502, 82615, 92029, 27431, 27282, 94162, 83800, 12185, 127134, 85154, 33062, 87557, 134980, 89776, 147510, 144679, 4410, 119679, 145874, 133895, 94951, 118298, 91238, 80361, 144750, 13267, 74169, 72328, 110912, 54185, 1695, 129307, 78953, 12658, 143811, 136601, 5809, 79864, 67377, 8600, 59340, 18640, 10824, 101717, 23761, 16711, 34391, 74256, 27399, 57468, 62313, 109418, 22859, 71980, 109027, 20190, 97278, 118312, 141409, 46569, 117634, 131616, 115323, 14279, 48466, 114049, 69614, 37103, 138295, 139273, 22702, 79176, 37519, 137692, 59759, 110386, 99367, 117341, 24986, 2045, 50213, 2963, 90940, 29824, 24112, 73860, 65815, 6596, 10037, 76055, 123975, 68736, 32718, 65061, 148325, 24325, 56197, 40714, 53493, 124301, 52115, 53558, 20595, 123083, 120416, 22106, 68837, 73076, 14756, 103142, 51783, 71429, 108483, 77229, 92735, 109895, 6816, 57876, 103859, 116748, 75022, 39699, 121387, 69491, 80274, 21581, 12203, 87890, 136445, 24446, 128430, 89740, 39792, 29826, 37755, 49845, 83778, 72783, 74370, 142752, 120494, 143648, 120007, 128816, 83100, 5349, 27142, 79994, 101818, 87465, 51022, 56967, 91532, 82214, 110099, 31818, 39535, 28040, 139074, 128130, 38203, 21736, 35761, 94883, 102171, 54947, 105973, 29971, 72962, 67973, 120396, 76752, 113266, 77876, 110955, 96972, 74591, 27053, 52328, 22301, 50226, 116023, 73729, 96122, 32463, 50357, 5310, 68963, 78049, 47968, 81406, 148676, 70611, 11255, 64982, 93217, 51386, 9476, 116380, 73298, 54714, 88361, 18933, 87371, 146730, 31809, 45974, 91477, 75373, 102269, 2982, 53688, 125793, 136933, 50124, 27414, 82450, 121783, 41021, 47762, 38896, 77029, 14272, 123542, 43747, 119486, 47530, 39007, 131301, 94606, 126316, 102036, 114279, 90578, 17899, 19721, 104821, 38679, 125307, 56747, 145180, 29587, 72674, 93107, 16290, 13755, 40888, 62434, 113295, 51365, 47624, 15469, 5551, 48676, 12771, 142290, 36135, 2421, 136951, 120027, 125928, 27758, 25340, 47940, 37111, 123989, 43150, 119413, 44834, 92208, 11531, 145412, 140498, 130747, 129288, 122782, 114550, 96842, 65508, 20858, 29475, 97241, 117504, 87036, 34570, 7051, 99864, 4792, 122494, 61237, 6191, 116685, 91351, 29845, 18149, 45530, 23156, 140333, 69549, 22704, 27890, 16221, 145145, 47527, 103549, 15704, 33475, 31388, 63996, 128910, 129526, 135064, 47539, 135836, 98933, 85252, 71487, 76599, 39096, 122806, 27219, 23057, 30033, 44649, 131302, 29972, 118878, 18754, 19563, 136786, 82542, 118849, 13412, 145970, 82131, 99846, 79942, 89921, 143598, 8535, 10521, 19816, 116901, 130990, 118792, 95495, 37889, 134115, 61545, 30833, 87924, 106633, 3555, 77472, 141199, 61511, 4599, 84752, 128365, 129479, 107813, 19990, 69376, 84742, 122094, 146805, 14530, 110355, 80042, 49866, 13908, 33780, 81129, 18849, 13773, 44713, 145808, 148573, 56106, 94983, 52212, 103810, 14490, 8018, 77047, 118630, 55044, 102460, 3788, 86105, 132588, 30640, 15455, 117441, 50521, 61490, 59644, 83801, 126239, 105206, 107912, 139376, 18254, 147409, 78285, 69913, 99446, 48117, 141202, 49703, 41887, 85100, 88916, 94269, 24270, 5183, 147973, 28513, 100192, 1987, 42035, 87909, 30, 9156, 141912, 73597, 111692, 125403, 97926, 1844, 16810, 15327, 100819, 147029, 44703, 31654, 43197, 31214, 100737, 45156, 126115, 124611, 145537, 23042, 26636, 78961, 62734, 20566, 20562, 136104, 78337, 135503, 12587, 4725, 20136, 143762, 50723, 53372, 122898, 98637, 63130, 122195, 103947, 53256, 37725, 84827, 26169, 73377, 145000, 62337, 21092, 78464, 126848, 57611, 20692, 116081, 86941, 32582, 134696, 77160, 46191, 37341, 30355, 90632, 83083, 39516, 29952, 67509, 19836, 144052, 68412, 88575, 99875, 97298, 50369, 132707, 65758, 46466, 137443, 38647, 27544, 117373, 126908, 57804, 65137, 116136, 147443, 148675, 135854, 44040, 94822, 131706, 115613, 26863, 6071, 7471, 90416, 76473, 101499, 84582, 32343, 61180, 56849, 8598, 29835, 72207, 95211, 134928, 105069, 86895, 32873, 75090, 87383, 65899, 141231, 61418, 71250, 17392, 5331, 69114, 77560, 83733, 137433, 32911, 132263, 124515, 131764, 30704, 67583, 120417, 51010, 106367, 138056, 11140, 16398, 126938, 83975, 35457, 134985, 38133, 132051, 69365, 143603, 11630, 7734, 101724, 120516, 111235, 130818, 141768, 5174, 33618, 90518, 94416, 141807, 129491, 31012, 96076, 38712, 7731, 131185, 5112, 51280, 145867, 1449, 102803, 131141, 5568, 115241, 47111, 77531, 77965, 140314, 119567, 134412, 88907, 132270, 140058, 38276, 43127, 10456, 127165, 68631, 13693, 124623, 103997, 41692, 92947, 83648, 49633, 3603, 80670, 37855, 128845, 85534, 10331, 41217, 122889, 113618, 130440, 20501, 70525, 124944, 142414, 90941, 99491, 127131, 103191, 63796, 127618, 5431, 85872, 12632, 102234, 30825, 55426, 74114, 64637, 34925, 119738, 10612, 73921, 24754, 120441, 59666, 41346, 41459, 62556, 135493, 36696, 42382, 93125, 100520, 45223, 17933, 70920, 50606, 125684, 72422, 7556, 139059, 86751, 5312, 110854, 137927, 35911, 58276, 28565, 49117, 112011, 10581, 66773, 24409, 35111, 70357, 137954, 125192, 12634, 128786, 114547, 130900, 81579, 107953, 120025, 63131, 96104, 73188, 66040, 131979, 126151, 126968, 116391, 71833, 8847, 72221, 96822, 119653, 22865, 69573, 131891, 38466, 54136, 58638, 50854, 111958, 61380, 128348, 142974, 10439, 12527, 97455, 123522, 113163, 98551, 89758, 8346, 27303, 56285, 84948, 54549, 95135, 47895, 109227, 13946, 72425, 96920, 138971, 48767, 67528, 27437, 76815, 52881, 38210, 50665, 144296, 25591, 133163, 16078, 110860, 84751, 65880, 47575, 79019, 22121, 90902, 56113, 55316, 74964, 52173, 118160, 122331, 30101, 29203, 22853, 90828, 136352, 3175, 66663, 9147, 91461, 79431, 97522, 3790, 50727, 32717, 146527, 35669, 30387, 94733, 26782, 94327, 145954, 997, 6555, 84523, 56365, 21930, 26548, 13333, 136659, 91220, 29911, 69089, 145071, 15311, 35139, 23225, 79442, 27046, 18118, 49575, 84234, 133230, 65129, 146945, 70603, 23585, 20377, 40120, 95234, 97742, 118101, 112403, 77930, 40840, 103377, 90016, 117603, 106674, 107199, 102158, 22390, 115668, 130881, 136470, 30614, 24262, 47862, 45293, 39780, 54379, 15932, 37101, 117229, 1241, 5136, 58767, 25211, 112630, 96635, 107956, 130400, 16790, 132659, 58800, 5762, 147364, 83863, 142372, 136760, 71042, 49831, 146439, 80653, 31971, 129422, 62778, 31415, 82296, 7376, 69837, 47399, 63369, 119549, 140344, 96205, 41289, 46788, 88492, 19421, 57578, 117307, 76101, 38235, 50378, 79366, 48332, 16862, 45703, 27044, 53624, 89251, 54577, 91876, 79198, 115491, 84446, 80688, 17485, 34714, 73042, 110542, 142867, 97664, 129997, 53845, 129658, 8551, 55572, 128412, 42002, 90994, 3718, 67726, 99777, 117297, 121157, 42327, 23961, 56911, 86793, 29775, 20215, 85681, 49744, 56871, 131280, 110886, 83245, 112701, 118796, 141210, 6609, 64828, 131646, 115014, 57542, 112918, 56029, 65773, 12814, 43906, 145425, 20094, 100242, 145546, 50001, 20046, 102518, 66137, 36861, 20331, 17073, 24992, 37451, 14590, 59489, 46247, 28055, 91747, 61406, 123000, 135183, 139627, 13027, 145616, 119336, 64007, 6123, 25309, 147621, 97900, 126533, 110106, 49924, 49623, 32024, 99999, 6996, 64878, 113216, 4411, 62167, 80105, 113225, 125540, 121880, 63478, 53304, 129533, 91639, 16993, 87065, 116002, 125038, 63581, 58946, 122352, 68568, 136782, 16590, 37772, 130373, 22864, 80619, 90757, 122836, 126276, 117516, 81802, 60746, 51753, 31559, 6773, 3572, 142965, 6285, 33821, 12462, 66214, 10982, 63793, 94389, 122819, 61314, 42407, 110906, 82, 165, 77854, 49502, 87555, 123211, 47758, 125284, 33699, 36690, 96061, 111379, 148606, 146103, 21685, 21866, 64833, 99617, 123116, 97151, 120023, 79508, 62926, 125687, 46236, 99789, 91214, 18284, 62087, 20772, 107234, 137474, 94412, 94289, 110685, 5693, 91750, 32520, 97297, 102122, 71948, 114001, 10476, 72568, 148444, 50810, 39018, 57336, 115003, 19691, 34039, 1544, 74267, 90566, 91335, 111387, 69007, 135077, 52753, 78891, 64580, 11201, 103768, 36998, 9823, 134611, 119543, 85731, 86611, 7289, 134989, 100181, 64256, 47860, 83325, 114834, 34970, 77862, 139609, 120870, 68705, 23742, 28951, 97743, 91959, 138922, 50951, 50691, 100646, 9911, 99107, 52812, 93450, 36123, 26522, 110819, 115671, 135602, 101797, 97204, 128278, 59937, 21431, 61200, 117461, 56434, 144163, 119588, 30050, 133565, 81383, 95986, 84393, 71813, 83928, 51021, 34801, 92487, 79241, 130089, 84905, 143018, 53350, 51119, 132028, 61207, 76387, 25555, 55618, 112844, 57780, 77939, 125016, 20488, 132317, 119061, 17394, 124777, 66523, 29063, 98325, 36748, 43095, 116077, 89323, 143180, 660, 45357, 106255, 11665, 128442, 87150, 135253, 121164, 123461, 67147, 101234, 64925, 96119, 27366, 132774, 53245, 4434, 100733, 138967, 101706, 13714, 103594, 108151, 117733, 79225, 78664, 40839, 54937, 36858, 54466, 69959, 54497, 134630, 56072, 8022, 137598, 28102, 86264, 30654, 103276, 138608, 120542, 30681, 115660, 64721, 34693, 49407, 135130, 142795, 22244, 92593, 118675, 51921, 77899, 60368, 144673, 53430, 81001, 19478, 142913, 24719, 41011, 84766, 116644, 73767, 36482, 137837, 91773, 133247, 109504, 52626, 102114, 66039, 70194, 140260, 112768, 105227, 29934, 95868, 68152, 87651, 134855, 7862, 122800, 132621, 24128, 33826, 144612, 4185, 76917, 77338, 54329, 10804, 43201, 147023, 48810, 106448, 80011, 85243, 114545, 109615, 69478, 111552, 119461, 65835, 16737, 593, 55148, 44674, 42982, 12150, 136878, 7467, 46308, 430, 101176, 94605, 28464, 28083, 35521, 39503, 120955, 19232, 112191, 3604, 40824, 134486, 111707, 94625, 8671, 10341, 22514, 68059, 81284, 82437, 12023, 84054, 113467, 119954, 12684, 75977, 19605, 96998, 36396, 42234, 28110, 61270, 64689, 107271, 84122, 100949, 48982, 95608, 39978, 134697, 96347, 6041, 118628, 38089, 14595, 109801, 92843, 145569, 73243, 120607, 4623, 124424, 106888, 17544, 144752, 102752, 6462, 76288, 96630, 131752, 1221, 67861, 81563, 99177, 76361, 105955, 118682, 65738, 11812, 103488, 122860, 129327, 44504, 9296, 80159, 73209, 22883, 3420, 79820, 122799, 146125, 15277, 80908, 118217, 17157, 83060, 135372, 122479, 116683, 33932, 15456, 54861, 39321, 32166, 84989, 143783, 73983, 120327, 104181, 79213, 140633, 126315, 15370, 2443, 55197, 141872, 144043, 33, 42479, 109746, 52551, 32808, 5383, 37191, 128114, 966, 57607, 137484, 53351, 85280, 23414, 33923, 142309, 23256, 135025, 113109, 73174, 75950, 122091, 3072, 15891, 122403, 112733, 25, 130211, 68193, 73727, 7288, 34546, 58692, 141515, 127049, 33752, 129379, 59807, 78386, 42290, 85584, 2259, 39006, 126786, 101198, 138807, 20160, 90283, 131390, 129667, 87860, 92124, 80250, 137382, 16238, 36315, 83593, 121160, 8831, 91516, 142549, 146673, 139476, 146576, 71796, 60809, 76298, 105584, 13388, 55450, 110905, 19195, 28340, 5891, 19660, 139748, 4387, 60310, 11478, 72448, 110904, 90306, 49522, 7742, 74888, 15333, 134550, 102585, 76834, 108186, 42595, 7735, 128715, 30750, 139478, 1078, 47767, 51134, 147804, 71818, 47025, 11772, 80873, 70926, 116412, 96541, 35296, 20586, 80124, 70220, 146150, 7408, 145291, 6226, 122360, 14320, 57756, 134111, 10051, 8509, 114969, 43791, 104983, 52063, 87053, 107246, 94548, 100557, 58214, 35221, 45593, 4604, 103376, 125887, 44895, 102455, 38661, 136746, 62174, 81349, 70393, 62344, 47313, 133164, 116198, 49221, 75722, 122298, 90188, 75261, 24333, 29499, 8730, 55929, 11490, 10696, 131710, 92386, 85350, 142661, 8061, 36130, 6728, 142861, 43860, 123683, 29273, 21014, 104925, 66364, 10382, 71881, 1222, 11208, 17672, 77085, 80135, 51642, 144283, 24491, 51967, 61217, 102447, 54011, 144306, 85952, 142071, 45533, 107733, 137982, 105393, 69526, 115157, 66537, 97437, 137446, 117840, 61206, 96740, 26811, 148356, 36080, 31306, 130529, 44945, 58012, 132814, 139593, 126297, 147779, 116056, 26047, 105282, 15394, 61226, 96572, 59854, 60021, 64084, 117031, 100705, 115166, 45811, 123283, 27682, 124496, 42813, 58991, 88202, 74770, 52364, 89751, 77419, 80417, 125784, 128914, 22766, 133707, 83519, 83272, 80883, 3107, 82946, 38787, 33902, 65743, 103967, 38803, 67776, 143588, 17489, 80367, 88104, 59945, 41611, 135894, 30756, 19983, 24886, 20174, 13553, 143103, 93138, 143073, 13589, 11396, 23132, 83955, 135993, 2348, 118548, 31739, 135348, 75365, 20339, 132350, 94821, 42147, 148627, 35222, 72551, 10216, 73808, 57941, 88484, 133070, 139052, 55462, 18515, 1253, 113338, 131497, 48185, 113896, 140724, 43680, 53454, 83595, 145003, 9213, 77780, 91466, 107491, 45428, 78260, 83084, 119584, 111821, 131470, 120459, 26028, 124199, 48963, 125406, 121931, 40646, 126458, 26997, 51832, 59913, 129572, 9834, 10124, 38830, 24755, 114931, 95840, 22534, 40157, 84254, 128947, 77402, 35671, 28993, 84778, 137707, 134479, 83867, 81597, 75786, 66817, 93599, 120736, 10540, 126788, 121760, 148754, 100871, 57284, 45792, 136732, 93955, 67548, 15263, 48597, 64756, 109751, 34982, 118902, 5752, 103051, 12513, 130695, 91826, 68712, 14364, 139959, 51262, 147512, 72671, 105635, 108265, 127761, 33412, 33225, 124036, 109061, 86104, 98335, 18327, 86509, 48527, 75757, 102629, 2640, 106995, 37664, 41915, 84772, 44957, 146763, 88130, 108490, 54345, 108467, 135033, 138338, 7083, 100114, 87126, 49883, 145248, 61117, 46496, 81538, 22938, 44257, 22535, 138996, 8788, 132403, 45173, 140757, 42996, 139242, 125725, 3243, 51681, 102364, 13189, 71836, 21691, 36017, 134196, 137482, 139194, 84322, 90666, 137806, 43611, 32965, 13139, 54142, 51436, 38237, 13544, 132325, 10614, 29474, 147067, 62566, 56814, 121352, 141474, 147682, 9178, 132275, 29334, 64455, 123576, 90807, 132052, 140265, 124597, 93378, 41619, 133139, 24750, 14805, 83296, 146318, 75910, 146016, 21783, 135804, 103533, 108580, 121174, 107214, 77635, 32626, 37031, 134336, 42024, 13996, 7071, 29645, 77526, 8029, 93464, 134693, 101394, 72013, 63788, 137939, 84694, 71703, 95584, 40886, 106430, 113167, 129874, 64075, 66399, 62838, 85753, 106673, 88828, 98149, 23477, 9941, 91766, 108058, 732, 29411, 92863, 141658, 114945, 126647, 103600, 41921, 108519, 58117, 132742, 144305, 3352, 38338, 85091, 71990, 146790, 115929, 75569, 114848, 102740, 39440, 49881, 116754, 48673, 121609, 132917, 93242, 88835, 134953, 138602, 70934, 76100, 139759, 78162, 81792, 59508, 110538, 47139, 86326, 146457, 124631, 54647, 38579, 125145, 130700, 48247, 77133, 2884, 92204, 38075, 23345, 37992, 96390, 17693, 120664, 85407, 129994, 39005, 106075, 147567, 51062, 73132, 4320, 28531, 64452, 67163, 5968, 21810, 134710, 94342, 58406, 14826, 121929, 147177, 128747, 90100, 38648, 65263, 34528, 110570, 15607, 61043, 88161, 85390, 21838, 18028, 7779, 18947, 20118, 2591, 138333, 20193, 97773, 119826, 114577, 99362, 32512, 112684, 26424, 88424, 55733, 16452, 85108, 33187, 4976, 79691, 91090, 96056, 11485, 116402, 133316, 121191, 23862, 18811, 10725, 130792, 62944, 82322, 59895, 90474, 36863, 43986, 146302, 52097, 144873, 66442, 43704, 124763, 42404, 66543, 8627, 102825, 87548, 6535, 148461, 4797, 22473, 125734, 56022, 24515, 39206, 76471, 32488, 77482, 42233, 110726, 39290, 95826, 91916, 56463, 75803, 56896, 109138, 147936, 44892, 105118, 48664, 40431, 25278, 58734, 123366, 22002, 73924, 129128, 64924, 51833, 19115, 55574, 146744, 130754, 145760, 115327, 119598, 13206, 29257, 102223, 103807, 23336, 60847, 134180, 104308, 15616, 38532, 120343, 53452, 4152, 33341, 113855, 96328, 114381, 101290, 141985, 139775, 138746, 109411, 97690, 146702, 115321, 32620, 143502, 120755, 87819, 37488, 41244, 40721, 66473, 143582, 66283, 55511, 104674, 87921, 34368, 127810, 108326, 114956, 76580, 18703, 58278, 86096, 73175, 49388, 113907, 85233, 139303, 37971, 141281, 109860, 147369, 82874, 23283, 34649, 121025, 136451, 74860, 62159, 132657, 142, 146639, 11033, 65175, 43382, 33568, 120269, 17174, 120837, 25305, 98854, 25744, 145451, 127757, 142453, 103897, 7900, 69344, 37440, 116008, 43876, 96827, 65261, 111321, 15128, 119980, 132863, 63263, 134328, 78012, 18682, 27035, 107990, 80129, 30537, 124908, 45252, 26192, 147549, 75254, 81790, 48358, 85018, 146524, 119592, 28738, 17921, 25194, 69742, 137932, 69593, 73264, 88863, 78340, 135122, 81056, 32514, 63192, 67268, 39869, 116798, 31717, 83082, 141055, 84852, 46393, 47128, 117388, 142953, 129500, 40682, 81352, 123607, 84106, 137974, 3227, 113352, 75446, 91654, 13694, 124247, 28762, 48511, 77466, 100474, 67052, 50477, 28411, 99022, 27118, 70410, 70756, 2629, 20353, 39922, 121721, 107282, 18348, 132393, 53838, 10522, 114727, 122591, 61878, 80022, 55157, 101199, 119924, 81177, 82055, 133686, 83098, 122477, 110598, 129598, 36117, 79674, 82293, 133766, 140940, 28894, 4782, 4528, 134394, 52579, 93323, 4037, 139190, 145555, 38385, 35349, 2568, 129699, 1168, 90774, 9082, 48301, 8674, 124858, 52760, 122755, 60963, 87425, 97405, 19662, 43137, 50446, 114529, 119808, 69421, 136107, 14921, 62931, 26397, 112120, 72707, 29617, 11770, 44531, 125888, 100406, 145144, 131006, 100696, 78382, 138070, 16835, 33004, 135027, 22738, 115861, 146951, 124430, 61828, 113048, 16506, 11735, 40529, 91435, 62547, 101569, 56357, 82034, 115636, 57657, 50479, 29738, 4099, 4116, 17453, 36606, 27328, 104115, 78242, 146454, 106346, 101144, 3542, 113558, 6307, 43471, 91548, 5942, 51082, 41100, 62595, 48360, 89872, 73101, 114641, 116146, 60941, 134577, 45800, 2025, 103379, 54964, 145680, 10961, 41860, 20975, 128892, 15981, 77444, 42161, 132820, 81108, 131073, 84728, 72807, 57243, 143601, 83187, 79144, 73323, 122772, 72290, 68862, 35719, 99185, 94277, 131800, 9813, 52326, 71745, 85422, 88098, 19315, 89937, 58581, 141662, 144245, 17552, 90198, 109743, 127528, 27860, 51730, 135759, 100067, 143959, 32523, 144824, 88625, 28447, 103578, 34074, 75952, 44718, 694, 104300, 124139, 49476, 119247, 44597, 74337, 23391, 40931, 81995, 109908, 63339, 72174, 141623, 78870, 90275, 65395, 56576, 104403, 9902, 73478, 131747, 65179, 52777, 52893, 13085, 121273, 59918, 144928, 10340, 53990, 63044, 99805, 19908, 136280, 69568, 64395, 79173, 9687, 62153, 119237, 31587, 2380, 59086, 118713, 94032, 66658, 23805, 134741, 109259, 88379, 14215, 139921, 72750, 78562, 77471, 52971, 113941, 28164, 64608, 103352, 20623, 34557, 96847, 57503, 140491, 34775, 61405, 24172, 85567, 143515, 34669, 106555, 88478, 81855, 56199, 124569, 1404, 133030, 108477, 61787, 56908, 72275, 34598, 23518, 52335, 103986, 31889, 35728, 126583, 73151, 99995, 89138, 9155, 69769, 109739, 84599, 57193, 89607, 129287, 101152, 116227, 129456, 39387, 30479, 145143, 32198, 42190, 75297, 64504, 15240, 104040, 3514, 79011, 96793, 39820, 98431, 74314, 35940, 57235, 58416, 39174, 146137, 136810, 68071, 40185, 79137, 28910, 73968, 936, 48594, 85215, 105653, 122130, 85075, 46157, 44542, 130843, 45691, 93252, 99866, 17135, 60207, 10254, 6779, 124839, 7942, 78804, 71709, 111743, 116057, 80840, 72742, 127254, 128592, 74164, 41836, 5788, 10304, 90602, 117186, 39415, 146675, 96758, 13494, 13541, 5159, 64499, 139328, 26504, 58611, 37194, 88627, 107790, 49046, 27978, 79394, 35012, 123942, 99762, 23901, 59626, 114515, 58720, 72242, 72654, 142512, 3258, 50693, 110793, 81768, 60439, 23546, 44139, 122723, 99192, 143833, 78678, 21782, 1016, 121706, 72069, 55336, 41182, 32952, 25450, 12543, 36016, 110135, 132628, 125904, 78720, 98330, 45101, 46619, 114581, 33449, 20514, 3084, 123308, 94326, 94730, 67810, 9252, 60623, 36489, 115908, 139866, 113392, 108153, 134946, 124633, 79571, 93816, 89378, 141332, 43971, 2360, 3713, 53552, 2978, 125409, 141254, 42518, 48555, 45189, 44671, 9540, 22624, 122232, 91338, 81184, 143311, 70638, 32790, 75132, 45242, 12255, 30300, 121041, 33944, 92332, 135199, 10096, 146039, 24528, 31788, 143674, 28324, 119843, 11324, 76827, 101079, 29084, 14937, 73554, 76522, 79813, 39380, 68061, 74294, 50423, 122658, 66810, 100363, 125394, 98506, 41457, 55073, 99910, 13615, 143344, 22549, 76314, 18438, 84313, 120246, 38169, 140323, 110248, 90046, 69808, 74665, 108094, 68624, 85539, 128340, 109469, 73206, 34090, 69312, 115038, 137126, 123030, 96944, 21071, 73225, 119438, 116558, 94852, 83738, 64514, 25934, 52494, 105998, 36212, 41154, 87306, 23551, 139209, 26463, 46433, 30354, 80577, 143161, 95261, 10290, 87822, 138978, 107760, 97024, 88428, 140912, 93003, 124462, 76179, 22012, 56732, 31958, 117602, 87063, 57353, 22892, 77890, 70130, 67369, 29928, 114981, 30004, 13322, 82017, 34702, 145608, 141724, 72045, 120679, 3545, 83808, 135172, 40862, 116429, 60012, 111573, 94008, 53117, 126765, 10902, 109327, 94713, 48327, 66648, 119170, 66448, 15258, 95347, 659, 87489, 61919, 78928, 23576, 50298, 103519, 69374, 100842, 131962, 147677, 115212, 127428, 75577, 99002, 14042, 16935, 50626, 7639, 5059, 18219, 76841, 143585, 138343, 87435, 98169, 115472, 42191, 110220, 21484, 85781, 10167, 39623, 136748, 27215, 3527, 22707, 20659, 128698, 57582, 93421, 100667, 79918, 81886, 123361, 17800, 87390, 53824, 144511, 145734, 109955, 13863, 3936, 28903, 36045, 121390, 45009, 116223, 88886, 58000, 59713, 119187, 37024, 70635, 22665, 26789, 108395, 53336, 63356, 147174, 83259, 31823, 15216, 19547, 10738, 1781, 15979, 38924, 19704, 12121, 32361, 12347, 83196, 604, 140009, 60938, 57090, 117663, 132371, 7608, 143976, 117359, 47604, 78535, 20823, 80678, 140529, 39485, 5033, 44227, 75047, 77962, 29550, 58553, 72838, 143331, 69207, 54875, 95480, 63948, 20283, 75265, 76547, 5228, 61500, 28655, 118924, 117501, 25749, 14289, 106461, 72111, 100758, 42694, 38568, 73766, 30918, 62362, 121753, 111091, 22914, 17912, 117065, 15363, 86147, 57263, 88790, 2895, 95172, 62905, 40134, 102788, 107971, 126138, 33100, 98273, 82805, 128905, 127886, 70811, 33935, 142810, 74965, 55701, 25426, 135685, 48409, 101272, 6257, 90620, 1278, 24776, 4803, 145581, 42909, 128361, 65641, 117041, 62135, 104269, 67090, 18999, 93804, 108456, 135850, 18168, 22846, 131211, 108532, 97283, 26181, 19288, 99933, 14260, 6576, 114719, 87232, 120175, 123376, 139925, 37618, 23949, 138057, 65159, 7781, 111844, 15040, 88649, 137108, 82680, 118267, 14090, 25776, 103281, 144657, 128962, 116286, 115595, 131543, 35563, 89615, 126504, 122072, 141673, 82904, 2246, 132007, 136558, 33141, 134081, 16047, 23254, 113774, 100205, 11407, 146713, 12740, 20223, 23755, 144386, 140688, 56295, 51799, 71199, 28412, 58533, 52872, 4399, 39467, 10193, 124889, 120702, 133782, 72273, 95963, 55646, 38586, 14897, 70792, 46792, 8283, 141206, 109699, 41029, 62870, 63297, 70602, 9246, 114610, 3162, 4633, 75444, 122711, 69957, 66877, 139731, 95197, 110150, 136667, 69997, 60165, 80192, 92594, 113784, 58219, 31424, 82400, 63816, 109840, 46507, 26663, 145515, 123849, 66498, 744, 122495, 11489, 114434, 145972, 148727, 134013, 6834, 105846, 19030, 81311, 18280, 3892, 58746, 82980, 41708, 1631, 123117, 63491, 94483, 118424, 128662, 118637, 80554, 66886, 47577, 79077, 109642, 85281, 101558, 74927, 56879, 53034, 17819, 12091, 85679, 123075, 15397, 36546, 95661, 58771, 91952, 131082, 10700, 134057, 40835, 106332, 40717, 122102, 30938, 130624, 21024, 139465, 42400, 53605, 71640, 15149, 37994, 97363, 26247, 89356, 48617, 124963, 85898, 47082, 128368, 48786, 108664, 42192, 73361, 86943, 29314, 80152, 67307, 129306, 21308, 47486, 57088, 18771, 39113, 88155, 65763, 108479, 34807, 63377, 12671, 87017, 143132, 29239, 48690, 51087, 25195, 63584, 121193, 104602, 63345, 57101, 66661, 47836, 135491, 87175, 42307, 91631, 12548, 92205, 54743, 43746, 27521, 36167, 16978, 73236, 42959, 18827, 129377, 137052, 113105, 83788, 13300, 9574, 80966, 81789, 120873, 137419, 146184, 120935, 85772, 82585, 19472, 137852, 94905, 52456, 90316, 39947, 129595, 114615, 32918, 110317, 104560, 136814, 36121, 132144, 61020, 48090, 94021, 137036, 54319, 25759, 45458, 142757, 134679, 10241, 63088, 53310, 116359, 45319, 57201, 134158, 60182, 87970, 104577, 20267, 57124, 44721, 18457, 59243, 72363, 9552, 85085, 114314, 11397, 141006, 44280, 86520, 33334, 99728, 46159, 123769, 78884, 107068, 110373, 59519, 131545, 605, 54114, 54318, 99066, 138684, 141834, 148077, 125821, 19726, 97192, 2639, 9397, 139863, 105469, 53620, 53709, 63779, 96256, 62869, 51392, 59987, 77418, 53147, 78785, 107465, 119514, 129416, 117398, 16080, 140385, 129184, 16148, 35727, 135226, 146005, 87726, 143621, 118830, 11154, 76134, 91354, 37729, 10590, 111096, 81853, 47225, 26086, 109366, 123436, 82660, 56659, 49670, 144723, 38599, 76087, 85771, 7726, 39255, 3008, 17436, 19338, 145685, 80380, 72525, 61687, 89180, 19796, 132831, 95449, 20761, 59445, 33779, 127376, 99061, 89544, 36647, 141868, 21059, 70535, 80326, 23764, 142857, 21788, 146601, 50752, 43441, 132136, 50811, 64861, 126214, 30997, 90371, 46321, 1912, 148531, 58738, 134171, 121700, 111102, 96275, 134851, 52112, 79644, 80892, 108176, 128309, 19225, 122814, 103567, 100379, 97097, 2413, 91700, 116666, 70057, 62328, 136570, 43500, 68863, 108765, 20436, 18464, 70731, 63489, 136158, 57391, 134779, 95414, 78968, 59426, 11160, 97169, 104774, 25198, 16094, 108447, 129946, 88982, 130781, 51971, 144946, 124482, 60148, 133493, 5021, 100970, 7419, 142225, 116121, 37326, 140917, 92409, 24769, 79417, 58134, 118941, 142994, 133693, 119031, 116051, 7528, 79604, 35977, 63015, 105048, 51830, 47687, 90094, 15156, 27761, 11213, 91441, 106338, 30119, 86193, 90730, 116307, 148570, 76963, 100475, 113457, 19204, 45882, 103876, 109373, 90923, 133147, 33772, 128889, 47669, 123924, 34360, 139948, 101835, 100533, 60802, 51820, 48154, 108622, 40077, 75773, 65389, 42572, 22268, 132733, 12512, 60556, 30565, 145660, 131314, 40506, 123056, 68046, 6568, 77455, 29132, 114054, 65411, 44988, 27283, 44037, 148116, 120520, 127052, 5887, 87768, 31728, 144141, 8525, 136769, 27105, 78143, 75144, 56027, 134651, 23802, 138453, 32762, 137620, 87593, 116659, 44005, 21936, 14706, 66601, 28855, 22141, 92750, 37968, 76476, 37120, 49192, 133821, 80639, 109431, 22838, 3140, 30411, 1334, 111912, 37059, 24480, 1288, 122074, 106637, 78344, 137544, 114344, 28996, 13661, 11924, 100424, 21820, 8477, 142224, 112971, 132284, 111763, 112098, 98119, 27165, 57967, 1584, 37423, 113186, 90847, 55101, 26606, 108132, 27403, 139648, 137056, 148620, 52821, 9087, 91530, 97895, 136430, 12198, 67357, 16174, 121973, 31537, 42668, 62756, 83623, 95375, 8471, 54768, 33023, 146833, 17695, 63246, 10146, 136632, 45018, 91602, 148684, 80768, 117454, 88538, 118021, 65577, 21583, 118254, 73619, 63969, 95829, 70574, 8630, 94042, 100361, 54764, 135712, 948, 121414, 145378, 29232, 92060, 699, 138191, 130766, 58139, 36833, 7917, 103038, 62350, 94343, 137677, 88623, 16877, 117023, 5805, 117235, 14733, 35524, 103424, 7908, 60589, 72919, 102108, 30149, 130274, 14022, 126262, 50967, 90745, 108202, 135807, 41633, 137467, 65157, 101083, 16630, 78900, 82717, 123635, 70306, 62272, 138418, 134998, 75847, 99907, 92132, 76985, 92769, 79639, 82378, 132928, 141959, 127098, 105087, 82483, 42692, 74322, 99050, 46829, 2855, 49472, 12093, 128784, 139568, 91607, 64275, 147481, 86254, 82576, 12746, 90388, 34589, 92627, 20690, 54349, 30177, 42905, 97939, 46894, 124933, 132633, 143748, 100937, 109986, 37295, 130055, 25831, 3046, 143821, 116615, 54844, 52810, 123947, 109462, 90993, 21479, 39211, 147928, 119852, 91487, 102186, 4446, 52568, 133553, 70247, 64431, 40294, 5269, 123571, 91872, 82985, 40107, 25557, 106091, 71557, 65541, 81133, 12127, 19954, 72526, 92668, 85083, 75337, 132163, 13799, 62741, 87056, 142481, 100796, 72189, 39637, 87112, 105096, 135689, 43877, 145259, 69016, 57161, 141663, 89952, 61774, 60473, 140266, 92478, 73157, 85047, 54171, 60861, 64512, 48903, 52096, 89369, 134631, 121410, 127381, 108389, 45239, 27606, 100731, 37942, 36179, 135256, 104196, 82778, 83367, 101116, 90519, 93562, 26160, 129868, 55722, 81399, 736, 65987, 127840, 29179, 32346, 106509, 70828, 34519, 45651, 101295, 121023, 80856, 67054, 86291, 91858, 23894, 106533, 140369, 69381, 115956, 121026, 133127, 67281, 123894, 105143, 23021, 67721, 67441, 35311, 40787, 40734, 97979, 144184, 95837, 96029, 97028, 28121, 136140, 75991, 66447, 142423, 133560, 48999, 33272, 22858, 62376, 121978, 142877, 145768, 94229, 24694, 109319, 78127, 73274, 72571, 105246, 49089, 37197, 51808, 93763, 48920, 87174, 88193, 22790, 26585, 9408, 125150, 71155, 46151, 43892, 107766, 93991, 80420, 48011, 39760, 108957, 88062, 125840, 127364, 73770, 24506, 18727, 95859, 131345, 45328, 101448, 25575, 54821, 79771, 46963, 30097, 13853, 29164, 74620, 69969, 38548, 131686, 12309, 95477, 126395, 45755, 110390, 131777, 42519, 100938, 127201, 98992, 72146, 102965, 124354, 58840, 135657, 65599, 241, 118028, 40578, 15015, 23668, 45305, 124942, 14189, 58807, 42144, 98665, 13098, 147213, 142951, 17424, 86333, 59278, 61477, 118542, 22179, 143543, 122015, 128314, 115434, 51950, 122256, 81872, 64776, 84720, 145439, 116992, 47285, 130997, 45113, 92128, 10520, 145650, 60835, 143068, 132724, 107042, 10934, 97922, 28930, 83844, 20900, 105124, 72840, 29268, 97212, 97863, 95524, 24904, 74446, 26107, 23018, 146083, 83944, 28058, 92908, 135371, 52647, 117095, 58910, 15008, 28828, 19863, 31304, 56021, 55807, 87984, 82122, 148137, 93375, 96651, 104878, 27506, 34670, 98774, 15301, 142918, 99364, 123296, 72661, 119782, 110371, 52755, 3743, 128310, 20065, 144436, 137273, 65903, 79729, 123540, 92393, 68545, 79587, 57857, 39936, 81781, 122959, 144853, 143904, 52712, 144916, 88705, 147969, 76848, 37857, 33303, 78303, 117470, 118167, 5770, 88153, 20146, 9057, 74170, 120707, 8228, 84112, 91595, 121374, 16553, 29352, 50365, 44325, 130050, 144847, 109175, 19314, 88281, 144988, 148489, 69773, 18650, 130950, 35919, 56701, 51447, 27620, 118740, 10826, 72740, 94255, 41659, 90140, 74502, 83920, 92698, 57238, 122216, 128295, 31675, 110544, 25673, 98270, 143533, 4687, 84275, 41658, 122376, 46178, 73884, 82416, 49577, 51588, 17387, 53139, 121437, 70776, 90484, 73016, 108886, 120358, 81915, 92286, 138871, 64355, 53768, 13928, 59063, 99633, 29964, 34416, 54687, 33791, 93999, 112421, 64639, 143539, 26005, 66924, 96935, 43658, 65178, 60476, 70563, 118488, 93657, 101168, 119891, 85392, 107872, 20632, 24556, 102815, 132527, 25150, 101258, 22674, 16672, 136354, 111888, 26666, 130127, 62285, 15768, 52522, 3491, 132056, 2187, 96396, 126766, 136675, 52186, 1969, 124918, 54371, 24182, 129207, 107834, 28553, 41616, 111946, 88516, 38153, 90467, 119285, 131774, 24318, 104135, 8465, 63537, 4102, 50719, 139826, 65891, 112000, 7746, 47077, 135793, 61806, 140866, 116156, 17360, 124739, 43568, 3108, 138048, 75458, 7106, 93394, 52950, 130207, 87943, 107114, 86772, 131225, 51853, 109969, 11362, 11306, 14355, 86893, 105350, 101155, 138497, 28141, 105541, 94551, 3510, 42922, 99121, 70950, 100572, 8184, 110461, 14988, 147245, 93769, 44881, 95961, 16937, 117868, 139473, 31480, 5280, 104717, 147841, 118448, 136726, 48044, 55273, 18386, 92717, 27449, 83512, 86415, 61293, 8673, 86544, 4271, 55828, 76236, 111007, 107710, 61424, 65063, 110102, 82598, 124965, 68724, 78631, 35312, 146669, 35973, 29484, 55198, 24929, 82907, 96823, 136649, 51509, 17507, 102067, 34774, 72646, 72474, 42804, 51442, 101340, 10613, 33943, 90925, 53469, 97709, 132687, 121623, 119045, 62115, 138273, 65269, 60789, 61742, 32405, 146582, 23151, 44316, 84418, 126289, 53288, 61858, 81910, 18312, 53629, 21186, 95767, 112160, 105621, 95264, 40162, 23580, 39510, 22271, 56346, 114305, 71516, 5724, 137082, 109191, 30967, 80284, 67599, 145859, 100372, 121029, 128022, 111580, 16646, 109912, 119805, 92942, 64248, 124614, 82373, 57514, 14135, 102419, 39992, 78118, 88157, 87842, 56079, 68407, 70942, 100054, 2916, 95363, 40875, 55431, 146393, 2419, 123752, 115741, 41881, 138205, 31753, 15073, 43809, 58358, 137477, 37537, 74863, 146327, 55344, 147285, 113219, 24443, 49331, 83723, 37802, 18115, 15256, 104156, 70775, 96304, 44600, 79423, 45813, 7273, 3907, 74084, 7126, 17352, 106500, 72323, 126319, 72522, 34199, 90432, 76929, 116292, 90956, 29327, 64750, 135203, 44800, 70929, 41262, 28131, 14216, 121543, 38621, 92415, 38701, 132661, 142300, 39077, 110840, 125579, 102939, 120329, 45817, 12798, 125096, 106107, 75682, 30159, 86013, 91665, 52399, 93874, 81939, 85632, 131261, 56147, 128547, 17425, 80213, 63766, 31865, 62234, 28676, 81739, 135355, 36571, 28859, 7976, 12200, 7529, 96367, 36686, 130911, 55393, 141519, 11723, 52547, 77477, 86483, 5281, 39762, 22585, 146228, 95188, 116661, 52252, 62050, 31680, 111005, 17408, 6745, 103238, 2483, 69915, 94058, 97213, 101391, 1853, 129854, 49982, 66816, 69469, 9851, 25603, 2399, 81420, 123754, 99608, 19324, 99169, 54723, 92289, 29717, 119275, 98346, 42561, 114567, 27686, 112096, 109296, 113087, 109206, 133705, 127782, 57772, 125625, 36872, 143056, 87199, 76233, 131893, 96520, 21973, 82544, 117930, 18449, 88855, 137506, 45022, 133393, 28137, 13632, 3391, 128332, 123335, 42761, 54548, 140706, 128312, 34735, 7871, 133400, 119538, 63553, 47597, 41563, 34903, 97009, 64, 127353, 51561, 27213, 43080, 56762, 83605, 130644, 105359, 49654, 117613, 145342, 132713, 47433, 63041, 7314, 129003, 101878, 6713, 10427, 27407, 42124, 67744, 122148, 139449, 98193, 10702, 94307, 89025, 91138, 124452, 37693, 34681, 141935, 41372, 15657, 53884, 5459, 105562, 57411, 131656, 66598, 75967, 39787, 84001, 78148, 16610, 15755, 28848, 62408, 42169, 108320, 147414, 54787, 17990, 20439, 105679, 114686, 24426, 107722, 85754, 80598, 100617, 30120, 34122, 85066, 66479, 114785, 96323, 31063, 83734, 18621, 125427, 92318, 144869, 84420, 140888, 8588, 103560, 73299, 144429, 97594, 87130, 4292, 30737, 39825, 104752, 147365, 1677, 102313, 7653, 137444, 79000, 56745, 57085, 104550, 99176, 139226, 54088, 53922, 121726, 105578, 145635, 58244, 107269, 39372, 28826, 75055, 146391, 121353, 130549, 13251, 24823, 127899, 90816, 121599, 49148, 109594, 12116, 42472, 1880, 44918, 5480, 2349, 1894, 19436, 144995, 93008, 50252, 133501, 105982, 91178, 103060, 25389, 126843, 24281, 109260, 123394, 65240, 50063, 17486, 126581, 4340, 120406, 141327, 143571, 143090, 77924, 79814, 50609, 18686, 70061, 133455, 72402, 74444, 98246, 85195, 16050, 37736, 36249, 132851, 31329, 39352, 25538, 108589, 87902, 52931, 98984, 34747, 40914, 41302, 64072, 78030, 3244, 86290, 109288, 3040, 63171, 140434, 123747, 74696, 69173, 114388, 123920, 111148, 13868, 132983, 68444, 36031, 24401, 112135, 125113, 147463, 122348, 135134, 3277, 40941, 3285, 125468, 1017, 41541, 19813, 66656, 134354, 34856, 27759, 52038, 122551, 70798, 107668, 27293, 50033, 49099, 68408, 43053, 26312, 62340, 50525, 30906, 9095, 10399, 9986, 111510, 113807, 29646, 7491, 2335, 107909, 137621, 82655, 136522, 94552, 124923, 32581, 66011, 85454, 148413, 13776, 38725, 31608, 30398, 25680, 146284, 145431, 28434, 126871, 11072, 85860, 64023, 12975, 146815, 73444, 8808, 40877, 98826, 38268, 9987, 60769, 3364, 52478, 89613, 35655, 7666, 53677, 52697, 109882, 93277, 144888, 107894, 103453, 113562, 132156, 8861, 126437, 64130, 30070, 94089, 115479, 18330, 137655, 65388, 22724, 8003, 68633, 32150, 123039, 76083, 57788, 65301, 26206, 145846, 49948, 128181, 29651, 12780, 108705, 29732, 44739, 72359, 40908, 114161, 114915, 39599, 94086, 92584, 65635, 121379, 94880, 88901, 127375, 130857, 120548, 138648, 142144, 125080, 137580, 63991, 16049, 32923, 98478, 78443, 23520, 92248, 53138, 96780, 113540, 61041, 6516, 111581, 15002, 50425, 142435, 11716, 76209, 25896, 49364, 35124, 79105, 17590, 97384, 81283, 116393, 118569, 25087, 29530, 54198, 52728, 133640, 9548, 100832, 81324, 79003, 64566, 104569, 55612, 77822, 45616, 9951, 134545, 89558, 11118, 66782, 97713, 96697, 143455, 94573, 79998, 130584, 109798, 91031, 69082, 47559, 42146, 52557, 108593, 56874, 31930, 142357, 127642, 54573, 29089, 75723, 62175, 69514, 133368, 94403, 144969, 21889, 138611, 23403, 109624, 132580, 59069, 88274, 109536, 57191, 47591, 112610, 105061, 66971, 85025, 70946, 99619, 27272, 86278, 73327, 93412, 96742, 51243, 145615, 128169, 56310, 40780, 54064, 56881, 113967, 14965, 111048, 23160, 406, 146926, 90247, 131609, 20960, 13165, 138085, 2795, 136766, 122090, 82834, 45712, 67529, 34599, 81998, 93132, 14329, 94549, 147051, 116519, 121206, 49711, 13595, 4904, 25420, 82433, 142978, 62367, 23374, 127864, 147090, 74400, 20545, 121555, 61769, 85570, 48565, 110722, 46124, 46484, 50085, 76306, 55745, 147796, 9471, 15557, 25731, 4999, 54917, 74674, 141796, 29831, 123712, 30786, 8287, 131559, 118107, 131098, 113817, 69703, 50796, 14570, 103889, 140035, 70292, 49584, 12397, 8987, 71072, 120342, 111586, 110620, 54311, 138004, 65244, 136527, 146694, 44612, 87244, 42574, 52178, 79043, 22272, 104428, 109599, 9749, 7353, 65841, 140777, 83622, 114884, 84710, 130478, 67078, 145346, 85587, 142024, 124018, 10922, 101669, 99680, 101073, 105465, 121399, 95824, 115132, 29852, 116110, 9817, 95254, 8514, 42956, 86656, 141144, 32661, 11163, 87449, 117032, 113461, 98498, 12772, 121436, 129071, 18715, 112867, 81226, 32899, 19239, 91428, 129649, 14720, 51016, 90058, 81705, 47987, 46027, 72067, 39779, 146203, 29002, 100861, 9926, 42998, 114921, 120190, 114711, 107189, 86412, 112816, 93734, 127329, 114630, 88647, 17066, 56230, 52616, 98552, 44148, 124273, 108609, 10936, 32747, 120735, 78451, 5767, 42939, 87816, 46698, 71183, 1711, 12348, 25503, 100002, 97932, 40535, 62726, 16957, 93880, 82740, 63399, 113632, 118960, 139801, 72184, 81944, 33329, 92846, 102970, 26617, 59212, 36601, 30503, 18135, 128514, 15265, 12143, 58253, 11764, 74439, 100837, 145237, 43753, 113712, 93842, 96469, 16825, 41089, 118221, 33067, 144474, 61021, 139210, 104330, 18404, 112439, 65008, 34709, 47146, 95522, 95174, 91651, 29448, 97669, 99406, 29553, 76432, 142171, 48686, 114000, 120946, 31501, 106799, 12735, 142011, 28801, 67785, 11248, 58831, 123525, 43950, 33897, 135393, 74145, 118618, 140080, 126287, 27775, 124517, 24633, 83457, 21547, 119593, 136501, 47510, 123339, 107931, 43804, 55094, 69899, 123041, 20940, 54186, 24060, 140207, 137384, 146194, 68017, 60333, 64681, 83812, 20832, 36551, 148378, 50917, 24749, 69349, 134269, 25947, 37354, 66840, 11044, 53122, 7800, 135945, 51617, 44451, 88099, 82828, 87556, 126111, 124882, 113233, 36190, 79997, 89653, 102189, 125988, 9145, 30722, 73509, 67106, 101988, 13164, 120974, 115906, 1006, 118556, 30154, 73671, 140275, 7090, 92103, 87664, 42110, 116630, 65558, 34246, 105898, 115893, 7625, 115697, 146275, 138795, 101736, 122137, 143355, 136936, 127093, 67120, 69986, 136227, 84028, 94499, 101827, 119196, 22140, 148739, 50758, 88758, 51206, 40195, 20777, 103688, 94390, 70585, 30034, 140961, 140742, 105593, 127461, 40031, 126666, 107307, 97137, 14683, 121171, 2415, 51400, 123146, 74596, 8621, 43647, 109770, 89100, 113382, 15303, 17859, 50093, 126831, 50823, 20035, 93953, 25706, 93966, 57567, 15454, 146078, 143801, 56716, 13537, 3607, 106197, 147773, 14040, 37325, 30029, 56340, 17644, 117394, 36943, 70708, 62965, 86397, 67436, 26234, 9578, 95909, 5582, 121386, 34529, 118695, 58454, 78169, 138697, 147965, 140949, 123008, 12325, 26620, 14776, 100250, 55941, 98799, 40450, 95736, 58054, 126961, 86980, 110820, 128668, 11862, 115179, 65135, 114745, 74786, 55270, 9175, 18065, 141252, 27923, 128449, 85331, 128429, 26395, 13461, 113268, 68454, 120039, 48607, 46078, 113368, 141554, 93354, 10436, 116520, 36075, 21632, 106868, 16580, 116459, 132986, 44927, 47302, 61300, 12177, 14055, 93592, 52382, 118355, 8641, 102126, 47834, 53637, 135932, 86129, 143856, 110772, 143772, 85605, 77039, 125486, 136387, 81660, 112082, 135067, 32605, 66520, 54014, 42113, 10545, 44220, 3208, 106572, 100699, 124863, 59645, 81234, 108247, 125273, 83489, 50890, 80934, 86517, 88534, 63205, 93250, 143646, 35729, 76339, 79471, 128561, 88650, 118198, 136795, 93789, 113785, 78878, 9781, 130270, 148029, 54537, 78667, 56444, 33255, 100569, 132012, 85657, 50383, 131219, 142313, 45662, 104120, 35972, 31707, 14659, 69280, 66154, 34454, 33263, 85643, 76355, 50500, 83404, 113250, 66081, 46041, 52477, 126803, 140262, 61714, 70163, 117632, 84775, 108845, 63137, 29128, 83283, 125772, 148537, 47644, 63896, 130328, 3766, 144342, 113303, 135684, 8141, 125472, 33982, 8024, 56979, 74932, 97377, 17130, 37107, 30581, 40296, 123954, 37260, 115350, 93904, 59267, 22075, 91553, 38519, 58206, 60656, 78088, 55945, 105735, 41228, 39695, 84262, 29589, 101886, 91369, 115825, 2141, 52372, 101397, 82983, 85822, 124417, 54624, 79714, 15665, 109249, 141256, 46720, 137070, 48779, 98671, 136212, 58112, 94958, 119144, 53377, 42892, 113435, 79447, 46595, 110100, 45565, 109011, 99520, 9962, 81650, 110116, 18917, 107967, 858, 2784, 52680, 69776, 141284, 14908, 125458, 132669, 114294, 76120, 147191, 42729, 140855, 85431, 127908, 106094, 99878, 57963, 94976, 8557, 129701, 94178, 83957, 56064, 69592, 10101, 71160, 32846, 126796, 31078, 135669, 53836, 96287, 99269, 58144, 53460, 73684, 107802, 67794, 74807, 103302, 92841, 53058, 148843, 26583, 46730, 89007, 46853, 77086, 72110, 21546, 83056, 105739, 11939, 49194, 44106, 60054, 65639, 73169, 105979, 11833, 70480, 88740, 36692, 18067, 78969, 90085, 112312, 52979, 1521, 51916, 8829, 78824, 25470, 103723, 32055, 76753, 56287, 133317, 147808, 73495, 122373, 6551, 62335, 40662, 79359, 44221, 90156, 45959, 125952, 9938, 32777, 59164, 122516, 92468, 87625, 4101, 134247, 24517, 68368, 55079, 79955, 135794, 24626, 105177, 5741, 59517, 25455, 139835, 89622, 9265, 44433, 94895, 94709, 124414, 89274, 107703, 34710, 21559, 53285, 55642, 70417, 143012, 52356, 76135, 14005, 140441, 112414, 49536, 131860, 20686, 55269, 91174, 145063, 141062, 2637, 144372, 93438, 59444, 32681, 142381, 33466, 16720, 72032, 12681, 46719, 67826, 79020, 129242, 46463, 22776, 76944, 108698, 88992, 1479, 118061, 101478, 79949, 90614, 93937, 127988, 74707, 86454, 137800, 71765, 69964, 143691, 117503, 104193, 86573, 126840, 114165, 138601, 82767, 141709, 114538, 113028, 97205, 82871, 131902, 75428, 5119, 46248, 46294, 43141, 84385, 49175, 3876, 60619, 44555, 120978, 99060, 110139, 140980, 82739, 72882, 113499, 83475, 30881, 125580, 41521, 74866, 44503, 72777, 74916, 130012, 148712, 4477, 130762, 89914, 7002, 55782, 72688, 98692, 32547, 98745, 101218, 130056, 25878, 1608, 96299, 28768, 71968, 94182, 135548, 54019, 86769, 78914, 116217, 125755, 103497, 5299, 11666, 29795, 24704, 122280, 142326, 77647, 146966, 81218, 122773, 101688, 52005, 20263, 79164, 71322, 25040, 128474, 22063, 139143, 1410, 119063, 137644, 14705, 41257, 78846, 75475, 110212, 61139, 140527, 5677, 79449, 1609, 74328, 67450, 76028, 147817, 131807, 64237, 68231, 9787, 118638, 29300, 14265, 66548, 19873, 64709, 141751, 89040, 53347, 95549, 96455, 39108, 93772, 116069, 25240, 27026, 65595, 25539, 8295, 114609, 73103, 50083, 42046, 128975, 87829, 82602, 22922, 112122, 85296, 128228, 80547, 134730, 43056, 100364, 64524, 119947, 42763, 83416, 50203, 38650, 54914, 41192, 127094, 88451, 7541, 115783, 83880, 138925, 6598, 129965, 113202, 10621, 6250, 131998, 74994, 47885, 89874, 92473, 47586, 63306, 82932, 132611, 53494, 47864, 123696, 138196, 142629, 6296, 43598, 130574, 14463, 72217, 124807, 87372, 133690, 59399, 63657, 116177, 7645, 18972, 40604, 22064, 73155, 91910, 17179, 65867, 9430, 44909, 110094, 36330, 94045, 126133, 15531, 143787, 65562, 26353, 134363, 25421, 41756, 128031, 13652, 83959, 21994, 106597, 19329, 87630, 128646, 49156, 50717, 55210, 92156, 112299, 57419, 9880, 37784, 31270, 130779, 77380, 143675, 27812, 92822, 39698, 87705, 63153, 137053, 128297, 71075, 87562, 13441, 137814, 33848, 33469, 13519, 147487, 80434, 102163, 8956, 20271, 52558, 147477, 111771, 143798, 129714, 94214, 135111, 111154, 35492, 283, 115971, 59922, 28509, 46354, 94091, 111951, 13007, 53356, 139678, 4136, 103265, 123813, 96359, 70971, 51541, 74909, 106160, 48463, 15927, 9858, 4750, 118415, 2690, 62209, 23487, 17420, 8306, 97098, 71755, 116897, 133025, 1226, 57138, 109359, 75460, 1957, 141116, 43110, 26507, 104952, 140861, 130316, 47331, 32507, 144110, 145124, 36162, 90142, 70052, 148563, 28019, 105288, 16690, 97570, 108020, 83137, 8760, 102809, 33101, 109700, 72090, 23292, 36552, 20747, 56281, 90344, 14777, 61004, 18599, 61752, 96350, 93153, 94186, 85811, 94587, 141829, 88277, 80120, 123466, 2608, 61664, 140638, 48156, 198, 141907, 98717, 4794, 36808, 89520, 109550, 86776, 27797, 57753, 127193, 109503, 130441, 93593, 144945, 9056, 87443, 75061, 25956, 25156, 112600, 100678, 77077, 90056, 115148, 89102, 44131, 81391, 74211, 57684, 83035, 131554, 138962, 5318, 3526, 7105, 141655, 39629, 71862, 23829, 65875, 19596, 80007, 103759, 98426, 110470, 131503, 52484, 77679, 69037, 34895, 32772, 35419, 146328, 125122, 24299, 50325, 88856, 141340, 45453, 77216, 95972, 25911, 40958, 46647, 61571, 62988, 96387, 115921, 104037, 8729, 129637, 107558, 96872, 35607, 91820, 60524, 96405, 63350, 44197, 138904, 126712, 136935, 26826, 102010, 16629, 17323, 47505, 139832, 136487, 120543, 90368, 90524, 54203, 123990, 95655, 134728, 13835, 143120, 130139, 53902, 65970, 57021, 12854, 61764, 101114, 16917, 20124, 41701, 142051, 120308, 22812, 75755, 46392, 17517, 20745, 40855, 98688, 41330, 28904, 71481, 57712, 83932, 104921, 21985, 54566, 146716, 140536, 23740, 45504, 62258, 73786, 131374, 94596, 37845, 25581, 33140, 9236, 99354, 115381, 39070, 123143, 111458, 25262, 141801, 122927, 120642, 27022, 42361, 117818, 69521, 38265, 46279, 77833, 40216, 109983, 65109, 7888, 140899, 107934, 3202, 60918, 108127, 141699, 4529, 20189, 89294, 43893, 39647, 101572, 43955, 58926, 119544, 85030, 123727, 137623, 29974, 83221, 16544, 143735, 110924, 23451, 104408, 130686, 94366, 15566, 6994, 129559, 51492, 71045, 17037, 48865, 129209, 15436, 64096, 128612, 35906, 116908, 91104, 143174, 148150, 71, 112462, 21774, 23557, 109856, 67674, 120352, 134075, 105959, 65104, 148608, 40797, 143394, 147560, 136052, 79551, 41406, 19407, 72462, 95546, 132579, 8691, 116664, 43626, 120379, 108534, 5871, 48862, 139124, 53238, 61134, 32197, 83818, 65942, 3812, 131229, 74377, 137360, 72109, 4476, 57515, 113050, 119295, 4522, 121161, 82265, 146126, 6165, 65849, 71761, 120537, 123850, 21857, 84432, 98923, 107855, 140025, 25015, 92238, 16884, 44095, 26293, 79568, 71483, 50884, 102274, 122680, 94794, 115634, 108894, 134525, 145280, 14784, 59430, 9125, 71747, 48145, 15403, 82271, 11394, 116511, 61580, 138301, 115283, 109622, 36986, 37876, 68823, 55911, 113551, 90152, 93030, 27997, 94364, 90796, 24879, 111411, 10375, 140572, 48930, 1714, 21781, 8595, 35534, 148837, 18742, 94078, 655, 102736, 74890, 127499, 127872, 48368, 103147, 146872, 105918, 60839, 105108, 30942, 96161, 27716, 142193, 90658, 108821, 71717, 98027, 16585, 96485, 118742, 109869, 66905, 30916, 80948, 26577, 54238, 125652, 114436, 13568, 85223, 139539, 129445, 90767, 24370, 137579, 105938, 92358, 127542, 88165, 88608, 104580, 135699, 128238, 37634, 32545, 132546, 81876, 17847, 14599, 145434, 50954, 87147, 100773, 136890, 23072, 75053, 60350, 133204, 100545, 46430, 82685, 137734, 134215, 99008, 69387, 103485, 141943, 125885, 7355, 56114, 112956, 63151, 104277, 78794, 80398, 91154, 11969, 25016, 35633, 64830, 113253, 26779, 90235, 24251, 18908, 106088, 23572, 70823, 146698, 42403, 107686, 12913, 15781, 116341, 96143, 91757, 143869, 73047, 66521, 29714, 51875, 2069, 29512, 21163, 22345, 38032, 103775, 66621, 90389, 144950, 46725, 3294, 74082, 129625, 11795, 52654, 48602, 19456, 110353, 105706, 24836, 18497, 27454, 79907, 78573, 551, 137594, 109696, 56004, 126031, 6653, 31906, 6861, 48084, 146333, 116032, 108394, 105001, 107662, 131723, 81946, 12989, 66414, 148509, 43978, 48457, 119993, 14484, 124118, 91908, 90618, 57356, 43176, 129356, 14754, 125302, 69584, 121046, 49736, 88431, 12293, 56336, 30352, 95198, 76926, 141696, 142833, 63469, 141614, 121090, 23498, 19420, 23434, 114759, 9288, 77836, 136654, 22279, 84086, 97763, 86589, 8151, 59526, 60914, 116007, 110630, 121435, 69612, 97866, 38479, 101341, 59057, 38349, 147154, 55509, 119760, 57289, 55132, 120485, 10544, 55910, 56598, 145427, 94786, 73999, 55987, 144114, 10501, 78125, 71043, 10234, 105154, 41150, 108547, 108585, 140608, 128170, 28268, 91839, 124701, 108363, 79591, 108817, 74019, 142478, 2143, 109078, 31686, 134647, 118303, 125823, 27305, 89227, 71736, 21217, 143923, 24778, 47384, 136427, 124113, 55391, 144769, 36101, 139880, 138247, 21168, 135116, 99920, 10426, 85126, 216, 108351, 91688, 63218, 9105, 1243, 70114, 65721, 59639, 105396, 99543, 96370, 115015, 37249, 76053, 74699, 64819, 112409, 110131, 22469, 97636, 116389, 11894, 77017, 104840, 115899, 138254, 36299, 73932, 39479, 47765, 111449, 124575, 144203, 21873, 108378, 8858, 82657, 14148, 34336, 465, 68805, 40284, 62521, 55490, 90523, 29941, 33362, 98897, 81351, 122077, 140812, 85253, 147257, 106680, 20164, 106564, 97072, 135046, 4386, 25018, 112125, 103652, 93973, 68213, 71238, 64914, 4524, 73242, 74271, 85940, 136138, 110596, 120017, 57131, 47309, 88271, 102701, 95770, 21427, 138298, 121169, 90916, 72730, 21855, 17701, 125936, 117067, 107744, 133383, 84539, 700, 63970, 50285, 111318, 81116, 110453, 11878, 109121, 75105, 24844, 118847, 62831, 54467, 101750, 26123, 87832, 117679, 121959, 69630, 141966, 5345, 32815, 109436, 139675, 125713, 62348, 103234, 144872, 86181, 101322, 108125, 30313, 203, 32282, 106477, 19884, 21730, 38069, 133075, 71112, 62877, 62062, 21592, 77504, 4583, 42306, 31999, 128409, 131203, 137615, 105551, 129323, 35319, 13132, 23806, 43794, 21815, 106932, 18711, 15934, 104978, 119989, 38207, 50881, 69548, 89017, 144297, 10144, 100742, 34789, 53539, 60873, 65196, 145987, 119394, 81965, 143183, 115869, 118037, 60218, 118904, 23763, 139302, 112742, 112866, 58129, 126141, 33029, 21294, 140530, 121635, 40321, 110388, 147297, 57667, 143825, 14927, 109663, 24368, 84498, 91934, 22151, 128924, 66193, 46989, 48802, 140296, 129350, 62978, 27981, 134886, 70783, 142244, 132184, 35746, 147805, 78960, 73185, 79766, 64378, 137863, 38800, 148803, 4367, 144281, 49950, 127403, 6872, 59965, 106043, 27222, 123916, 40567, 121196, 74042, 115855, 74067, 47123, 83132, 22782, 13486, 137977, 39755, 87475, 83446, 85301, 109343, 38374, 60292, 82785, 33775, 114992, 71308, 43427, 42712, 98822, 136595, 49603, 98489, 148332, 144318, 28939, 130523, 123972, 68406, 134918, 133883, 84657, 68662, 111569, 127065, 57279, 9969, 97680, 98614, 142269, 88491, 115339, 60497, 14949, 67056, 112385, 46787, 36005, 101766, 89095, 91603, 61225, 20314, 58361, 132694, 15465, 108282, 83590, 54239, 129032, 22512, 128270, 28442, 44527, 83118, 47080, 85778, 101165, 67734, 133137, 147370, 137241, 29866, 44471, 90901, 82328, 105857, 140384, 13995, 80523, 2247, 41985, 51194, 2130, 93610, 90005, 124396, 43251, 144947, 80231, 30457, 59084, 96729, 8321, 69909, 100721, 23019, 118431, 68221, 6234, 113316, 120373, 50160, 144347, 60540, 56375, 68370, 8356, 145179, 100950, 39874, 144799, 7178, 114620, 15293, 134555, 59231, 141335, 111505, 95782, 135868, 92601, 104245, 86652, 72670, 138832, 58814, 58885, 23649, 138471, 19002, 24925, 145558, 96623, 45696, 113637, 62959, 111604, 56361, 79786, 138122, 116284, 82216, 123528, 83517, 63174, 132109, 103793, 90981, 144414, 106608, 104870, 65510, 36384, 51939, 76956, 69978, 138966, 83270, 98046, 104076, 120249, 119310, 14967, 105047, 134311, 127817, 59183, 75752, 49018, 32840, 802, 21669, 83149, 19797, 71634, 116453, 66287, 138739, 8883, 2064, 78959, 2750, 51153, 73782, 67080, 142558, 50684, 46456, 123202, 128450, 59575, 9693, 63548, 111367, 46422, 120696, 109802, 135840, 1096, 82409, 11702, 23306, 7688, 141126, 78505, 63834, 48361, 42096, 136281, 68380, 88707, 11498, 94695, 127663, 94512, 133169, 43721, 103363, 2813, 140069, 7760, 28054, 78706, 73984, 62633, 142747, 79774, 35141, 92460, 85250, 60555, 21679, 21095, 66284, 20738, 81873, 125, 65722, 81699, 29196, 118378, 49414, 56573, 61208, 104234, 103320, 4746, 80769, 68548, 32051, 133361, 39831, 148470, 118381, 59919, 36877, 18697, 24108, 53496, 62233, 50860, 16599, 79463, 98712, 83050, 130015, 56940, 18106, 137698, 90109, 81996, 84173, 45077, 144238, 4415, 33451, 93426, 132953, 38166, 26077, 27404, 106671, 73148, 119121, 132463, 111782, 133909, 127725, 29724, 126764, 35757, 127580, 54120, 130995, 117313, 51628, 74207, 8231, 38223, 39078, 114327, 5306, 58917, 54579, 133281, 128818, 27140, 86696, 3598, 23643, 3729, 95425, 2700, 63591, 38914, 120879, 46935, 84271, 103489, 77111, 141541, 114198, 16383, 107588, 116276, 56440, 126513, 63776, 117017, 61594, 120966, 42075, 48207, 38842, 125919, 128158, 13801, 131640, 2150, 91419, 77550, 112759, 134056, 96127, 80195, 147057, 73961, 90189, 112700, 141509, 69068, 148499, 132111, 32811, 52155, 45807, 15609, 14725, 77390, 10452, 105641, 57112, 103184, 69850, 30733, 46037, 20613, 7553, 64153, 14418, 116955, 41247, 60824, 11573, 82688, 112923, 35493, 37279, 36503, 145113, 141208, 16730, 87883, 144789, 129162, 76297, 55770, 57954, 12503, 29263, 91690, 89906, 107284, 100961, 66141, 7963, 80884, 124878, 135170, 19519, 6706, 54184, 123602, 84637, 137233, 123611, 45388, 43457, 84804, 143816, 38030, 51413, 22629, 6883, 32360, 145852, 1556, 49507, 118302, 97585, 103098, 1910, 48945, 119795, 11961, 92190, 17821, 97279, 28065, 114378, 70148, 34795, 131309, 67662, 130602, 88980, 128835, 8432, 94006, 66718, 61135, 12359, 22242, 91510, 110200, 145752, 135202, 136478, 50485, 24967, 120311, 29123, 20260, 45994, 32468, 35348, 109468, 102903, 39918, 73335, 15462, 132008, 99290, 34533, 45608, 69018, 99229, 54838, 60674, 38717, 138908, 91075, 45962, 41717, 92839, 97908, 145316, 48953, 144031, 103470, 10740, 67467, 10526, 73865, 80962, 99117, 79614, 42277, 133540, 67296, 78537, 22035, 50234, 7953, 95853, 26432, 63644, 66167, 79616, 26915, 85217, 40333, 28960, 89641, 30389, 20382, 82643, 29100, 96932, 82306, 37501, 102063, 84848, 72255, 2634, 77411, 26379, 67474, 69019, 70724, 130862, 34705, 18453, 100022, 104133, 4480, 147264, 143928, 130230, 28487, 20901, 130705, 110757, 36894, 104208, 21415, 59108, 119706, 142754, 25367, 34219, 63590, 35403, 101469, 107244, 127264, 10995, 112423, 109604, 118360, 92925, 61111, 11913, 140632, 57275, 5121, 87298, 125528, 96689, 57836, 17547, 4648, 105220, 59813, 127756, 16929, 38646, 141427, 8958, 25075, 99318, 98873, 83279, 76573, 91796, 98713, 142152, 42554, 17276, 127628, 46287, 48194, 121475, 111181, 62112, 27971, 148154, 119383, 74703, 52121, 81539, 87720, 79474, 113998, 126859, 39199, 75744, 59785, 101001, 17725, 71020, 92461, 66358, 23704, 17155, 60374, 148407, 55496, 116334, 50836, 92599, 110120, 43332, 55942, 12496, 75912, 102293, 132259, 134497, 45543, 117534, 140712, 37816, 134329, 40263, 80981, 97099, 10138, 47446, 55953, 5026, 71243, 8345, 62057, 28007, 88447, 3424, 89434, 115773, 128025, 89353, 5961, 13018, 4775, 73833, 8164, 139142, 16696, 124110, 67819, 33913, 142917, 88105, 14081, 146538, 105782, 123971, 6020, 15414, 64496, 97373, 96460, 65177, 92918, 90884, 13649, 127587, 89361, 26698, 115312, 42707, 76115, 71407, 25145, 137163, 147657, 60525, 62747, 37322, 75638, 83460, 7181, 77737, 54724, 46823, 53855, 12167, 107980, 137986, 4128, 120363, 43174, 26751, 65358, 44211, 71051, 16225, 35762, 135740, 139970, 102091, 90048, 43258, 96067, 29109, 32005, 100963, 17869, 107745, 123472, 25800, 81106, 100515, 78579, 146198, 136730, 138706, 55150, 81361, 116165, 68090, 55590, 119084, 80943, 82406, 33543, 121787, 44330, 138229, 74912, 116090, 79201, 73933, 137723, 34966, 50718, 140182, 110159, 90592, 119536, 78209, 68332, 68856, 73187, 22317, 31993, 140374, 105950, 102228, 34534, 30675, 137405, 99729, 33221, 110767, 79247, 17092, 66376, 98840, 125958, 87331, 15147, 107992, 13395, 142482, 94813, 45324, 115069, 131267, 121611, 143466, 80189, 1746, 34421, 137475, 121996, 139926, 8150, 92045, 146185, 44255, 107805, 6552, 127556, 141645, 61604, 26916, 72572, 106690, 31994, 39399, 142375, 105854, 24764, 61813, 133827, 67517, 46941, 39454, 111600, 62656, 18504, 90612, 42128, 24968, 20949, 114761, 69211, 136452, 117284, 109927, 145362, 74528, 133039, 26481, 36524, 1294, 96166, 141551, 33697, 13043, 63877, 1475, 9585, 9164, 121037, 118574, 3174, 52685, 148228, 53085, 43920, 143632, 67064, 122416, 12765, 92395, 101156, 59655, 141457, 23548, 19973, 45682, 129654, 57763, 54084, 70230, 108248, 92275, 85325, 21030, 51745, 3987, 122023, 124292, 37891, 86795, 70735, 140618, 24317, 43352, 10650, 84821, 102646, 137923, 67313, 145222, 146917, 128441, 50618, 54618, 39804, 35744, 99534, 130433, 141270, 31061, 65573, 124092, 7387, 88476, 13678, 93764, 129203, 128990, 65412, 1290, 55227, 44640, 2395, 36604, 34885, 47310, 4791, 145930, 19614, 122063, 447, 120223, 77187, 6314, 45260, 51096, 32526, 22556, 24329, 30650, 68258, 67394, 44782, 126365, 27448, 83438, 135650, 65002, 34875, 31872, 63331, 83351, 21986, 94164, 89432, 51530, 59855, 42043, 90877, 58202, 79682, 62129, 2992, 37943, 80929, 9449, 3679, 80819, 102008, 123333, 72636, 118205, 728, 72700, 22411, 28520, 2668, 5743, 31372, 67154, 35359, 73724, 109832, 55020, 133520, 45880, 125507, 106498, 123068, 50801, 52599, 71719, 54354, 102497, 89654, 4288, 4980, 73512, 127027, 31882, 127491, 129118, 86515, 40258, 65258, 80175, 119007, 147228, 105636, 79030, 84933, 71265, 55319, 40809, 100684, 141134, 100247, 26489, 107168, 8505, 79675, 1378, 19975, 8882, 32437, 107018, 66569, 56885, 121515, 547, 68195, 67747, 111554, 86083, 119553, 79964, 128904, 23171, 85147, 64705, 48424, 38031, 47784, 110028, 125754, 62308, 91295, 89068, 56107, 60411, 41376, 46586, 95912, 88521, 115578, 99391, 95845, 12447, 23358, 79090, 136022, 70487, 85302, 114709, 32350, 22423, 131024, 134859, 16260, 25596, 29449, 37010, 92301, 119040, 85944, 126526, 127676, 75099, 64171, 131050, 81956, 50372, 76541, 8758, 14301, 31922, 135366, 50320, 39310, 100019, 11780, 112995, 69838, 72153, 64290, 134811, 3105, 70104, 120780, 148108, 67200, 118872, 33173, 16881, 40623, 107015, 37998, 98875, 13417, 92783, 126177, 42175, 32067, 148059, 89927, 38139, 3490, 27769, 33624, 45047, 106808, 135550, 57498, 30659, 125664, 32035, 79869, 92048, 35620, 32664, 138780, 68446, 1550, 142776, 32247, 44041, 58986, 40136, 24098, 86961, 14932, 78418, 57018, 52376, 80890, 102652, 77408, 102376, 96294, 43179, 19, 78116, 80356, 67097, 110003, 83996, 2859, 32031, 121744, 70219, 145889, 126419, 132738, 144009, 97386, 59375, 58400, 76204, 123187, 55627, 58584, 132804, 43136, 31470, 11757, 43527, 27082, 122900, 63292, 141792, 141443, 82673, 120490, 64666, 136751, 77661, 29961, 132438, 68854, 42869, 128710, 133934, 15386, 146187, 113313, 124536, 60232, 65737, 129434, 124173, 61640, 46550, 131034, 143767, 84759, 60341, 146689, 33212, 123223, 142360, 50751, 115159, 44032, 145882, 24222, 142432, 58639, 38984, 111027, 47404, 130141, 66925, 114814, 5359, 142799, 16614, 30001, 64803, 19218, 67314, 44611, 35150, 141961, 51330, 68784, 23611, 94208, 128113, 95794, 145356, 114868, 111994, 52358, 76313, 114163, 37206, 118326, 3476, 42014, 55112, 55558, 133526, 126869, 107691, 27164, 145966, 87082, 114029, 106686, 84919, 124004, 32515, 24099, 105932, 22306, 60592, 45226, 5633, 11843, 54387, 76505, 67557, 138363, 18735, 94488, 81469, 124221, 35525, 9262, 126241, 46618, 77500, 47764, 70084, 36209, 25068, 58417, 9826, 82045, 51691, 62545, 98081, 143281, 47819, 9814, 26796, 147769, 71195, 18165, 90791, 114747, 42406, 30271, 127147, 148463, 79238, 62437, 66935, 133308, 127439, 93654, 96499, 136255, 112842, 38936, 37703, 105561, 73903, 49819, 131255, 12345, 110842, 93163, 134316, 145663, 8980, 131806, 138103, 49902, 148789, 129066, 81918, 124498, 97187, 6375, 7254, 21298, 98788, 15956, 30500, 142618, 147768, 124718, 59512, 83346, 72375, 74878, 143189, 24502, 79342, 132374, 78467, 81750, 111427, 11864, 55223, 56012, 70482, 119154, 5651, 58956, 147127, 129760, 148189, 140673, 51754, 57643, 132043, 133699, 123669, 86559, 14457, 21166, 77745, 122613, 71170, 142928, 104874, 95289, 20049, 120383, 99987, 107302, 12471, 122062, 92138, 142725, 7000, 24189, 108816, 44115, 143666, 9273, 105130, 72515, 131909, 54519, 105825, 143185, 111540, 30983, 115261, 34828, 8153, 94775, 18244, 5859, 115443, 95420, 32088, 124370, 58368, 42076, 26260, 141454, 69339, 133582, 49113, 145121, 129414, 4957, 99945, 12310, 68507, 20784, 113638, 125344, 126695, 128104, 9114, 110031, 140440, 105609, 55454, 12946, 84091, 72534, 30205, 108514, 142851, 43682, 33933, 1229, 94645, 35698, 48357, 141117, 128734, 73528, 2672, 33536, 60876, 35465, 40997, 130755, 132821, 99125, 92017, 20338, 33709, 75360, 46790, 79609, 21139, 119205, 63805, 96123, 118991, 81121, 71415, 20109, 13970, 57202, 58354, 10601, 71614, 129051, 134772, 139378, 98124, 127083, 113942, 111621, 80421, 26521, 93829, 46536, 67718, 6940, 58743, 83934, 118171, 51882, 134051, 115496, 35067, 28770, 56437, 76129, 43402, 61276, 30279, 76920, 3048, 48217, 34345, 67292, 146795, 104122, 107775, 85005, 89498, 134827, 61188, 139375, 125913, 42806, 50045, 21231, 88573, 81582, 85345, 98130, 38163, 27379, 66302, 141241, 105332, 25066, 74488, 76852, 7003, 43158, 121485, 109161, 109711, 64087, 39703, 146166, 109757, 40220, 97176, 105560, 103149, 113459, 74680, 13385, 130474, 90067, 135145, 46003, 131697, 81821, 6694, 31673, 8142, 138350, 52170, 131959, 34790, 102667, 115831, 75598, 141347, 105389, 138162, 55631, 128230, 16951, 77801, 28392, 101426, 104267, 139526, 110362, 30891, 102836, 125104, 46194, 17680, 90975, 47650, 118131, 105116, 71299, 120, 142158, 70854, 137918, 93968, 93890, 1069, 144602, 52937, 19482, 68711, 59249, 128940, 62929, 125210, 33130, 73460, 97574, 49346, 59112, 109800, 63516, 64563, 80323, 13582, 146553, 87315, 42177, 48120, 7379, 76626, 128241, 65350, 76346, 90760, 137673, 34659, 116182, 107776, 140307, 144871, 26803, 49851, 77516, 31375, 11190, 75641, 57501, 85293, 6471, 69854, 125500, 110636, 23421, 143551, 102059, 19798, 84938, 69190, 47868, 106697, 145094, 77998, 78954, 18511, 123628, 88618, 99946, 88432, 68009, 30092, 99649, 23352, 24076, 34221, 41268, 121274, 47845, 77261, 89177, 128521, 113038, 78637, 91491, 1411, 29747, 20643, 82485, 132894, 42492, 101282, 143109, 78577, 51656, 144803, 85674, 65216, 90412, 108632, 73817, 113307, 140147, 144726, 103350, 100332, 14038, 36942, 69723, 102212, 109428, 120752, 117587, 1296, 76877, 101732, 92715, 15994, 146918, 2871, 102843, 64170, 33039, 45916, 17887, 118583, 11301, 111118, 122731, 86361, 94612, 23871, 50504, 135190, 56428, 105841, 81611, 141902, 560, 11671, 30127, 110974, 4572, 23088, 32949, 140939, 124305, 37900, 52209, 32550, 92945, 136508, 81453, 82771, 24465, 64855, 5676, 106471, 142081, 106544, 3442, 84734, 115463, 37145, 94392, 36897, 117104, 41661, 148569, 119436, 99902, 74706, 87505, 91827, 90216, 28144, 135137, 11794, 68128, 50174, 26328, 138593, 12086, 30754, 31936, 82941, 4041, 36646, 72924, 119238, 129865, 60427, 68861, 94749, 76405, 90748, 37649, 134979, 4829, 86029, 28698, 24031, 136315, 97874, 108115, 43777, 294, 101873, 87045, 11766, 11797, 140738, 146246, 76274, 53007, 30884, 37859, 52677, 21625, 66123, 50194, 67831, 37133, 86064, 10201, 90227, 42007, 112625, 3945, 10053, 43262, 4843, 12673, 127203, 20721, 66105, 114459, 37670, 54117, 57799, 7498, 35270, 120377, 78905, 127728, 103370, 57957, 64184, 145589, 89468, 111028, 97228, 1579, 66277, 78335, 47238, 3315, 1540, 147511, 89980, 14820, 108484, 117183, 135127, 141371, 99334, 56651, 115926, 137660, 113856, 23387, 97553, 24691, 41674, 70916, 6058, 64224, 10187, 7807, 69759, 100787, 126170, 104320, 148474, 55633, 88934, 148291, 95534, 70246, 12072, 46568, 63577, 88768, 143235, 115380, 29644, 42903, 103566, 144101, 32990, 62615, 121219, 31443, 7680, 112362, 60195, 35354, 93199, 23173, 59542, 19376, 2776, 142387, 23708, 104841, 78539, 26692, 2822, 59518, 59942, 75021, 146152, 18171, 42273, 16368, 73876, 125681, 122703, 144545, 37564, 126807, 133175, 101507, 59718, 92327, 59686, 30041, 121269, 18120, 120713, 133183, 85437, 142854, 8669, 127763, 135075, 47236, 91801, 119648, 17993, 80014, 37527, 134450, 59247, 50026, 125142, 101654, 13148, 116486, 140206, 68707, 81647, 112951, 32044, 5849, 3578, 26658, 138084, 99800, 96232, 47142, 143287, 10606, 109243, 37394, 99956, 86922, 8212, 22098, 123033, 33605, 5474, 101172, 76117, 116962, 11391, 91350, 125882, 72774, 102317, 32110, 63596, 131449, 120239, 50732, 62010, 1031, 19250, 95285, 32897, 38087, 58324, 101344, 19506, 117106, 59497, 68328, 52059, 44002, 63928, 126266, 57595, 107778, 30819, 83192, 1583, 8755, 81486, 52265, 26473, 26305, 36822, 128524, 17511, 90120, 126490, 82460, 115690, 132399, 93382, 108171, 141458, 136764, 30809, 144167, 91360, 81724, 112658, 81244, 63293, 131509, 130880, 36366, 74037, 87848, 119296, 57807, 62160, 121434, 45207, 109988, 45629, 10728, 78581, 24899, 56169, 3666, 66232, 59665, 46532, 26118, 58211, 99845, 93273, 822, 60467, 112044, 20426, 12822, 62323, 12927, 40301, 21486, 128225, 30209, 84828, 132365, 24, 35426, 43903, 88465, 80528, 139824, 143803, 136812, 146394, 8124, 1520, 3348, 17198, 6790, 132177, 113536, 25463, 27496, 1841, 71007, 8269, 22442, 104654, 24934, 120813, 71469, 19379, 53142, 93499, 112613, 21752, 54111, 100454, 94038, 2657, 86077, 77339, 21032, 148202, 90309, 5191, 82109, 53399, 81153, 50631, 106968, 67224, 32828, 138043, 42451, 104492, 57961, 112083, 64303, 85056, 127483, 111047, 36102, 89791, 4109, 131409, 115988, 140822, 98600, 78141, 97991, 116311, 42297, 141373, 114582, 8152, 66458, 140963, 66614, 138303, 30171, 4378, 127318, 101027, 71422, 6359, 7892, 16394, 52570, 120851, 114108, 18200, 114796, 73505, 79072, 145585, 50367, 74914, 22383, 69264, 91517, 35588, 134578, 22454, 83360, 137296, 101294, 18175, 9569, 126757, 23785, 65788, 51205, 104217, 84891, 48705, 31560, 33388, 84965, 90726, 139677, 121165, 122278, 2032, 142439, 35014, 73936, 101668, 142209, 5133, 64271, 20985, 4835, 32841, 64158, 134026, 13313, 47922, 1412, 45845, 128179, 73964, 98634, 25036, 128315, 111792, 141333, 50601, 28536, 67306, 29006, 98935, 43601, 24016, 38121, 119387, 32497, 124864, 123956, 98986, 64974, 144579, 101883, 2341, 53511, 123965, 77719, 56317, 94871, 14024, 39985, 26018, 27810, 74348, 59148, 99474, 113682, 91972, 39945, 92353, 8761, 145387, 133449, 80629, 78368, 115218, 138957, 44926, 75931, 138794, 92262, 54024, 123872, 72706, 15481, 22908, 89329, 53931, 49286, 39136, 19821, 71000, 55142, 137525, 33977, 43504, 118497, 112300, 55974, 22520, 14717, 59122, 34516, 36484, 145310, 131847, 98098, 61757, 34147, 59037, 21063, 147006, 130361, 114522, 126896, 109735, 123574, 138734, 84733, 28529, 134538, 56476, 88848, 84051, 86078, 55670, 53411, 19393, 33947, 44767, 82613, 87629, 111627, 129409, 82583, 50264, 123229, 61544, 46045, 58186, 125856, 97440, 21742, 127148, 120902, 106293, 62394, 43279, 126135, 73329, 134748, 41399, 40753, 19625, 94010, 61596, 90494, 140823, 138929, 35866, 130158, 111046, 146056, 61335, 124302, 86417, 51721, 98289, 31479, 106785, 75418, 35021, 35350, 53487, 90082, 26256, 59274, 114309, 139713, 134393, 77941, 48386, 103587, 90631, 13445, 52259, 115052, 40082, 6238, 104607, 106495, 121257, 49289, 22453, 148262, 90462, 73549, 106172, 42510, 49350, 24340, 53153, 3505, 24449, 53893, 141625, 94079, 51428, 66113, 126506, 133003, 81567, 91739, 12343, 117401, 136283, 61521, 8503, 145827, 80174, 68924, 5505, 142443, 133651, 9219, 126188, 146362, 109311, 107364, 57121, 74284, 36518, 49689, 120749, 35007, 1100, 122300, 130334, 74364, 18086, 136660, 120985, 147075, 78307, 148188, 32373, 147484, 112750, 9707, 65283, 5498, 15683, 54416, 46464, 141600, 8174, 79746, 97880, 30136, 92707, 109967, 213, 71450, 21666, 46543, 26662, 3675, 83300, 44159, 5184, 147095, 147715, 72116, 129903, 142466, 32453, 47514, 50700, 53151, 146325, 105865, 98995, 101256, 120766, 60080, 147887, 62658, 114947, 3360, 10817, 10524, 21260, 143368, 85247, 80916, 78547, 92868, 49300, 110339, 90979, 41698, 55637, 40619, 51576, 40252, 83423, 35788, 80393, 128059, 23322, 101794, 20152, 12566, 90244, 79147, 80939, 50886, 99855, 67953, 18342, 9565, 44007, 79403, 55557, 53816, 139249, 54671, 115098, 62660, 71125, 109941, 59208, 7950, 100387, 137221, 68480, 2364, 43422, 92480, 121154, 124881, 35338, 27230, 90222, 82116, 27976, 135365, 82726, 116541, 57212, 134260, 115525, 120091, 72810, 30699, 95877, 88692, 131838, 89265, 130543, 42520, 77099, 132889, 136953, 84452, 85715, 96769, 85575, 39920, 128481, 38758, 14531, 117479, 22661, 101413, 117738, 59567, 140897, 99047, 146568, 42490, 6149, 98175, 27934, 16312, 19355, 126434, 1561, 59439, 716, 34035, 143442, 89281, 7363, 68405, 106790, 9081, 30822, 84343, 15121, 131491, 13488, 13670, 133912, 115762, 89887, 54780, 135430, 120737, 76787, 120644, 37129, 53313, 1750, 43143, 34657, 81884, 61082, 124195, 100686, 113355, 31475, 59843, 107264, 38415, 19065, 7297, 49426, 106667, 97641, 108617, 98814, 136872, 144246, 131586, 39576, 109500, 140387, 82047, 97322, 63181, 87364, 138690, 13567, 62839, 96193, 85276, 1692, 79383, 121264, 109264, 105882, 18055, 46580, 147930, 126852, 128485, 69453, 26668, 128012, 75607, 54898, 27372, 53309, 66854, 12733, 15101, 135057, 74058, 41309, 118478, 19855, 35771, 85271, 116423, 136240, 39794, 92852, 104905, 29403, 113443, 142204, 135988, 77434, 28637, 98445, 96365, 106969, 51927, 133988, 107893, 123037, 46137, 118826, 27358, 37436, 50400, 103814, 39519, 125319, 50927, 2496, 97696, 136009, 94017, 148364, 128907, 87543, 58183, 12302, 48106, 80337, 127524, 106252, 139722, 61326, 65739, 4523, 84256, 46961, 134843, 129841, 30193, 131798, 121148, 101317, 137176, 80184, 89062, 26975, 90653, 96360, 148443, 76161, 11167, 47661, 102124, 146540, 24984, 55958, 113322, 25983, 100462, 21854, 124395, 33021, 131834, 84061, 129589, 110495, 33030, 118071, 128258, 113882, 105570, 112186, 90425, 23618, 99890, 69520, 51751, 54285, 126817, 73350, 79292, 58182, 144063, 69611, 46986, 64698, 127051, 6224, 119987, 24829, 74406, 20907, 139841, 27017, 86739, 78136, 65156, 65839, 139296, 83786, 83583, 66377, 58707, 110628, 98041, 44973, 58892, 45417, 34261, 143464, 74996, 79159, 21413, 64734, 119239, 14204, 7142, 86840, 101564, 131802, 91760, 16702, 55175, 11866, 136348, 131566, 114441, 38442, 72555, 37392, 66957, 20922, 66757, 93318, 139833, 70537, 60462, 57149, 78531, 10838, 9403, 98236, 73288, 70161, 2659, 141396, 64128, 95997, 132442, 22031, 119058, 5471, 22209, 84977, 134904, 38500, 90598, 71554, 29302, 146974, 16515, 81338, 122483, 30707, 56764, 118140, 57871, 75441, 100398, 59011, 42478, 140082, 7539, 142339, 58185, 69388, 97525, 138766, 81496, 129953, 74842, 3308, 34119, 2699, 136411, 67989, 78069, 123718, 131115, 20859, 36510, 1242, 146164, 79677, 24149, 81326, 100983, 140451, 39042, 4018, 55083, 123807, 99286, 1431, 14284, 68012, 36919, 96767, 108734, 81837, 81285, 131828, 94095, 137503, 58950, 111492, 2660, 134018, 120665, 59213, 75194, 141958, 101438, 21505, 35009, 143308, 65402, 35659, 51218, 5639, 123358, 25660, 68080, 19122, 133873, 81163, 84201, 45747, 58053, 26425, 71097, 121279, 141984, 113999, 111124, 118331, 128367, 70373, 14506, 88472, 35375, 4894, 83333, 134814, 81099, 117704, 111638, 132252, 51145, 44789, 85820, 145838, 117275, 72845, 143918, 84711, 33948, 118122, 129818, 99770, 117304, 53, 47355, 107567, 116447, 29020, 20833, 45450, 98025, 101000, 71567, 107377, 126074, 131106, 143133, 23738, 21491, 148024, 82244, 106242, 134662, 93884, 28776, 56807, 31950, 59636, 29181, 53929, 38162, 9608, 1644, 24862, 98474, 11092, 42158, 104288, 1354, 3293, 89984, 148640, 103767, 93643, 5661, 24013, 128826, 132157, 132495, 129754, 141124, 44755, 69437, 13566, 46646, 135520, 49469, 76418, 49404, 136694, 76647, 31465, 75035, 34771, 31645, 118901, 100170, 110872, 136190, 87351, 83223, 64990, 40413, 56949, 82706, 28045, 148578, 32261, 87187, 67023, 22013, 105097, 93033, 89718, 28530, 11595, 23863, 92993, 90038, 6523, 2336, 108317, 106662, 82054, 45350, 108610, 122390, 33240, 13902, 80772, 106681, 114658, 114873, 13900, 51354, 53252, 90926, 146616, 42325, 69557, 32719, 100411, 21434, 78867, 138880, 141441, 45567, 143804, 79281, 98248, 38029, 68502, 90997, 13793, 95054, 60877, 102136, 63639, 84753, 146793, 57839, 36626, 11133, 75548, 13260, 18977, 54962, 17502, 95063, 44639, 4132, 44382, 95020, 58598, 140954, 26940, 111894, 99074, 21411, 110264, 18960, 78759, 103646, 36244, 37184, 148068, 16134, 109006, 67846, 138240, 28000, 39392, 127317, 107440, 133880, 97545, 66470, 23407, 58659, 14435, 52010, 116882, 141781, 29531, 76668, 38091, 20141, 119130, 52544, 109781, 96905, 100648, 102990, 98377, 101714, 102120, 35466, 31133, 9245, 10884, 127714, 9577, 110224, 138362, 100457, 68299, 120199, 64463, 15583, 48790, 85413, 78589, 142005, 11228, 129164, 37708, 146069, 122578, 139104, 139098, 94203, 4286, 123485, 134132, 125482, 41984, 6825, 38428, 48441, 142772, 67504, 108192, 13741, 37136, 59165, 30104, 2070, 53439, 137197, 58425, 66230, 107602, 113728, 90693, 128735, 144410, 13574, 28761, 148193, 106130, 35037, 20909, 102913, 114907, 49814, 122768, 31264, 53516, 53549, 47942, 31585, 145653, 15560, 64161, 76805, 20275, 127313, 37541, 38125, 22600, 25045, 53444, 117841, 126279, 76766, 99828, 12467, 113104, 24917, 122328, 142960, 95914, 16842, 42609, 121318, 85072, 79044, 13690, 49504, 78946, 140218, 27011, 141968, 94960, 113690, 127440, 137154, 148083, 76213, 107422, 19148, 98906, 59257, 47376, 111304, 32287, 7215, 72901, 25530, 107240, 7228, 23997, 142420, 93979, 21463, 50742, 13810, 142501, 10302, 93854, 46332, 33854, 89799, 41672, 133464, 44019, 69112, 30239, 24617, 35121, 49182, 6648, 114499, 17410, 124668, 109705, 124060, 142418, 89460, 25559, 71215, 27820, 133618, 99894, 68472, 32144, 71974, 114364, 29461, 20786, 87324, 78396, 102169, 129299, 125993, 110529, 116542, 49386, 37314, 77167, 144591, 2563, 16795, 19923, 88612, 26140, 44510, 13989, 34362, 123641, 1617, 90830, 104258, 36321, 123621, 137415, 47587, 64202, 29742, 32702, 25579, 82186, 21709, 79550, 83992, 78830, 109135, 101627, 99658, 95073, 145449, 92281, 16053, 105971, 108789, 72115, 119290, 59263, 37737, 26716, 66725, 65953, 98292, 672, 27886, 9489, 78952, 125917, 113921, 116115, 100209, 35157, 44750, 29266, 106710, 69226, 145184, 676, 23447, 8333, 105612, 32787, 138942, 72283, 126220, 110378, 18774, 135829, 141079, 33065, 103735, 119960, 112367, 67303, 33465, 142925, 57370, 42312, 106849, 130485, 102438, 5363, 55299, 24101, 143151, 70707, 69755, 70983, 126542, 116888, 111945, 98192, 38865, 4187, 102177, 67473, 57993, 99283, 110558, 123543, 103288, 6721, 18967, 139525, 115753, 108179, 1857, 61960, 37306, 10981, 17110, 17977, 78800, 24427, 88320, 107800, 136044, 43242, 143752, 108431, 124121, 121766, 106927, 3635, 115510, 96242, 78487, 55904, 66660, 131517, 98867, 109517, 25005, 143550, 8241, 25358, 56265, 70063, 2837, 73532, 40628, 46389, 24938, 124291, 140071, 91393, 2671, 78947, 2594, 51045, 45135, 41194, 104766, 82207, 31951, 14612, 140959, 54546, 124124, 44837, 142067, 24660, 142957, 104703, 110155, 52561, 56351, 92483, 116799, 19174, 47718, 55884, 40101, 76142, 1461, 19103, 116531, 36260, 25919, 3816, 24477, 142127, 67407, 32149, 44212, 140607, 63617, 100183, 91176, 30688, 129538, 16823, 32941, 3502, 1503, 37504, 24582, 95838, 124178, 64356, 130912, 83157, 32368, 19401, 62605, 120645, 90343, 137208, 127331, 42906, 77071, 116840, 37127, 126601, 2865, 78881, 6377, 96608, 98135, 74408, 113769, 67551, 33016, 138185, 19415, 95589, 26048, 57354, 133505, 18235, 106417, 44012, 66239, 109665, 72150, 57645, 147034, 51650, 133973, 107378, 103427, 101779, 90, 80167, 15582, 89982, 117256, 92500, 49890, 62561, 42735, 91674, 139792, 70514, 140405, 57281, 4484, 51051, 119548, 400, 144992, 55522, 49650, 33034, 72486, 38051, 94817, 55657, 349, 99351, 36220, 103074, 115285, 144680, 122855, 104666, 148392, 87042, 63971, 11933, 42292, 9683, 83619, 71931, 59836, 10294, 77646, 53273, 61857, 99256, 77198, 91653, 41070, 82377, 21447, 38255, 135392, 2204, 98618, 68876, 108598, 11108, 60083, 7622, 71310, 15527, 44534, 128632, 62106, 57380, 26085, 82753, 2460, 125610, 78034, 9459, 33443, 111672, 54482, 147559, 104919, 146191, 86506, 64921, 145506, 128287, 4701, 27127, 145786, 17766, 140877, 54906, 58052, 120925, 32851, 71729, 48266, 18572, 60014, 142120, 16158, 54457, 35590, 13679, 70030, 4740, 62540, 7738, 85218, 3632, 80394, 74125, 114618, 98883, 13561, 104000, 27417, 121878, 101719, 11879, 85326, 13551, 2653, 126082, 135754, 20842, 71777, 64860, 106419, 46623, 36683, 94761, 92071, 43104, 17943, 64284, 39615, 66371, 11476, 102932, 35699, 77875, 1782, 108161, 6070, 12805, 58641, 28128, 57182, 76192, 80287, 91861, 123237, 111717, 36735, 123704, 126298, 135826, 118758, 38569, 35901, 47207, 128788, 131330, 63038, 76014, 54459, 8816, 71645, 107122, 34550, 37411, 16536, 133925, 68264, 8945, 82320, 117793, 265, 49553, 116641, 71916, 138685, 109884, 92373, 108043, 82365, 73421, 118848, 40675, 137047, 63031, 116288, 126300, 144616, 21015, 66352, 42720, 20009, 21947, 138559, 64726, 81030, 124252, 100466, 125207, 145543, 21093, 27955, 18916, 14902, 18651, 81572, 96116, 19251, 101674, 72546, 39931, 116672, 8796, 29873, 19465, 5646, 68292, 128094, 4688, 117485, 45909, 48623, 144649, 6067, 57546, 53214, 100682, 123312, 31255, 51323, 32871, 118776, 56607, 29241, 72754, 19417, 112581, 43685, 1159, 1615, 132159, 102542, 107812, 4586, 46591, 68122, 59860, 146819, 54280, 65375, 17123, 13320, 121380, 47191, 77791, 22099, 143123, 19668, 127771, 16144, 31928, 19310, 76329, 112384, 42172, 14429, 31621, 35705, 19116, 64493, 12039, 137423, 110218, 38021, 99052, 11705, 98355, 51325, 123165, 52825, 69021, 115464, 34503, 45143, 73483, 136361, 89449, 121696, 71879, 109065, 76395, 95248, 72428, 123245, 131890, 119935, 94640, 107959, 112038, 124243, 123331, 30907, 127809, 33743, 125678, 31860, 122334, 41644, 23975, 112773, 84152, 108824, 114664, 98810, 2356, 49979, 111517, 110807, 8137, 23350, 64523, 79332, 34717, 122039, 103366, 101086, 82839, 901, 123516, 129025, 101922, 85642, 15937, 26903, 80954, 10622, 26127, 63610, 140514, 67368, 142724, 126727, 54954, 55922, 141905, 37594, 82134, 73536, 98174, 89968, 137683, 125963, 86996, 45394, 106874, 13343, 97420, 142769, 78062, 20110, 2790, 93810, 95514, 133478, 45284, 67061, 73441, 130503, 144216, 134597, 17809, 75023, 23235, 72086, 26208, 54275, 99497, 76197, 84631, 105494, 64767, 73990, 134240, 89637, 128071, 55563, 3849, 121651, 105749, 82029, 117755, 122973, 55652, 84130, 111885, 16029, 62111, 65720, 136147, 112654, 147063, 81182, 47065, 99722, 68048, 117948, 115823, 99091, 63460, 122290, 68143, 21145, 53333, 108713, 145047, 90164, 117643, 89073, 72620, 46612, 40080, 111000, 105757, 84328, 56778, 36875, 16043, 134413, 128080, 30382, 139252, 39394, 83969, 86363, 131797, 131361, 45155, 31128, 5773, 34080, 66519, 78154, 119173, 83024, 122906, 45522, 66326, 115181, 23922, 103202, 145508, 15511, 25597, 140256, 148429, 15827, 104562, 122174, 43542, 22225, 99100, 68648, 117285, 35883, 6800, 10510, 122097, 131657, 84200, 77623, 63668, 114026, 71527, 133, 29994, 68037, 103360, 99757, 129663, 108333, 93873, 121992, 123334, 84712, 99415, 112075, 58974, 19734, 95447, 127624, 43199, 137897, 74589, 138921, 5564, 87395, 94827, 82522, 84514, 113868, 64852, 85994, 89652, 33895, 11203, 73705, 40511, 50906, 84029, 112066, 125171, 6949, 66604, 87484, 49799, 106515, 41325, 40905, 56776, 64144, 44144, 19377, 142034, 20605, 92067, 128164, 107030, 137366, 22625, 31179, 27743, 95043, 17046, 87282, 115782, 107677, 129396, 49052, 127625, 45920, 58337, 40530, 26384, 95797, 26467, 75878, 75728, 135803, 63050, 62727, 36272, 70495, 12375, 75688, 119087, 23063, 37164, 143044, 19308, 118565, 49256, 72575, 16509, 128756, 137223, 16331, 88458, 68571, 78231, 122347, 138063, 136428, 22343, 134027, 53656, 16230, 95935, 49122, 79906, 108489, 97039, 58966, 91432, 45496, 63686, 107969, 140298, 69580, 121343, 74196, 58265, 137860, 87962, 23939, 64470, 56081, 43054, 17575, 64807, 32476, 84336, 111589, 61966, 97627, 18177, 16179, 46081, 136194, 80371, 141851, 46019, 106640, 46827, 141068, 34906, 135842, 42141, 49422, 16839, 4424, 7633, 76804, 124703, 14085, 22055, 63245, 64913, 113290, 89151, 109651, 106291, 104368, 138173, 8717, 1219, 20618, 87117, 74301, 128286, 13014, 148610, 73385, 45195, 52816, 99886, 20655, 13828, 53302, 148795, 67029, 114147, 116196, 43405, 88628, 72900, 106008, 40586, 147731, 12003, 68471, 53784, 39468, 62884, 62090, 113567, 146749, 148185, 65625, 23873, 2284, 138167, 16384, 114628, 113674, 37911, 8811, 101574, 51597, 63115, 57527, 41630, 63149, 134924, 135630, 102750, 85191, 21937, 24501, 45234, 71249, 67597, 89795, 131137, 130605, 114371, 34770, 27871, 23826, 61703, 11889, 49860, 140901, 111913, 136347, 56690, 140446, 51001, 96964, 145036, 61190, 24493, 51633, 17188, 142188, 2962, 78974, 118246, 44074, 51722, 115728, 89557, 64967, 3324, 55137, 39253, 139164, 127971, 37154, 24628, 65225, 48794, 37223, 134481, 5515, 57400, 26905, 134789, 125185, 61711, 68664, 26926, 41581, 130326, 97382, 102772, 101005, 61295, 12620, 94041, 9282, 146437, 52806, 141219, 14099, 113840, 145695, 142678, 77847, 74585, 88732, 93986, 141844, 118513, 37947, 123648, 125931, 147693, 120721, 59753, 63006, 24300, 53048, 119426, 141544, 121674, 7655, 140246, 143936, 143947, 24388, 101899, 144867, 47912, 12690, 40513, 140126, 34031, 96606, 101180, 74985, 16519, 61066, 142674, 14768, 130265, 137336, 52899, 116680, 124555, 36497, 117878, 105266, 40801, 48267, 64089, 143955, 84574, 146430, 128663, 118606, 128173, 23263, 101793, 71431, 37940, 6579, 115859, 45960, 51947, 62241, 27916, 25671, 86248, 109541, 87207, 93765, 97416, 86052, 15313, 11722, 141534, 127503, 119423, 124751, 132686, 86439, 30495, 103180, 95669, 61524, 1935, 8850, 71175, 26770, 29734, 99432, 21379, 1568, 35288, 142488, 127957, 84730, 108500, 49273, 22598, 135061, 112519, 105248, 84842, 88908, 87887, 61434, 111201, 131170, 128944, 35549, 11739, 40704, 95434, 147378, 134472, 64534, 98691, 148017, 14714, 71168, 52419, 51994, 82157, 38400, 137980, 81082, 42438, 44582, 38662, 24796, 43322, 38007, 11561, 148725, 63635, 13988, 130429, 128911, 146534, 16325, 128880, 619, 112158, 99383, 59238, 50149, 99499, 5750, 64907, 120212, 39410, 70782, 146747, 27863, 30595, 121038, 34507, 77996, 42837, 105060, 7940, 140305, 136977, 9259, 27704, 122839, 38422, 115969, 102264, 9324, 78936, 32176, 5276, 114706, 10015, 103407, 61941, 84881, 67153, 65103, 134721, 41801, 13040, 125991, 13748, 54231, 136800, 63277, 137422, 64685, 63769, 76169, 18468, 109384, 66535, 30668, 68301, 108718, 67670, 48208, 51161, 135309, 32836, 92145, 5586, 51981, 104605, 54822, 45224, 66009, 1704, 141690, 114993, 98141, 57646, 44298, 5073, 44208, 662, 35237, 102047, 38981, 40996, 42781, 131818, 94103, 107736, 136978, 16097, 26094, 147665, 148261, 75097, 121564, 44016, 25931, 145252, 40137, 4122, 112117, 15596, 32465, 69788, 26888, 17880, 20289, 59481, 113707, 147839, 56482, 99613, 108280, 41871, 143193, 4768, 141746, 77981, 114820, 12019, 3332, 55139, 95485, 29308, 15859, 75263, 123442, 112386, 55944, 36927, 23711, 143606, 69202, 16833, 135315, 25489, 6037, 99701, 132976, 138104, 23179, 27713, 30929, 85303, 115667, 63550, 53140, 82386, 6401, 147736, 86936, 26599, 128855, 23446, 96074, 106499, 1225, 8838, 91825, 125778, 134671, 53873, 136395, 75531, 146614, 63329, 1713, 488, 143489, 92596, 96327, 87739, 130376, 87824, 7253, 15948, 143763, 92177, 99293, 143662, 98116, 91482, 81747, 6074, 52042, 41178, 147456, 75348, 24038, 142990, 103263, 58842, 7195, 11271, 2977, 111130, 117740, 24037, 82915, 128236, 99615, 102273, 70062, 24023, 13662, 62823, 31423, 39603, 99230, 130932, 99430, 133194, 116760, 48179, 114328, 128324, 118650, 50465, 96226, 71194, 4453, 121598, 101577, 104427, 1126, 103164, 144936, 81354, 14850, 41148, 81003, 18220, 80446, 123311, 38535, 113473, 39242, 107466, 139133, 25634, 14217, 51543, 111076, 28407, 119531, 89683, 59285, 133323, 63693, 110622, 142841, 145376, 52741, 31364, 148535, 42584, 79245, 95403, 31441, 75815, 122618, 90753, 110705, 4223, 48104, 56847, 119276, 64822, 81358, 99228, 139029, 8636, 25123, 148644, 135752, 104634, 77564, 81947, 62979, 18088, 142773, 23655, 22508, 24889, 62172, 123063, 52986, 52247, 105049, 54338, 95092, 43315, 99206, 3924, 41219, 105016, 95569, 72663, 36338, 65500, 39664, 124071, 138768, 87896, 91453, 99303, 35965, 129565, 66965, 12648, 119444, 49387, 89479, 42634, 7451, 80346, 92079, 97504, 106704, 43285, 49894, 17639, 14488, 146193, 120533, 37296, 136279, 56322, 84009, 7127, 10214, 87827, 127940, 94101, 44863, 62809, 35994, 106497, 109922, 32546, 115149, 19412, 108927, 6425, 79418, 19203, 118340, 62182, 7744, 117059, 141223, 63343, 24807, 119167, 69272, 127615, 118080, 79235, 82774, 38253, 76604, 110550, 103111, 22997, 47652, 62438, 29166, 21811, 24620, 72549, 100427, 20877, 108768, 123970, 82189, 105440, 47377, 90169, 148641, 143166, 52560, 14481, 102476, 46132, 77, 116173, 98067, 55769, 141766, 112611, 78077, 63720, 101735, 80456, 53113, 111934, 119868, 50415, 125857, 78048, 27843, 3117, 76244, 139326, 20420, 76384, 6283, 70271, 29113, 89298, 83864, 65, 27919, 81991, 127832, 117055, 16164, 36468, 26982, 61448, 63646, 122123, 10461, 129798, 92506, 140362, 64020, 102718, 16913, 38369, 67588, 45392, 86047, 73877, 124746, 7812, 116735, 89316, 83354, 11176, 44158, 108441, 46449, 11563, 108799, 72209, 129142, 9126, 84588, 16468, 12455, 134908, 104324, 26147, 114455, 9623, 33956, 82312, 89861, 144797, 145518, 73112, 10900, 50075, 70825, 18278, 81275, 101650, 2712, 18470, 15155, 139516, 51073, 64388, 126246, 133547, 15804, 140837, 4282, 49786, 112963, 142500, 25183, 10202, 36418, 17309, 146092, 92781, 9770, 92426, 18443, 27311, 6158, 15874, 98943, 40745, 138852, 92001, 43995, 17431, 72156, 64558, 112698, 48027, 15984, 84439, 143858, 137862, 67959, 95112, 48818, 86600, 116565, 60653, 120933, 17057, 50114, 96195, 21765, 42797, 30338, 33797, 24363, 56313, 94007, 85360, 59054, 120472, 121905, 108505, 85515, 117039, 56670, 45979, 104532, 26832, 122998, 141471, 95971, 1169, 84524, 40612, 54404, 79166, 30805, 145325, 127924, 143157, 5225, 91002, 7356, 30071, 69883, 28269, 117241, 92549, 102220, 146285, 94621, 70577, 64240, 38590, 46510, 24399, 129864, 77260, 115320, 63666, 75346, 142056, 16241, 59449, 126264, 71721, 143900, 80627, 11756, 130635, 20368, 104490, 100612, 57348, 78704, 68124, 56934, 34136, 1029, 18358, 21366, 13295, 41108, 35733, 62879, 75232, 128108, 5437, 21051, 132568, 25969, 3877, 111496, 25995, 42391, 14660, 22047, 21945, 121799, 19163, 28707, 108578, 100272, 118595, 51402, 126918, 24677, 110730, 108012, 35437, 102625, 124001, 14574, 101044, 108348, 90091, 34743, 93805, 142491, 36857, 131281, 65319, 22544, 53132, 35621, 28556, 17816, 121942, 5064, 70944, 141716, 71804, 8059, 127849, 72199, 129155, 48710, 78918, 131561, 11348, 13429, 105305, 144907, 7279, 61000, 147645, 17253, 22139, 32435, 135771, 7064, 33007, 42116, 53846, 129145, 131804, 32292, 3748, 72417, 39585, 26503, 50307, 93893, 19162, 79329, 35926, 102818, 141756, 2103, 15424, 116714, 1882, 88726, 15860, 108606, 12011, 123890, 88900, 73627, 146877, 117472, 81548, 68500, 76884, 102770, 63074, 56791, 33702, 104575, 4473, 3371, 43936, 15965, 103863, 82628, 128507, 128900, 68293, 121699, 25678, 46232, 62459, 963, 118688, 20570, 109409, 73861, 103992, 78144, 145408, 92552, 20781, 32725, 73051, 62735, 96338, 19680, 71922, 91584, 111234, 124286, 124909, 140972, 23252, 8199, 72596, 14302, 47771, 111938, 51418, 108106, 35389, 56150, 32052, 43364, 41600, 30391, 24875, 3903, 114398, 39738, 94451, 12590, 140102, 113428, 127401, 18025, 110076, 122738, 8921, 106590, 5493, 67498, 60246, 45785, 16828, 41607, 96454, 108550, 76323, 47170, 71373, 129515, 109383, 1074, 68958, 9744, 112999, 12957, 34816, 144775, 77568, 41151, 52071, 114540, 89851, 91053, 83829, 133806, 92299, 66187, 78023, 98687, 64625, 56499, 148026, 123785, 76896, 81364, 130550, 21483, 3646, 113865, 41788, 100848, 128517, 60837, 107374, 95602, 115213, 132430, 87904, 34055, 110825, 122514, 74645, 104344, 107248, 58737, 58830, 96664, 91506, 11837, 33771, 124743, 99986, 39896, 37257, 21368, 104363, 132017, 3633, 36837, 122581, 19170, 136004, 1072, 144666, 43838, 72529, 31058, 34778, 72128, 98045, 50644, 26508, 105437, 118025, 118590, 136988, 122650, 26778, 127167, 101639, 47056, 5462, 119975, 24926, 44186, 42842, 27689, 126294, 49512, 81096, 41145, 129813, 147753, 104448, 109321, 3899, 137697, 144589, 48728, 9867, 108323, 80582, 72186, 136129, 119145, 45623, 90072, 98343, 87914, 118838, 32112, 112934, 94836, 134475, 136115, 37471, 66702, 104698, 48234, 118210, 123967, 47356, 89248, 86580, 42210, 75094, 27098, 143300, 38778, 31727, 48537, 130593, 11342, 23362, 102359, 86625, 51183, 507, 60345, 18885, 71775, 135998, 46582, 22245, 103499, 91133, 61063, 13716, 148136, 107310, 129834, 85966, 73835, 86348, 80668, 38004, 126998, 87712, 144020, 121904, 11514, 105304, 130546, 36294, 81526, 60591, 57317, 110733, 113747, 6450, 72843, 57362, 132349, 112443, 49074, 1965, 26220, 47706, 52206, 12825, 109167, 103643, 49587, 33528, 59199, 119941, 116825, 126689, 15336, 66436, 139707, 57699, 32401, 136189, 70695, 131664, 62225, 88655, 28486, 124629, 148387, 48981, 92736, 15636, 126773, 121546, 105629, 70490, 92323, 35721, 110233, 63237, 56425, 82052, 99346, 107824, 49395, 128746, 24994, 131659, 115247, 7795, 127673, 115772, 82502, 8732, 112997, 71806, 131278, 111871, 75515, 31340, 83649, 109640, 77142, 53102, 10546, 100158, 14632, 51126, 63595, 88445, 125068, 134496, 133173, 131402, 93687, 22893, 142513, 17356, 84969, 138011, 9748, 109210, 140194, 80483, 94961, 6874, 103939, 86446, 93505, 143168, 59120, 117551, 144409, 6135, 123290, 133999, 32759, 95228, 7284, 146961, 84125, 90174, 61284, 7427, 86721, 24198, 55365, 8541, 94345, 36639, 65284, 127314, 55335, 132551, 137160, 7819, 10947, 147184, 21184, 44803, 122265, 120418, 130572, 25610, 22335, 70875, 73896, 48847, 58246, 9974, 148706, 120951, 25486, 143342, 71387, 45957, 137448, 113636, 67184, 85305, 43754, 57939, 130746, 45944, 43297, 79059, 119995, 140935, 93307, 1647, 60561, 99672, 142367, 60283, 50130, 59736, 113523, 140587, 77314, 134915, 63199, 58399, 123152, 56958, 114916, 53954, 24197, 70850, 21753, 147462, 122351, 108006, 13569, 80553, 85344, 52255, 87224, 63857, 76559, 68515, 146591, 115677, 73256, 73012, 49242, 10484, 110419, 13800, 85062, 48300, 23856, 106316, 65946, 49887, 16967, 30851, 125657, 7747, 24131, 6601, 110885, 72125, 81835, 22818, 45051, 85467, 7216, 77892, 26134, 80515, 89476, 127549, 51841, 127539, 9971, 39609, 119793, 90101, 138898, 21047, 76275, 58257, 25853, 115158, 121217, 11530, 139502, 96726, 138261, 103314, 127710, 129740, 19035, 146434, 110008, 126338, 118829, 25084, 88241, 67294, 65632, 87102, 27815, 16558, 144837, 3060, 59279, 59622, 47882, 116601, 90021, 107348, 75438, 90872, 56048, 57628, 82166, 123940, 123961, 44511, 132140, 110018, 144056, 88519, 23888, 112028, 104736, 51195, 32703, 110347, 123271, 94898, 89503, 43761, 77612, 118801, 55284, 124343, 25377, 116184, 47459, 56279, 101851, 29544, 98151, 145243, 71904, 91551, 45759, 106248, 45769, 66939, 135312, 114598, 26191, 88230, 96731, 93469, 54252, 21238, 84736, 23882, 32321, 68511, 60807, 138214, 70132, 31489, 53217, 113608, 140146, 88204, 122221, 37502, 2295, 51639, 104443, 125918, 131719, 43093, 104031, 35780, 113520, 12605, 146682, 80724, 83165, 62672, 34167, 136545, 45772, 81973, 40437, 87060, 951, 72218, 120092, 70333, 7763, 13179, 26034, 23998, 14781, 166, 80731, 115374, 146972, 107138, 10619, 57747, 49764, 87198, 18285, 116571, 16011, 74973, 147423, 36789, 95120, 97618, 20934, 100274, 23068, 22441, 93108, 49312, 101630, 57873, 27950, 833, 84210, 87918, 115657, 91325, 133062, 23774, 36531, 31290, 107757, 96453, 79606, 51877, 133276, 45659, 124192, 116212, 53419, 101644, 91698, 135796, 39580, 80953, 63722, 139400, 40693, 72377, 30824, 63381, 58174, 102284, 42823, 3694, 126087, 49391, 21695, 63874, 22612, 123074, 85001, 63357, 89065, 35646, 20391, 117396, 58389, 7173, 145126, 76991, 2390, 121260, 6267, 18198, 91390, 8343, 59818, 70118, 88376, 58090, 92788, 50557, 123192, 124978, 136321, 114511, 105816, 14078, 123013, 134456, 119299, 85997, 48438, 7287, 34364, 65917, 110990, 40426, 50935, 109526, 70712, 137516, 2577, 10353, 76088, 40193, 40923, 34072, 62700, 48128, 114061, 58352, 20200, 127568, 64611, 65629, 35379, 48898, 63085, 111725, 119848, 67114, 32250, 74979, 21488, 114487, 76988, 82313, 25799, 25698, 99868, 132855, 19539, 136512, 36328, 51958, 54923, 113975, 103465, 91999, 120556, 34085, 85659, 81439, 11804, 132903, 144833, 85562, 57230, 147429, 120523, 36113, 51513, 82952, 16867, 22134, 120498, 29652, 75884, 134381, 29709, 120434, 30792, 6124, 115438, 31601, 101692, 3236, 44670, 46249, 67006, 53892, 119445, 3461, 15127, 27868, 6756, 37525, 90982, 82599, 13030, 147101, 12703, 139689, 186, 13957, 18812, 25248, 126322, 88686, 95284, 112796, 39635, 64078, 146850, 95237, 28983, 58316, 102400, 76610, 101106, 75691, 117819, 113724, 5153, 143946, 95019, 47166, 28991, 114177, 8797, 87849, 113058, 76717, 91874, 83776, 100516, 110186, 130761, 92398, 105639, 107273, 133786, 16061, 56512, 90053, 15142, 86307, 141803, 89552, 54138, 141314, 54139, 73240, 124964, 103582, 107944, 101699, 47697, 103603, 124232, 95846, 40146, 101544, 117322, 59197, 5479, 103880, 62994, 81380, 103378, 78227, 115516, 26847, 21023, 125618, 124399, 144363, 93546, 128874, 12063, 59679, 58026, 64036, 67156, 35358, 147971, 27800, 120757, 123285, 56276, 63852, 51598, 42241, 78815, 47233, 83078, 128316, 125389, 138526, 72436, 25752, 138378, 33213, 70464, 78341, 96051, 615, 43511, 6594, 6759, 21523, 60314, 53424, 108172, 32535, 71523, 81306, 62686, 68887, 7418, 24884, 36266, 111345, 138997, 132076, 143797, 63501, 75281, 111685, 97789, 58715, 31604, 29332, 121812, 70768, 63201, 57697, 28989, 118882, 115849, 61987, 118967, 45640, 63687, 110800, 129024, 125563, 147552, 63436, 59859, 23482, 50580, 145986, 37389, 73956, 98766, 84513, 63054, 20554, 84923, 59647, 24500, 118757, 41235, 27649, 58224, 16879, 116857, 118074, 23710, 10377, 94005, 92049, 136461, 72351, 75372, 7152, 20627, 79485, 98111, 88536, 68139, 107334, 121823, 35507, 108082, 145913, 120024, 89186, 1403, 94300, 36457, 100847, 63803, 37251, 4334, 79572, 19016, 98808, 10387, 103671, 95283, 23029, 45299, 31966, 132474, 70185, 95995, 50267, 19825, 130719, 27078, 25717, 22832, 19755, 7013, 10419, 19463, 133742, 873, 67020, 93025, 53329, 87495, 86426, 42676, 112436, 46669, 144416, 19431, 138109, 54850, 3464, 51913, 139535, 107027, 71331, 74049, 130595, 145929, 92987, 142702, 89443, 73663, 55586, 122043, 111773, 89890, 119162, 127114, 104079, 91947, 60793, 39658, 30336, 103428, 131117, 58309, 86427, 113799, 98414, 106407, 92081, 86081, 5025, 35597, 117177, 133759, 28399, 55008, 123214, 4889, 105741, 87852, 93574, 66048, 85163, 61906, 96428, 34560, 14629, 64288, 26081, 70500, 12295, 141577, 88928, 67018, 41789, 57166, 102016, 103811, 43040, 146806, 147688, 6857, 55100, 47395, 28666, 41561, 73303, 124742, 30161, 96260, 5165, 106466, 81813, 19079, 143, 82023, 101795, 31316, 29309, 20293, 42662, 78685, 37814, 99602, 12314, 132332, 52848, 22226, 137471, 90049, 49861, 28352, 148458, 68578, 137749, 44498, 49540, 87538, 70932, 65035, 137942, 110774, 72510, 58070, 70534, 118593, 38935, 145077, 98533, 120059, 91429, 6047, 82073, 59053, 103729, 148456, 76699, 80905, 47924, 85947, 65940, 134540, 33408, 116594, 5612, 73760, 102503, 61682, 107352, 136422, 100749, 9483, 35767, 107363, 140366, 42852, 44833, 17569, 44431, 144848, 79861, 55525, 35380, 82155, 82593, 66889, 58370, 45620, 46453, 57984, 116890, 97042, 108420, 85436, 142411, 106893, 51042, 106231, 130105, 63113, 131874, 26116, 84829, 69316, 40142, 132145, 86956, 93702, 69271, 29208, 121022, 116533, 23713, 35867, 122994, 81067, 94243, 79469, 44967, 51236, 137174, 58769, 17866, 86122, 11400, 102737, 118473, 140978, 107562, 37229, 148513, 145240, 46966, 39877, 24025, 55866, 107327, 113244, 59209, 48364, 40465, 29959, 46399, 28375, 100023, 40328, 116424, 99622, 37374, 99101, 64931, 71145, 36934, 104333, 148454, 125553, 48995, 92982, 65130, 69080, 61820, 138797, 137778, 96345, 115545, 69352, 69620, 145011, 61337, 87349, 67214, 58690, 43215, 88825, 112265, 89222, 103852, 109277, 31431, 83878, 125727, 132520, 43497, 133734, 22123, 72746, 96126, 136337, 38074, 124355, 98461, 14088, 11127, 53642, 82345, 135845, 17629, 21852, 24640, 8272, 99409, 92352, 71093, 34063, 100162, 31983, 120422, 18207, 83219, 88823, 38313, 104102, 365, 68692, 27309, 117991, 124359, 129418, 117547, 60208, 2175, 78369, 129693, 59417, 98032, 36865, 4833, 82021, 48604, 70261, 102520, 3398, 136230, 44215, 104861, 103404, 112887, 131980, 67632, 64627, 119885, 37100, 108469, 48496, 14409, 104369, 127073, 63014, 38098, 8609, 46323, 147236, 123750, 48252, 38776, 107680, 112294, 91252, 38257, 128131, 57848, 74097, 23089, 111924, 25504, 18152, 86997, 115004, 79162, 132133, 2115, 127517, 123459, 74068, 111805, 90292, 26655, 68704, 37048, 85402, 46933, 51772, 122792, 90514, 33051, 80342, 97550, 68116, 40212, 122461, 63759, 45871, 71334, 31640, 28746, 104021, 14778, 8905, 128869, 122539, 104184, 9567, 69319, 95365, 12956, 74236, 63966, 17428, 69419, 146846, 47988, 14449, 114782, 100403, 9216, 107384, 82736, 125655, 116979, 116912, 145868, 90118, 97182, 145282, 74767, 64015, 83875, 76622, 100546, 98863, 21630, 62519, 129046, 118993, 99625, 12254, 119909, 69402, 48180, 46147, 108404, 109506, 85069, 6389, 103604, 118467, 65335, 4847, 85420, 22868, 91064, 63930, 15208, 4219, 32492, 19903, 79528, 78745, 64269, 124618, 87490, 84780, 143842, 7752, 100598, 5589, 54754, 60176, 112818, 95247, 39873, 35277, 614, 89678, 124925, 78060, 83719, 75907, 79283, 90664, 84118, 104911, 14154, 123315, 53308, 101973, 67227, 89447, 36099, 23325, 12079, 135523, 92835, 50151, 127426, 44605, 135114, 96380, 36046, 129624, 27338, 52140, 55889, 106827, 51703, 4964, 104538, 43396, 141115, 37807, 110287, 121469, 67549, 127968, 135178, 55188, 80222, 97906, 109971, 64720, 83612, 126897, 110532, 68647, 33552, 145493, 95858, 20499, 82683, 118989, 29392, 51465, 113321, 6811, 104541, 4088, 136262, 6263, 128993, 85785, 32076, 119666, 71217, 136818, 104549, 51786, 145220, 89181, 65076, 50408, 51731, 14337, 4819, 13162, 67310, 15390, 14648, 132592, 144219, 39309, 133008, 30683, 71158, 110810, 83426, 66638, 90265, 70077, 12446, 77766, 92727, 124261, 50599, 66438, 133567, 66337, 47523, 9824, 36925, 71686, 37033, 25059, 34470, 118352, 111266, 64149, 146080, 28118, 80651, 113141, 83216, 2882, 111024, 73085, 99595, 25925, 119421, 134021, 95481, 94395, 123133, 126378, 89959, 45452, 23439, 72454, 17848, 136965, 35648, 69359, 120919, 70610, 89089, 74118, 38339, 131888, 85313, 59141, 114256, 38849, 127777, 65303, 124656, 10004, 47958, 36581, 109871, 63533, 116413, 15764, 141009, 18788, 121067, 128191, 99208, 68732, 1012, 54896, 119427, 82789, 132859, 44922, 21456, 3159, 117033, 63630, 12164, 137181, 48772, 123559, 117350, 50457, 70631, 139263, 96776, 18403, 17609, 110433, 1470, 107797, 118063, 35339, 112105, 2028, 27335, 42850, 72149, 91039, 88733, 74380, 38615, 118245, 3434, 13559, 65697, 141177, 130811, 129582, 145959, 90136, 25652, 123524, 23282, 138815, 91251, 39583, 55920, 137774, 65524, 32355, 8849, 34458, 87297, 20409, 83926, 101804, 90208, 143250, 118128, 60822, 36395, 39824, 93334, 18905, 134592, 147855, 80833, 50027, 7277, 57689, 98202, 47657, 2549, 113486, 55537, 65598, 129064, 138525, 121158, 105164, 137957, 3212, 5672, 134988, 41157, 21837, 69259, 103544, 59345, 142302, 20379, 83914, 117006, 20188, 134268, 138840, 9069, 120400, 92350, 66836, 45544, 25425, 56963, 37662, 39103, 122277, 59971, 143577, 82650, 80866, 115942, 98645, 60272, 13729, 59556, 112805, 23750, 52747, 118783, 120583, 21230, 103976, 28325, 81508, 76463, 117036, 55777, 84800, 143909, 118260, 148539, 47044, 116942, 2647, 123087, 27523, 126557, 23300, 51285, 126461, 92683, 132505, 61695, 33364, 120777, 138950, 130046, 145250, 134202, 37955, 143548, 11801, 102611, 44481, 1443, 138578, 128102, 62469, 71138, 77905, 118580, 8376, 79525, 81534, 7096, 81919, 13593, 113721, 4305, 75222, 59354, 33050, 136272, 105348, 14172, 62797, 16932, 116747, 106823, 84959, 37085, 34217, 14331, 101590, 135302, 7150, 137040, 82482, 40347, 133662, 23788, 134043, 111414, 14304, 70, 125886, 35102, 13676, 7183, 21004, 140381, 77524, 141317, 93425, 114142, 42262, 16420, 1999, 81340, 77236, 67856, 15036, 81207, 66826, 92540, 131683, 45686, 97472, 102457, 49978, 3550, 137824, 29157, 47842, 132939, 111613, 21836, 56390, 147515, 131984, 10850, 22573, 115681, 34343, 5217, 110555, 69950, 43864, 106623, 53108, 30740, 143891, 130564, 28838, 80096, 5754, 122831, 134809, 29588, 97128, 91233, 17463, 48052, 77506, 45650, 1014, 138756, 66895, 28880, 137227, 22050, 141587, 61549, 96603, 83695, 81830, 8070, 49913, 118247, 19559, 24133, 30728, 141232, 6839, 33763, 26741, 142053, 9705, 64406, 130379, 19269, 72616, 125637, 6436, 50920, 106756, 119558, 106118, 133289, 2745, 84540, 74110, 50030, 42777, 83370, 48313, 147199, 36779, 102354, 73008, 62565, 57767, 27492, 51829, 88091, 81897, 27198, 141429, 41468, 148770, 101225, 10719, 20374, 126078, 77413, 25379, 60887, 127581, 63753, 65285, 20335, 78479, 114238, 80665, 55687, 15321, 6206, 71424, 55909, 34040, 142493, 734, 146736, 47785, 92881, 24584, 116853, 45080, 105665, 34973, 63862, 67448, 51922, 77713, 1120, 122022, 98145, 68550, 97214, 135415, 93024, 144534, 47612, 33091, 69916, 55792, 44636, 33455, 2023, 62505, 107048, 23945, 130767, 99425, 62712, 43992, 91105, 38212, 105424, 67234, 22641, 64806, 56510, 87553, 40269, 55287, 90974, 130236, 99444, 122636, 66986, 21996, 45363, 52798, 108668, 57972, 33117, 78333, 36354, 139240, 116876, 146650, 83418, 21060, 115828, 129998, 27766, 39857, 17648, 9936, 7988, 41017, 79728, 105709, 107349, 4279, 37906, 139823, 88898, 71992, 30671, 46671, 798, 78618, 74582, 71520, 38553, 73955, 115191, 87743, 84321, 46866, 41170, 33604, 70965, 55506, 133727, 37077, 129602, 125029, 101107, 99989, 92812, 134276, 24594, 91025, 1497, 53663, 20319, 106763, 21236, 80041, 28524, 95438, 127171, 29370, 29245, 37398, 144077, 131205, 107978, 115360, 130973, 56875, 91304, 139417, 143924, 77357, 59905, 92883, 109821, 73772, 33879, 43620, 9525, 96751, 141135, 84007, 75748, 98732, 65590, 6064, 89187, 43793, 107032, 58344, 86012, 28883, 105123, 23676, 65004, 118504, 142644, 21682, 145732, 135653, 86151, 26335, 42979, 31152, 46526, 46793, 77001, 134025, 59362, 53005, 41224, 110345, 57273, 20315, 60645, 89169, 23973, 142009, 65479, 56238, 148631, 133901, 66808, 111640, 119781, 99818, 122873, 120112, 54442, 37714, 67765, 73218, 58816, 123790, 84565, 89578, 140733, 83573, 62534, 143251, 13893, 143272, 38616, 33339, 131862, 147278, 74202, 6798, 130637, 2723, 62500, 70591, 2398, 40423, 144092, 145847, 136495, 9065, 1698, 112665, 143590, 108770, 72107, 12324, 77295, 17416, 120135, 69805, 131467, 83197, 133466, 20197, 5708, 8069, 98914, 23474, 144632, 93791, 32601, 83916, 144464, 141736, 40368, 145131, 46030, 49997, 65833, 23211, 144006, 139330, 77429, 53125, 86682, 76509, 29923, 139141, 86556, 1435, 3433, 58585, 4598, 99316, 114767, 36170, 42267, 3016, 136224, 131100, 136779, 96462, 121962, 108488, 13529, 68008, 117482, 74040, 104185, 69322, 33570, 101559, 23289, 21372, 138033, 85740, 21710, 126118, 146623, 115, 40441, 144257, 79237, 34357, 20844, 111097, 89052, 61888, 76235, 10219, 136781, 81713, 104466, 10506, 28414, 106464, 115230, 49298, 25910, 141251, 84902, 135658, 73325, 98446, 38423, 29995, 85432, 129966, 147932, 26037, 98084, 42972, 82884, 8618, 27160, 101935, 53026, 136443, 60585, 106368, 109828, 136098, 27884, 59685, 6395, 137111, 72635, 94175, 53904, 90692, 58318, 87032, 132723, 95140, 101089, 25932, 137356, 119641, 85975, 93365, 7854, 24575, 60187, 57327, 53787, 85725, 46241, 140465, 91769, 46246, 144561, 6068, 106479, 82808, 49832, 120573, 112206, 16124, 47551, 77479, 20568, 22090, 110972, 56381, 49693, 435, 62617, 17925, 113612, 94940, 9977, 40386, 16760, 25696, 27692, 93827, 146839, 88049, 122281, 30184, 123708, 66449, 54078, 57152, 83940, 136499, 40051, 53367, 46626, 3570, 64723, 18910, 100592, 67466, 81528, 40716, 79891, 105387, 122226, 9099, 100600, 94354, 95680, 130239, 140287, 65401, 108279, 103534, 16719, 26829, 9508, 101670, 787, 90931, 139004, 12494, 1173, 117245, 85862, 1874, 148829, 104626, 134648, 139410, 1367, 135511, 29402, 49031, 4919, 374, 45261, 147440, 117922, 35750, 140005, 61671, 32960, 79443, 65971, 1591, 148166, 32353, 75175, 67663, 131687, 131016, 114765, 64076, 7654, 51315, 67725, 62985, 6259, 2355, 29041, 43767, 72667, 34033, 18685, 93389, 76078, 9501, 133948, 50533, 122645, 64333, 125953, 40508, 91219, 98633, 109112, 34305, 743, 135233, 107073, 130414, 688, 46677, 58534, 51982, 8723, 31026, 120088, 80436, 86038, 107185, 126609, 85170, 27461, 7164, 98505, 49174, 132241, 56687, 109720, 18969, 23232, 22481, 13936, 55517, 2041, 51767, 115430, 138219, 82311, 109149, 110259, 14749, 25149, 96169, 2707, 143170, 83464, 52464, 144685, 89859, 137452, 141564, 74743, 98449, 57467, 61897, 78688, 119515, 53717, 120759, 87760, 6292, 141648, 81426, 93648, 26470, 79902, 125239, 106199, 37334, 117382, 24055, 77211, 27083, 13477, 10989, 2233, 42062, 53295, 136600, 142047, 141067, 63795, 39714, 13842, 5327, 42881, 32947, 16475, 96642, 2926, 41471, 62242, 141620, 138330, 4822, 31463, 146314, 60740, 22804, 134437, 14149, 23461, 113025, 139769, 91736, 53585, 88741, 96152, 111299, 5697, 6862, 9861, 31742, 133031, 122835, 39588, 88393, 83337, 75736, 132720, 97936, 123288, 82217, 141287, 28098, 57489, 129251, 36421, 118962, 32917, 245, 84531, 50799, 120357, 22476, 2569, 77570, 45862, 20720, 4619, 137833, 88565, 134579, 111246, 145460, 103743, 75286, 13929, 114034, 86775, 83200, 56493, 5324, 75351, 43493, 5848, 74523, 50090, 109328, 107396, 24043, 132636, 35703, 34608, 81398, 132536, 31029, 120010, 43205, 54317, 122157, 116539, 84154, 104100, 35616, 35416, 148609, 24959, 27659, 141711, 101616, 62767, 26162, 132514, 56168, 116523, 51105, 123851, 102145, 22636, 121895, 101342, 107188, 79579, 117462, 145060, 9801, 15242, 64575, 37776, 100707, 145424, 123800, 45031, 60397, 129358, 143481, 83471, 137055, 127177, 79068, 121445, 145579, 82783, 55507, 18529, 90346, 86880, 41341, 84501, 130062, 60047, 88033, 105199, 115965, 81761, 97358, 70072, 102540, 125786, 26764, 91167, 86764, 24667, 22717, 20388, 69181, 4677, 50765, 83266, 68183, 139365, 29570, 94484, 136024, 23903, 47394, 87476, 47348, 73423, 128860, 19764, 140989, 1200, 146530, 93239, 133529, 122589, 44768, 10473, 49651, 107734, 104019, 71913, 106666, 130904, 4105, 17810, 139000, 83768, 132933, 62276, 79337, 73878, 119055, 82868, 43800, 85727, 7575, 33077, 26694, 58255, 89245, 148321, 14221, 126389, 138940, 32082, 95461, 37600, 9935, 109290, 71315, 21942, 146342, 72823, 49119, 115896, 122460, 63365, 35005, 100728, 5166, 90320, 63835, 11554, 89410, 110221, 33873, 135105, 86717, 114242, 95896, 73228, 65789, 105439, 27831, 32419, 118148, 10371, 45932, 94088, 82743, 131324, 100452, 12766, 117432, 99042, 24127, 66789, 136308, 7327, 139147, 125948, 79114, 30377, 12982, 29603, 139872, 67113, 114851, 123451, 67867, 128542, 104923, 9001, 98031, 2169, 86567, 106542, 11416, 113404, 75603, 127889, 50739, 54720, 132344, 62488, 81033, 12431, 1439, 85742, 32785, 18548, 62203, 51546, 9757, 68935, 48493, 145400, 90865, 127573, 25438, 69392, 72234, 84940, 87576, 17553, 110887, 12402, 23966, 26026, 138951, 128757, 129313, 69278, 58622, 134, 54940, 109685, 110931, 12483, 67919, 118212, 117270, 138849, 115051, 24415, 110999, 49657, 5747, 2258, 88338, 28527, 99325, 124686, 8363, 106095, 138893, 63479, 102526, 35855, 7101, 142879, 20307, 57819, 20000, 21816, 47224, 142665, 77391, 137124, 56916, 121282, 114688, 28049, 71025, 16679, 80912, 88137, 58320, 27433, 69672, 31411, 144268, 2424, 13625, 31269, 60059, 74078, 2802, 39260, 116967, 48139, 69943, 33158, 97596, 80926, 94167, 62306, 5745, 135779, 126953, 73868, 54830, 122414, 90573, 55003, 47886, 13725, 118328, 109419, 26742, 14513, 51056, 121837, 89036, 37997, 40837, 97005, 34755, 92889, 103001, 56564, 139191, 44341, 79239, 88777, 101271, 53822, 66682, 137417, 19125, 16949, 3116, 19942, 105675, 66845, 74800, 132235, 39849, 53365, 96433, 141548, 95530, 137431, 26793, 7927, 81224, 139366, 128968, 122560, 148472, 120365, 139344, 3795, 54793, 99371, 63047, 53696, 46061, 134128, 6832, 124829, 99502, 55594, 5751, 9599, 21771, 45670, 24840, 89422, 56275, 51897, 101923, 73168, 101738, 62768, 60528, 130625, 140914, 70959, 4339, 18569, 56404, 74613, 94317, 111157, 88038, 69877, 134808, 115103, 73982, 73452, 91647, 111504, 103601, 139626, 76686, 9997, 117607, 46412, 21461, 23470, 101690, 83308, 96677, 35279, 2744, 95964, 93267, 77958, 1093, 8405, 58766, 11608, 85677, 49952, 115633, 8697, 135394, 21962, 97946, 10798, 47062, 36193, 27688, 87753, 124412, 35295, 113283, 67383, 96633, 94800, 58520, 39148, 21579, 42311, 143829, 55799, 138164, 67248, 4621, 118408, 2781, 73513, 67689, 63239, 44416, 146869, 15808, 5086, 23133, 133416, 34259, 106490, 15034, 127437, 144535, 25461, 145787, 142383, 137262, 71886, 48752, 130673, 78059, 24512, 110664, 2011, 145944, 74129, 27583, 139046, 33966, 124800, 107998, 22367, 123757, 2877, 12830, 10507, 66253, 74306, 140714, 56763, 19962, 106243, 24894, 71827, 48372, 131768, 70214, 127858, 5963, 6362, 92665, 84472, 138953, 88021, 36814, 133858, 39919, 137245, 101938, 144499, 79597, 116905, 78219, 86888, 148253, 75462, 102799, 59284, 5566, 147454, 116914, 8475, 101534, 49648, 24696, 123194, 127583, 18855, 85538, 104354, 84614, 31184, 14311, 7286, 55638, 105371, 85614, 99271, 45644, 11761, 7968, 132876, 76992, 14501, 140423, 17016, 66390, 102058, 123367, 140767, 52459, 35363, 51139, 3925, 33423, 133811, 69346, 111165, 146324, 13961, 83003, 88197, 95599, 27042, 126931, 17655, 105650, 112141, 130854, 107985, 128711, 69432, 112954, 38154, 587, 42638, 16253, 141037, 144599, 29627, 119076, 119671, 12128, 5578, 139580, 148784, 40439, 125831, 135084, 7292, 45175, 102844, 132137, 137490, 27594, 117848, 48582, 79960, 60763, 49389, 42990, 77662, 88225, 126624, 73163, 29777, 109362, 9848, 36439, 39460, 128497, 11270, 105867, 57738, 69234, 51238, 15485, 121083, 25529, 65016, 68522, 53654, 14269, 145559, 22522, 107817, 128062, 114040, 47663, 105139, 52273, 70637, 84280, 92525, 92646, 34381, 4154, 74074, 29064, 36739, 103416, 8281, 134634, 109897, 9379, 95396, 131929, 69431, 145394, 114086, 42249, 138833, 30709, 23778, 16438, 135920, 24910, 52111, 39348, 98462, 85726, 80764, 11711, 15468, 64159, 107390, 7646, 98619, 116936, 132793, 82729, 13789, 123149, 26010, 58804, 25080, 3529, 9857, 32440, 52661, 79194, 32016, 135876, 138699, 19439, 115066, 69027, 36909, 116835, 70576, 16314, 142946, 58315, 88203, 89724, 45656, 1212, 19171, 43444, 35324, 22386, 27086, 10777, 95776, 134958, 114869, 28245, 74255, 82120, 99232, 79693, 111490, 55012, 75694, 121248, 148587, 91565, 53830, 47729, 145671, 95947, 113791, 91092, 94357, 65182, 68635, 64442, 120630, 96649, 129918, 9181, 27074, 72337, 146073, 42513, 69869, 56868, 144590, 6014, 83304, 64977, 138139, 122411, 20739, 75902, 88578, 100329, 42646, 148453, 32071, 98279, 90761, 108871, 55296, 31238, 108362, 121765, 32778, 147316, 105074, 102741, 118982, 99438, 20916, 56966, 94372, 69503, 18108, 16079, 97296, 118400, 4398, 87966, 105718, 35243, 29279, 137130, 81317, 70872, 129284, 39413, 98999, 121140, 38346, 108825, 41274, 115477, 88752, 35076, 134210, 925, 69839, 110869, 138280, 131748, 143015, 135787, 102033, 101281, 51263, 147699, 91857, 38436, 113251, 131359, 83361, 40152, 53472, 140254, 38116, 100465, 146336, 49686, 139412, 77702, 85354, 13082, 110119, 147891, 60075, 122089, 101268, 53649, 60146, 138610, 107888, 17931, 107609, 69410, 3974, 91521, 84096, 73796, 130151, 65957, 135906, 29434, 45332, 78513, 142552, 115353, 50048, 112974, 88582, 126179, 127569, 105877, 73970, 16068, 47734, 97257, 71622, 30850, 31460, 65151, 59990, 61816, 101443, 93618, 63266, 84032, 89843, 66822, 130926, 16965, 144748, 138650, 15741, 138681, 127174, 123198, 3252, 66181, 139770, 29012, 147983, 1545, 7009, 123200, 43826, 1462, 125276, 63643, 15964, 95885, 8274, 56674, 5791, 117732, 18856, 78895, 91240, 126661, 101326, 73585, 44428, 94491, 132906, 113629, 15515, 33931, 9566, 126749, 127610, 115336, 47632, 54298, 117988, 128752, 7354, 112295, 107128, 31399, 57323, 18257, 88198, 115623, 39257, 111416, 9588, 98878, 21848, 37946, 96889, 52629, 79348, 107520, 66133, 32481, 68652, 52375, 33490, 105040, 92562, 85888, 90574, 15580, 32758, 148308, 123760, 32023, 116616, 101447, 46497, 65938, 18237, 124867, 27095, 27376, 3965, 85729, 9331, 42891, 11721, 143892, 90170, 70224, 75138, 105769, 134386, 33844, 76267, 109463, 48769, 51425, 148417, 23909, 87891, 9737, 145078, 38417, 35939, 89144, 41286, 123175, 47561, 39323, 132744, 18500, 17845, 65786, 64695, 45750, 123541, 32807, 45241, 17841, 144028, 61736, 78826, 33424, 74610, 24966, 45539, 72512, 90392, 10571, 18530, 64264, 138777, 24606, 46150, 113604, 147766, 16589, 110709, 73333, 97981, 25384, 115476, 114692, 24821, 103154, 130219, 28615, 100632, 49345, 136229, 137761, 136913, 93467, 103431, 105357, 51847, 38695, 12968, 94419, 143922, 13439, 137966, 141397, 92370, 85662, 40436, 104226, 23100, 66261, 146710, 67587, 144177, 58067, 14685, 86733, 123001, 139018, 81254, 115698, 18950, 59750, 56992, 10081, 25778, 4551, 115957, 17951, 51265, 17792, 113274, 81694, 107308, 70594, 26340, 15385, 113559, 74608, 77800, 7729, 147701, 127990, 14380, 76027, 12227, 21550, 25777, 61773, 148611, 44163, 82335, 21953, 59106, 47855, 6364, 4250, 31079, 11600, 70372, 40847, 61243, 3071, 88158, 124871, 96771, 12732, 101960, 73160, 99532, 58049, 146789, 95977, 119994, 57004, 79169, 21105, 62589, 33867, 4463, 126455, 78267, 62581, 143081, 28293, 41230, 97488, 131678, 102441, 71237, 75067, 111145, 107297, 48609, 60151, 4353, 37241, 122406, 73774, 129655, 31488, 98580, 123638, 77790, 23867, 87444, 147013, 23118, 21035, 58295, 36652, 114734, 66348, 41460, 101579, 63882, 70378, 37568, 33664, 100506, 140302, 131218, 64339, 87310, 51353, 29057, 6924, 7480, 142585, 10296, 99705, 69289, 73928, 95789, 100962, 94461, 61077, 102099, 145300, 7095, 55589, 106381, 122810, 133445, 25023, 88008, 11558, 67262, 119589, 53358, 86760, 25433, 106297, 85441, 86546, 128456, 27943, 101141, 32992, 128597, 146881, 47223, 60311, 85192, 3377, 82914, 130955, 43447, 129495, 51244, 57648, 55955, 77378, 119441, 94907, 100594, 55424, 13175, 49762, 79112, 131012, 136838, 84934, 75214, 129154, 82804, 91716, 51111, 10209, 7188, 97140, 70633, 144507, 114898, 144221, 146349, 36367, 116759, 99410, 113376, 61122, 145147, 35650, 97822, 44486, 66026, 94555, 43883, 108808, 65608, 76490, 79610, 74429, 105506, 1346, 30280, 24054, 132471, 148780, 65195, 103239, 135386, 7933, 15524, 27745, 140985, 114959, 125692, 28498, 26547, 125031, 8101, 28377, 129722, 8154, 26482, 38911, 62862, 15667, 43206, 123777, 144368, 41382, 42759, 102250, 58471, 67034, 23953, 49565, 85951, 12322, 131940, 129614, 107541, 83049, 63554, 100240, 78279, 148759, 134850, 111094, 74850, 138662, 57366, 11636, 89124, 228, 87558, 66313, 13272, 142505, 50658, 96110, 16503, 139168, 92433, 38983, 82094, 41492, 84870, 66143, 130847, 129364, 98139, 89383, 101885, 46409, 12520, 89893, 7469, 57480, 9498, 41669, 62296, 144543, 136603, 49743, 111797, 124033, 113505, 43975, 90168, 93828, 37800, 119347, 21708, 90044, 74859, 14547, 77345, 132968, 116125, 112873, 108254, 49226, 130991, 27757, 144584, 131835, 72874, 109994, 30265, 106446, 18490, 22375, 74846, 73573, 119029, 141348, 137333, 67902, 67578, 123582, 2207, 144362, 125076, 94644, 70222, 93473, 48543, 43055, 20455, 121906, 29856, 140900, 128044, 87682, 16784, 54151, 131976, 96704, 64897, 116119, 51336, 102573, 38819, 42359, 145128, 146893, 79196, 20006, 137562, 74483, 117024, 95939, 85770, 141370, 131936, 6402, 146949, 125636, 94815, 14097, 94853, 112159, 47544, 48864, 131677, 105021, 36949, 139498, 115856, 54874, 139423, 144538, 138383, 134449, 147972, 73802, 37047, 100028, 15042, 137820, 84715, 2251, 64629, 108869, 87388, 104199, 85065, 75440, 29518, 68730, 8416, 810, 104672, 32912, 78172, 11064, 107031, 62853, 91897, 39534, 140196, 38666, 4343, 25705, 12438, 44026, 130640, 129980, 70058, 95305, 89598, 20681, 2156, 95727, 40554, 35107, 34476, 135947, 1770, 17443, 3904, 95026, 83477, 80121, 146577, 120471, 104163, 108574, 97001, 1328, 97875, 108504, 29345, 42066, 73475, 21102, 53118, 124714, 144128, 104707, 141855, 107947, 19430, 3069, 142258, 48067, 137425, 88441, 108438, 17840, 113111, 29874, 118132, 35038, 94462, 90197, 86166, 29520, 23858, 55934, 94650, 64565, 88195, 61861, 67683, 9002, 3579, 49288, 127355, 91006, 35565, 131312, 48387, 119763, 91098, 130715, 26369, 16498, 4366, 108994, 14740, 111029, 137656, 132740, 87264, 120420, 67040, 59687, 58313, 54576, 75251, 138988, 69091, 57223, 85482, 113201, 137945, 3296, 54400, 32583, 128068, 101754, 140778, 116385, 81658, 73788, 124476, 13215, 141925, 142524, 111075, 133599, 59149, 62857, 93614, 36393, 72249, 143898, 34865, 484, 60986, 16846, 113720, 67967, 124428, 116950, 20790, 41650, 4405, 138076, 95101, 102834, 129856, 102566, 145887, 6880, 88629, 133886, 41992, 33950, 102296, 79751, 39602, 7640, 134720, 110607, 129455, 10917, 64329, 92012, 52069, 36658, 121774, 94433, 127885, 17293, 9968, 95275, 68241, 126132, 85193, 95028, 121231, 61741, 124157, 52786, 97887, 19008, 65973, 73831, 46444, 97163, 137595, 27121, 92095, 22597, 103761, 26475, 14358, 83495, 120947, 45602, 70883, 45380, 123952, 2126, 143191, 97871, 120501, 132791, 43517, 127903, 39882, 68342, 64691, 36959, 121125, 66699, 87341, 64132, 61685, 27888, 45694, 42253, 29736, 50769, 131647, 43027, 37220, 82751, 117671, 74808, 48951, 47686, 133607, 108737, 39548, 91258, 5702, 99546, 35726, 67272, 116978, 99733, 109658, 146251, 17062, 66784, 108759, 142954, 130674, 45738, 52972, 131738, 18160, 136863, 132567, 62508, 146821, 111293, 93600, 116771, 90616, 24045, 96711, 60810, 2491, 5517, 137668, 94747, 57937, 23205, 24891, 89493, 86617, 3096, 66628, 24872, 32679, 106628, 61301, 109600, 5309, 94189, 1375, 143395, 125460, 143104, 108540, 132972, 106649, 88596, 72856, 69500, 6289, 82294, 111139, 15562, 92098, 46991, 87801, 98639, 35910, 34149, 28728, 15379, 25210, 85556, 23043, 3440, 84843, 54589, 2777, 61915, 114164, 89444, 87155, 52160, 48390, 55422, 24636, 118728, 74402, 69924, 79501, 27307, 13620, 76360, 14110, 14615, 96856, 117202, 135443, 137430, 15590, 39829, 147635, 53683, 93086, 142044, 65759, 108649, 33144, 87750, 80469, 132547, 16807, 142708, 30361, 124170, 8085, 43226, 140444, 126005, 65988, 71404, 42808, 138126, 26867, 54124, 65832, 142834, 22826, 43288, 75321, 18810, 47181, 130126, 43434, 78310, 86230, 69371, 67457, 118098, 969, 129806, 120425, 90287, 51178, 4115, 141812, 147710, 74533, 14633, 69588, 32037, 101890, 141459, 1441, 37368, 73056, 52736, 52734, 13458, 32238, 26072, 1768, 18826, 69064, 80244, 21490, 137346, 40966, 129922, 137211, 19105, 88290, 144512, 35806, 83280, 52773, 35211, 56739, 133363, 78799, 133771, 131875, 111363, 103368, 24698, 92221, 73801, 48534, 107592, 146937, 88079, 3454, 50862, 143121, 74369, 96490, 30834, 100729, 95857, 57834, 95361, 37975, 4149, 1119, 90778, 50112, 62011, 95623, 116529, 50511, 54439, 84719, 118906, 1366, 87605, 84610, 70624, 119828, 130839, 71074, 54957, 97147, 92427, 13223, 7160, 14069, 1735, 104869, 148500, 125172, 42467, 29033, 41050, 99735, 33627, 82491, 52451, 110256, 64812, 4849, 68553, 124731, 136945, 87469, 44267, 110589, 48255, 75267, 5208, 89719, 32315, 41426, 138687, 59628, 15780, 116653, 44389, 100000, 81229, 123440, 109094, 99075, 13874, 37513, 2508, 62836, 144431, 65668, 114730, 96394, 24284, 37217, 46955, 109163, 50145, 130576, 54026, 39539, 35927, 46017, 130018, 115881, 42942, 50879, 70662, 59483, 56051, 128796, 100327, 138842, 108923, 139458, 109030, 53319, 15185, 45443, 141237, 146071, 44477, 2912, 25091, 139407, 61049, 27091, 14693, 143661, 142895, 91481, 30702, 123203, 66459, 92832, 138515, 64327, 109200, 1906, 70073, 34950, 33815, 135150, 134739, 43576, 47120, 56616, 126529, 107058, 115832, 45603, 2250, 144274, 108310, 84850, 115131, 20232, 45347, 52514, 38797, 147458, 94851, 56451, 60004, 82232, 71343, 46371, 31827, 47089, 91485, 100768, 126454, 14278, 38109, 38878, 103662, 31535, 133621, 9536, 57185, 88001, 22287, 20394, 46733, 75654, 5965, 67824, 96656, 97610, 133637, 133443, 6489, 115696, 74412, 33609, 144838, 70888, 7316, 109103, 24124, 40145, 33526, 83275, 76200, 60186, 113300, 131889, 116900, 18347, 6514, 113330, 93236, 123886, 109192, 95218, 2338, 20939, 106393, 136788, 99040, 55713, 1054, 15758, 49360, 133832, 141212, 117148, 4450, 104627, 23452, 25574, 69273, 112996, 68158, 103917, 3078, 48122, 144783, 28334, 62286, 66052, 142445, 110227, 91224, 71740, 99963, 6018, 92176, 114569, 13631, 22754, 21686, 119756, 48147, 63440, 13400, 3959, 133512, 88194, 111122, 91078, 18433, 57973, 29632, 46554, 60820, 23066, 30697, 28027, 44198, 129262, 46092, 20713, 133937, 96199, 24685, 3640, 42120, 39904, 127309, 147863, 98888, 1790, 94560, 37152, 36694, 141499, 45728, 29364, 48929, 22193, 62491, 119727, 8173, 145326, 68541, 60780, 1745, 51651, 58891, 40543, 146376, 104314, 57828, 140442, 95207, 137925, 8884, 77942, 132440, 32060, 21802, 115054, 92907, 45387, 24314, 110459, 144809, 126327, 42670, 65517, 68354, 82431, 96632, 92249, 55791, 3309, 36994, 6667, 27367, 17531, 93087, 122675, 42927, 20810, 91936, 38242, 38585, 69087, 80645, 59588, 25692, 145781, 62680, 69725, 101348, 68756, 38172, 106309, 46238, 33662, 132732, 119611, 34174, 79684, 7192, 6595, 26775, 106855, 125648, 125244, 12819, 36218, 113825, 134044, 85396, 79961, 148273, 54096, 59979, 27397, 62774, 88255, 73211, 136552, 118126, 57668, 123795, 96290, 143504, 95353, 95352, 47710, 102490, 94376, 92896, 4933, 116058, 111935, 117014, 67514, 77031, 90172, 414, 65419, 86538, 41727, 89132, 31624, 104819, 106205, 72913, 80396, 138267, 128060, 71432, 73733, 124531, 9201, 121997, 106902, 136852, 57168, 69668, 82086, 116855, 122930, 27952, 5644, 92146, 144729, 59363, 72943, 104535, 138177, 78318, 97334, 126265, 87791, 89113, 16288, 143907, 127277, 20533, 45810, 49734, 43765, 12095, 43467, 70415, 2467, 78134, 143041, 4812, 69690, 70721, 40521, 143879, 5056, 21473, 93645, 81762, 44995, 82115, 104304, 78150, 57245, 73403, 110387, 83250, 127838, 89416, 142022, 52546, 81442, 47294, 44546, 128335, 110751, 17307, 137007, 95037, 90669, 9694, 20989, 82537, 78022, 65470, 138968, 128684, 92090, 117993, 97942, 128419, 148103, 61182, 129741, 2896, 45970, 139757, 125908, 97427, 436, 17465, 20061, 128832, 45721, 119788, 131294, 70402, 88264, 135351, 4736, 70951, 122734, 9382, 45950, 88591, 144303, 34944, 57771, 121418, 94570, 11585, 71017, 49228, 110026, 112764, 60254, 94311, 76431, 139170, 89436, 47829, 112432, 127613, 10038, 52555, 57002, 81155, 28408, 103721, 41076, 44745, 82506, 23941, 113600, 101765, 72266, 140758, 35971, 93997, 40817, 68612, 73265, 101300, 131152, 143625, 107700, 49197, 102689, 232, 39910, 17256, 59052, 48596, 115143, 70673, 89811, 35455, 137182, 121639, 12333, 102881, 92817, 91199, 65304, 28781, 133050, 104892, 25889, 129222, 45221, 41214, 89600, 63177, 89659, 112836, 26977, 121834, 123879, 139942, 102568, 125478, 125097, 141761, 113685, 92141, 35069, 67646, 91737, 11375, 137801, 74676, 120130, 138627, 28133, 49011, 97782, 30439, 12561, 59136, 130658, 129949, 31064, 73686, 130749, 76845, 86782, 38005, 22830, 18757, 123827, 137964, 84231, 142183, 109970, 68168, 97677, 120604, 37062, 67095, 120267, 130368, 144466, 57910, 14156, 36322, 18331, 70973, 86312, 30744, 88269, 113118, 41534, 144787, 70694, 74209, 140383, 28112, 51434, 115391, 74952, 86640, 91077, 125241, 112183, 101862, 31724, 112110, 82768, 88444, 69077, 80482, 44706, 134752, 52853, 105059, 69084, 104482, 7691, 83567, 3799, 135592, 25466, 27973, 29749, 73538, 21615, 97336, 72431, 20792, 54312, 132898, 138568, 148176, 33139, 99726, 43424, 142169, 144425, 28420, 26505, 110370, 8968, 127200, 9198, 26922, 132523, 12061, 94649, 52070, 32640, 7829, 52669, 25758, 66643, 79561, 23023, 32105, 30276, 29792, 132257, 4984, 68077, 136902, 98626, 43426, 146976, 111602, 58414, 1386, 20142, 133242, 144870, 83866, 118078, 68329, 148536, 103678, 122250, 2329, 32297, 85579, 47504, 26075, 41626, 12572, 77987, 43964, 87049, 116802, 139598, 147698, 113929, 99191, 76173, 3405, 97319, 145170, 106068, 102639, 114036, 19494, 53218, 142523, 131532, 44985, 117195, 33177, 12952, 25699, 46209, 18726, 18820, 8830, 110379, 48681, 53566, 98386, 16299, 13860, 95100, 24028, 5842, 136939, 112612, 140328, 89107, 124040, 15695, 13219, 146142, 134601, 7745, 46396, 22805, 61968, 12799, 121838, 24355, 80216, 141514, 123534, 8360, 41523, 40719, 99636, 113005, 77201, 111847, 146860, 117562, 76521, 553, 33583, 120797, 45326, 33326, 72388, 96001, 62371, 80770, 96652, 51930, 86030, 1954, 6869, 105758, 81191, 59493, 70079, 17975, 24118, 108796, 109863, 117903, 25761, 142130, 14769, 79840, 10723, 105707, 125152, 70138, 37980, 32695, 99131, 43016, 15838, 116956, 73842, 52369, 52968, 120778, 2998, 54299, 33302, 122453, 31321, 96738, 100152, 126562, 10247, 18337, 37727, 60066, 54679, 109963, 3292, 148232, 141949, 60026, 59420, 120561, 48341, 33695, 5925, 36325, 92798, 118505, 69411, 94728, 29655, 75386, 35057, 77597, 103047, 9789, 110490, 140970, 1114, 116005, 124991, 95339, 51585, 144718, 29958, 77821, 81784, 67633, 115440, 121040, 23658, 68366, 4590, 139350, 117844, 53170, 90380, 70523, 20417, 35116, 83714, 94431, 112541, 97542, 58648, 12911, 36335, 110291, 108493, 58524, 23919, 117114, 61822, 94106, 55531, 63535, 98545, 69487, 37818, 79157, 102160, 148296, 110280, 12115, 116323, 28363, 35992, 8449, 47406, 61575, 8996, 80692, 14996, 70203, 57762, 94415, 87676, 15084, 102252, 130022, 25621, 40897, 46183, 33304, 106794, 25085, 72894, 126686, 46225, 64402, 122526, 6029, 33833, 5450, 15540, 137116, 52131, 39761, 123449, 703, 77738, 7792, 16324, 81685, 139071, 28260, 116175, 4907, 110249, 23604, 60233, 19069, 38194, 99820, 9626, 83769, 101371, 73813, 41725, 96120, 43863, 25897, 115313, 44515, 25298, 15406, 18670, 123481, 9870, 58823, 21088, 22122, 140037, 6344, 16783, 145166, 139551, 1942, 10853, 110936, 146139, 96563, 13941, 56987, 104677, 53723, 31483, 2487, 30730, 122861, 42184, 1191, 35511, 76388, 111724, 72799, 31812, 131917, 117874, 39383, 121177, 92695, 31112, 111603, 123796, 94641, 110535, 82988, 52218, 74280, 34926, 148649, 57725, 13854, 47291, 114492, 48912, 120648, 108045, 49096, 15597, 34104, 44723, 29058, 116257, 133849, 16236, 113081, 109690, 102548, 79669, 11481, 145651, 117644, 134020, 138477, 25880, 138509, 1560, 46388, 120531, 16425, 21284, 116859, 3337, 11488, 126835, 15505, 130052, 94481, 36033, 22217, 4142, 36741, 90820, 80763, 35332, 121377, 89620, 3639, 110853, 18090, 48176, 32223, 79993, 92115, 37529, 107115, 52801, 37749, 1891, 3588, 19249, 38037, 127175, 22096, 146389, 38160, 4501, 31171, 124627, 8801, 140656, 76627, 127944, 82090, 3361, 76747, 6456, 21541, 26453, 143473, 26693, 130121, 88710, 53734, 128801, 17782, 72657, 122617, 59748, 93928, 55662, 80029, 23258, 45430, 147276, 68843, 81019, 148757, 36506, 45668, 55367, 35760, 54774, 64454, 116767, 62228, 112483, 22237, 148109, 56213, 4903, 95337, 65667, 87892, 33316, 74397, 56765, 77948, 50153, 38738, 34014, 95563, 70171, 136784, 32273, 109527, 7336, 76937, 145818, 142446, 102522, 26410, 80862, 68188, 6538, 131123, 96979, 12428, 7066, 97478, 94845, 65929, 121189, 20929, 1542, 102576, 75711, 101821, 109406, 58499, 100472, 30090, 81566, 126286, 64434, 67874, 41940, 139153, 119485, 78462, 81652, 84819, 111690, 129173, 140403, 9558, 82590, 133061, 32111, 64662, 103636, 68434, 15742, 1263, 49189, 135632, 111751, 45097, 76953, 106396, 61373, 9385, 6904, 17320, 143968, 146523, 25204, 9782, 36387, 107615, 98250, 62363, 35356, 12433, 58912, 42174, 39524, 13291, 134272, 8258, 102475, 125844, 4089, 148058, 13362, 146212, 117410, 105567, 70174, 74428, 38578, 34814, 37535, 39173, 98960, 148728, 384, 55035, 1289, 58322, 78042, 145407, 89911, 96609, 14814, 55253, 13940, 70025, 132685, 41383, 62960, 43192, 118447, 128754, 95895, 17228, 74653, 142647, 16904, 142987, 129484, 103179, 58284, 16775, 117437, 36379, 101384, 49264, 57796, 11861, 52690, 19217, 140568, 85145, 61246, 109301, 61582, 80490, 71839, 7794, 24033, 86978, 49581, 43584, 37731, 115564, 15722, 3304, 113346, 123806, 94711, 78578, 2332, 64694, 12526, 108412, 135569, 137991, 133037, 65190, 45036, 24558, 111133, 46315, 128916, 36230, 90167, 9571, 65840, 126828, 129900, 81240, 38855, 133221, 131493, 40509, 71339, 115257, 25381, 90722, 127225, 90255, 128387, 64231, 84878, 4671, 35114, 60862, 111161, 115784, 33383, 141118, 19188, 85864, 27031, 43237, 133747, 1705, 88878, 89154, 97993, 31097, 104779, 67067, 106514, 69956, 34429, 128766, 132725, 2890, 43882, 115326, 44624, 138718, 66680, 57801, 14129, 30796, 72447, 123598, 68101, 35230, 121123, 6939, 32986, 11290, 124869, 121852, 16250, 123998, 110460, 121135, 83775, 7389, 71050, 39941, 26552, 131709, 63003, 40478, 75610, 130173, 20519, 75869, 23086, 114850, 83644, 16090, 107298, 139862, 87163, 12209, 125179, 11455, 17025, 99314, 116861, 24005, 4807, 48091, 128620, 129249, 53057, 126681, 23808, 67792, 46067, 6338, 106035, 130678, 61100, 148095, 13422, 56610, 44848, 50340, 67079, 89969, 119907, 148665, 43719, 117007, 41446, 28310, 79489, 36756, 86407, 52480, 76493, 50662, 39964, 30708, 147323, 102590, 67276, 51630, 15498, 38545, 132598, 124093, 99744, 81205, 50303, 59959, 1136, 10063, 82814, 73552, 138101, 120268, 50780, 117108, 59568, 88060, 77274, 77711, 139684, 74933, 100704, 142099, 147556, 22424, 90183, 61969, 132615, 45872, 62912, 58458, 135634, 42683, 25629, 71847, 9710, 98471, 127387, 144706, 87189, 96330, 82259, 104082, 62404, 119953, 76320, 139822, 22293, 95513, 129202, 110782, 59277, 8091, 6733, 103029, 28022, 18032, 11501, 125047, 3708, 100752, 107818, 111746, 114707, 114047, 110421, 35217, 46069, 70935, 109851, 14324, 98716, 46905, 3022, 95078, 130915, 112633, 42412, 1429, 92732, 116580, 83676, 73544, 46482, 9466, 83913, 31826, 75165, 131283, 73159, 7453, 89475, 121497, 97617, 113596, 21232, 59021, 22527, 135310, 111874, 133687, 54804, 47214, 70116, 83306, 61470, 83311, 144571, 89172, 18749, 72031, 118698, 75873, 88522, 89083, 126000, 75407, 143154, 122346, 70071, 130634, 125313, 60892, 75126, 29042, 75819, 131823, 18380, 1723, 60365, 39727, 73603, 87826, 16684, 44668, 99141, 131066, 18643, 130793, 104831, 101350, 135333, 107982, 64537, 122683, 34424, 38431, 105160, 28425, 83302, 98748, 120124, 50970, 118572, 90285, 106651, 48126, 14361, 84846, 63650, 2771, 57779, 72420, 78198, 35034, 27392, 47217, 15440, 31718, 120748, 25359, 10498, 42807, 65313, 128888, 140356, 60484, 147982, 54189, 108552, 26558, 8483, 122538, 2686, 25245, 76419, 51742, 131714, 7077, 12495, 33052, 120453, 59486, 109713, 48385, 96395, 6392, 92412, 29985, 37227, 78488, 33676, 87106, 118631, 46760, 73728, 9410, 147883, 112666, 8508, 47655, 33126, 99464, 49806, 82276, 22741, 36878, 106104, 145637, 80517, 118652, 143475, 91210, 2820, 114196, 5205, 22388, 148034, 40360, 60984, 54344, 25609, 146182, 10699, 134255, 23677, 58527, 65805, 60086, 92056, 9301, 6129, 75742, 76021, 124922, 109060, 35049, 68835, 78599, 104053, 36643, 93507, 116707, 25940, 87784, 58162, 136735, 125225, 71384, 46300, 136893, 104986, 103399, 43637, 16161, 5287, 24940, 119163, 148505, 43090, 43773, 30505, 127243, 143245, 19998, 144116, 90286, 111967, 21050, 16439, 23320, 56721, 139968, 115244, 116296, 105990, 3056, 52277, 133610, 140840, 133196, 33371, 65588, 24504, 116549, 77997, 92341, 81435, 22267, 89849, 74153, 108439, 97139, 26406, 124327, 50675, 82279, 52342, 82614, 72449, 127729, 118117, 133571, 27969, 25004, 76367, 80605, 139943, 32300, 101274, 76969, 133280, 79311, 29075, 14774, 115400, 6980, 136323, 146954, 91418, 123993, 70241, 4452, 91001, 90853, 65932, 92943, 67235, 39331, 134874, 43519, 56071, 91632, 21200, 4327, 62237, 140729, 124661, 62572, 132368, 77234, 26619, 61793, 123882, 116253, 104522, 91193, 117487, 146578, 17203, 26254, 112116, 32776, 64614, 3451, 48365, 14698, 55883, 28, 80965, 34480, 107555, 73249, 61513, 83070, 30286, 62333, 17608, 20575, 140241, 6936, 90638, 79668, 104075, 100069, 123082, 61133, 70127, 102739, 130135, 94144, 100200, 40570, 142738, 2718, 126054, 141245, 22672, 94807, 91572, 108515, 38992, 148530, 95098, 65461, 116841, 45663, 49406, 133401, 18838, 127204, 24664, 13726, 19697, 116133, 78166, 97944, 102138, 34915, 16287, 135656, 95804, 80716, 85921, 15805, 127737, 45054, 35876, 118825, 50825, 66583, 41122, 102119, 104186, 120791, 44259, 145130, 83004, 79128, 2378, 116354, 99529, 123698, 1684, 67918, 80229, 61771, 26029, 69456, 38959, 42448, 34247, 145372, 121756, 89841, 118766, 10956, 34600, 147091, 61365, 135596, 46990, 60583, 122266, 134799, 6768, 24668, 34000, 104660, 23923, 8877, 139615, 95220, 23272, 74503, 98956, 41754, 29779, 147058, 58778, 29487, 71438, 144115, 80650, 25467, 102123, 91657, 75183, 77341, 91832, 133824, 145845, 75809, 132524, 82255, 63320, 62873, 26746, 94244, 74453, 57268, 112524, 30077, 140895, 48216, 95553, 130987, 81141, 75581, 147981, 105903, 41193, 92845, 7555, 131702, 148050, 26454, 144587, 60073, 69897, 6107, 38660, 107494, 15675, 4135, 11047, 70005, 48119, 89485, 12693, 79954, 71564, 82647, 124890, 85907, 87671, 134821, 41968, 138963, 11868, 28196, 121215, 47547, 59151, 106074, 137236, 3859, 43247, 52967, 63096, 146541, 13545, 148508, 24557, 131236, 56329, 113698, 70870, 72015, 119483, 54398, 81415, 26306, 63621, 118399, 100722, 16772, 14836, 88948, 11364, 67405, 100219, 98319, 33414, 131397, 55017, 22683, 5170, 37138, 142196, 50332, 64282, 145583, 64674, 142036, 121297, 86862, 31499, 135885, 40165, 10256, 23809, 80038, 51157, 106519, 3557, 46702, 104835, 95798, 83246, 131784, 18222, 82151, 145643, 21149, 87610, 86728, 66139, 75749, 129911, 31185, 100410, 142740, 86342, 33990, 124680, 67021, 26633, 146157, 48433, 41111, 85845, 74861, 126363, 102012, 116362, 109519, 52822, 111278, 77257, 133165, 68202, 49022, 123874, 136299, 68203, 112040, 103139, 15778, 24425, 73369, 55985, 103529, 52642, 72738, 43896, 45285, 126473, 134771, 84608, 109485, 52397, 59787, 15067, 109790, 142544, 16317, 111927, 85033, 78899, 30777, 119969, 34191, 11287, 36385, 147962, 84937, 13927, 122410, 28823, 138208, 140927, 91437, 128931, 15879, 40738, 30680, 34618, 33825, 44523, 110527, 15380, 146273, 79928, 109081, 103961, 74374, 8391, 1024, 2048, 15284, 131965, 81613, 145891, 38055, 1381, 128838, 102148, 12969, 127607, 54350, 87121, 137407, 128465, 32773, 29854, 17959, 115997, 39835, 38472, 141598, 33689, 112840, 44878, 125753, 60768, 99802, 86807, 3169, 114914, 96368, 110841, 144258, 120052, 95374, 48038, 96618, 134038, 97572, 80148, 134440, 25373, 41068, 117834, 23404, 148690, 86049, 25982, 117234, 86745, 146579, 27839, 11439, 39354, 105101, 138446, 17616, 44819, 89960, 106577, 94084, 12414, 127248, 147641, 128200, 127008, 61008, 138225, 101643, 47626, 129687, 144948, 48730, 92419, 78409, 56829, 17308, 78604, 57944, 136412, 127040, 67455, 24107, 10715, 4747, 102159, 146989, 123719, 116033, 76607, 61759, 130613, 18084, 34046, 72860, 71379, 135068, 115955, 114518, 109245, 130745, 133696, 122405, 131158, 103069, 8493, 74263, 58141, 137781, 25681, 41488, 113020, 73910, 39700, 115715, 49110, 100467, 92704, 80465, 146380, 18808, 75582, 62201, 125130, 98584, 116939, 139536, 41497, 129040, 74311, 127731, 146715, 34555, 142950, 96637, 31221, 7258, 125571, 26895, 61123, 17831, 131138, 120979, 23469, 46177, 129087, 43401, 40089, 27252, 61748, 103308, 26854, 45693, 81722, 147832, 2046, 9643, 107206, 104352, 47923, 66919, 61172, 31519, 4355, 83193, 51694, 136351, 88219, 101594, 105917, 96209, 81635, 72205, 15651, 79835, 127575, 143326, 132528, 143992, 53505, 146477, 19013, 59565, 102887, 45796, 132087, 96279, 137173, 24861, 121325, 114689, 2203, 68486, 100981, 118806, 140860, 37621, 76468, 135589, 28187, 23107, 80583, 60831, 34909, 100096, 42687, 84397, 13068, 47541, 120097, 59805, 23951, 19794, 28684, 62785, 110983, 21701, 90297, 106265, 10125, 34192, 120281, 16366, 130517, 94594, 36563, 63439, 10727, 18867, 24405, 88246, 131214, 132625, 109724, 132569, 66719, 132004, 127152, 16226, 15422, 61599, 70293, 115216, 18652, 24063, 77028, 72682, 91945, 107883, 58657, 52271, 63986, 122178, 111391, 124916, 49904, 32135, 97984, 60511, 49649, 46868, 139573, 81970, 75482, 82681, 52691, 57504, 69720, 1590, 79526, 27896, 52991, 77150, 148524, 41565, 82307, 1736, 70290, 95096, 64291, 112893, 74701, 129921, 78838, 35442, 82550, 36971, 22606, 142787, 57424, 146450, 122638, 41972, 50543, 62343, 125489, 49847, 76891, 110016, 39459, 140579, 127325, 27148, 77164, 127691, 65617, 33428, 119518, 106616, 114157, 84195, 117185, 45782, 135281, 4081, 114202, 63176, 74347, 8689, 139898, 85395, 19877, 128502, 73354, 101860, 58844, 74843, 10815, 44835, 76074, 137009, 82403, 2851, 57048, 135352, 19234, 41018, 48528, 38793, 24976, 106289, 36830, 6992, 11941, 129383, 88041, 97497, 1807, 54648, 93205, 102014, 6039, 146776, 70615, 19948, 39375, 1693, 148302, 48415, 48152, 119966, 39100, 20596, 136286, 102994, 127544, 99914, 80595, 44058, 14517, 129334, 37613, 43349, 11265, 75889, 25981, 7411, 47613, 142766, 91359, 112392, 65058, 749, 84409, 26490, 73800, 35997, 123908, 68460, 60845, 47672, 56718, 14872, 58735, 25548, 117132, 101831, 56539, 111679, 87190, 89394, 122511, 19474, 108974, 34677, 543, 33663, 55138, 137907, 88700, 89881, 50834, 66687, 55392, 146280, 33668, 135022, 41635, 15070, 142061, 28712, 37687, 108823, 109843, 76616, 36460, 25321, 144035, 53234, 4798, 77970, 79880, 47869, 57640, 26449, 116461, 34356, 73804, 114489, 16409, 4532, 1109, 115765, 120661, 105372, 74910, 49093, 136851, 41820, 74061, 86585, 141099, 114115, 139663, 147732, 47367, 33698, 87539, 73430, 9295, 93463, 34473, 56395, 16479, 123814, 112722, 31265, 26919, 15772, 14257, 98961, 97588, 76358, 81908, 106990, 130186, 88857, 2812, 1021, 21314, 54145, 101981, 28964, 119197, 12964, 69179, 115413, 113715, 32623, 3339, 78750, 107395, 31831, 112516, 61691, 8387, 135855, 33979, 53416, 95404, 104483, 40249, 3019, 139339, 135976, 136837, 10652, 54597, 10709, 22513, 28038, 131210, 100540, 42936, 132828, 57761, 113396, 41536, 25892, 81949, 5229, 34394, 37768, 79058, 65950, 136950, 47579, 54266, 29737, 88442, 36173, 142614, 40772, 78390, 85850, 65740, 83976, 13547, 118455, 111180, 62141, 103299, 56439, 29922, 109443, 130346, 84672, 9859, 137326, 15340, 144736, 23980, 34260, 74831, 56775, 9882, 76546, 63502, 134312, 85929, 90187, 79188, 85942, 118451, 3543, 36514, 17197, 106553, 65459, 143865, 40813, 144286, 97909, 107539, 11670, 94528, 111861, 114977, 10940, 44110, 60644, 81675, 110474, 148466, 94378, 49760, 6072, 113788, 114990, 47705, 13555, 101698, 70412, 11398, 16122, 135346, 88554, 148, 110858, 132138, 42149, 23416, 55115, 17305, 55641, 13677, 58062, 100003, 112687, 129362, 93417, 34505, 57260, 94406, 44912, 118394, 89763, 18768, 7324, 25973, 112709, 126799, 93930, 78661, 63988, 57105, 87201, 147865, 23925, 16119, 67094, 87598, 37551, 44048, 12709, 54682, 103217, 7246, 18576, 77857, 122371, 87256, 51609, 144645, 104239, 44164, 104310, 104086, 134347, 26124, 60275, 128579, 58724, 128624, 79143, 138024, 83381, 20245, 66798, 23706, 74235, 50508, 8672, 119938, 84483, 65989, 66037, 5520, 11576, 141162, 66664, 96717, 42494, 83942, 73771, 137659, 124337, 19955, 128451, 144358, 116041, 25658, 91445, 17643, 117002, 7390, 94569, 103409, 85011, 128250, 40577, 71699, 129896, 111845, 33019, 88673, 76264, 28459, 142335, 12971, 131844, 36467, 27604, 80817, 146662, 61283, 82225, 4027, 130938, 89801, 103978, 62964, 28864, 136124, 113157, 16838, 21718, 55850, 39954, 71079, 139216, 47474, 21553, 4248, 54703, 13013, 84839, 92455, 111413, 78896, 123944, 59675, 119723, 131270, 98927, 86227, 105963, 15316, 132023, 111119, 85491, 71572, 127021, 128771, 99116, 115037, 142742, 106766, 51899, 39744, 12077, 14019, 13088, 110462, 130771, 75485, 70753, 62417, 21763, 86119, 76260, 148233, 60061, 2782, 41954, 17191, 140401, 84932, 58008, 26244, 134751, 134556, 110839, 33645, 11499, 21235, 114953, 111100, 44443, 90954, 111608, 13713, 123447, 147126, 36879, 108313, 23625, 20926, 117332, 112222, 29509, 52575, 133409, 8967, 110755, 111832, 91828, 127410, 8770, 132141, 99852, 35404, 41010, 47557, 109395, 4567, 122294, 74296, 123364, 89878, 68973, 48957, 58250, 15940, 30572, 34163, 131326, 71273, 78976, 118095, 144541, 132897, 28370, 140156, 110019, 18505, 136955, 60327, 37885, 15824, 93560, 39105, 5648, 8381, 23875, 143902, 136464, 55946, 77410, 105878, 14857, 77586, 31869, 128693, 137926, 67589, 6831, 41186, 37543, 81363, 114860, 142433, 22068, 144607, 89395, 115834, 15985, 56367, 85882, 27167, 8451, 28332, 199, 140208, 71092, 116823, 109965, 113668, 78647, 34892, 36323, 121562, 63512, 30596, 129993, 56348, 134676, 41864, 67706, 40752, 113258, 73608, 96183, 42053, 123927, 56900, 134791, 71108, 13469, 45146, 91102, 5199, 12551, 41689, 49679, 48557, 26732, 14746, 18073, 48717, 70640, 107010, 58375, 17815, 89071, 140392, 44450, 78246, 107534, 104862, 119019, 60127, 64771, 132425, 107135, 119371, 46270, 9346, 99988, 1254, 93164, 118555, 141211, 101323, 85489, 671, 58970, 133730, 93945, 67476, 104713, 54598, 10633, 124709, 54626, 23436, 122603, 110932, 110540, 28660, 20536, 119325, 89794, 140347, 139812, 100211, 78529, 97089, 68386, 123388, 20944, 141937, 74799, 132178, 123688, 31317, 5594, 27217, 141293, 105575, 75026, 50685, 42074, 118669, 88117, 110138, 38625, 101053, 119416, 29583, 103537, 113171, 53459, 84404, 83553, 86560, 134127, 142822, 77870, 61516, 144766, 69221, 2308, 105129, 44229, 68024, 61934, 49821, 7141, 69079, 81798, 50790, 25771, 13812, 70988, 49030, 80006, 74467, 42497, 106815, 122885, 138911, 16211, 58866, 146045, 827, 15765, 99268, 97625, 141492, 141282, 3817, 87249, 144369, 59083, 137390, 86332, 71476, 140309, 5321, 27731, 131753, 113000, 61955, 48906, 14027, 131520, 126062, 138907, 65690, 13815, 53676, 142720, 123650, 123096, 7270, 139690, 25582, 60278, 38760, 84301, 20869, 147227, 68729, 145899, 141667, 64821, 93531, 3257, 109944, 107299, 89772, 63752, 52656, 71468, 6680, 71897, 102537, 146112, 44929, 77589, 22178, 41162, 137756, 119997, 91585, 87118, 137569, 58260, 100588, 129166, 137511, 142547, 92217, 51360, 134527, 50663, 59409, 64257, 81487, 100176, 96511, 34831, 40953, 125962, 18187, 34386, 27538, 76394, 102135, 140808, 91992, 6025, 112975, 37427, 106481, 91048, 73768, 53504, 30247, 140127, 15198, 78645, 51672, 13844, 92808, 26500, 30823, 30175, 72878, 60981, 14059, 46021, 6585, 136406, 129277, 116435, 102816, 86921, 9457, 50795, 4574, 71477, 7966, 108118, 76543, 141631, 16044, 83207, 53662, 69803, 30164, 35093, 79203, 7076, 126501, 134854, 61508, 67484, 39818, 10087, 123501, 94194, 113102, 50839, 114720, 6248, 22215, 111851, 144874, 129772, 42858, 99740, 27228, 50115, 78500, 11984, 47444, 130298, 119216, 47278, 25353, 123649, 24187, 27705, 82894, 111884, 27894, 128848, 99826, 83854, 10693, 75512, 25635, 64094, 147069, 135051, 119465, 5267, 113843, 18611, 105761, 108464, 16364, 59770, 21498, 73858, 134974, 77811, 29556, 48053, 19301, 127255, 4436, 55388, 85041, 141225, 16811, 60355, 25363, 118599, 5569, 18029, 98232, 90039, 18188, 128390, 145093, 96014, 122716, 100334, 26604, 95045, 129252, 144831, 60382, 93102, 76680, 74787, 78031, 28239, 135768, 147810, 22320, 103077, 124456, 6059, 109332, 63450, 64021, 116202, 95556, 63433, 86283, 139744, 58539, 126834, 125051, 109270, 47270, 127045, 15023, 89704, 96774, 35520, 51302, 106777, 131630, 120317, 33384, 49742, 35135, 112236, 15952, 137741, 133245, 65723, 117552, 148385, 83784, 45704, 99156, 71782, 49759, 128187, 36458, 54955, 104822, 101700, 19919, 115543, 25808, 107743, 71934, 53851, 64467, 7945, 22376, 35202, 32518, 39419, 124163, 93487, 24346, 117035, 106349, 56334, 44645, 145632, 75131, 130849, 13570]\n"
          ]
        }
      ]
    },
    {
      "cell_type": "code",
      "source": [
        "from lime.lime_text import LimeTextExplainer\n",
        "import random\n",
        "\n",
        "# Pick a random index from index_values\n",
        "random_index = random.choice(index_values)\n",
        "\n",
        "# Initialize LIME Text Explainer\n",
        "explainer = LimeTextExplainer(class_names=['positive', 'negative'])\n",
        "\n",
        "# Define a prediction function\n",
        "def predict_proba_func(texts):\n",
        "    # Transform the text into TF-IDF vectors\n",
        "    tfidf_vectorizer.transform(texts)\n",
        "    # Make predictions using the trained SVM model\n",
        "    return svm_model2.predict_proba(text_tfidf)\n",
        "\n",
        "\n",
        "# Generate explanation for a specific instance\n",
        "exp = explainer.explain_instance(X_test_preprocessed[random_index], predict_proba_func, num_features=6)\n",
        "\n",
        "\n"
      ],
      "metadata": {
        "id": "XkBTBU-tLpaP"
      },
      "execution_count": 95,
      "outputs": []
    },
    {
      "cell_type": "code",
      "source": [
        "tf_idf_preprocessed = tfidf_vectorizer.transform(X_test_preprocessed)\n",
        "\n",
        "prediction = svm_model2.predict(tf_idf_preprocessed)\n"
      ],
      "metadata": {
        "id": "itvHRF_pOZwf"
      },
      "execution_count": 185,
      "outputs": []
    },
    {
      "cell_type": "code",
      "source": [],
      "metadata": {
        "colab": {
          "base_uri": "https://localhost:8080/",
          "height": 55
        },
        "id": "TfRJVSgLjxhC",
        "outputId": "cc91dfba-a4dc-4984-b6d8-44e3b7a6c355"
      },
      "execution_count": 99,
      "outputs": [
        {
          "output_type": "stream",
          "name": "stdout",
          "text": [
            "[1 1 0 ... 0 1 1]\n"
          ]
        },
        {
          "output_type": "execute_result",
          "data": {
            "text/plain": [
              "'four Chihuahuas seem interest treat didnt seem know quite first lick walk away Finally one manage crunch one eat next day thing think like treat would better suit larger dog'"
            ],
            "application/vnd.google.colaboratory.intrinsic+json": {
              "type": "string"
            }
          },
          "metadata": {},
          "execution_count": 99
        }
      ]
    },
    {
      "cell_type": "code",
      "source": [
        "# Print the explanation\n",
        "print('Review:', X_test_preprocessed[random_index])\n",
        "print('\\nTrue Class:', 'positive' if y_test[random_index] == 0 else 'negative')\n",
        "\n",
        "# Get the predicted class\n",
        "predicted_class_index = prediction.argmax()\n",
        "predicted_class = 'positive' if predicted_class_index == 0 else 'negative'\n",
        "print('\\nPredicted Class:', predicted_class, \"\\n\")\n",
        "\n",
        "print(exp.as_list())\n",
        "\n",
        "# Get words and weights from LIME explanation\n",
        "exp_words_weights = exp.as_list()\n",
        "words = [word for word, _ in exp_words_weights]\n",
        "weights = [weight for _, weight in exp_words_weights]\n",
        "\n",
        "# Create bar plot\n",
        "plt.figure(figsize=(10, 6))\n",
        "plt.barh(words, weights, color=['red' if w < 0 else 'green' for w in weights])\n",
        "plt.xlabel('Weight')\n",
        "plt.ylabel('Word')\n",
        "plt.title('LIME Explanation')\n",
        "plt.axvline(x=0, color='gray', linestyle='--', linewidth=0.5)\n",
        "plt.grid(axis='x', linestyle='--', alpha=0.7)\n",
        "plt.show()"
      ],
      "metadata": {
        "colab": {
          "base_uri": "https://localhost:8080/",
          "height": 696
        },
        "id": "wmHOso5sjsL1",
        "outputId": "fe1dc7d7-79c5-43b2-f59e-11ffa9329936"
      },
      "execution_count": 186,
      "outputs": [
        {
          "output_type": "stream",
          "name": "stdout",
          "text": [
            "Review: four Chihuahuas seem interest treat didnt seem know quite first lick walk away Finally one manage crunch one eat next day thing think like treat would better suit larger dog\n",
            "\n",
            "True Class: positive\n",
            "\n",
            "Predicted Class: positive \n",
            "\n",
            "[('away', -0.016860010462174748), ('suit', 0.014178772858662746), ('interest', 0.012259897243374517), ('next', 0.012177068431643463), ('thing', -0.010454214844255485), ('crunch', -0.010218364803691583)]\n"
          ]
        },
        {
          "output_type": "display_data",
          "data": {
            "text/plain": [
              "<Figure size 1000x600 with 1 Axes>"
            ],
            "image/png": "[encoded data removed]"
          },
          "metadata": {}
        }
      ]
    },
    {
      "cell_type": "code",
      "source": [
        "pip install h5py"
      ],
      "metadata": {
        "colab": {
          "base_uri": "https://localhost:8080/"
        },
        "id": "WYnjjKcfahzh",
        "outputId": "7fe6d6c9-c76b-4685-c9f8-a415d805a9cf"
      },
      "execution_count": 75,
      "outputs": [
        {
          "output_type": "stream",
          "name": "stdout",
          "text": [
            "Requirement already satisfied: h5py in /usr/local/lib/python3.10/dist-packages (3.10.0)\n",
            "Requirement already satisfied: numpy>=1.17.3 in /usr/local/lib/python3.10/dist-packages (from h5py) (1.25.2)\n"
          ]
        }
      ]
    },
    {
      "cell_type": "code",
      "source": [
        "from sklearn.svm import SVC\n",
        "import joblib\n",
        "\n",
        "# Save the model using joblib\n",
        "joblib.dump(svm_model2, 'svm_model.pkl')"
      ],
      "metadata": {
        "colab": {
          "base_uri": "https://localhost:8080/"
        },
        "id": "GCSu8VzwUFYq",
        "outputId": "092e71bf-1592-46d4-8a63-eda9b53ed5d0"
      },
      "execution_count": 116,
      "outputs": [
        {
          "output_type": "execute_result",
          "data": {
            "text/plain": [
              "['svm_model.pkl']"
            ]
          },
          "metadata": {},
          "execution_count": 116
        }
      ]
    },
    {
      "cell_type": "code",
      "source": [
        "from sklearn.naive_bayes import MultinomialNB\n",
        "import time\n",
        "\n",
        "# Instantiate the Naive Bayes model\n",
        "nb_model = MultinomialNB()"
      ],
      "metadata": {
        "id": "IyMvXEi3mDwx"
      },
      "execution_count": 104,
      "outputs": []
    },
    {
      "cell_type": "markdown",
      "source": [
        "# Naive Bayes Model\n"
      ],
      "metadata": {
        "id": "8PIXjLVel7Lo"
      }
    },
    {
      "cell_type": "code",
      "source": [
        "start_time1 = time.time()  # Record the start time\n",
        "\n",
        "# Train the Naive Bayes model\n",
        "nb_model.fit(X_train_tfidf, y_train)\n",
        "\n",
        "end_time1 = time.time()  # Record the end time\n",
        "elapsed_time1 = end_time1 - start_time1  # Calculate the elapsed time\n",
        "\n",
        "print(\"Training time:\", elapsed_time1, \"seconds\")"
      ],
      "metadata": {
        "colab": {
          "base_uri": "https://localhost:8080/"
        },
        "id": "V2012ivAl894",
        "outputId": "57b251e9-6ba5-4f6c-e622-27ef69b152e1"
      },
      "execution_count": 108,
      "outputs": [
        {
          "output_type": "stream",
          "name": "stdout",
          "text": [
            "Training time: 0.036104440689086914 seconds\n"
          ]
        }
      ]
    },
    {
      "cell_type": "code",
      "source": [
        "# Use the trained Naive Bayes model to make predictions on the TF-IDF vectorized testing data\n",
        "# Print the first 50 values of the predictions\n",
        "\n",
        "y_pred1 = nb_model.predict(X_test_tfidf)\n",
        "print(\"First 50 values of predictions:\")\n",
        "print(y_pred1[:50])"
      ],
      "metadata": {
        "colab": {
          "base_uri": "https://localhost:8080/"
        },
        "id": "6Up-M94EmPaL",
        "outputId": "c9facb72-9b1e-4623-8394-92a1a745ab02"
      },
      "execution_count": 111,
      "outputs": [
        {
          "output_type": "stream",
          "name": "stdout",
          "text": [
            "First 50 values of predictions:\n",
            "[1 1 1 0 0 1 1 1 1 1 1 1 1 1 1 1 1 1 1 0 1 1 0 1 1 0 1 1 1 1 1 1 1 1 1 0 0\n",
            " 0 1 1 0 1 0 0 0 0 0 1 1 0]\n"
          ]
        }
      ]
    },
    {
      "cell_type": "code",
      "source": [
        "#measuring the accuracy of the data set\n",
        "from sklearn.metrics import accuracy_score\n",
        "accuracy = accuracy_score(y_test, y_pred1)"
      ],
      "metadata": {
        "id": "_Ge9B5LImfkg"
      },
      "execution_count": 112,
      "outputs": []
    },
    {
      "cell_type": "code",
      "source": [
        "# Importing the classification_report function from scikit-learn's metrics module\n",
        "from sklearn.metrics import classification_report\n",
        "\n",
        "# Assuming y_pred contains the predicted labels for X_test\n",
        "\n",
        "# Generating a classification report by comparing the true labels (y_test) with the predicted labels (y_pred)\n",
        "report = classification_report(y_test, y_pred1)\n",
        "\n",
        "# Printing the classification report\n",
        "print(report)\n",
        "\n"
      ],
      "metadata": {
        "colab": {
          "base_uri": "https://localhost:8080/"
        },
        "id": "Gbqoisc7nu4T",
        "outputId": "af91d8d2-4f0b-4abe-8101-c95522db64c2"
      },
      "execution_count": 113,
      "outputs": [
        {
          "output_type": "stream",
          "name": "stdout",
          "text": [
            "              precision    recall  f1-score   support\n",
            "\n",
            "           0       0.89      0.54      0.67     10244\n",
            "           1       0.72      0.95      0.82     13168\n",
            "\n",
            "    accuracy                           0.77     23412\n",
            "   macro avg       0.81      0.74      0.75     23412\n",
            "weighted avg       0.80      0.77      0.76     23412\n",
            "\n"
          ]
        }
      ]
    },
    {
      "cell_type": "code",
      "source": [
        "# Importing necessary functions from scikit-learn's metrics module\n",
        "from sklearn.metrics import roc_curve, roc_auc_score\n",
        "\n",
        "# Calculating the ROC curve, which plots the true positive rate (TPR) against the false positive rate (FPR)\n",
        "# The roc_curve function takes the true labels (y_test) and the predicted probabilities or scores (y_pred) as input\n",
        "fpr, tpr, thresholds = roc_curve(y_test, y_pred1)\n",
        "\n",
        "# Calculating the Area Under the Curve (AUC) score, which quantifies the overall performance of the classifier\n",
        "# The roc_auc_score function takes the true labels (y_test) and the predicted probabilities or scores (y_pred) as input\n",
        "auc = roc_auc_score(y_test, y_pred1)\n",
        "\n",
        "# Printing the Area Under the Curve (AUC) score\n",
        "print(\"AUC Score:\", auc)\n"
      ],
      "metadata": {
        "colab": {
          "base_uri": "https://localhost:8080/"
        },
        "id": "I1so9Uson2bt",
        "outputId": "5ab05db6-627f-49c3-abd4-55d50730b545"
      },
      "execution_count": 114,
      "outputs": [
        {
          "output_type": "stream",
          "name": "stdout",
          "text": [
            "AUC Score: 0.7431613200484128\n"
          ]
        }
      ]
    },
    {
      "cell_type": "code",
      "source": [
        "# Importing necessary libraries\n",
        "import matplotlib.pyplot as plt\n",
        "import seaborn as sns\n",
        "from sklearn.metrics import roc_curve, roc_auc_score, confusion_matrix\n",
        "\n",
        "# Calculate ROC curve\n",
        "fpr, tpr, thresholds = roc_curve(y_test, y_pred)\n",
        "auc = roc_auc_score(y_test, y_pred)\n",
        "\n",
        "# Plot ROC curve\n",
        "plt.figure(figsize=(8, 6))\n",
        "plt.plot(fpr, tpr, color='blue', lw=2, label='ROC curve (AUC = %0.2f)' % auc)\n",
        "plt.plot([0, 1], [0, 1], color='gray', linestyle='--')\n",
        "plt.xlim([0.0, 1.0])\n",
        "plt.ylim([0.0, 1.05])\n",
        "plt.xlabel('False Positive Rate')\n",
        "plt.ylabel('True Positive Rate')\n",
        "plt.title('Receiver Operating Characteristic (ROC) Curve')\n",
        "plt.legend(loc=\"lower right\")\n",
        "plt.show()\n",
        "\n",
        "# Plot confusion matrix\n",
        "cm = confusion_matrix(y_test, y_pred)\n",
        "plt.figure(figsize=(8, 6))\n",
        "sns.heatmap(cm, annot=True, fmt='d', cmap='Blues')\n",
        "plt.title('Confusion Matrix')\n",
        "plt.xlabel('Predicted Label')\n",
        "plt.ylabel('True Label')\n",
        "plt.show()\n",
        "\n",
        "# Plot histogram of predicted probabilities\n",
        "plt.figure(figsize=(8, 6))\n",
        "plt.hist(y_pred, bins=20, color='skyblue', alpha=0.7)\n",
        "plt.title('Histogram of Predicted Probabilities')\n",
        "plt.xlabel('Predicted Probability')\n",
        "plt.ylabel('Frequency')\n",
        "plt.show()\n"
      ],
      "metadata": {
        "colab": {
          "base_uri": "https://localhost:8080/",
          "height": 1000
        },
        "id": "yBUSTqcUn8Tq",
        "outputId": "c66d7bf7-08c0-47fe-af80-c5cbe98af671"
      },
      "execution_count": 115,
      "outputs": [
        {
          "output_type": "display_data",
          "data": {
            "text/plain": [
              "<Figure size 800x600 with 1 Axes>"
            ],
            "image/png": "[encoded data removed]"
          },
          "metadata": {}
        },
        {
          "output_type": "display_data",
          "data": {
            "text/plain": [
              "<Figure size 800x600 with 2 Axes>"
            ],
            "image/png": "[encoded data removed]"
          },
          "metadata": {}
        },
        {
          "output_type": "display_data",
          "data": {
            "text/plain": [
              "<Figure size 800x600 with 1 Axes>"
            ],
            "image/png": "[encoded data removed]"
          },
          "metadata": {}
        }
      ]
    },
    {
      "cell_type": "code",
      "source": [],
      "metadata": {
        "id": "rSKikYsCC7Pl"
      },
      "execution_count": null,
      "outputs": []
    }
  ]
}